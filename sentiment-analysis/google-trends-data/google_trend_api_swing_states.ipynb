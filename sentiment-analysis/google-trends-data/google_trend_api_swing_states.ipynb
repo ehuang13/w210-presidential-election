{
 "cells": [
  {
   "cell_type": "code",
   "execution_count": 1,
   "metadata": {},
   "outputs": [],
   "source": [
    "import pandas as pd\n",
    "from os.path import join, exists\n",
    "from os import makedirs\n",
    "from pytrends.request import TrendReq"
   ]
  },
  {
   "cell_type": "code",
   "execution_count": 2,
   "metadata": {},
   "outputs": [],
   "source": [
    "pytrend = TrendReq(hl='en-US', tz=360)"
   ]
  },
  {
   "cell_type": "code",
   "execution_count": 8,
   "metadata": {},
   "outputs": [],
   "source": [
    "def get_and_save_trends(start_dt, end_dt, keyword, swing_states, path):\n",
    "    \n",
    "    makedirs(path, exist_ok=True)\n",
    "    \n",
    "    for st in swing_states:\n",
    "        \n",
    "        pytrend.build_payload(\n",
    "             kw_list=keyword,\n",
    "             cat=0,\n",
    "             timeframe= start_dt + ' ' + end_dt,\n",
    "             geo=st,\n",
    "             gprop='')\n",
    "        \n",
    "        data_trend = pytrend.interest_over_time()\n",
    "    \n",
    "        data_trend.to_csv(join(path, st + '_trends.csv'), encoding='utf_8_sig')"
   ]
  },
  {
   "cell_type": "code",
   "execution_count": 9,
   "metadata": {},
   "outputs": [],
   "source": [
    "topics = ['candidate', 'economy', 'environment', 'health', 'immigration']"
   ]
  },
  {
   "cell_type": "code",
   "execution_count": 10,
   "metadata": {},
   "outputs": [],
   "source": [
    "trump_20_search_terms = ['vote trump', 'trump immigration', 'trump economy', 'trump environment', 'trump health']\n",
    "biden_20_search_terms = ['vote biden', 'biden immigration', 'biden economy', 'biden environment', 'biden health']\n",
    "\n",
    "sws_20 = ['US', 'US-PA', 'US-FL', 'US-OH', 'US-VA', 'US-AZ', 'US-WI', 'US-NV', 'US-ME', 'US-MI', 'US-IA']\n",
    "start_dt = '2020-05-27'\n",
    "end_dt = '2020-06-30'"
   ]
  },
  {
   "cell_type": "code",
   "execution_count": 7,
   "metadata": {},
   "outputs": [
    {
     "name": "stdout",
     "output_type": "stream",
     "text": [
      "candidate\n",
      "['vote trump'] 2020-05-27 2020-06-30 US\n",
      "['vote trump'] 2020-05-27 2020-06-30 US-PA\n",
      "['vote trump'] 2020-05-27 2020-06-30 US-FL\n",
      "['vote trump'] 2020-05-27 2020-06-30 US-OH\n",
      "['vote trump'] 2020-05-27 2020-06-30 US-VA\n",
      "['vote trump'] 2020-05-27 2020-06-30 US-AZ\n",
      "['vote trump'] 2020-05-27 2020-06-30 US-WI\n",
      "['vote trump'] 2020-05-27 2020-06-30 US-NV\n",
      "['vote trump'] 2020-05-27 2020-06-30 US-ME\n",
      "['vote trump'] 2020-05-27 2020-06-30 US-MI\n",
      "['vote trump'] 2020-05-27 2020-06-30 US-IA\n",
      "economy\n",
      "['trump immigration'] 2020-05-27 2020-06-30 US\n",
      "['trump immigration'] 2020-05-27 2020-06-30 US-PA\n",
      "['trump immigration'] 2020-05-27 2020-06-30 US-FL\n",
      "['trump immigration'] 2020-05-27 2020-06-30 US-OH\n",
      "['trump immigration'] 2020-05-27 2020-06-30 US-VA\n",
      "['trump immigration'] 2020-05-27 2020-06-30 US-AZ\n",
      "['trump immigration'] 2020-05-27 2020-06-30 US-WI\n",
      "['trump immigration'] 2020-05-27 2020-06-30 US-NV\n",
      "['trump immigration'] 2020-05-27 2020-06-30 US-ME\n",
      "['trump immigration'] 2020-05-27 2020-06-30 US-MI\n",
      "['trump immigration'] 2020-05-27 2020-06-30 US-IA\n",
      "environment\n",
      "['trump economy'] 2020-05-27 2020-06-30 US\n",
      "['trump economy'] 2020-05-27 2020-06-30 US-PA\n",
      "['trump economy'] 2020-05-27 2020-06-30 US-FL\n",
      "['trump economy'] 2020-05-27 2020-06-30 US-OH\n",
      "['trump economy'] 2020-05-27 2020-06-30 US-VA\n",
      "['trump economy'] 2020-05-27 2020-06-30 US-AZ\n",
      "['trump economy'] 2020-05-27 2020-06-30 US-WI\n",
      "['trump economy'] 2020-05-27 2020-06-30 US-NV\n",
      "['trump economy'] 2020-05-27 2020-06-30 US-ME\n",
      "['trump economy'] 2020-05-27 2020-06-30 US-MI\n",
      "['trump economy'] 2020-05-27 2020-06-30 US-IA\n",
      "health\n",
      "['trump environment'] 2020-05-27 2020-06-30 US\n",
      "['trump environment'] 2020-05-27 2020-06-30 US-PA\n",
      "['trump environment'] 2020-05-27 2020-06-30 US-FL\n",
      "['trump environment'] 2020-05-27 2020-06-30 US-OH\n",
      "['trump environment'] 2020-05-27 2020-06-30 US-VA\n",
      "['trump environment'] 2020-05-27 2020-06-30 US-AZ\n",
      "['trump environment'] 2020-05-27 2020-06-30 US-WI\n",
      "['trump environment'] 2020-05-27 2020-06-30 US-NV\n",
      "['trump environment'] 2020-05-27 2020-06-30 US-ME\n",
      "['trump environment'] 2020-05-27 2020-06-30 US-MI\n",
      "['trump environment'] 2020-05-27 2020-06-30 US-IA\n",
      "immigration\n",
      "['trump health'] 2020-05-27 2020-06-30 US\n",
      "['trump health'] 2020-05-27 2020-06-30 US-PA\n",
      "['trump health'] 2020-05-27 2020-06-30 US-FL\n",
      "['trump health'] 2020-05-27 2020-06-30 US-OH\n",
      "['trump health'] 2020-05-27 2020-06-30 US-VA\n",
      "['trump health'] 2020-05-27 2020-06-30 US-AZ\n",
      "['trump health'] 2020-05-27 2020-06-30 US-WI\n",
      "['trump health'] 2020-05-27 2020-06-30 US-NV\n",
      "['trump health'] 2020-05-27 2020-06-30 US-ME\n",
      "['trump health'] 2020-05-27 2020-06-30 US-MI\n",
      "['trump health'] 2020-05-27 2020-06-30 US-IA\n"
     ]
    }
   ],
   "source": [
    "for idx, tp in enumerate(topics):\n",
    "    search_t = trump_20_search_terms[idx]\n",
    "    print(tp)\n",
    "    get_and_save_trends(start_dt, end_dt, [search_t], sws_20, join('data-set-raw-3', tp, '2020', 'trump'))\n"
   ]
  },
  {
   "cell_type": "code",
   "execution_count": 11,
   "metadata": {},
   "outputs": [
    {
     "name": "stdout",
     "output_type": "stream",
     "text": [
      "candidate\n",
      "economy\n",
      "environment\n",
      "health\n",
      "immigration\n"
     ]
    }
   ],
   "source": [
    "for idx, tp in enumerate(topics):\n",
    "    search_t = biden_20_search_terms[idx]\n",
    "    print(tp)\n",
    "    get_and_save_trends(start_dt, end_dt, [search_t], sws_20, join('data-set-raw-3', tp, '2020', 'biden'))\n"
   ]
  },
  {
   "cell_type": "code",
   "execution_count": null,
   "metadata": {},
   "outputs": [],
   "source": []
  },
  {
   "cell_type": "code",
   "execution_count": 13,
   "metadata": {},
   "outputs": [],
   "source": [
    "trump_16_search_terms = ['vote trump', 'trump immigration', 'trump economy', 'trump environment', 'trump health']\n",
    "hillary_16_search_terms = ['vote hillary', 'hillary immigration', 'hillary economy', 'hillary environment', \\\n",
    "                         'hillary health']\n",
    "\n",
    "sws_16 = ['US', 'US-CO', 'US-FL', 'US-IA', 'US-MI', 'US-MS', 'US-NV', 'US-NH', 'US-OH', 'US-NC', \\\n",
    "          'US-PA', 'US-VA', 'US-WI']\n",
    "\n",
    "start_dt = '2016-08-07'\n",
    "end_dt = '2016-11-08'\n",
    "\n"
   ]
  },
  {
   "cell_type": "code",
   "execution_count": 14,
   "metadata": {},
   "outputs": [
    {
     "name": "stdout",
     "output_type": "stream",
     "text": [
      "candidate\n",
      "economy\n",
      "environment\n",
      "health\n",
      "immigration\n"
     ]
    }
   ],
   "source": [
    "for idx, tp in enumerate(topics):\n",
    "    search_t = trump_16_search_terms[idx]\n",
    "    print(tp)\n",
    "    get_and_save_trends(start_dt, end_dt, [search_t], sws_16, join('data-set-raw-3', tp, '2016', 'trump'))\n"
   ]
  },
  {
   "cell_type": "code",
   "execution_count": 15,
   "metadata": {},
   "outputs": [
    {
     "name": "stdout",
     "output_type": "stream",
     "text": [
      "candidate\n",
      "economy\n",
      "environment\n",
      "health\n",
      "immigration\n"
     ]
    }
   ],
   "source": [
    "for idx, tp in enumerate(topics):\n",
    "    search_t = hillary_16_search_terms[idx]\n",
    "    print(tp)\n",
    "    get_and_save_trends(start_dt, end_dt, [search_t], sws_16, join('data-set-raw-3', tp, '2016', 'hillary'))\n"
   ]
  },
  {
   "cell_type": "code",
   "execution_count": null,
   "metadata": {},
   "outputs": [],
   "source": []
  },
  {
   "cell_type": "code",
   "execution_count": 17,
   "metadata": {},
   "outputs": [],
   "source": [
    "obama_12_search_terms = ['vote obama', 'obama immigration', 'obama economy', 'obama environment', 'obama health']\n",
    "romney_12_search_terms = ['vote romney', 'romney immigration', 'romney economy', 'romney environment', \\\n",
    "                         'romney health']\n",
    "\n",
    "sws_12 = ['US', 'US-CO', 'US-FL', 'US-IA', 'US-NV', 'US-NC', 'US-OH', 'US-VA', 'US-WI', 'US-PA', \\\n",
    "          'US-MI', 'US-MN', 'US-NM']\n",
    "\n",
    "start_dt = '2012-08-06'\n",
    "end_dt = '2012-11-06'"
   ]
  },
  {
   "cell_type": "code",
   "execution_count": 18,
   "metadata": {},
   "outputs": [
    {
     "name": "stdout",
     "output_type": "stream",
     "text": [
      "candidate\n",
      "economy\n",
      "environment\n",
      "health\n",
      "immigration\n"
     ]
    }
   ],
   "source": [
    "for idx, tp in enumerate(topics):\n",
    "    search_t = obama_12_search_terms[idx]\n",
    "    print(tp)\n",
    "    get_and_save_trends(start_dt, end_dt, [search_t], sws_12, join('data-set-raw-3', tp, '2012', 'obama'))\n"
   ]
  },
  {
   "cell_type": "code",
   "execution_count": 19,
   "metadata": {},
   "outputs": [
    {
     "name": "stdout",
     "output_type": "stream",
     "text": [
      "candidate\n",
      "economy\n",
      "environment\n",
      "health\n",
      "immigration\n"
     ]
    }
   ],
   "source": [
    "for idx, tp in enumerate(topics):\n",
    "    search_t = romney_12_search_terms[idx]\n",
    "    print(tp)\n",
    "    get_and_save_trends(start_dt, end_dt, [search_t], sws_12, join('data-set-raw-3', tp, '2012', 'romney'))\n"
   ]
  },
  {
   "cell_type": "code",
   "execution_count": 9,
   "metadata": {},
   "outputs": [],
   "source": [
    "\n",
    "#keywords = ['obama', 'romney']\n",
    "#keywords = ['hillary', 'trump']\n",
    "#pytrend.build_payload(\n",
    "#     kw_list=keywords,\n",
    "#     cat=0,\n",
    "#     timeframe='2016-08-14 2016-11-07',\n",
    "#     geo='US',\n",
    "#     gprop='')\n",
    "#data = pytrend.interest_over_time()\n",
    "#data= data.drop(labels=['isPartial'],axis='columns')\n",
    "#print(data)\n",
    "#image = data.plot(title = 'Python V.S. R in last 3 months on Google Trends ')\n",
    "#fig = image.get_figure()\n",
    "#fig.savefig('figure.png')\n",
    "#data.to_csv('Py_VS_R.csv', encoding='utf_8_sig')"
   ]
  },
  {
   "cell_type": "code",
   "execution_count": null,
   "metadata": {},
   "outputs": [],
   "source": []
  }
 ],
 "metadata": {
  "kernelspec": {
   "display_name": "Python 3",
   "language": "python",
   "name": "python3"
  },
  "language_info": {
   "codemirror_mode": {
    "name": "ipython",
    "version": 3
   },
   "file_extension": ".py",
   "mimetype": "text/x-python",
   "name": "python",
   "nbconvert_exporter": "python",
   "pygments_lexer": "ipython3",
   "version": "3.7.4"
  }
 },
 "nbformat": 4,
 "nbformat_minor": 4
}
