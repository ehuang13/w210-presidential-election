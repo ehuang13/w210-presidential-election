{
 "cells": [
  {
   "cell_type": "code",
   "execution_count": 1,
   "metadata": {},
   "outputs": [],
   "source": [
    "import pandas as pd\n",
    "import os\n",
    "from os.path import join, exists\n",
    "\n",
    "from bokeh.io import output_notebook, show\n",
    "from bokeh.plotting import figure, output_file, show\n",
    "from bokeh.layouts import row"
   ]
  },
  {
   "cell_type": "code",
   "execution_count": 7,
   "metadata": {},
   "outputs": [],
   "source": [
    "def get_mean_scores_by_date(df):\n",
    "    df['date'] = df['date'].dt.date\n",
    "    df2 = df.groupby('date')['score'].mean().to_frame().reset_index()\n",
    "    return df2"
   ]
  },
  {
   "cell_type": "code",
   "execution_count": 8,
   "metadata": {},
   "outputs": [],
   "source": [
    "def merge_sent_score_and_dates(path, cand):\n",
    "    df_cand1 = pd.read_csv(join(path, cand + '.txt'))\n",
    "    df_dates1 = pd.read_csv(join(path, 'dates_' + cand + '.txt'))\n",
    "    \n",
    "    df = pd.concat([df_cand1, df_dates1], axis=1, join='inner')\n",
    "    \n",
    "    df['date'] = pd.to_datetime(df['date'].astype(str), errors='coerce')\n",
    "    \n",
    "    df.to_csv(join(path, cand + '.csv'))\n",
    "    \n",
    "    df = get_mean_scores_by_date(df)\n",
    "    \n",
    "    df.to_csv(join(path, cand + '_mean.csv'))"
   ]
  },
  {
   "cell_type": "code",
   "execution_count": 9,
   "metadata": {},
   "outputs": [],
   "source": [
    "def get_cand_by_year(year):\n",
    "    if year == '2012':\n",
    "        return 'obama', 'romney'\n",
    "    elif year == '2016':\n",
    "        return 'hillary', 'trump'\n",
    "    else:\n",
    "        return 'biden', 'trump'"
   ]
  },
  {
   "cell_type": "code",
   "execution_count": 10,
   "metadata": {},
   "outputs": [],
   "source": [
    "for tp in ['candidate', 'economy', 'health', 'immigration', 'environment']:\n",
    "    for yr in ['2012', '2016', '2020']:\n",
    "        \n",
    "        cand1, cand2 = get_cand_by_year(yr)\n",
    "        path = join('sent-data', 'sentresult', tp, yr)\n",
    "        \n",
    "        merge_sent_score_and_dates(path, cand1)\n",
    "        merge_sent_score_and_dates(path, cand2)"
   ]
  },
  {
   "cell_type": "code",
   "execution_count": null,
   "metadata": {},
   "outputs": [],
   "source": []
  }
 ],
 "metadata": {
  "kernelspec": {
   "display_name": "Python 3",
   "language": "python",
   "name": "python3"
  },
  "language_info": {
   "codemirror_mode": {
    "name": "ipython",
    "version": 3
   },
   "file_extension": ".py",
   "mimetype": "text/x-python",
   "name": "python",
   "nbconvert_exporter": "python",
   "pygments_lexer": "ipython3",
   "version": "3.7.4"
  }
 },
 "nbformat": 4,
 "nbformat_minor": 2
}
