{
 "cells": [
  {
   "cell_type": "code",
   "execution_count": 1,
   "metadata": {},
   "outputs": [],
   "source": [
    "import pandas as pd\n",
    "from sklearn.metrics import accuracy_score\n",
    "\n",
    "import warnings\n",
    "warnings.filterwarnings('ignore')"
   ]
  },
  {
   "cell_type": "code",
   "execution_count": 2,
   "metadata": {},
   "outputs": [],
   "source": [
    "df_12 = pd.read_csv('data/actuals_predictions_state_2012.csv', index_col=0)\n",
    "df_16 = pd.read_csv('data/actuals_predictions_state_2016.csv', index_col=0)\n",
    "df_20 = pd.read_csv('data/actuals_predictions_state_2020.csv', index_col=0)"
   ]
  },
  {
   "cell_type": "code",
   "execution_count": 3,
   "metadata": {},
   "outputs": [
    {
     "data": {
      "text/plain": [
       "array(['Economy', 'Climate Change', 'Healthcare', 'Immigration'],\n",
       "      dtype=object)"
      ]
     },
     "execution_count": 3,
     "metadata": {},
     "output_type": "execute_result"
    }
   ],
   "source": [
    "df_20['TOP_TOPIC'].unique()"
   ]
  },
  {
   "cell_type": "code",
   "execution_count": 4,
   "metadata": {},
   "outputs": [
    {
     "data": {
      "text/plain": [
       "STATE_FIPS              int64\n",
       "PRED_DEM_VOTES          int64\n",
       "PRED_REP_VOTES          int64\n",
       "PRED_WINNING_PARTY      int64\n",
       "STATE                  object\n",
       "TOTAL_DEM_VOTES        object\n",
       "TOTAL_REP_VOTES        object\n",
       "TOTAL_VOTES            object\n",
       "MARGIN_VICTORY        float64\n",
       "ABS_MARGIN_VICTORY    float64\n",
       "WINNING_PARTY           int64\n",
       "ELECTORAL_VOTES         int64\n",
       "TOP_TOPIC              object\n",
       "dtype: object"
      ]
     },
     "execution_count": 4,
     "metadata": {},
     "output_type": "execute_result"
    }
   ],
   "source": [
    "df_12.dtypes"
   ]
  },
  {
   "cell_type": "code",
   "execution_count": 5,
   "metadata": {},
   "outputs": [],
   "source": [
    "df_12[[\"PRED_DEM_VOTES\", \"PRED_REP_VOTES\"]] = df_12[[\"PRED_DEM_VOTES\", \"PRED_REP_VOTES\"]].apply(pd.to_numeric)\n",
    "df_16[[\"PRED_DEM_VOTES\", \"PRED_REP_VOTES\"]] = df_16[[\"PRED_DEM_VOTES\", \"PRED_REP_VOTES\"]].apply(pd.to_numeric)\n",
    "df_20[[\"PRED_DEM_VOTES\", \"PRED_REP_VOTES\"]] = df_20[[\"PRED_DEM_VOTES\", \"PRED_REP_VOTES\"]].apply(pd.to_numeric)\n",
    "\n",
    "df_12['PRED_TOTAL_VOTES'] = df_12['PRED_DEM_VOTES'] + df_12['PRED_REP_VOTES']\n",
    "df_16['PRED_TOTAL_VOTES'] = df_16['PRED_DEM_VOTES'] + df_16['PRED_REP_VOTES']\n",
    "df_20['PRED_TOTAL_VOTES'] = df_20['PRED_DEM_VOTES'] + df_20['PRED_REP_VOTES']"
   ]
  },
  {
   "cell_type": "code",
   "execution_count": 6,
   "metadata": {},
   "outputs": [],
   "source": [
    "def get_winner_by_topic_and_year(tp, yr):\n",
    "    if tp == 'Economy':\n",
    "        if yr == '2012':\n",
    "            return 'r'\n",
    "        if yr == '2016':\n",
    "            return 'r'\n",
    "        if yr == '2020':\n",
    "            return 'd'\n",
    "    elif tp == 'Immigration':\n",
    "        if yr == '2012':\n",
    "            return 'd'\n",
    "        if yr == '2016':\n",
    "            return 'd'\n",
    "        if yr == '2020':\n",
    "            return 'd'\n",
    "    elif tp == 'Healthcare':\n",
    "        if yr == '2012':\n",
    "            return 'r'\n",
    "        if yr == '2016':\n",
    "            return 'd'\n",
    "        if yr == '2020':\n",
    "            return 'd'\n",
    "    elif tp == 'Climate Change':\n",
    "        if yr == '2012':\n",
    "            return 'd'\n",
    "        if yr == '2016':\n",
    "            return 'd'\n",
    "        if yr == '2020':\n",
    "            return 'd'"
   ]
  },
  {
   "cell_type": "code",
   "execution_count": 7,
   "metadata": {},
   "outputs": [],
   "source": [
    "#TODO - Get the new winning margin\n",
    "\n",
    "def adjust_weights_and_get_acc(df, weight, yr, isValidation):\n",
    "\n",
    "    df2 = df[['STATE_FIPS', 'STATE', 'WINNING_PARTY', 'PRED_WINNING_PARTY', 'PRED_DEM_VOTES', 'PRED_REP_VOTES']]\n",
    "    \n",
    "    acc_before = 0\n",
    "    \n",
    "    if isValidation:\n",
    "        acc_before = accuracy_score(df2['WINNING_PARTY'], df2['PRED_WINNING_PARTY'])\n",
    "\n",
    "    for idx, row in df.iterrows():\n",
    "        dem_votes = 0\n",
    "        rep_votes = 0\n",
    "\n",
    "        if get_winner_by_topic_and_year(row['TOP_TOPIC'], yr) == 'd':\n",
    "            dem_votes = row['PRED_DEM_VOTES'] + (row['PRED_TOTAL_VOTES'] * weight)\n",
    "            rep_votes = row['PRED_REP_VOTES'] - (row['PRED_TOTAL_VOTES'] * weight)\n",
    "        else:\n",
    "            dem_votes = row['PRED_DEM_VOTES'] - (row['PRED_TOTAL_VOTES'] * weight)\n",
    "            rep_votes = row['PRED_REP_VOTES'] + (row['PRED_TOTAL_VOTES'] * weight)\n",
    "\n",
    "        df2.loc[idx,'ADJUSTED_DEM_VOTES'] = dem_votes\n",
    "        df2.loc[idx,'ADJUSTED_REP_VOTES'] = rep_votes\n",
    "            \n",
    "        if dem_votes > rep_votes and row['PRED_WINNING_PARTY'] == 1:\n",
    "            print('rep->dem', row['STATE'])\n",
    "            df2.loc[idx,'ADJUSTED_WINNING_PARTY'] = 0\n",
    "            df2.loc[idx,'WINNER_SHIFT'] = 'REP->DEM'\n",
    "        elif dem_votes < rep_votes and row['PRED_WINNING_PARTY'] == 0:\n",
    "            print('dem->rep', row['STATE'])\n",
    "            df2.loc[idx,'ADJUSTED_WINNING_PARTY'] = 1\n",
    "            df2.loc[idx,'WINNER_SHIFT'] = 'DEM->REP'\n",
    "        else:\n",
    "            df2.loc[idx,'ADJUSTED_WINNING_PARTY'] = row['PRED_WINNING_PARTY']\n",
    " \n",
    "    acc_after = 0\n",
    "    \n",
    "    if isValidation:\n",
    "        acc_after = accuracy_score(df2['WINNING_PARTY'], df2['ADJUSTED_WINNING_PARTY'])\n",
    "\n",
    "    \n",
    "    return acc_before, acc_after, df2"
   ]
  },
  {
   "cell_type": "code",
   "execution_count": 8,
   "metadata": {},
   "outputs": [
    {
     "name": "stdout",
     "output_type": "stream",
     "text": [
      "dem->rep Alaska\n",
      "dem->rep Minnesota\n",
      "dem->rep Ohio\n",
      "dem->rep Oregon\n",
      "dem->rep Texas\n",
      "0.8823529411764706 0.8627450980392157\n"
     ]
    }
   ],
   "source": [
    "start = 0.03\n",
    "acc_before, acc_after, data = adjust_weights_and_get_acc(df_12, start, '2012', True)\n",
    "print(acc_before, acc_after)\n",
    "#data.head(50)\n",
    "\n",
    "data.to_csv('data/predictions_vs_adjusted_2012.csv')\n",
    "\n",
    "#for factor in range(100):\n",
    "    \n",
    "#    ab, af = adjust_weights_and_get_acc(df_12, start)\n",
    "#    start = start + 0.0013\n",
    "    \n",
    "   # print(af - ab)\n",
    "\n",
    "#adjust_weights_and_get_acc(df_12)\n"
   ]
  },
  {
   "cell_type": "code",
   "execution_count": 9,
   "metadata": {
    "scrolled": false
   },
   "outputs": [
    {
     "name": "stdout",
     "output_type": "stream",
     "text": [
      "dem->rep Georgia\n",
      "dem->rep Ohio\n",
      "dem->rep Texas\n",
      "rep->dem Virginia\n",
      "0.8235294117647058 0.9019607843137255\n"
     ]
    }
   ],
   "source": [
    "\n",
    "acc_before, acc_after, data = adjust_weights_and_get_acc(df_16, start, '2016', True)\n",
    "print(acc_before, acc_after)\n",
    "data.to_csv('data/predictions_vs_adjusted_2016.csv')\n",
    "#data.head(50)"
   ]
  },
  {
   "cell_type": "code",
   "execution_count": 10,
   "metadata": {},
   "outputs": [
    {
     "name": "stdout",
     "output_type": "stream",
     "text": [
      "Index(['STATE_FIPS', 'PRED_DEM_VOTES', 'PRED_REP_VOTES', 'PRED_WINNING_PARTY',\n",
      "       'STATE', 'TOTAL_DEM_VOTES', 'TOTAL_REP_VOTES', 'TOTAL_VOTES',\n",
      "       'MARGIN_VICTORY', 'ABS_MARGIN_VICTORY', 'WINNING_PARTY',\n",
      "       'ELECTORAL_VOTES', 'TOP_TOPIC', 'PRED_TOTAL_VOTES'],\n",
      "      dtype='object')\n",
      "rep->dem Georgia\n",
      "rep->dem Kansas\n",
      "rep->dem Minnesota\n",
      "rep->dem Ohio\n",
      "rep->dem Virginia\n",
      "0 0\n"
     ]
    }
   ],
   "source": [
    "print(df_20.columns)\n",
    "acc_before, acc_after, data = adjust_weights_and_get_acc(df_20, start, '2020', False)\n",
    "print(acc_before, acc_after)\n",
    "data.to_csv('data/predictions_vs_adjusted_2020.csv')\n",
    "#data.head(50)"
   ]
  },
  {
   "cell_type": "code",
   "execution_count": null,
   "metadata": {},
   "outputs": [],
   "source": []
  },
  {
   "cell_type": "code",
   "execution_count": 29,
   "metadata": {},
   "outputs": [],
   "source": []
  },
  {
   "cell_type": "code",
   "execution_count": null,
   "metadata": {},
   "outputs": [],
   "source": []
  }
 ],
 "metadata": {
  "kernelspec": {
   "display_name": "Python 3",
   "language": "python",
   "name": "python3"
  },
  "language_info": {
   "codemirror_mode": {
    "name": "ipython",
    "version": 3
   },
   "file_extension": ".py",
   "mimetype": "text/x-python",
   "name": "python",
   "nbconvert_exporter": "python",
   "pygments_lexer": "ipython3",
   "version": "3.7.4"
  }
 },
 "nbformat": 4,
 "nbformat_minor": 2
}
