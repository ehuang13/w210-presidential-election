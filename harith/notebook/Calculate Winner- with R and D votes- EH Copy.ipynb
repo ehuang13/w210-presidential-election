{
 "cells": [
  {
   "cell_type": "code",
   "execution_count": 1,
   "metadata": {},
   "outputs": [],
   "source": [
    "import pandas as pd"
   ]
  },
  {
   "cell_type": "code",
   "execution_count": null,
   "metadata": {},
   "outputs": [],
   "source": [
    "electoral_ref = pd.read_excel('../../data/Electoral College Votes.xlsx')\n",
    "data_2020 = pd.read_csv('../../data/F20_phase3_0717_target.csv')\n",
    "data_historical = pd.read_csv(\"../../data/Data-Jul16/combined_jul16.csv\", encoding = \"ISO-8859-1\")\n"
   ]
  },
  {
   "cell_type": "code",
   "execution_count": null,
   "metadata": {},
   "outputs": [],
   "source": [
    "### 1) create a new df with StateFips/Count"
   ]
  },
  {
   "cell_type": "code",
   "execution_count": null,
   "metadata": {},
   "outputs": [],
   "source": [
    "state_fips_map = {}\n",
    "for index, row in data_historical.iterrows():\n",
    "    #print(row)\n",
    "    state = row['STATE']\n",
    "    #print(type(state))\n",
    "    if (state_fips_map.get(state) == None):\n",
    "        state_fips_map[state] = row['STATE_FIPS']\n",
    "    \n",
    "print(state_fips_map)"
   ]
  },
  {
   "cell_type": "code",
   "execution_count": null,
   "metadata": {},
   "outputs": [],
   "source": [
    "state_fips_df = pd.DataFrame(list(state_fips_map.items()), columns=['STATE','STATE_FIPS'])"
   ]
  },
  {
   "cell_type": "code",
   "execution_count": null,
   "metadata": {},
   "outputs": [],
   "source": [
    "state_fips_df.head()"
   ]
  },
  {
   "cell_type": "code",
   "execution_count": null,
   "metadata": {},
   "outputs": [],
   "source": [
    "df = electoral_ref.merge(state_fips_df, left_on='STATE', right_on='STATE')"
   ]
  },
  {
   "cell_type": "code",
   "execution_count": null,
   "metadata": {},
   "outputs": [],
   "source": [
    "df.head()"
   ]
  },
  {
   "cell_type": "code",
   "execution_count": null,
   "metadata": {},
   "outputs": [],
   "source": [
    "data_2020.loc[data_2020['STATE_FIPS'] == 13]"
   ]
  },
  {
   "cell_type": "code",
   "execution_count": null,
   "metadata": {},
   "outputs": [],
   "source": [
    "data_2020.drop('Unnamed: 0', inplace=True, axis=1)"
   ]
  },
  {
   "cell_type": "code",
   "execution_count": null,
   "metadata": {},
   "outputs": [],
   "source": [
    "## 2) \n",
    "\n",
    "# create map of visited county_state\n",
    "# create map of D electoral votes, R electoral votes\n",
    "# loop over data_2020\n",
    "# updaste the two maps accordingly. "
   ]
  },
  {
   "cell_type": "code",
   "execution_count": null,
   "metadata": {},
   "outputs": [],
   "source": [
    "def sum_of(x):\n",
    "    d = 0\n",
    "    r = 0\n",
    "    \n",
    "    for c in x:\n",
    "        if (c == 'D'):\n",
    "            d += 1\n",
    "        else:\n",
    "            r += 1\n",
    "    return d, r"
   ]
  },
  {
   "cell_type": "code",
   "execution_count": null,
   "metadata": {},
   "outputs": [],
   "source": [
    "\"\"\"extract how counties prediction for every state\"\"\"\n",
    "visited = {}\n",
    "electoral_votes = {'D':0, 'R':0 }\n",
    "for idnex, row in data_2020.iterrows():\n",
    "    state = int(row['STATE_FIPS'])\n",
    "    \n",
    "    rep_votes = int(row['REP_VOTES'])\n",
    "    dem_votes = int(row['DEM_VOTES'])\n",
    "\n",
    "    if (visited.get(state) == None):\n",
    "        electoral_votes = {'D': dem_votes, 'R': rep_votes }\n",
    "        visited[state] = electoral_votes\n",
    "    else:\n",
    "        #update existing map\n",
    "        current_votes = visited.get(state)\n",
    "        current_r = current_votes.get('R')\n",
    "        current_d = current_votes.get('D')\n",
    "        electoral_votes = {'D': current_d + dem_votes, 'R': current_r + rep_votes }\n",
    "        visited[state] = electoral_votes"
   ]
  },
  {
   "cell_type": "code",
   "execution_count": null,
   "metadata": {},
   "outputs": [],
   "source": [
    "## new\n",
    "visited"
   ]
  },
  {
   "cell_type": "code",
   "execution_count": null,
   "metadata": {},
   "outputs": [],
   "source": [
    "\"\"\"determine the winner of every state\"\"\"\n",
    "state_predictions = {}\n",
    "d_count = 0\n",
    "r_count = 0\n",
    "\n",
    "for key, val in visited.items():\n",
    "    total_r = val.get('R')\n",
    "    total_d = val.get('D')\n",
    "    winner = 'D' if total_d > total_r else 'R'\n",
    "    \n",
    "    if (winner == 'D'):\n",
    "        d_count +=1 \n",
    "    elif (winner == 'R'):\n",
    "        r_count +=1\n",
    "    \n",
    "    state_predictions[key] = winner\n",
    "\n"
   ]
  },
  {
   "cell_type": "code",
   "execution_count": null,
   "metadata": {},
   "outputs": [],
   "source": [
    "print('r=' + str(r_count))\n",
    "print('d=' + str(d_count))"
   ]
  },
  {
   "cell_type": "code",
   "execution_count": null,
   "metadata": {},
   "outputs": [],
   "source": [
    "##new\n",
    "state_predictions"
   ]
  },
  {
   "cell_type": "code",
   "execution_count": null,
   "metadata": {},
   "outputs": [],
   "source": [
    "df"
   ]
  },
  {
   "cell_type": "code",
   "execution_count": null,
   "metadata": {},
   "outputs": [],
   "source": [
    "party_electoral = {}\n",
    "for index, row in df.iterrows():\n",
    "    state = int(row['STATE_FIPS'])\n",
    "    votes = int(row['COUNT'])\n",
    "    party = state_predictions.get(state)\n",
    "    \n",
    "    if (party_electoral.get(party) == None):\n",
    "        party_electoral[party] = votes\n",
    "    else:\n",
    "        new_total = party_electoral.get(party) + votes\n",
    "        party_electoral[party] = new_total\n",
    "    "
   ]
  },
  {
   "cell_type": "code",
   "execution_count": null,
   "metadata": {},
   "outputs": [],
   "source": [
    "party_electoral"
   ]
  },
  {
   "cell_type": "code",
   "execution_count": null,
   "metadata": {},
   "outputs": [],
   "source": [
    "party_electoral"
   ]
  },
  {
   "cell_type": "code",
   "execution_count": null,
   "metadata": {},
   "outputs": [],
   "source": []
  }
 ],
 "metadata": {
  "kernelspec": {
   "display_name": "Python 3",
   "language": "python",
   "name": "python3"
  },
  "language_info": {
   "codemirror_mode": {
    "name": "ipython",
    "version": 3
   },
   "file_extension": ".py",
   "mimetype": "text/x-python",
   "name": "python",
   "nbconvert_exporter": "python",
   "pygments_lexer": "ipython3",
   "version": "3.7.1"
  }
 },
 "nbformat": 4,
 "nbformat_minor": 2
}
