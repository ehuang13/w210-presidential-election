{
 "cells": [
  {
   "cell_type": "code",
   "execution_count": 184,
   "metadata": {},
   "outputs": [],
   "source": [
    "import numpy as np\n",
    "import pandas as pd\n",
    "from sklearn.model_selection import train_test_split\n",
    "from sklearn.linear_model import LinearRegression\n",
    "from sklearn.metrics import accuracy_score, f1_score, precision_recall_fscore_support\n",
    "from sklearn.ensemble import RandomForestClassifier\n",
    "from sklearn.metrics import accuracy_score, precision_recall_fscore_support, classification_report"
   ]
  },
  {
   "cell_type": "code",
   "execution_count": 185,
   "metadata": {},
   "outputs": [],
   "source": [
    "pd.set_option('max_columns', None)"
   ]
  },
  {
   "cell_type": "code",
   "execution_count": 186,
   "metadata": {},
   "outputs": [],
   "source": [
    "combined_data_file = \"../../data/Data-Jul16/combined_jul16.csv\"\n",
    "data_2020_file = \"../../data/Data-Jul16/F20_jul05.csv\"\n",
    "data_historical = pd.read_csv(combined_data_file, encoding = \"ISO-8859-1\")"
   ]
  },
  {
   "cell_type": "code",
   "execution_count": 187,
   "metadata": {},
   "outputs": [],
   "source": [
    "data_2020 = pd.read_csv(data_2020_file, encoding = \"ISO-8859-1\")\n",
    "data_2016 = data_historical.loc[data_historical['YEAR'] == 2016]\n",
    "data_2012 = data_historical.loc[data_historical['YEAR'] == 2012]\n",
    "data_2008 = data_historical.loc[data_historical['YEAR'] == 2008]\n",
    "\n",
    "year_df_dict = {2020:data_2020, 2016:data_2016, 2012:data_2012, 2008:data_2008}"
   ]
  },
  {
   "cell_type": "code",
   "execution_count": 188,
   "metadata": {},
   "outputs": [],
   "source": [
    "data_historical['COUNTY_TOTALVOTES'] = data_historical['COUNTY_TOTALVOTES'].astype(np.int64)"
   ]
  },
  {
   "cell_type": "markdown",
   "metadata": {},
   "source": [
    "### PrepData###"
   ]
  },
  {
   "cell_type": "code",
   "execution_count": 189,
   "metadata": {},
   "outputs": [],
   "source": [
    "data_historical['REP_VOTES%'] = data_historical['REP_VOTES'] / data_historical['COUNTY_TOTALVOTES']\n",
    "data_historical['DEM_VOTES%'] = data_historical['DEM_VOTES'] / data_historical['COUNTY_TOTALVOTES']\n",
    "data_2020['REP_VOTES%'] = data_2020['REP_VOTES'] / data_2020['COUNTY_TOTALVOTES']\n",
    "data_2020['DEM_VOTES%'] = data_2020['DEM_VOTES']/ data_2020['COUNTY_TOTALVOTES']"
   ]
  },
  {
   "cell_type": "code",
   "execution_count": 190,
   "metadata": {},
   "outputs": [],
   "source": [
    "data_historical.drop(['REP_VOTES', 'DEM_VOTES'], axis=1, inplace=True)\n",
    "data_2020.drop(['REP_VOTES', 'DEM_VOTES'], axis=1, inplace=True)"
   ]
  },
  {
   "cell_type": "code",
   "execution_count": 191,
   "metadata": {},
   "outputs": [],
   "source": [
    "data_historical.drop(['WINNING_CANDIDATE', 'WINNING_PARTY_BINARY', 'REP_CANDIDATE', 'DEM_CANDIDATE', 'WINNING_PARTY', 'COUNTY', 'STATE', 'REP_VOTES%', 'DEM_VOTES%', 'MARGIN_VICTORY'], axis=1, inplace=True)"
   ]
  },
  {
   "cell_type": "code",
   "execution_count": 192,
   "metadata": {},
   "outputs": [],
   "source": [
    "def train_test_split_by_year(X, y, year, cols=None):\n",
    "    \n",
    "    if year != None:\n",
    "        year_filter =  X['YEAR'] < year\n",
    "        X = X[year_filter]\n",
    "        y = y[year_filter]\n",
    "        \n",
    "    X = X.drop('YEAR', axis=1)\n",
    "    y = np.delete(y, 1, axis=1)\n",
    "    \n",
    "    X_train, X_test, y_train, y_test = train_test_split(X, y, test_size=0.3)\n",
    "    \n",
    "    if (cols == None):\n",
    "        return X_train, X_test, y_train, y_test\n",
    "    else:\n",
    "        return X_train[cols], X_test[cols], y_train, y_test"
   ]
  },
  {
   "cell_type": "markdown",
   "metadata": {},
   "source": [
    "# Step 1 #"
   ]
  },
  {
   "cell_type": "markdown",
   "metadata": {},
   "source": [
    "### Build/Train Model#1: Linear regression to preidct total votes by county###\n"
   ]
  },
  {
   "cell_type": "code",
   "execution_count": 193,
   "metadata": {},
   "outputs": [],
   "source": [
    "year = 2016\n",
    "target_df = year_df_dict.get(year)"
   ]
  },
  {
   "cell_type": "code",
   "execution_count": 194,
   "metadata": {},
   "outputs": [],
   "source": [
    "X = data_historical.drop(['COUNTY_TOTALVOTES'], axis=1)\n",
    "y = data_historical[['COUNTY_TOTALVOTES', 'YEAR']].values"
   ]
  },
  {
   "cell_type": "code",
   "execution_count": 195,
   "metadata": {},
   "outputs": [],
   "source": [
    "X_train, X_test, y_train, y_test = train_test_split_by_year(X, y, year)"
   ]
  },
  {
   "cell_type": "code",
   "execution_count": 196,
   "metadata": {},
   "outputs": [],
   "source": [
    "linear_model = LinearRegression()"
   ]
  },
  {
   "cell_type": "code",
   "execution_count": 197,
   "metadata": {},
   "outputs": [
    {
     "data": {
      "text/plain": [
       "LinearRegression(copy_X=True, fit_intercept=True, n_jobs=None,\n",
       "         normalize=False)"
      ]
     },
     "execution_count": 197,
     "metadata": {},
     "output_type": "execute_result"
    }
   ],
   "source": [
    "linear_model.fit(X_train, y_train)"
   ]
  },
  {
   "cell_type": "code",
   "execution_count": 198,
   "metadata": {},
   "outputs": [],
   "source": [
    "y_pred = linear_model.predict(X_test)"
   ]
  },
  {
   "cell_type": "code",
   "execution_count": 199,
   "metadata": {},
   "outputs": [
    {
     "name": "stdout",
     "output_type": "stream",
     "text": [
      "Accuracy score=98.56\n"
     ]
    }
   ],
   "source": [
    "print(\"Accuracy score={:.2f}\".format(linear_model.score(X_test, y_test) * 100))"
   ]
  },
  {
   "cell_type": "markdown",
   "metadata": {},
   "source": [
    "### Generate Total Votes Predictions by County###"
   ]
  },
  {
   "cell_type": "code",
   "execution_count": 200,
   "metadata": {},
   "outputs": [
    {
     "name": "stderr",
     "output_type": "stream",
     "text": [
      "/Users/eelrufaie/Library/Python/3.7/lib/python/site-packages/pandas/core/frame.py:3997: SettingWithCopyWarning: \n",
      "A value is trying to be set on a copy of a slice from a DataFrame\n",
      "\n",
      "See the caveats in the documentation: https://pandas.pydata.org/pandas-docs/stable/user_guide/indexing.html#returning-a-view-versus-a-copy\n",
      "  errors=errors,\n"
     ]
    }
   ],
   "source": [
    "target_df.drop(['COUNTY_TOTALVOTES'], inplace=True, axis=1, errors='ignore')"
   ]
  },
  {
   "cell_type": "code",
   "execution_count": 201,
   "metadata": {},
   "outputs": [],
   "source": [
    "target_df.drop(['ID', 'YEAR', 'Unnamed: 0', 'Unnamed: 0.1', 'WINNING_CANDIDATE', 'WINNING_PARTY_BINARY', 'REP_CANDIDATE', 'DEM_CANDIDATE', 'WINNING_PARTY', 'COUNTY', 'STATE', 'REP_VOTES%', 'DEM_VOTES%', 'REP_VOTES', 'DEM_VOTES', 'COUNTY_TOTALVOTES', 'MARGIN_VICTORY'], axis=1, inplace=True, errors='ignore')"
   ]
  },
  {
   "cell_type": "code",
   "execution_count": 202,
   "metadata": {},
   "outputs": [],
   "source": [
    "y_pred_target = linear_model.predict(target_df)"
   ]
  },
  {
   "cell_type": "code",
   "execution_count": 203,
   "metadata": {},
   "outputs": [
    {
     "name": "stderr",
     "output_type": "stream",
     "text": [
      "/Users/eelrufaie/Library/Python/3.7/lib/python/site-packages/ipykernel_launcher.py:2: SettingWithCopyWarning: \n",
      "A value is trying to be set on a copy of a slice from a DataFrame.\n",
      "Try using .loc[row_indexer,col_indexer] = value instead\n",
      "\n",
      "See the caveats in the documentation: https://pandas.pydata.org/pandas-docs/stable/user_guide/indexing.html#returning-a-view-versus-a-copy\n",
      "  \n"
     ]
    }
   ],
   "source": [
    "#merge predictions with the target dataset. \n",
    "target_df['COUNTY_TOTALVOTES'] = y_pred_target"
   ]
  },
  {
   "cell_type": "code",
   "execution_count": 204,
   "metadata": {},
   "outputs": [
    {
     "name": "stderr",
     "output_type": "stream",
     "text": [
      "/Users/eelrufaie/Library/Python/3.7/lib/python/site-packages/ipykernel_launcher.py:1: SettingWithCopyWarning: \n",
      "A value is trying to be set on a copy of a slice from a DataFrame.\n",
      "Try using .loc[row_indexer,col_indexer] = value instead\n",
      "\n",
      "See the caveats in the documentation: https://pandas.pydata.org/pandas-docs/stable/user_guide/indexing.html#returning-a-view-versus-a-copy\n",
      "  \"\"\"Entry point for launching an IPython kernel.\n"
     ]
    }
   ],
   "source": [
    "target_df['COUNTY_TOTALVOTES'] = target_df['COUNTY_TOTALVOTES'].astype(np.int64)"
   ]
  },
  {
   "cell_type": "code",
   "execution_count": 205,
   "metadata": {},
   "outputs": [],
   "source": [
    "import datetime\n",
    "\n",
    "x = datetime.datetime.now()\n",
    "day = x.day\n",
    "month = x.month\n",
    "\n",
    "date_str = str(month) + str(day)"
   ]
  },
  {
   "cell_type": "code",
   "execution_count": 206,
   "metadata": {},
   "outputs": [],
   "source": [
    "#save file (will be used by next step in the pipeline)\n",
    "filename_step1 = '../../data/F20_step1_output_' + date_str + '.csv'\n",
    "target_df.to_csv(filename_step1)"
   ]
  },
  {
   "cell_type": "markdown",
   "metadata": {},
   "source": [
    "# Step 2 #"
   ]
  },
  {
   "cell_type": "code",
   "execution_count": 207,
   "metadata": {},
   "outputs": [],
   "source": [
    "# start clean and reimport everything again. \n",
    "data = pd.read_csv(combined_data_file, encoding = \"ISO-8859-1\")\n"
   ]
  },
  {
   "cell_type": "code",
   "execution_count": 208,
   "metadata": {},
   "outputs": [],
   "source": [
    "data_2020 = pd.read_csv(data_2020_file, encoding = \"ISO-8859-1\")\n",
    "data_2016 = data.loc[data['YEAR'] == 2016]\n",
    "data_2012 = data.loc[data['YEAR'] == 2012]\n",
    "data_2008 = data.loc[data['YEAR'] == 2008]"
   ]
  },
  {
   "cell_type": "markdown",
   "metadata": {},
   "source": [
    "### Build/Train Model#2: Random Forest Classifier to predict County Winner###"
   ]
  },
  {
   "cell_type": "code",
   "execution_count": 209,
   "metadata": {},
   "outputs": [],
   "source": [
    "data.drop(['REP_VOTES', 'DEM_VOTES', 'MARGIN_VICTORY', 'WINNING_CANDIDATE', 'REP_CANDIDATE', 'DEM_CANDIDATE', 'WINNING_PARTY', 'COUNTY', 'STATE'], axis=1, inplace=True)\n",
    "data.drop(['AA_FEMALE', 'AA_MALE', 'BA_FEMALE', 'BA_MALE', 'H_FEMALE', 'H_MALE', 'IA_FEMALE', 'IA_MALE', 'NA_FEMALE', 'NA_MALE' , 'TOT_FEMALE', 'TOT_MALE', 'TOT_POP', 'WA_FEMALE', 'WA_MALE', 'TOT_POP_LESS19', 'TOT_MALE_LESS19', 'TOT_FEMALE_LESS19', 'TOT_POP_20to39', 'TOT_MALE_20to39', 'TOT_FEMALE_20to39', 'TOT_POP_40to59', 'TOT_MALE_40to59', 'TOT_FEMALE_40to59', 'TOT_POP_Above60', 'TOT_MALE_Above60', 'TOT_FEMALE_Above60'] , axis=1, inplace=True)\n"
   ]
  },
  {
   "cell_type": "code",
   "execution_count": 210,
   "metadata": {},
   "outputs": [],
   "source": [
    "significant_cols = [\n",
    " 'STATE_FIPS',\n",
    " 'COUNTY_FIPS',\n",
    " 'COUNTY_TOTALVOTES',\n",
    " 'HOUSE_WINNING_BINARY',\n",
    " 'SENATE_WINNING_BINARY',\n",
    " 'UNEMPLOYMENT_RATE',\n",
    " 'AVG_WAGE_SALARY',\n",
    " 'BA_FEMALE%',\n",
    " 'BA_MALE%',\n",
    " 'H_FEMALE%',\n",
    " 'IA_FEMALE%',\n",
    " 'WA_FEMALE%',\n",
    " 'WA_MALE%',\n",
    " 'TOT_FEMALE%',\n",
    " 'TOT_MALE%',\n",
    " 'TOT_POP_LESS19%',\n",
    " 'TOT_POP_40to59%',\n",
    " 'TOT_POP_Above60%']"
   ]
  },
  {
   "cell_type": "code",
   "execution_count": 211,
   "metadata": {},
   "outputs": [],
   "source": [
    "X = data.drop('WINNING_PARTY_BINARY', axis=1)\n",
    "y = data[['WINNING_PARTY_BINARY', 'YEAR']].values\n",
    "\n",
    "X_train, X_test, y_train, y_test = train_test_split_by_year(X, y, year, significant_cols)"
   ]
  },
  {
   "cell_type": "code",
   "execution_count": 212,
   "metadata": {},
   "outputs": [
    {
     "name": "stderr",
     "output_type": "stream",
     "text": [
      "/Users/eelrufaie/Library/Python/3.7/lib/python/site-packages/ipykernel_launcher.py:1: DataConversionWarning: A column-vector y was passed when a 1d array was expected. Please change the shape of y to (n_samples,), for example using ravel().\n",
      "  \"\"\"Entry point for launching an IPython kernel.\n"
     ]
    },
    {
     "name": "stdout",
     "output_type": "stream",
     "text": [
      "Experiment#rfc4: 87.159%\n"
     ]
    }
   ],
   "source": [
    "rfc4 = RandomForestClassifier(n_estimators=10).fit(X_train, y_train)\n",
    "\n",
    "rfc_pred4= rfc4.predict(X_test)\n",
    "\n",
    "print(\"Experiment#rfc4: {:.3f}%\".format(accuracy_score(y_test, rfc_pred4) * 100))"
   ]
  },
  {
   "cell_type": "code",
   "execution_count": 213,
   "metadata": {},
   "outputs": [
    {
     "name": "stdout",
     "output_type": "stream",
     "text": [
      "              precision    recall  f1-score   support\n",
      "\n",
      "           0       0.78      0.62      0.69       868\n",
      "           1       0.89      0.95      0.92      2909\n",
      "\n",
      "   micro avg       0.87      0.87      0.87      3777\n",
      "   macro avg       0.84      0.78      0.80      3777\n",
      "weighted avg       0.87      0.87      0.87      3777\n",
      "\n"
     ]
    }
   ],
   "source": [
    "print(classification_report(y_test, rfc_pred4))"
   ]
  },
  {
   "cell_type": "markdown",
   "metadata": {},
   "source": [
    "### Predict County winner ###"
   ]
  },
  {
   "cell_type": "code",
   "execution_count": 214,
   "metadata": {},
   "outputs": [],
   "source": [
    "target_year_data = pd.read_csv(filename_step1, encoding = \"ISO-8859-1\")"
   ]
  },
  {
   "cell_type": "code",
   "execution_count": 215,
   "metadata": {},
   "outputs": [],
   "source": [
    "## use with significant model only..\n",
    "## for now drop AVG_WAGE_SALARY till data is fixed. \n",
    "data_significant = target_year_data[[\n",
    " 'STATE_FIPS',\n",
    " 'COUNTY_FIPS',\n",
    " 'COUNTY_TOTALVOTES',\n",
    " 'HOUSE_WINNING_BINARY',\n",
    " 'SENATE_WINNING_BINARY',\n",
    " 'UNEMPLOYMENT_RATE',\n",
    " 'AVG_WAGE_SALARY',\n",
    " 'BA_FEMALE%',\n",
    " 'BA_MALE%',\n",
    " 'H_FEMALE%',\n",
    " 'IA_FEMALE%',\n",
    " 'WA_FEMALE%',\n",
    " 'WA_MALE%',\n",
    " 'TOT_FEMALE%',\n",
    " 'TOT_MALE%',\n",
    " 'TOT_POP_LESS19%',\n",
    " 'TOT_POP_40to59%',\n",
    " 'TOT_POP_Above60%']]"
   ]
  },
  {
   "cell_type": "code",
   "execution_count": 216,
   "metadata": {},
   "outputs": [],
   "source": [
    "y_pred = rfc4.predict(data_significant)"
   ]
  },
  {
   "cell_type": "code",
   "execution_count": 217,
   "metadata": {},
   "outputs": [],
   "source": [
    "target_year_data['WINNING_PARTY_BINARY'] = y_pred"
   ]
  },
  {
   "cell_type": "code",
   "execution_count": 218,
   "metadata": {},
   "outputs": [],
   "source": [
    "#save to csv\n",
    "filename_step2 = '../../data/F20_step2_output_' + date_str + '.csv'\n",
    "target_year_data.to_csv(filename_step2)"
   ]
  },
  {
   "cell_type": "markdown",
   "metadata": {},
   "source": [
    "# Step 3"
   ]
  },
  {
   "cell_type": "markdown",
   "metadata": {},
   "source": [
    "### Build/Train Model#3: Linear Regression to predict R/D Votes for every county###"
   ]
  },
  {
   "cell_type": "code",
   "execution_count": 222,
   "metadata": {},
   "outputs": [],
   "source": [
    "votes_historcail_df = pd.read_csv(combined_data_file, encoding = \"ISO-8859-1\")\n",
    "votes_df = pd.read_csv(filename_step2)"
   ]
  },
  {
   "cell_type": "code",
   "execution_count": 223,
   "metadata": {},
   "outputs": [],
   "source": [
    "votes_historcail_df_copy = votes_historcail_df[['YEAR','STATE_FIPS', 'COUNTY_FIPS', 'COUNTY_TOTALVOTES', 'WINNING_PARTY_BINARY', 'REP_VOTES']]"
   ]
  },
  {
   "cell_type": "code",
   "execution_count": 224,
   "metadata": {},
   "outputs": [
    {
     "name": "stderr",
     "output_type": "stream",
     "text": [
      "/Users/eelrufaie/Library/Python/3.7/lib/python/site-packages/ipykernel_launcher.py:1: SettingWithCopyWarning: \n",
      "A value is trying to be set on a copy of a slice from a DataFrame.\n",
      "Try using .loc[row_indexer,col_indexer] = value instead\n",
      "\n",
      "See the caveats in the documentation: https://pandas.pydata.org/pandas-docs/stable/user_guide/indexing.html#returning-a-view-versus-a-copy\n",
      "  \"\"\"Entry point for launching an IPython kernel.\n",
      "/Users/eelrufaie/Library/Python/3.7/lib/python/site-packages/pandas/core/frame.py:3997: SettingWithCopyWarning: \n",
      "A value is trying to be set on a copy of a slice from a DataFrame\n",
      "\n",
      "See the caveats in the documentation: https://pandas.pydata.org/pandas-docs/stable/user_guide/indexing.html#returning-a-view-versus-a-copy\n",
      "  errors=errors,\n"
     ]
    }
   ],
   "source": [
    "votes_historcail_df_copy['REP_VOTES%'] = votes_historcail_df_copy['REP_VOTES'] / votes_historcail_df_copy['COUNTY_TOTALVOTES']\n",
    "votes_historcail_df_copy.drop('REP_VOTES', axis=1, inplace=True)"
   ]
  },
  {
   "cell_type": "code",
   "execution_count": 225,
   "metadata": {},
   "outputs": [],
   "source": [
    "X = votes_historcail_df_copy.drop(['REP_VOTES%'], axis=1)\n",
    "y = votes_historcail_df_copy[['REP_VOTES%', 'YEAR']].values"
   ]
  },
  {
   "cell_type": "code",
   "execution_count": 226,
   "metadata": {},
   "outputs": [],
   "source": [
    "X_train, X_test, y_train, y_test = train_test_split_by_year(X, y, year)"
   ]
  },
  {
   "cell_type": "code",
   "execution_count": 228,
   "metadata": {},
   "outputs": [
    {
     "data": {
      "text/plain": [
       "LinearRegression(copy_X=True, fit_intercept=True, n_jobs=None,\n",
       "         normalize=False)"
      ]
     },
     "execution_count": 228,
     "metadata": {},
     "output_type": "execute_result"
    }
   ],
   "source": [
    "linear_model = LinearRegression()\n",
    "linear_model.fit(X_train, y_train)"
   ]
  },
  {
   "cell_type": "code",
   "execution_count": 229,
   "metadata": {},
   "outputs": [],
   "source": [
    "y_pred = linear_model.predict(X_test)"
   ]
  },
  {
   "cell_type": "code",
   "execution_count": 230,
   "metadata": {},
   "outputs": [
    {
     "name": "stdout",
     "output_type": "stream",
     "text": [
      "Accuracy score=53.56\n"
     ]
    }
   ],
   "source": [
    "print(\"Accuracy score={:.2f}\".format(linear_model.score(X_test, y_test) * 100))"
   ]
  },
  {
   "cell_type": "code",
   "execution_count": 231,
   "metadata": {},
   "outputs": [
    {
     "name": "stdout",
     "output_type": "stream",
     "text": [
      "Mean Absolute Error: 0.0732406543008395\n",
      "Mean Squared Error: 0.008413058199978627\n",
      "Root Mean Squared Error: 0.09172272455601516\n"
     ]
    }
   ],
   "source": [
    "from sklearn import metrics\n",
    "print('Mean Absolute Error:', metrics.mean_absolute_error(y_test, y_pred))\n",
    "print('Mean Squared Error:', metrics.mean_squared_error(y_test, y_pred))\n",
    "print('Root Mean Squared Error:', np.sqrt(metrics.mean_squared_error(y_test, y_pred)))"
   ]
  },
  {
   "cell_type": "markdown",
   "metadata": {},
   "source": [
    "### Predict R and D Total votes per County###"
   ]
  },
  {
   "cell_type": "code",
   "execution_count": 232,
   "metadata": {},
   "outputs": [],
   "source": [
    "votes_df_copy = votes_df[['STATE_FIPS', 'COUNTY_FIPS', 'COUNTY_TOTALVOTES', 'WINNING_PARTY_BINARY']]"
   ]
  },
  {
   "cell_type": "code",
   "execution_count": 233,
   "metadata": {},
   "outputs": [],
   "source": [
    "y_pred = linear_model.predict(votes_df_copy)"
   ]
  },
  {
   "cell_type": "code",
   "execution_count": 234,
   "metadata": {},
   "outputs": [],
   "source": [
    "target_year_data['REP_VOTES%'] = y_pred"
   ]
  },
  {
   "cell_type": "code",
   "execution_count": 235,
   "metadata": {},
   "outputs": [],
   "source": [
    "#info D total votes. \n",
    "target_year_data['DEM_VOTES%'] = 1 - target_year_data['REP_VOTES%']"
   ]
  },
  {
   "cell_type": "code",
   "execution_count": 236,
   "metadata": {},
   "outputs": [],
   "source": [
    "target_year_data['REP_VOTES'] = target_year_data['REP_VOTES%'] * target_year_data['COUNTY_TOTALVOTES']\n",
    "target_year_data['DEM_VOTES'] = target_year_data['DEM_VOTES%'] * target_year_data['COUNTY_TOTALVOTES']"
   ]
  },
  {
   "cell_type": "code",
   "execution_count": 237,
   "metadata": {},
   "outputs": [],
   "source": [
    "target_year_data['REP_VOTES'] = target_year_data['REP_VOTES'].astype(np.int64)\n",
    "target_year_data['DEM_VOTES'] = target_year_data['DEM_VOTES'].astype(np.int64)"
   ]
  },
  {
   "cell_type": "code",
   "execution_count": 238,
   "metadata": {},
   "outputs": [],
   "source": [
    "#save to csv\n",
    "filename_step3 = '../../data/F20_step3_output_' + date_str + '.csv'\n",
    "target_year_data.to_csv(filename_step3)"
   ]
  },
  {
   "cell_type": "markdown",
   "metadata": {},
   "source": [
    "# Step 4"
   ]
  },
  {
   "cell_type": "markdown",
   "metadata": {},
   "source": [
    "### Calculate Winner###"
   ]
  },
  {
   "cell_type": "code",
   "execution_count": 239,
   "metadata": {},
   "outputs": [],
   "source": [
    "electoral_ref = pd.read_excel('../../data/Electoral College Votes.xlsx')\n",
    "target_data = pd.read_csv(filename_step3)\n",
    "data_historical = pd.read_csv(combined_data_file, encoding = \"ISO-8859-1\")"
   ]
  },
  {
   "cell_type": "code",
   "execution_count": 240,
   "metadata": {},
   "outputs": [],
   "source": [
    "### 1) create a new df with StateFips/Count\n",
    "state_fips_map = {}\n",
    "for index, row in data_historical.iterrows():\n",
    "    #print(row)\n",
    "    state = row['STATE']\n",
    "    #print(type(state))\n",
    "    if (state_fips_map.get(state) == None):\n",
    "        state_fips_map[state] = row['STATE_FIPS']\n",
    "        \n",
    "state_fips_df = pd.DataFrame(list(state_fips_map.items()), columns=['STATE','STATE_FIPS'])"
   ]
  },
  {
   "cell_type": "code",
   "execution_count": 241,
   "metadata": {},
   "outputs": [],
   "source": [
    "df = electoral_ref.merge(state_fips_df, left_on='STATE', right_on='STATE')"
   ]
  },
  {
   "cell_type": "code",
   "execution_count": 242,
   "metadata": {},
   "outputs": [],
   "source": [
    "target_data.drop('Unnamed: 0', inplace=True, axis=1)"
   ]
  },
  {
   "cell_type": "code",
   "execution_count": 244,
   "metadata": {},
   "outputs": [],
   "source": [
    "\"\"\"extract how counties prediction for every state\"\"\"\n",
    "visited = {}\n",
    "electoral_votes = {'D':0, 'R':0 }\n",
    "for idnex, row in target_data.iterrows():\n",
    "    state = int(row['STATE_FIPS'])\n",
    "    \n",
    "    rep_votes = int(row['REP_VOTES'])\n",
    "    dem_votes = int(row['DEM_VOTES'])\n",
    "\n",
    "    if (visited.get(state) == None):\n",
    "        electoral_votes = {'D': dem_votes, 'R': rep_votes }\n",
    "        visited[state] = electoral_votes\n",
    "    else:\n",
    "        #update existing map\n",
    "        current_votes = visited.get(state)\n",
    "        current_r = current_votes.get('R')\n",
    "        current_d = current_votes.get('D')\n",
    "        electoral_votes = {'D': current_d + dem_votes, 'R': current_r + rep_votes }\n",
    "        visited[state] = electoral_votes"
   ]
  },
  {
   "cell_type": "code",
   "execution_count": 245,
   "metadata": {},
   "outputs": [
    {
     "name": "stdout",
     "output_type": "stream",
     "text": [
      "r=24\n",
      "d=27\n"
     ]
    }
   ],
   "source": [
    "\"\"\"determine the winner of every state\"\"\"\n",
    "state_predictions = {}\n",
    "d_count = 0\n",
    "r_count = 0\n",
    "\n",
    "for key, val in visited.items():\n",
    "    total_r = val.get('R')\n",
    "    total_d = val.get('D')\n",
    "    winner = 'D' if total_d > total_r else 'R'\n",
    "    \n",
    "    if (winner == 'D'):\n",
    "        d_count +=1 \n",
    "    elif (winner == 'R'):\n",
    "        r_count +=1\n",
    "    \n",
    "    state_predictions[key] = winner\n",
    "\n",
    "print('r=' + str(r_count))\n",
    "print('d=' + str(d_count))"
   ]
  },
  {
   "cell_type": "code",
   "execution_count": 246,
   "metadata": {},
   "outputs": [],
   "source": [
    "party_electoral = {}\n",
    "for index, row in df.iterrows():\n",
    "    state = int(row['STATE_FIPS'])\n",
    "    votes = int(row['COUNT'])\n",
    "    party = state_predictions.get(state)\n",
    "    \n",
    "    if (party_electoral.get(party) == None):\n",
    "        party_electoral[party] = votes\n",
    "    else:\n",
    "        new_total = party_electoral.get(party) + votes\n",
    "        party_electoral[party] = new_total"
   ]
  },
  {
   "cell_type": "code",
   "execution_count": 247,
   "metadata": {},
   "outputs": [
    {
     "name": "stdout",
     "output_type": "stream",
     "text": [
      "r=24\n",
      "d=27\n",
      "{'R': 205, 'D': 333}\n"
     ]
    }
   ],
   "source": [
    "# Print Summary #\n",
    "print('r=' + str(r_count))\n",
    "print('d=' + str(d_count))\n",
    "print(party_electoral)"
   ]
  },
  {
   "cell_type": "code",
   "execution_count": null,
   "metadata": {},
   "outputs": [],
   "source": []
  }
 ],
 "metadata": {
  "kernelspec": {
   "display_name": "Python 3",
   "language": "python",
   "name": "python3"
  },
  "language_info": {
   "codemirror_mode": {
    "name": "ipython",
    "version": 3
   },
   "file_extension": ".py",
   "mimetype": "text/x-python",
   "name": "python",
   "nbconvert_exporter": "python",
   "pygments_lexer": "ipython3",
   "version": "3.7.6"
  }
 },
 "nbformat": 4,
 "nbformat_minor": 2
}
