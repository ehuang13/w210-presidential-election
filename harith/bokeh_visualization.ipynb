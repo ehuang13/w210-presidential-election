{
 "cells": [
  {
   "cell_type": "code",
   "execution_count": 2,
   "metadata": {},
   "outputs": [],
   "source": [
    "# imports\n",
    "import geopandas as gpd\n",
    "import pandas as pd\n",
    "import json\n",
    "from bokeh.io import show\n",
    "from bokeh.models import (CDSView, ColorBar, ColumnDataSource,\n",
    "                          CustomJS, CustomJSFilter, \n",
    "                          GeoJSONDataSource, HoverTool,\n",
    "                          LinearColorMapper, Slider)\n",
    "from bokeh.layouts import column, row, widgetbox\n",
    "from bokeh.palettes import brewer\n",
    "from bokeh.plotting import figure"
   ]
  },
  {
   "cell_type": "code",
   "execution_count": 3,
   "metadata": {},
   "outputs": [],
   "source": [
    "# set pandas to display all columns in dataframe\n",
    "pd.set_option(\"display.max_columns\", None)"
   ]
  },
  {
   "cell_type": "code",
   "execution_count": 4,
   "metadata": {},
   "outputs": [],
   "source": [
    "# read in combined dataset\n",
    "combined_df = pd.read_csv(\"https://raw.githubusercontent.com/ehuang13/w210-presidential-election/master/data/combined_jun13.csv\")"
   ]
  },
  {
   "cell_type": "markdown",
   "metadata": {},
   "source": [
    "# Read In & Clean Up Counties Shapefile"
   ]
  },
  {
   "cell_type": "code",
   "execution_count": 7,
   "metadata": {
    "scrolled": true
   },
   "outputs": [],
   "source": [
    "# read in counties shapefile from US Census Bureau\n",
    "counties_usa = gpd.read_file(\"bokeh/cb_2018_us_county_20m.shp\")\n",
    "\n",
    "# cast GEOID data type to float64 instead of str for merging\n",
    "counties_usa[\"GEOID\"] = counties_usa[\"GEOID\"].astype(\"float64\")\n",
    "\n",
    "# merge counties shapefile with combined_df\n",
    "merged_counties = counties_usa.merge(combined_df, left_on=\"GEOID\", right_on=\"FIPS\")\n",
    "\n",
    "# drop Alaska and Hawaii\n",
    "merged_counties = merged_counties.loc[~merged_counties[\"STATE\"].isin([\"Alaska\", \"Hawaii\"])]"
   ]
  },
  {
   "cell_type": "markdown",
   "metadata": {},
   "source": [
    "# Plot Counties and County Votes With Color Slider Bar for Election Year 2000"
   ]
  },
  {
   "cell_type": "code",
   "execution_count": 11,
   "metadata": {},
   "outputs": [],
   "source": [
    "# create 2000 election year data frame\n",
    "yr2000 = merged_counties[\"YEAR\"] == 2000\n",
    "merged_2000 = merged_counties[yr2000]\n",
    "\n",
    "# input GeoJSON source that contains features for plotting\n",
    "geosource_2000 = GeoJSONDataSource(geojson = merged_2000.to_json())\n",
    "\n",
    "# drop Alaska and Hawaii\n",
    "merged_counties = merged_counties.loc[~merged_counties[\"STATE\"].isin([\"Alaska\", \"Hawaii\"])]\n",
    "\n",
    "# instantiate LineraColorMapper and manually set low/high end for colorbar\n",
    "color_mapper = LinearColorMapper(palette = palette, low = 0, \n",
    "                                 high = 2.371175e+04)\n",
    "\n",
    "# create color slider bar at the bottom of chart\n",
    "color_bar = ColorBar(color_mapper = color_mapper, \n",
    "                     label_standoff = 8,\n",
    "                     width = 500, height = 20,\n",
    "                     border_line_color = None,\n",
    "                     location = (0,0), \n",
    "                     orientation = \"horizontal\")"
   ]
  },
  {
   "cell_type": "code",
   "execution_count": 15,
   "metadata": {},
   "outputs": [],
   "source": [
    "# create figure object\n",
    "plot = figure(title = \"Total # of Votes Cast by County in 2000 Presidential Election\", \n",
    "           plot_height = 600, plot_width = 950, \n",
    "           toolbar_location = \"below\",\n",
    "           tools = \"pan, wheel_zoom, reset\")\n",
    "\n",
    "plot.xgrid.grid_line_color = None\n",
    "plot.ygrid.grid_line_color = None\n",
    "\n",
    "# add patch renderer to figure\n",
    "counties = plot.patches(\"xs\",\"ys\", source = geosource_2000,\n",
    "                   fill_color = {\"field\": \"COUNTY_TOTALVOTES\",\n",
    "                                 \"transform\": color_mapper},\n",
    "                   line_color = \"gray\", \n",
    "                   line_width = 0.25, \n",
    "                   fill_alpha = 1)\n",
    "# create hover tool\n",
    "plot.add_tools(HoverTool(renderers = [counties],\n",
    "                      tooltips = [(\"County\",\"@NAME\"),\n",
    "                               (\"Votes\", \"@COUNTY_TOTALVOTES\")]))\n",
    "# specify colorbar layout\n",
    "plot.add_layout(color_bar, \"below\")\n",
    "\n",
    "show(plot)"
   ]
  },
  {
   "cell_type": "code",
   "execution_count": null,
   "metadata": {},
   "outputs": [],
   "source": []
  }
 ],
 "metadata": {
  "kernelspec": {
   "display_name": "Python 3",
   "language": "python",
   "name": "python3"
  },
  "language_info": {
   "codemirror_mode": {
    "name": "ipython",
    "version": 3
   },
   "file_extension": ".py",
   "mimetype": "text/x-python",
   "name": "python",
   "nbconvert_exporter": "python",
   "pygments_lexer": "ipython3",
   "version": "3.7.1"
  }
 },
 "nbformat": 4,
 "nbformat_minor": 2
}
