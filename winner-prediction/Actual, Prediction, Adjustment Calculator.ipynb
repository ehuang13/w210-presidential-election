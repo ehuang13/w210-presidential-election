{
 "cells": [
  {
   "cell_type": "code",
   "execution_count": 3,
   "metadata": {},
   "outputs": [],
   "source": [
    "import pandas as pd"
   ]
  },
  {
   "cell_type": "code",
   "execution_count": 4,
   "metadata": {},
   "outputs": [],
   "source": [
    "\n",
    "electoral_df = pd.read_csv('data/states-fips-electoral.csv')"
   ]
  },
  {
   "cell_type": "code",
   "execution_count": 9,
   "metadata": {},
   "outputs": [],
   "source": [
    "\"\"\" calculate electoral votes and some before vs after stats\"\"\"\n",
    "def print_summary(df):\n",
    "    d_states_actual_count = 0\n",
    "    d_states_predicted_count = 0\n",
    "    d_states_adjusted_count = 0\n",
    "\n",
    "    r_states_actual_count = 0\n",
    "    r_states_predicted_count = 0\n",
    "    r_states_adjusted_count = 0\n",
    "    \n",
    "    d_elect_actual_count = 0\n",
    "    d_elect_predicted_count = 0\n",
    "    d_elect_adjusted_count = 0\n",
    "\n",
    "    r_elect_actual_count = 0\n",
    "    r_elect_predicted_count = 0\n",
    "    r_elect_adjusted_count = 0\n",
    "    \n",
    "    for index, row in df.iterrows():\n",
    "        state_fips = row['STATE_FIPS']\n",
    "        winner_predictions = row['PRED_WINNING_PARTY']\n",
    "        winner_actual = row['WINNING_PARTY']\n",
    "        winner_adjusted = row['ADJUSTED_WINNING_PARTY']\n",
    "        \n",
    "        electoral_votes = electoral_df.loc[electoral_df['STATE_FIPS'] == state_fips]['COUNT'].values[0]\n",
    "        \n",
    "        #predictions\n",
    "        if winner_predictions == 0:\n",
    "            d_states_predicted_count += 1\n",
    "            d_elect_predicted_count += electoral_votes\n",
    "        elif winner_predictions == 1:\n",
    "            r_states_predicted_count += 1\n",
    "            r_elect_predicted_count += electoral_votes\n",
    "        \n",
    "        #actuals\n",
    "        if winner_actual == 0:\n",
    "            d_states_actual_count += 1\n",
    "            d_elect_actual_count += electoral_votes\n",
    "        elif winner_actual == 1:\n",
    "            r_states_actual_count += 1\n",
    "            r_elect_actual_count += electoral_votes\n",
    "        \n",
    "        #adjustments\n",
    "        if winner_adjusted == 0:\n",
    "            d_states_adjusted_count += 1\n",
    "            d_elect_adjusted_count += electoral_votes\n",
    "        elif winner_adjusted == 1:\n",
    "            r_states_adjusted_count += 1\n",
    "            r_elect_adjusted_count += electoral_votes\n",
    "            \n",
    "    #print('Dem States Count: ACTUAL {}      PREDICTION: {}      ADJUSTMENT: {}'.format(d_states_actual_count, d_states_predicted_count, d_states_adjusted_count))\n",
    "    #print('Rep States Count: ACTUAL {}      PREDICTION: {}      ADJUSTMENT: {}'.format(r_states_actual_count, r_states_predicted_count, r_states_adjusted_count))\n",
    "    #print()\n",
    "    #print('Dem States Electoral: ACTUAL {}      PREDICTION: {}      ADJUSTMENT: {}'.format(d_elect_actual_count, d_elect_predicted_count, d_elect_adjusted_count))\n",
    "    #print('Rep States Electoral: ACTUAL {}      PREDICTION: {}      ADJUSTMENT: {}'.format(r_elect_actual_count, r_elect_predicted_count, r_elect_adjusted_count))\n",
    "    \n",
    "    \n",
    "    print('Dem Winning States Count: ACTUAL {}  PREDICTION: {}'.format(d_states_actual_count, d_states_adjusted_count))\n",
    "    print('Rep Winning States Count: ACTUAL {}  PREDICTION: {}'.format(r_states_actual_count, r_states_adjusted_count))\n",
    "    print()\n",
    "    print('Dem Winning States Electoral: ACTUAL {}  PREDICTION: {}'.format(d_elect_actual_count, d_elect_adjusted_count))\n",
    "    print('Rep Winning States Electoral: ACTUAL {}  PREDICTION: {}'.format(r_elect_actual_count, r_elect_adjusted_count))\n",
    "    "
   ]
  },
  {
   "cell_type": "code",
   "execution_count": 16,
   "metadata": {},
   "outputs": [
    {
     "name": "stdout",
     "output_type": "stream",
     "text": [
      "Overall accuracy score of state level winner: 86%\n",
      "=== 2012 ===\n",
      "Dem Winning States Count: ACTUAL 27  PREDICTION: 22\n",
      "Rep Winning States Count: ACTUAL 24  PREDICTION: 29\n",
      "\n",
      "Dem Winning States Electoral: ACTUAL 332  PREDICTION: 316\n",
      "Rep Winning States Electoral: ACTUAL 206  PREDICTION: 222\n"
     ]
    }
   ],
   "source": [
    "print('Overall accuracy score of state level winner: 86%')\n",
    "df = pd.read_csv('data2/predictions_vs_adjusted_2012.csv')\n",
    "print('=== 2012 ===')\n",
    "print_summary(df)"
   ]
  },
  {
   "cell_type": "code",
   "execution_count": 17,
   "metadata": {},
   "outputs": [
    {
     "name": "stdout",
     "output_type": "stream",
     "text": [
      "=== 2016 ===\n",
      "Dem Winning States Count: ACTUAL 21  PREDICTION: 19\n",
      "Rep Winning States Count: ACTUAL 30  PREDICTION: 32\n",
      "\n",
      "Dem Winning States Electoral: ACTUAL 233  PREDICTION: 229\n",
      "Rep Winning States Electoral: ACTUAL 305  PREDICTION: 309\n"
     ]
    }
   ],
   "source": [
    "df = pd.read_csv('data2/predictions_vs_adjusted_2016.csv')\n",
    "print('=== 2016 ===')\n",
    "print_summary(df)"
   ]
  },
  {
   "cell_type": "code",
   "execution_count": 18,
   "metadata": {},
   "outputs": [
    {
     "name": "stdout",
     "output_type": "stream",
     "text": [
      "=== 2020 ===\n",
      "Dem Winning States Count: ACTUAL 0  PREDICTION: 36\n",
      "Rep Winning States Count: ACTUAL 0  PREDICTION: 15\n",
      "\n",
      "Dem Winning States Electoral: ACTUAL 0  PREDICTION: 449\n",
      "Rep Winning States Electoral: ACTUAL 0  PREDICTION: 89\n"
     ]
    }
   ],
   "source": [
    "df = pd.read_csv('data2/predictions_vs_adjusted_2020.csv')\n",
    "print('=== 2020 ===')\n",
    "print_summary(df)"
   ]
  },
  {
   "cell_type": "code",
   "execution_count": null,
   "metadata": {},
   "outputs": [],
   "source": []
  },
  {
   "cell_type": "code",
   "execution_count": null,
   "metadata": {},
   "outputs": [],
   "source": []
  }
 ],
 "metadata": {
  "kernelspec": {
   "display_name": "Python 3",
   "language": "python",
   "name": "python3"
  },
  "language_info": {
   "codemirror_mode": {
    "name": "ipython",
    "version": 3
   },
   "file_extension": ".py",
   "mimetype": "text/x-python",
   "name": "python",
   "nbconvert_exporter": "python",
   "pygments_lexer": "ipython3",
   "version": "3.7.4"
  }
 },
 "nbformat": 4,
 "nbformat_minor": 2
}
