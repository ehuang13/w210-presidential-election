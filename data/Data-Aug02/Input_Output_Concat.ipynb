{
 "cells": [
  {
   "cell_type": "code",
   "execution_count": 5,
   "metadata": {
    "collapsed": true
   },
   "outputs": [],
   "source": [
    "import pandas as pd"
   ]
  },
  {
   "cell_type": "code",
   "execution_count": 6,
   "metadata": {},
   "outputs": [],
   "source": [
    "total_data = \"combined_jul16.csv\"\n",
    "df = pd.read_csv(total_data, encoding = \"ISO-8859-1\")"
   ]
  },
  {
   "cell_type": "code",
   "execution_count": 7,
   "metadata": {
    "collapsed": true
   },
   "outputs": [],
   "source": [
    "F20_data = \"F20_step3_output_726.csv\"\n",
    "df20 = pd.read_csv(total_data, encoding = \"ISO-8859-1\")"
   ]
  },
  {
   "cell_type": "code",
   "execution_count": 8,
   "metadata": {
    "collapsed": true
   },
   "outputs": [],
   "source": [
    "final_df = pd.concat([df, df20])"
   ]
  },
  {
   "cell_type": "code",
   "execution_count": 9,
   "metadata": {},
   "outputs": [
    {
     "data": {
      "text/plain": [
       "(31466, 64)"
      ]
     },
     "execution_count": 9,
     "metadata": {},
     "output_type": "execute_result"
    }
   ],
   "source": [
    "final_df.shape"
   ]
  },
  {
   "cell_type": "code",
   "execution_count": 11,
   "metadata": {},
   "outputs": [
    {
     "data": {
      "text/plain": [
       "Index(['YEAR_FIPS', 'YEAR', 'STATE_FIPS', 'COUNTY_FIPS', 'STATE', 'COUNTY',\n",
       "       'REP_CANDIDATE', 'DEM_CANDIDATE', 'REP_VOTES', 'DEM_VOTES',\n",
       "       'COUNTY_TOTALVOTES', 'WINNING_CANDIDATE', 'WINNING_PARTY',\n",
       "       'WINNING_PARTY_BINARY', 'HOUSE_WINNING_BINARY', 'SENATE_WINNING_BINARY',\n",
       "       'UNEMPLOYMENT_RATE', 'AVG_WAGE_SALARY', 'AA_FEMALE', 'AA_MALE',\n",
       "       'BA_FEMALE', 'BA_MALE', 'H_FEMALE', 'H_MALE', 'IA_FEMALE', 'IA_MALE',\n",
       "       'NA_FEMALE', 'NA_MALE', 'TOT_FEMALE', 'TOT_MALE', 'TOT_POP',\n",
       "       'WA_FEMALE', 'WA_MALE', 'TOT_POP_LESS19', 'TOT_MALE_LESS19',\n",
       "       'TOT_FEMALE_LESS19', 'TOT_POP_20to39', 'TOT_MALE_20to39',\n",
       "       'TOT_FEMALE_20to39', 'TOT_POP_40to59', 'TOT_MALE_40to59',\n",
       "       'TOT_FEMALE_40to59', 'TOT_POP_Above60', 'TOT_MALE_Above60',\n",
       "       'TOT_FEMALE_Above60', 'AA_FEMALE%', 'AA_MALE%', 'BA_FEMALE%',\n",
       "       'BA_MALE%', 'H_FEMALE%', 'H_MALE%', 'IA_FEMALE%', 'IA_MALE%',\n",
       "       'NA_FEMALE%', 'NA_MALE%', 'WA_FEMALE%', 'WA_MALE%', 'TOT_FEMALE%',\n",
       "       'TOT_MALE%', 'TOT_POP_LESS19%', 'TOT_POP_20to39%', 'TOT_POP_40to59%',\n",
       "       'TOT_POP_Above60%', 'MARGIN_VICTORY'],\n",
       "      dtype='object')"
      ]
     },
     "execution_count": 11,
     "metadata": {},
     "output_type": "execute_result"
    }
   ],
   "source": [
    "final_df.columns"
   ]
  },
  {
   "cell_type": "code",
   "execution_count": 12,
   "metadata": {
    "collapsed": true
   },
   "outputs": [],
   "source": [
    "final_df.to_csv(\"Input_Output_Aug02.csv\")"
   ]
  }
 ],
 "metadata": {
  "kernelspec": {
   "display_name": "Python 3",
   "language": "python",
   "name": "python3"
  },
  "language_info": {
   "codemirror_mode": {
    "name": "ipython",
    "version": 3
   },
   "file_extension": ".py",
   "mimetype": "text/x-python",
   "name": "python",
   "nbconvert_exporter": "python",
   "pygments_lexer": "ipython3",
   "version": "3.6.3"
  }
 },
 "nbformat": 4,
 "nbformat_minor": 2
}
