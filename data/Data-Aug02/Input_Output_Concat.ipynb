{
 "cells": [
  {
   "cell_type": "code",
   "execution_count": 1,
   "metadata": {
    "collapsed": true
   },
   "outputs": [],
   "source": [
    "import pandas as pd"
   ]
  },
  {
   "cell_type": "code",
   "execution_count": 3,
   "metadata": {
    "collapsed": true
   },
   "outputs": [],
   "source": [
    "total_data = \"combined_jul16.csv\"\n",
    "df = pd.read_csv(total_data, encoding = \"ISO-8859-1\")"
   ]
  },
  {
   "cell_type": "code",
   "execution_count": 4,
   "metadata": {},
   "outputs": [
    {
     "data": {
      "text/plain": [
       "(15733, 64)"
      ]
     },
     "execution_count": 4,
     "metadata": {},
     "output_type": "execute_result"
    }
   ],
   "source": [
    "df.shape"
   ]
  },
  {
   "cell_type": "code",
   "execution_count": 9,
   "metadata": {
    "collapsed": true
   },
   "outputs": [],
   "source": [
    "F20_data = \"F20_step3_output_726.csv\"\n",
    "df20 = pd.read_csv(F20_data, encoding = \"ISO-8859-1\")"
   ]
  },
  {
   "cell_type": "code",
   "execution_count": 10,
   "metadata": {},
   "outputs": [
    {
     "data": {
      "text/plain": [
       "(3149, 58)"
      ]
     },
     "execution_count": 10,
     "metadata": {},
     "output_type": "execute_result"
    }
   ],
   "source": [
    "df20.shape"
   ]
  },
  {
   "cell_type": "code",
   "execution_count": 11,
   "metadata": {
    "collapsed": true
   },
   "outputs": [],
   "source": [
    "final_df = pd.concat([df, df20])"
   ]
  },
  {
   "cell_type": "code",
   "execution_count": 12,
   "metadata": {},
   "outputs": [
    {
     "data": {
      "text/plain": [
       "(18882, 66)"
      ]
     },
     "execution_count": 12,
     "metadata": {},
     "output_type": "execute_result"
    }
   ],
   "source": [
    "final_df.shape"
   ]
  },
  {
   "cell_type": "code",
   "execution_count": 13,
   "metadata": {},
   "outputs": [
    {
     "data": {
      "text/plain": [
       "Index(['AA_FEMALE', 'AA_FEMALE%', 'AA_MALE', 'AA_MALE%', 'AVG_WAGE_SALARY',\n",
       "       'BA_FEMALE', 'BA_FEMALE%', 'BA_MALE', 'BA_MALE%', 'COUNTY',\n",
       "       'COUNTY_FIPS', 'COUNTY_TOTALVOTES', 'DEM_CANDIDATE', 'DEM_VOTES',\n",
       "       'DEM_VOTES%', 'HOUSE_WINNING_BINARY', 'H_FEMALE', 'H_FEMALE%', 'H_MALE',\n",
       "       'H_MALE%', 'IA_FEMALE', 'IA_FEMALE%', 'IA_MALE', 'IA_MALE%',\n",
       "       'MARGIN_VICTORY', 'NA_FEMALE', 'NA_FEMALE%', 'NA_MALE', 'NA_MALE%',\n",
       "       'REP_CANDIDATE', 'REP_VOTES', 'REP_VOTES%', 'SENATE_WINNING_BINARY',\n",
       "       'STATE', 'STATE_FIPS', 'TOT_FEMALE', 'TOT_FEMALE%', 'TOT_FEMALE_20to39',\n",
       "       'TOT_FEMALE_40to59', 'TOT_FEMALE_Above60', 'TOT_FEMALE_LESS19',\n",
       "       'TOT_MALE', 'TOT_MALE%', 'TOT_MALE_20to39', 'TOT_MALE_40to59',\n",
       "       'TOT_MALE_Above60', 'TOT_MALE_LESS19', 'TOT_POP', 'TOT_POP_20to39',\n",
       "       'TOT_POP_20to39%', 'TOT_POP_40to59', 'TOT_POP_40to59%',\n",
       "       'TOT_POP_Above60', 'TOT_POP_Above60%', 'TOT_POP_LESS19',\n",
       "       'TOT_POP_LESS19%', 'UNEMPLOYMENT_RATE', 'WA_FEMALE', 'WA_FEMALE%',\n",
       "       'WA_MALE', 'WA_MALE%', 'WINNING_CANDIDATE', 'WINNING_PARTY',\n",
       "       'WINNING_PARTY_BINARY', 'YEAR', 'YEAR_FIPS'],\n",
       "      dtype='object')"
      ]
     },
     "execution_count": 13,
     "metadata": {},
     "output_type": "execute_result"
    }
   ],
   "source": [
    "final_df.columns"
   ]
  },
  {
   "cell_type": "code",
   "execution_count": 14,
   "metadata": {
    "collapsed": true
   },
   "outputs": [],
   "source": [
    "final_df.to_csv(\"Input_Output_Aug02.csv\")"
   ]
  }
 ],
 "metadata": {
  "kernelspec": {
   "display_name": "Python 3",
   "language": "python",
   "name": "python3"
  },
  "language_info": {
   "codemirror_mode": {
    "name": "ipython",
    "version": 3
   },
   "file_extension": ".py",
   "mimetype": "text/x-python",
   "name": "python",
   "nbconvert_exporter": "python",
   "pygments_lexer": "ipython3",
   "version": "3.6.3"
  }
 },
 "nbformat": 4,
 "nbformat_minor": 2
}
