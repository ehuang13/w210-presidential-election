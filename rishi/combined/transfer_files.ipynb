{
 "cells": [
  {
   "cell_type": "code",
   "execution_count": 25,
   "metadata": {},
   "outputs": [],
   "source": [
    "import json\n",
    "import os\n",
    "import glob\n",
    "import re\n",
    "import pandas as pd\n",
    "from os import makedirs\n",
    "from os.path import join, exists\n",
    "from pathlib import Path\n",
    "from datetime import datetime, date, timedelta\n",
    "from pathlib import Path"
   ]
  },
  {
   "cell_type": "code",
   "execution_count": 26,
   "metadata": {},
   "outputs": [],
   "source": [
    "def copy_files(source_path, target_path, fname):\n",
    "    df = pd.read_csv(source_path)\n",
    "    df.to_csv(join(target_path, fname))"
   ]
  },
  {
   "cell_type": "code",
   "execution_count": 27,
   "metadata": {},
   "outputs": [],
   "source": [
    "def copy_twt_files():\n",
    "    cwd = Path.cwd()\n",
    "    \n",
    "    s_path = join(cwd.parent, 'twitter2', 'twtsentdata')\n",
    "    \n",
    "    for tp in ['economy', 'environment', 'health', 'job', 'immigration', 'party']:\n",
    "        fp = tp\n",
    "        \n",
    "        if fp == 'party':\n",
    "            fp = 'democrat'\n",
    "        \n",
    "        copy_files(join(s_path, tp, 'biden', '2020_biden_' + fp + '.csv'), \n",
    "                   join('data', tp), 'biden_twitter.csv')\n",
    "        \n",
    "        if tp == 'party':\n",
    "            fp = 'republican'\n",
    "            \n",
    "        copy_files(join(s_path, tp, 'trump', '2020_trump_' + fp + '.csv'), \n",
    "                   join('data', tp), 'trump_twitter.csv')\n",
    "\n"
   ]
  },
  {
   "cell_type": "code",
   "execution_count": 28,
   "metadata": {},
   "outputs": [],
   "source": [
    "copy_twt_files()"
   ]
  },
  {
   "cell_type": "code",
   "execution_count": 29,
   "metadata": {},
   "outputs": [],
   "source": [
    "def copy_hd_files():\n",
    "    cwd = Path.cwd()\n",
    "    \n",
    "    s_path = join(cwd.parent, 'newsapi3', 'data3')\n",
    "    \n",
    "    for tp in ['economy', 'environment', 'health', 'job', 'immigration', 'party']:\n",
    "        for md in ['cnn', 'fox-news', 'guardian']:\n",
    "\n",
    "            copy_files(join(s_path, tp, md, 'biden', 'headlines.csv'), \n",
    "                       join('data', tp), 'biden_headlines_' + md + '.csv')\n",
    "\n",
    "\n",
    "            copy_files(join(s_path, tp, md, 'trump', 'headlines.csv'), \n",
    "                       join('data', tp), 'trump_headlines_' + md + '.csv')\n",
    "\n"
   ]
  },
  {
   "cell_type": "code",
   "execution_count": 30,
   "metadata": {},
   "outputs": [],
   "source": [
    "copy_hd_files()"
   ]
  },
  {
   "cell_type": "code",
   "execution_count": 31,
   "metadata": {},
   "outputs": [],
   "source": [
    "def copy_trend_files():\n",
    "    cwd = Path.cwd()\n",
    "    \n",
    "    s_path = join(cwd.parent, 'google-trends', 'data2')\n",
    "    \n",
    "    for tp in ['economy', 'environment', 'health', 'job', 'immigration', 'party']:\n",
    "        copy_files(join(s_path, tp, 'biden', 'biden_trends.csv'), \n",
    "                   join('data', tp), 'biden_trends.csv')\n",
    "\n",
    "        copy_files(join(s_path, tp, 'trump', 'trump_trends.csv'), \n",
    "                   join('data', tp), 'trump_trends.csv')\n",
    "\n"
   ]
  },
  {
   "cell_type": "code",
   "execution_count": 32,
   "metadata": {},
   "outputs": [],
   "source": [
    "copy_trend_files()"
   ]
  },
  {
   "cell_type": "code",
   "execution_count": null,
   "metadata": {},
   "outputs": [],
   "source": []
  }
 ],
 "metadata": {
  "kernelspec": {
   "display_name": "Python 3",
   "language": "python",
   "name": "python3"
  },
  "language_info": {
   "codemirror_mode": {
    "name": "ipython",
    "version": 3
   },
   "file_extension": ".py",
   "mimetype": "text/x-python",
   "name": "python",
   "nbconvert_exporter": "python",
   "pygments_lexer": "ipython3",
   "version": "3.7.3"
  }
 },
 "nbformat": 4,
 "nbformat_minor": 4
}
