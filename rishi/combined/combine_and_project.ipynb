{
 "cells": [
  {
   "cell_type": "code",
   "execution_count": 1,
   "metadata": {},
   "outputs": [],
   "source": [
    "import json\n",
    "import os\n",
    "import glob\n",
    "import re\n",
    "import pandas as pd\n",
    "from os import makedirs\n",
    "from os.path import join, exists\n",
    "from pathlib import Path\n",
    "from datetime import datetime, date, timedelta\n",
    "from pathlib import Path"
   ]
  },
  {
   "cell_type": "code",
   "execution_count": 39,
   "metadata": {},
   "outputs": [],
   "source": [
    "def combine_data(year, cand, path, target_path, include_hd):\n",
    "    \n",
    "    tw_data = pd.read_csv(join(path, cand + '_twitter.csv'))\n",
    "    tn_data = pd.read_csv(join(path,  cand + '_trends.csv'))\n",
    "    df = []\n",
    "    \n",
    "    if include_hd == True:\n",
    "        hd_data = pd.read_csv(join(path, cand + '_headlines.csv'))\n",
    "        df = pd.merge(hd_data, tw_data, how='right', on=['date', 'date'], suffixes=('_h', '_t'))\n",
    "        df = pd.merge(tn_data, df, how='right', on=['date', 'date'], suffixes=('_tn', '_a'))\n",
    "        \n",
    "        df = drop_unnamed_columns(df)\n",
    "        df = df.fillna(df.mean())\n",
    "        \n",
    "        print(df.columns)\n",
    "        \n",
    "        df['score']=df['score'].replace(0, df['score'].mean())\n",
    "        df['score_mn']=df['score_mn'].replace(0, df['score_mn'].mean())\n",
    "        \n",
    "        col = df.loc[: , df.columns[2]: df.columns[len(df.columns) - 1]]\n",
    "        df['score_mean'] = col.mean(axis=1)\n",
    "        df['final_score'] = df[df.columns[1]] * df['score_mean']\n",
    "    else:\n",
    "        #df = pd.merge(hd_data, tw_data, how='right', on=['date', 'date'], suffixes=('_h', '_t'))\n",
    "        df = pd.merge(tn_data, tw_data, how='right', on=['date', 'date'])\n",
    "        \n",
    "        df = drop_unnamed_columns(df)\n",
    "        df = df.fillna(df.mean())\n",
    "        df['final_score'] = df[df.columns[1]] * df[df.columns[2]]\n",
    "    \n",
    "    df2 = df[['date', 'final_score']]\n",
    "    \n",
    "    os.makedirs(target_path, exist_ok=True)\n",
    "    \n",
    "    df2.to_csv(join(target_path, cand + '_combined.csv'), index=False)\n",
    "    "
   ]
  },
  {
   "cell_type": "code",
   "execution_count": null,
   "metadata": {},
   "outputs": [],
   "source": []
  },
  {
   "cell_type": "code",
   "execution_count": null,
   "metadata": {},
   "outputs": [],
   "source": []
  },
  {
   "cell_type": "code",
   "execution_count": 40,
   "metadata": {},
   "outputs": [],
   "source": [
    "def drop_unnamed_columns(df):\n",
    "    cols = df.columns\n",
    "    for c in cols:\n",
    "        if c == 'Unnamed: 0' or c == 'Unnamed: 0.1' or c == 'Unnamed: 0_x' or c == 'Unnamed: 0_a' \\\n",
    "        or c == 'Unnamed: 0_y' or c == 'headline' or c == 'Unnamed: 0_tn':\n",
    "            df = df.drop([c], axis=1)\n",
    "    \n",
    "    return df"
   ]
  },
  {
   "cell_type": "code",
   "execution_count": 41,
   "metadata": {},
   "outputs": [],
   "source": [
    "def combine_all_news_hd(cand, path):\n",
    "    hd_c_data = pd.read_csv(join(path, cand + '_headlines_cnn.csv'))\n",
    "    hd_c_data = drop_unnamed_columns(hd_c_data)\n",
    "    hd_f_data = pd.read_csv(join(path, cand + '_headlines_fox-news.csv'))\n",
    "    hd_f_data = drop_unnamed_columns(hd_f_data)\n",
    "    #hd_g_data = pd.read_csv(join(path, cand + '_headlines_guardian.csv'))\n",
    "    #hd_g_data = drop_unnamed_columns(hd_g_data)\n",
    "    \n",
    "    \n",
    "    df = pd.merge(hd_c_data, hd_f_data, how='inner', on=['date', 'date'], suffixes=('_c', '_f'))\n",
    "    #df = pd.merge(hd_g_data, df, how='right', on=['date', 'date'], suffixes=('_g', '_a'))\n",
    "    \n",
    "    df = df.fillna(df.mean())\n",
    "    \n",
    "    col = df.loc[: , \"score_c\":\"score_f\"]\n",
    "    df['score_mn'] = col.mean(axis=1)\n",
    "    \n",
    "    df2 = df[['date', 'score_mn']]\n",
    "    \n",
    "    df2.to_csv(join(path, cand + '_headlines.csv'), index=False)"
   ]
  },
  {
   "cell_type": "code",
   "execution_count": 42,
   "metadata": {},
   "outputs": [],
   "source": [
    "combine_data('2012', 'obama', join('data', 'candidate', '2012'), join('data2', 'candidate', '2012'), False)\n",
    "combine_data('2012', 'romney', join('data', 'candidate', '2012'), join('data2', 'candidate', '2012'), False)"
   ]
  },
  {
   "cell_type": "code",
   "execution_count": 43,
   "metadata": {},
   "outputs": [],
   "source": [
    "combine_data('2016', 'trump', join('data', 'candidate', '2016'), join('data2', 'candidate', '2016'), False)\n",
    "combine_data('2016', 'hillary', join('data', 'candidate', '2016'), join('data2', 'candidate', '2016'), False)"
   ]
  },
  {
   "cell_type": "code",
   "execution_count": null,
   "metadata": {},
   "outputs": [],
   "source": []
  },
  {
   "cell_type": "code",
   "execution_count": 44,
   "metadata": {},
   "outputs": [],
   "source": [
    "combine_all_news_hd('trump', join('data', 'candidate', '2020'))\n",
    "combine_all_news_hd('biden', join('data', 'candidate', '2020'))"
   ]
  },
  {
   "cell_type": "code",
   "execution_count": 45,
   "metadata": {},
   "outputs": [
    {
     "name": "stdout",
     "output_type": "stream",
     "text": [
      "Index(['date', 'score', 'score_mn', 'scores'], dtype='object')\n",
      "Index(['date', 'score', 'score_mn', 'scores'], dtype='object')\n"
     ]
    }
   ],
   "source": [
    "combine_data('2020', 'trump', join('data', 'candidate', '2020'), join('data2', 'candidate', '2020'), True)\n",
    "combine_data('2020', 'biden', join('data', 'candidate', '2020'), join('data2', 'candidate', '2020'), True)"
   ]
  },
  {
   "cell_type": "code",
   "execution_count": null,
   "metadata": {},
   "outputs": [],
   "source": []
  },
  {
   "cell_type": "code",
   "execution_count": 46,
   "metadata": {},
   "outputs": [
    {
     "name": "stdout",
     "output_type": "stream",
     "text": [
      "Index(['date', 'score', 'score_mn', 'scores'], dtype='object')\n",
      "Index(['date', 'score', 'score_mn', 'scores'], dtype='object')\n",
      "Index(['date', 'score', 'score_mn', 'scores'], dtype='object')\n",
      "Index(['date', 'score', 'score_mn', 'scores'], dtype='object')\n",
      "Index(['date', 'score', 'score_mn', 'scores'], dtype='object')\n",
      "Index(['date', 'score', 'score_mn', 'scores'], dtype='object')\n",
      "Index(['date', 'score', 'score_mn', 'scores'], dtype='object')\n",
      "Index(['date', 'score', 'score_mn', 'scores'], dtype='object')\n",
      "Index(['date', 'score', 'score_mn', 'scores'], dtype='object')\n",
      "Index(['date', 'score', 'score_mn', 'scores'], dtype='object')\n"
     ]
    }
   ],
   "source": [
    "for tp in ['economy', 'environment', 'health', 'immigration', 'party']:\n",
    "    combine_all_news_hd('trump', join('data', tp))\n",
    "    combine_all_news_hd('biden', join('data', tp))\n",
    "    \n",
    "    combine_data('2020', 'trump', join('data', tp), join('data2', tp), True)\n",
    "    combine_data('2020', 'biden', join('data', tp), join('data2', tp), True)"
   ]
  },
  {
   "cell_type": "code",
   "execution_count": null,
   "metadata": {},
   "outputs": [],
   "source": []
  },
  {
   "cell_type": "code",
   "execution_count": null,
   "metadata": {},
   "outputs": [],
   "source": []
  }
 ],
 "metadata": {
  "kernelspec": {
   "display_name": "Python 3",
   "language": "python",
   "name": "python3"
  },
  "language_info": {
   "codemirror_mode": {
    "name": "ipython",
    "version": 3
   },
   "file_extension": ".py",
   "mimetype": "text/x-python",
   "name": "python",
   "nbconvert_exporter": "python",
   "pygments_lexer": "ipython3",
   "version": "3.7.3"
  }
 },
 "nbformat": 4,
 "nbformat_minor": 4
}
