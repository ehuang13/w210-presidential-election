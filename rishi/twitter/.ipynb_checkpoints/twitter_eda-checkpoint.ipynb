{
 "cells": [
  {
   "cell_type": "code",
   "execution_count": 1,
   "metadata": {},
   "outputs": [],
   "source": [
    "import json\n",
    "import pandas as pd\n",
    "import matplotlib.pyplot as plt\n",
    "from langdetect import detect\n",
    "import glob\n",
    "import os"
   ]
  },
  {
   "cell_type": "code",
   "execution_count": null,
   "metadata": {},
   "outputs": [],
   "source": []
  },
  {
   "cell_type": "code",
   "execution_count": null,
   "metadata": {},
   "outputs": [],
   "source": []
  },
  {
   "cell_type": "code",
   "execution_count": 2,
   "metadata": {},
   "outputs": [],
   "source": [
    "def isEnglish(s):\n",
    "    try:\n",
    "        str(s).encode(encoding='utf-8').decode('ascii')\n",
    "    except UnicodeDecodeError:\n",
    "        return False\n",
    "    else:\n",
    "        return True"
   ]
  },
  {
   "cell_type": "code",
   "execution_count": 3,
   "metadata": {},
   "outputs": [],
   "source": [
    "def load_data():\n",
    "\n",
    "    tweets_data_path = 'twtdata/00.json'\n",
    "\n",
    "    tweets_data = []\n",
    "    tweets_file = open(tweets_data_path, encoding='utf-8')\n",
    "    for line in tweets_file:\n",
    "        try:\n",
    "            tweet = json.loads(line)\n",
    "            if isEnglish(tweet['text']):\n",
    "                tweets_data.append(tweet)\n",
    "        except:\n",
    "            continue\n",
    "            \n",
    "    return tweets_data"
   ]
  },
  {
   "cell_type": "code",
   "execution_count": 4,
   "metadata": {},
   "outputs": [],
   "source": [
    "def get_twt_attr(twt, attr_key):\n",
    "    if twt == None:\n",
    "        return None\n",
    "    \n",
    "    if attr_key in twt:\n",
    "        return twt[attr_key]\n",
    "    \n",
    "    return None"
   ]
  },
  {
   "cell_type": "code",
   "execution_count": null,
   "metadata": {},
   "outputs": [],
   "source": []
  },
  {
   "cell_type": "code",
   "execution_count": 5,
   "metadata": {},
   "outputs": [],
   "source": [
    "def populate_dataframe(tweets_data):\n",
    "    columns = ['created_at', 'text', 'user_id', 'user_description', 'user_followers_count', \n",
    "               'user_time_zone', 'user_lang', 'timestamp_ms', 'retweet_count', 'favorite_count', 'hashtags']\n",
    "\n",
    "    tweets = pd.DataFrame(columns=columns)\n",
    "\n",
    "    for twt in tweets_data:\n",
    "        twt_data = { \n",
    "                    'created_at': get_twt_attr(twt, 'created_at'), \n",
    "                    'text': get_twt_attr(twt, 'text'), \n",
    "                    'user_id': get_twt_attr(get_twt_attr(twt, 'user'), 'id'), \n",
    "                    'user_description': get_twt_attr(get_twt_attr(twt, 'user'), 'description'), \n",
    "                    'user_followers_count': get_twt_attr(get_twt_attr(twt, 'user'), 'followers_count'), \n",
    "                    'user_time_zone': get_twt_attr(get_twt_attr(twt, 'user'), 'time_zone'), \n",
    "                    'user_lang': get_twt_attr(get_twt_attr(twt, 'user'), 'lang'), \n",
    "                    'timestamp_ms': get_twt_attr(twt, 'timestamp_ms'), \n",
    "                    'retweet_count': get_twt_attr(twt, 'retweet_count'), \n",
    "                    'favorite_count': get_twt_attr(twt, 'favorite_count'), \n",
    "                    'hashtags': get_twt_attr(get_twt_attr(twt, 'entities'), 'hashtags') \n",
    "                    };\n",
    "\n",
    "        tweets.loc[len(tweets)] = twt_data\n",
    "        \n",
    "    \n",
    "    tweets = tweets[tweets['text'].notna()]\n",
    "    tweets = tweets[tweets['user_time_zone'].notna()]\n",
    "    tweets = tweets.loc[tweets.user_time_zone.str.contains('(US & Canada)')]\n",
    "    tweets = tweets.loc[tweets.user_lang.str.contains('en')]\n",
    "    tweets['created_at'] = pd.to_datetime(tweets['created_at'])\n",
    "    tweets['created_at'] = tweets['created_at'].dt.date\n",
    "    \n",
    "    tweets = tweets.drop(columns=['user_description', 'user_time_zone', 'user_lang', 'timestamp_ms', 'user_id'])\n",
    "    \n",
    "    return tweets\n",
    "    "
   ]
  },
  {
   "cell_type": "code",
   "execution_count": 6,
   "metadata": {},
   "outputs": [
    {
     "name": "stderr",
     "output_type": "stream",
     "text": [
      "/home/rmh/anaconda3/lib/python3.7/site-packages/ipykernel_launcher.py:27: UserWarning: This pattern has match groups. To actually get the groups, use str.extract.\n"
     ]
    },
    {
     "name": "stdout",
     "output_type": "stream",
     "text": [
      "1. processing - twtdata/05.json - len:206\n",
      "2. processing - twtdata/03.json - len:215\n",
      "3. processing - twtdata/33.json - len:200\n",
      "4. processing - twtdata/19.json - len:173\n",
      "5. processing - twtdata/13.json - len:221\n",
      "6. processing - twtdata/10.json - len:191\n",
      "7. processing - twtdata/11.json - len:216\n",
      "8. processing - twtdata/02.json - len:199\n",
      "9. processing - twtdata/59.json - len:190\n",
      "10. processing - twtdata/26.json - len:185\n",
      "11. processing - twtdata/36.json - len:198\n",
      "12. processing - twtdata/37.json - len:177\n",
      "13. processing - twtdata/45.json - len:196\n",
      "14. processing - twtdata/58.json - len:166\n",
      "15. processing - twtdata/15.json - len:178\n",
      "16. processing - twtdata/52.json - len:183\n",
      "17. processing - twtdata/28.json - len:211\n",
      "18. processing - twtdata/17.json - len:166\n",
      "19. processing - twtdata/38.json - len:187\n",
      "20. processing - twtdata/24.json - len:162\n",
      "21. processing - twtdata/29.json - len:188\n",
      "22. processing - twtdata/41.json - len:158\n",
      "23. processing - twtdata/35.json - len:188\n",
      "24. processing - twtdata/51.json - len:166\n",
      "25. processing - twtdata/39.json - len:192\n",
      "26. processing - twtdata/34.json - len:202\n",
      "27. processing - twtdata/12.json - len:214\n",
      "28. processing - twtdata/08.json - len:209\n",
      "29. processing - twtdata/50.json - len:165\n",
      "30. processing - twtdata/53.json - len:169\n",
      "31. processing - twtdata/18.json - len:182\n",
      "32. processing - twtdata/44.json - len:188\n",
      "33. processing - twtdata/31.json - len:184\n",
      "34. processing - twtdata/48.json - len:195\n",
      "35. processing - twtdata/42.json - len:195\n",
      "36. processing - twtdata/46.json - len:185\n",
      "37. processing - twtdata/07.json - len:202\n",
      "38. processing - twtdata/57.json - len:171\n",
      "39. processing - twtdata/30.json - len:199\n",
      "40. processing - twtdata/23.json - len:164\n",
      "41. processing - twtdata/43.json - len:162\n",
      "42. processing - twtdata/14.json - len:177\n",
      "43. processing - twtdata/22.json - len:210\n",
      "44. processing - twtdata/47.json - len:180\n",
      "45. processing - twtdata/01.json - len:232\n",
      "46. processing - twtdata/16.json - len:188\n",
      "47. processing - twtdata/40.json - len:202\n",
      "48. processing - twtdata/56.json - len:167\n",
      "49. processing - twtdata/32.json - len:197\n",
      "50. processing - twtdata/49.json - len:188\n",
      "51. processing - twtdata/20.json - len:216\n",
      "52. processing - twtdata/27.json - len:166\n",
      "53. processing - twtdata/04.json - len:204\n",
      "54. processing - twtdata/00.json - len:214\n",
      "55. processing - twtdata/54.json - len:177\n",
      "56. processing - twtdata/06.json - len:162\n",
      "57. processing - twtdata/09.json - len:215\n",
      "58. processing - twtdata/21.json - len:237\n",
      "59. processing - twtdata/55.json - len:172\n",
      "60. processing - twtdata/25.json - len:228\n"
     ]
    }
   ],
   "source": [
    "path = 'twtdata/'\n",
    "counter = 1\n",
    "for filename in glob.glob(os.path.join(path, '*.json')):\n",
    "    tweets_data = []\n",
    "    with open(filename, 'r') as f: \n",
    "        for tw in f:\n",
    "            try:\n",
    "                tweet = json.loads(tw)\n",
    "                if isEnglish(tweet['text']):\n",
    "                    tweets_data.append(tweet)\n",
    "            except:\n",
    "                continue\n",
    "            \n",
    "    tweets = populate_dataframe(tweets_data)\n",
    "    \n",
    "    print(str(counter) + '. processing - ' + filename + ' - len:' + str(len(tweets)))\n",
    "    \n",
    "    tweets.to_csv('processed_data/master_data.csv', mode='a', header=False)\n",
    "    \n",
    "    counter += 1\n",
    "#tweets.head()"
   ]
  },
  {
   "cell_type": "code",
   "execution_count": 25,
   "metadata": {},
   "outputs": [
    {
     "data": {
      "text/html": [
       "<div>\n",
       "<style scoped>\n",
       "    .dataframe tbody tr th:only-of-type {\n",
       "        vertical-align: middle;\n",
       "    }\n",
       "\n",
       "    .dataframe tbody tr th {\n",
       "        vertical-align: top;\n",
       "    }\n",
       "\n",
       "    .dataframe thead th {\n",
       "        text-align: right;\n",
       "    }\n",
       "</style>\n",
       "<table border=\"1\" class=\"dataframe\">\n",
       "  <thead>\n",
       "    <tr style=\"text-align: right;\">\n",
       "      <th></th>\n",
       "      <th>created_at</th>\n",
       "      <th>text</th>\n",
       "      <th>user_followers_count</th>\n",
       "      <th>retweet_count</th>\n",
       "      <th>favorite_count</th>\n",
       "      <th>hashtags</th>\n",
       "    </tr>\n",
       "  </thead>\n",
       "  <tbody>\n",
       "    <tr>\n",
       "      <th>934</th>\n",
       "      <td>2016-12-29</td>\n",
       "      <td>@Vachie Hey there. Let's take a look into it f...</td>\n",
       "      <td>153073</td>\n",
       "      <td>0</td>\n",
       "      <td>0</td>\n",
       "      <td>[]</td>\n",
       "    </tr>\n",
       "    <tr>\n",
       "      <th>945</th>\n",
       "      <td>2016-12-29</td>\n",
       "      <td>@ashbonicole aw have her make me some idc what...</td>\n",
       "      <td>397</td>\n",
       "      <td>0</td>\n",
       "      <td>0</td>\n",
       "      <td>[]</td>\n",
       "    </tr>\n",
       "    <tr>\n",
       "      <th>949</th>\n",
       "      <td>2016-12-29</td>\n",
       "      <td>RT @monikapenelopa2: https://t.co/Bf8DWN8UY4</td>\n",
       "      <td>137</td>\n",
       "      <td>0</td>\n",
       "      <td>0</td>\n",
       "      <td>[]</td>\n",
       "    </tr>\n",
       "    <tr>\n",
       "      <th>950</th>\n",
       "      <td>2016-12-29</td>\n",
       "      <td>RT @Jordan_Fisher: @_mandygonzalez is a goddes...</td>\n",
       "      <td>376</td>\n",
       "      <td>0</td>\n",
       "      <td>0</td>\n",
       "      <td>[]</td>\n",
       "    </tr>\n",
       "    <tr>\n",
       "      <th>951</th>\n",
       "      <td>2016-12-29</td>\n",
       "      <td>RT @pettyyonceh: one of the best rock songs ev...</td>\n",
       "      <td>764</td>\n",
       "      <td>0</td>\n",
       "      <td>0</td>\n",
       "      <td>[]</td>\n",
       "    </tr>\n",
       "  </tbody>\n",
       "</table>\n",
       "</div>"
      ],
      "text/plain": [
       "     created_at                                               text  \\\n",
       "934  2016-12-29  @Vachie Hey there. Let's take a look into it f...   \n",
       "945  2016-12-29  @ashbonicole aw have her make me some idc what...   \n",
       "949  2016-12-29       RT @monikapenelopa2: https://t.co/Bf8DWN8UY4   \n",
       "950  2016-12-29  RT @Jordan_Fisher: @_mandygonzalez is a goddes...   \n",
       "951  2016-12-29  RT @pettyyonceh: one of the best rock songs ev...   \n",
       "\n",
       "    user_followers_count retweet_count favorite_count hashtags  \n",
       "934               153073             0              0       []  \n",
       "945                  397             0              0       []  \n",
       "949                  137             0              0       []  \n",
       "950                  376             0              0       []  \n",
       "951                  764             0              0       []  "
      ]
     },
     "execution_count": 25,
     "metadata": {},
     "output_type": "execute_result"
    }
   ],
   "source": [
    "tweets.tail()"
   ]
  },
  {
   "cell_type": "code",
   "execution_count": 26,
   "metadata": {},
   "outputs": [
    {
     "data": {
      "text/plain": [
       "240"
      ]
     },
     "execution_count": 26,
     "metadata": {},
     "output_type": "execute_result"
    }
   ],
   "source": [
    "len(tweets)"
   ]
  },
  {
   "cell_type": "code",
   "execution_count": 15,
   "metadata": {},
   "outputs": [],
   "source": [
    "#tweets.to_csv('processed_data/master_data.csv')"
   ]
  },
  {
   "cell_type": "code",
   "execution_count": 16,
   "metadata": {},
   "outputs": [],
   "source": [
    "#tweets.drop(tweets[detect(str(tweets.text)) == 'en'].index, inplace=True)"
   ]
  },
  {
   "cell_type": "code",
   "execution_count": 27,
   "metadata": {},
   "outputs": [
    {
     "data": {
      "text/html": [
       "<div>\n",
       "<style scoped>\n",
       "    .dataframe tbody tr th:only-of-type {\n",
       "        vertical-align: middle;\n",
       "    }\n",
       "\n",
       "    .dataframe tbody tr th {\n",
       "        vertical-align: top;\n",
       "    }\n",
       "\n",
       "    .dataframe thead th {\n",
       "        text-align: right;\n",
       "    }\n",
       "</style>\n",
       "<table border=\"1\" class=\"dataframe\">\n",
       "  <thead>\n",
       "    <tr style=\"text-align: right;\">\n",
       "      <th></th>\n",
       "      <th>Unnamed: 0</th>\n",
       "      <th>created_at</th>\n",
       "      <th>text</th>\n",
       "      <th>user_followers_count</th>\n",
       "      <th>retweet_count</th>\n",
       "      <th>favorite_count</th>\n",
       "      <th>hashtags</th>\n",
       "    </tr>\n",
       "  </thead>\n",
       "  <tbody>\n",
       "    <tr>\n",
       "      <th>0</th>\n",
       "      <td>0</td>\n",
       "      <td>2016-12-29</td>\n",
       "      <td>Happy birthday to say you when I see you (here...</td>\n",
       "      <td>36.0</td>\n",
       "      <td>0</td>\n",
       "      <td>0.0</td>\n",
       "      <td>[]</td>\n",
       "    </tr>\n",
       "    <tr>\n",
       "      <th>1</th>\n",
       "      <td>7</td>\n",
       "      <td>2016-12-29</td>\n",
       "      <td>I can smile, and its not. I have people that m...</td>\n",
       "      <td>1376.0</td>\n",
       "      <td>0</td>\n",
       "      <td>0.0</td>\n",
       "      <td>[]</td>\n",
       "    </tr>\n",
       "    <tr>\n",
       "      <th>2</th>\n",
       "      <td>11</td>\n",
       "      <td>2016-12-29</td>\n",
       "      <td>luh HAHAHAHAHAHAHA</td>\n",
       "      <td>124.0</td>\n",
       "      <td>0</td>\n",
       "      <td>0.0</td>\n",
       "      <td>[]</td>\n",
       "    </tr>\n",
       "    <tr>\n",
       "      <th>3</th>\n",
       "      <td>16</td>\n",
       "      <td>2016-12-29</td>\n",
       "      <td>@Baelizean word?</td>\n",
       "      <td>3628.0</td>\n",
       "      <td>0</td>\n",
       "      <td>0.0</td>\n",
       "      <td>[]</td>\n",
       "    </tr>\n",
       "    <tr>\n",
       "      <th>4</th>\n",
       "      <td>17</td>\n",
       "      <td>2016-12-29</td>\n",
       "      <td>GURUS Invoke Lack Of Trust. We Are Here To Pro...</td>\n",
       "      <td>2574.0</td>\n",
       "      <td>0</td>\n",
       "      <td>0.0</td>\n",
       "      <td>[{'text': 'trust', 'indices': [51, 57]}, {'tex...</td>\n",
       "    </tr>\n",
       "  </tbody>\n",
       "</table>\n",
       "</div>"
      ],
      "text/plain": [
       "  Unnamed: 0  created_at                                               text  \\\n",
       "0          0  2016-12-29  Happy birthday to say you when I see you (here...   \n",
       "1          7  2016-12-29  I can smile, and its not. I have people that m...   \n",
       "2         11  2016-12-29                                 luh HAHAHAHAHAHAHA   \n",
       "3         16  2016-12-29                                   @Baelizean word?   \n",
       "4         17  2016-12-29  GURUS Invoke Lack Of Trust. We Are Here To Pro...   \n",
       "\n",
       "   user_followers_count retweet_count  favorite_count  \\\n",
       "0                  36.0             0             0.0   \n",
       "1                1376.0             0             0.0   \n",
       "2                 124.0             0             0.0   \n",
       "3                3628.0             0             0.0   \n",
       "4                2574.0             0             0.0   \n",
       "\n",
       "                                            hashtags  \n",
       "0                                                 []  \n",
       "1                                                 []  \n",
       "2                                                 []  \n",
       "3                                                 []  \n",
       "4  [{'text': 'trust', 'indices': [51, 57]}, {'tex...  "
      ]
     },
     "execution_count": 27,
     "metadata": {},
     "output_type": "execute_result"
    }
   ],
   "source": [
    "#df = pd.read_json('processed_data/master_data.csv')\n",
    "\n",
    "file_path = 'processed_data/master_data.csv'\n",
    "df = pd.read_csv(file_path)\n",
    "df.head()\n"
   ]
  },
  {
   "cell_type": "code",
   "execution_count": 28,
   "metadata": {},
   "outputs": [
    {
     "data": {
      "text/plain": [
       "47428"
      ]
     },
     "execution_count": 28,
     "metadata": {},
     "output_type": "execute_result"
    }
   ],
   "source": [
    "len(df)"
   ]
  },
  {
   "cell_type": "code",
   "execution_count": null,
   "metadata": {},
   "outputs": [],
   "source": []
  }
 ],
 "metadata": {
  "kernelspec": {
   "display_name": "Python 3",
   "language": "python",
   "name": "python3"
  },
  "language_info": {
   "codemirror_mode": {
    "name": "ipython",
    "version": 3
   },
   "file_extension": ".py",
   "mimetype": "text/x-python",
   "name": "python",
   "nbconvert_exporter": "python",
   "pygments_lexer": "ipython3",
   "version": "3.7.3"
  }
 },
 "nbformat": 4,
 "nbformat_minor": 2
}
