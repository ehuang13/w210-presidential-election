{
 "cells": [
  {
   "cell_type": "code",
   "execution_count": 9,
   "metadata": {},
   "outputs": [],
   "source": [
    "import pandas as pd\n",
    "from os.path import join, exists\n",
    "from os import makedirs\n",
    "from pytrends.request import TrendReq"
   ]
  },
  {
   "cell_type": "code",
   "execution_count": 10,
   "metadata": {},
   "outputs": [],
   "source": [
    "pytrend = TrendReq(hl='en-US', tz=360)"
   ]
  },
  {
   "cell_type": "code",
   "execution_count": 11,
   "metadata": {},
   "outputs": [],
   "source": [
    "def get_and_save_trends(start_dt, end_dt, keyword, swing_states, path):\n",
    "    \n",
    "    makedirs(path, exist_ok=True)\n",
    "    \n",
    "    for st in swing_states:\n",
    "        \n",
    "        print('state', st)\n",
    "        print('path', path)\n",
    "        \n",
    "        pytrend.build_payload(\n",
    "             kw_list=keyword,\n",
    "             cat=0,\n",
    "             timeframe= start_dt + ' ' + end_dt,\n",
    "             geo=st,\n",
    "             gprop='')\n",
    "        \n",
    "        data_trend = pytrend.interest_over_time()\n",
    "        #data_trend = data_trend.drop(labels=['isPartial'],axis='columns')\n",
    "    \n",
    "        data_trend.to_csv(join(path, keyword[0] + '_' + st + '_trends.csv'), encoding='utf_8_sig')\n",
    "    \n",
    "        \n",
    "    \n",
    "    #col = df.loc[: , \"headline\":\"scores\"]\n",
    "    #df['score_mean'] = col.mean(axis=1)\n",
    "        \n",
    "    \n",
    "    "
   ]
  },
  {
   "cell_type": "code",
   "execution_count": 9,
   "metadata": {},
   "outputs": [
    {
     "name": "stdout",
     "output_type": "stream",
     "text": [
      "state US-CO\n",
      "path data/candidate/2016\n",
      "state US-FL\n",
      "path data/candidate/2016\n",
      "state US-IA\n",
      "path data/candidate/2016\n",
      "state US-MI\n",
      "path data/candidate/2016\n",
      "state US-MS\n",
      "path data/candidate/2016\n",
      "state US-NV\n",
      "path data/candidate/2016\n",
      "state US-NH\n",
      "path data/candidate/2016\n",
      "state US-OH\n",
      "path data/candidate/2016\n",
      "state US-NC\n",
      "path data/candidate/2016\n",
      "state US-PA\n",
      "path data/candidate/2016\n",
      "state US-VA\n",
      "path data/candidate/2016\n",
      "state US-WI\n",
      "path data/candidate/2016\n",
      "state US-CO\n",
      "path data/candidate/2016\n",
      "state US-FL\n",
      "path data/candidate/2016\n",
      "state US-IA\n",
      "path data/candidate/2016\n",
      "state US-MI\n",
      "path data/candidate/2016\n",
      "state US-MS\n",
      "path data/candidate/2016\n",
      "state US-NV\n",
      "path data/candidate/2016\n",
      "state US-NH\n",
      "path data/candidate/2016\n",
      "state US-OH\n",
      "path data/candidate/2016\n",
      "state US-NC\n",
      "path data/candidate/2016\n",
      "state US-PA\n",
      "path data/candidate/2016\n",
      "state US-VA\n",
      "path data/candidate/2016\n",
      "state US-WI\n",
      "path data/candidate/2016\n"
     ]
    }
   ],
   "source": [
    "get_and_save_trends('2016-08-07', '2016-11-08', ['vote trump'], \n",
    "                    ['US', 'US-CO', 'US-FL', 'US-IA', 'US-MI', 'US-MS', 'US-NV', 'US-NH', 'US-OH', 'US-NC', 'US-PA', 'US-VA', 'US-WI'], \n",
    "                    join('data', 'candidate', '2016', 'trump')) \n",
    "get_and_save_trends('2016-08-07', '2016-11-08', ['vote hillary'], \n",
    "                    ['US', 'US-CO', 'US-FL', 'US-IA', 'US-MI', 'US-MS', 'US-NV', 'US-NH', 'US-OH', 'US-NC', 'US-PA', 'US-VA', 'US-WI'],\n",
    "                    join('data', 'candidate', '2016', 'hillary')) "
   ]
  },
  {
   "cell_type": "code",
   "execution_count": 13,
   "metadata": {},
   "outputs": [
    {
     "name": "stdout",
     "output_type": "stream",
     "text": [
      "state US\n",
      "path data/candidate/2012/obama\n",
      "state US\n",
      "path data/candidate/2012/romney\n"
     ]
    }
   ],
   "source": [
    "sws_12 = ['US', 'US-CO', 'US-FL', 'US-IA', 'US-NV', 'US-NC', 'US-OH', 'US-VA', 'US-WI', 'US-PA', 'US-MI', 'US-MN', 'US-NM']\n",
    "\n",
    "get_and_save_trends('2012-08-06', '2012-11-06', ['vote obama'], sws_12, \n",
    "                    join('data', 'candidate', '2012', 'obama'))\n",
    "get_and_save_trends('2012-08-06', '2012-11-06', ['vote romney'], sws_12, \n",
    "                    join('data', 'candidate', '2012', 'romney'))"
   ]
  },
  {
   "cell_type": "code",
   "execution_count": 4,
   "metadata": {},
   "outputs": [
    {
     "name": "stdout",
     "output_type": "stream",
     "text": [
      "state US-PA\n",
      "path data/candidate/2020/biden\n",
      "state US-FL\n",
      "path data/candidate/2020/biden\n",
      "state US-OH\n",
      "path data/candidate/2020/biden\n",
      "state US-VA\n",
      "path data/candidate/2020/biden\n",
      "state US-AZ\n",
      "path data/candidate/2020/biden\n",
      "state US-WI\n",
      "path data/candidate/2020/biden\n",
      "state US-NV\n",
      "path data/candidate/2020/biden\n",
      "state US-ME\n",
      "path data/candidate/2020/biden\n",
      "state US-MI\n",
      "path data/candidate/2020/biden\n",
      "state US-IA\n",
      "path data/candidate/2020/biden\n",
      "state US-PA\n",
      "path data/candidate/2020/trump\n",
      "state US-FL\n",
      "path data/candidate/2020/trump\n",
      "state US-OH\n",
      "path data/candidate/2020/trump\n",
      "state US-VA\n",
      "path data/candidate/2020/trump\n",
      "state US-AZ\n",
      "path data/candidate/2020/trump\n",
      "state US-WI\n",
      "path data/candidate/2020/trump\n",
      "state US-NV\n",
      "path data/candidate/2020/trump\n",
      "state US-ME\n",
      "path data/candidate/2020/trump\n",
      "state US-MI\n",
      "path data/candidate/2020/trump\n",
      "state US-IA\n",
      "path data/candidate/2020/trump\n"
     ]
    }
   ],
   "source": [
    "get_and_save_trends('2020-04-11', '2020-07-11', ['vote biden'], \n",
    "                    ['US', 'US-PA', 'US-FL', 'US-OH', 'US-VA', 'US-AZ', 'US-WI', 'US-NV', 'US-ME', 'US-MI', 'US-IA'],\n",
    "                    join('data', 'candidate', '2020', 'biden'))\n",
    "get_and_save_trends('2020-04-11', '2020-07-11', ['vote trump'], \n",
    "                    ['US', 'US-PA', 'US-FL', 'US-OH', 'US-VA', 'US-AZ', 'US-WI', 'US-NV', 'US-ME', 'US-MI', 'US-IA'],\n",
    "                    join('data', 'candidate', '2020', 'trump'))"
   ]
  },
  {
   "cell_type": "code",
   "execution_count": 15,
   "metadata": {},
   "outputs": [
    {
     "name": "stdout",
     "output_type": "stream",
     "text": [
      "state US\n",
      "path data/party/trump\n",
      "state US\n",
      "path data/party/trump\n",
      "state US\n",
      "path data/immigration/trump\n",
      "state US\n",
      "path data/immigration/trump\n",
      "state US\n",
      "path data/economy/trump\n",
      "state US\n",
      "path data/economy/trump\n",
      "state US\n",
      "path data/environment/trump\n",
      "state US\n",
      "path data/environment/trump\n",
      "state US\n",
      "path data/health/trump\n",
      "state US\n",
      "path data/health/trump\n",
      "state US\n",
      "path data/job/trump\n",
      "state US\n",
      "path data/job/trump\n",
      "state US\n",
      "path data/covid/trump\n",
      "state US\n",
      "path data/covid/trump\n",
      "state US\n",
      "path data/party/biden\n",
      "state US\n",
      "path data/party/biden\n",
      "state US\n",
      "path data/immigration/biden\n",
      "state US\n",
      "path data/immigration/biden\n",
      "state US\n",
      "path data/economy/biden\n",
      "state US\n",
      "path data/economy/biden\n",
      "state US\n",
      "path data/environment/biden\n",
      "state US\n",
      "path data/environment/biden\n",
      "state US\n",
      "path data/health/biden\n",
      "state US\n",
      "path data/health/biden\n",
      "state US\n",
      "path data/job/biden\n",
      "state US\n",
      "path data/job/biden\n",
      "state US\n",
      "path data/covid/biden\n",
      "state US\n",
      "path data/covid/biden\n"
     ]
    }
   ],
   "source": [
    "trump_topics = ['trump republican party', 'trump immigration', 'trump economy', \\\n",
    "          'trump environment', 'trump health', 'trump job', 'trump covid']\n",
    "\n",
    "biden_topics = ['biden democrat party', 'biden immigration', 'biden economy', \\\n",
    "          'biden environment', 'biden health', 'biden job', 'biden covid']\n",
    "\n",
    "cand_t = [trump_topics, biden_topics]\n",
    "sws_20 = ['US', 'US-PA', 'US-FL', 'US-OH', 'US-VA', 'US-AZ', 'US-WI', 'US-NV', 'US-ME', 'US-MI', 'US-IA']\n",
    "\n",
    "for ct in cand_t:\n",
    "    for tt in ct:\n",
    "        topic_str = tt.split(' ')\n",
    "        topic = topic_str[len(tt.split(' ')) - 1]\n",
    "        cand = topic_str[0]\n",
    "        \n",
    "        get_and_save_trends('2020-05-27', '2020-07-11', [tt], \n",
    "                            sws_20,\n",
    "                            join('data', topic, cand))\n",
    "        get_and_save_trends('2020-05-27', '2020-07-11', [tt], \n",
    "                            sws_20,\n",
    "                            join('data', topic, cand))"
   ]
  },
  {
   "cell_type": "code",
   "execution_count": null,
   "metadata": {},
   "outputs": [],
   "source": []
  },
  {
   "cell_type": "code",
   "execution_count": null,
   "metadata": {},
   "outputs": [],
   "source": []
  },
  {
   "cell_type": "code",
   "execution_count": null,
   "metadata": {},
   "outputs": [],
   "source": []
  },
  {
   "cell_type": "code",
   "execution_count": null,
   "metadata": {},
   "outputs": [],
   "source": []
  },
  {
   "cell_type": "code",
   "execution_count": null,
   "metadata": {},
   "outputs": [],
   "source": []
  },
  {
   "cell_type": "code",
   "execution_count": null,
   "metadata": {},
   "outputs": [],
   "source": []
  },
  {
   "cell_type": "code",
   "execution_count": null,
   "metadata": {},
   "outputs": [],
   "source": []
  },
  {
   "cell_type": "code",
   "execution_count": 9,
   "metadata": {},
   "outputs": [],
   "source": [
    "\n",
    "#keywords = ['obama', 'romney']\n",
    "#keywords = ['hillary', 'trump']\n",
    "#pytrend.build_payload(\n",
    "#     kw_list=keywords,\n",
    "#     cat=0,\n",
    "#     timeframe='2016-08-14 2016-11-07',\n",
    "#     geo='US',\n",
    "#     gprop='')\n",
    "#data = pytrend.interest_over_time()\n",
    "#data= data.drop(labels=['isPartial'],axis='columns')\n",
    "#print(data)\n",
    "#image = data.plot(title = 'Python V.S. R in last 3 months on Google Trends ')\n",
    "#fig = image.get_figure()\n",
    "#fig.savefig('figure.png')\n",
    "#data.to_csv('Py_VS_R.csv', encoding='utf_8_sig')"
   ]
  },
  {
   "cell_type": "code",
   "execution_count": null,
   "metadata": {},
   "outputs": [],
   "source": []
  }
 ],
 "metadata": {
  "kernelspec": {
   "display_name": "Python 3",
   "language": "python",
   "name": "python3"
  },
  "language_info": {
   "codemirror_mode": {
    "name": "ipython",
    "version": 3
   },
   "file_extension": ".py",
   "mimetype": "text/x-python",
   "name": "python",
   "nbconvert_exporter": "python",
   "pygments_lexer": "ipython3",
   "version": "3.7.3"
  }
 },
 "nbformat": 4,
 "nbformat_minor": 4
}
