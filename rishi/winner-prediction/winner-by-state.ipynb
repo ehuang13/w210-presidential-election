{
 "cells": [
  {
   "cell_type": "code",
   "execution_count": 1,
   "metadata": {},
   "outputs": [],
   "source": [
    "import pandas as pd"
   ]
  },
  {
   "cell_type": "code",
   "execution_count": 21,
   "metadata": {},
   "outputs": [],
   "source": [
    "df = pd.read_csv('data/predictions_vs_actuals_2012.csv', index_col=0)"
   ]
  },
  {
   "cell_type": "code",
   "execution_count": 24,
   "metadata": {},
   "outputs": [
    {
     "name": "stdout",
     "output_type": "stream",
     "text": [
      "   YEAR_FIPS  STATE_FIPS_x  COUNTY_FIPS_y  PRED_WINNING_PARTY_BINARY  \\\n",
      "0   20121001             1              1                          1   \n",
      "1   20121003             1              3                          1   \n",
      "2   20121005             1              5                          1   \n",
      "3   20121007             1              7                          1   \n",
      "4   20121009             1              9                          1   \n",
      "\n",
      "   WINNING_PARTY_BINARY  PRED_COUNTY_TOTALVOTES  COUNTY_TOTALVOTES  \n",
      "0                     1                   23353            23932.0  \n",
      "1                     1                   91026            85338.0  \n",
      "2                     0                   12718            11509.0  \n",
      "3                     1                    6986             8420.0  \n",
      "4                     1                   24475            24006.0  \n",
      "3152\n"
     ]
    }
   ],
   "source": [
    "print(df.head())\n",
    "print(len(df))"
   ]
  },
  {
   "cell_type": "code",
   "execution_count": null,
   "metadata": {},
   "outputs": [],
   "source": []
  },
  {
   "cell_type": "code",
   "execution_count": 25,
   "metadata": {},
   "outputs": [],
   "source": [
    "df = pd.read_csv('data/state_aggregated_0723.csv')"
   ]
  },
  {
   "cell_type": "code",
   "execution_count": 26,
   "metadata": {},
   "outputs": [
    {
     "name": "stdout",
     "output_type": "stream",
     "text": [
      "   YEAR  STATE_FIPS       STATE TOTAL_DEM_VOTES TOTAL_REP_VOTES  TOTAL_VOTES  \\\n",
      "0  2012           1     Alabama        795,696       1,255,925    2,051,621    \n",
      "1  2012           2      Alaska        142,458         192,750      335,208    \n",
      "2  2012           4     Arizona      1,025,232       1,233,654    2,258,886    \n",
      "3  2012           5    Arkansas        394,409         647,744    1,042,153    \n",
      "4  2012           6  California      7,854,285       4,839,958   12,694,243    \n",
      "\n",
      "   MARGIN_VICTORY  ABS_MARGIN_VICTORY  WINNING_PARTY  ELECTORAL_VOTES  \\\n",
      "0        0.224325            0.224325              1                9   \n",
      "1        0.150032            0.150032              1                3   \n",
      "2        0.092268            0.092268              1               11   \n",
      "3        0.243088            0.243088              1                6   \n",
      "4       -0.237456            0.237456              0               55   \n",
      "\n",
      "  TOP_TOPIC  \n",
      "0   Economy  \n",
      "1   Economy  \n",
      "2   Economy  \n",
      "3   Economy  \n",
      "4   Economy  \n",
      "313\n"
     ]
    }
   ],
   "source": [
    "print(df.head())\n",
    "print(len(df))"
   ]
  },
  {
   "cell_type": "code",
   "execution_count": null,
   "metadata": {},
   "outputs": [],
   "source": []
  }
 ],
 "metadata": {
  "kernelspec": {
   "display_name": "Python 3",
   "language": "python",
   "name": "python3"
  },
  "language_info": {
   "codemirror_mode": {
    "name": "ipython",
    "version": 3
   },
   "file_extension": ".py",
   "mimetype": "text/x-python",
   "name": "python",
   "nbconvert_exporter": "python",
   "pygments_lexer": "ipython3",
   "version": "3.7.4"
  }
 },
 "nbformat": 4,
 "nbformat_minor": 2
}
