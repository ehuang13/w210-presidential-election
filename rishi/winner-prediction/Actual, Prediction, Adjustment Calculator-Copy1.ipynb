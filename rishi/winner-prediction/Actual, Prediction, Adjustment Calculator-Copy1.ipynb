{
 "cells": [
  {
   "cell_type": "code",
   "execution_count": 6,
   "metadata": {},
   "outputs": [],
   "source": [
    "import pandas as pd"
   ]
  },
  {
   "cell_type": "code",
   "execution_count": 30,
   "metadata": {},
   "outputs": [],
   "source": [
    "df = pd.read_csv('../../data/predictions_vs_adjusted_2016.csv')\n",
    "electoral_df = pd.read_csv('../../data/states-fips-electoral.csv')"
   ]
  },
  {
   "cell_type": "code",
   "execution_count": 52,
   "metadata": {},
   "outputs": [],
   "source": [
    "\"\"\" calculate electoral votes and some before vs after stats\"\"\"\n",
    "def print_summary(df):\n",
    "    d_states_actual_count = 0\n",
    "    d_states_predicted_count = 0\n",
    "    d_states_adjusted_count = 0\n",
    "\n",
    "    r_states_actual_count = 0\n",
    "    r_states_predicted_count = 0\n",
    "    r_states_adjusted_count = 0\n",
    "    \n",
    "    d_elect_actual_count = 0\n",
    "    d_elect_predicted_count = 0\n",
    "    d_elect_adjusted_count = 0\n",
    "\n",
    "    r_elect_actual_count = 0\n",
    "    r_elect_predicted_count = 0\n",
    "    r_elect_adjusted_count = 0\n",
    "    \n",
    "    for index, row in df.iterrows():\n",
    "        state_fips = row['STATE_FIPS']\n",
    "        winner_predictions = row['PRED_WINNING_PARTY']\n",
    "        winner_actual = row['WINNING_PARTY']\n",
    "        winner_adjusted = row['ADJUSTED_WINNING_PARTY']\n",
    "        \n",
    "        electoral_votes = electoral_df.loc[electoral_df['STATE_FIPS'] == state_fips]['COUNT'].values[0]\n",
    "        \n",
    "        #predictions\n",
    "        if winner_predictions == 0:\n",
    "            d_states_predicted_count += 1\n",
    "            d_elect_predicted_count += electoral_votes\n",
    "        elif winner_predictions == 1:\n",
    "            r_states_predicted_count += 1\n",
    "            r_elect_predicted_count += electoral_votes\n",
    "        \n",
    "        #actuals\n",
    "        if winner_actual == 0:\n",
    "            d_states_actual_count += 1\n",
    "            d_elect_actual_count += electoral_votes\n",
    "        elif winner_actual == 1:\n",
    "            r_states_actual_count += 1\n",
    "            r_elect_actual_count += electoral_votes\n",
    "        \n",
    "        #adjustments\n",
    "        if winner_adjusted == 0:\n",
    "            d_states_adjusted_count += 1\n",
    "            d_elect_adjusted_count += electoral_votes\n",
    "        elif winner_adjusted == 1:\n",
    "            r_states_adjusted_count += 1\n",
    "            r_elect_adjusted_count += electoral_votes\n",
    "            \n",
    "    print('Dem States Count: ACTUAL {}      PREDICTION: {}      ADJUSTMENT: {}'.format(d_states_actual_count, d_states_predicted_count, d_states_adjusted_count))\n",
    "    print('Rep States Count: ACTUAL {}      PREDICTION: {}      ADJUSTMENT: {}'.format(r_states_actual_count, r_states_predicted_count, r_states_adjusted_count))\n",
    "    print()\n",
    "    print('Dem States Electoral: ACTUAL {}      PREDICTION: {}      ADJUSTMENT: {}'.format(d_elect_actual_count, d_elect_predicted_count, d_elect_adjusted_count))\n",
    "    print('Rep States Electoral: ACTUAL {}      PREDICTION: {}      ADJUSTMENT: {}'.format(r_elect_actual_count, r_elect_predicted_count, r_elect_adjusted_count))"
   ]
  },
  {
   "cell_type": "code",
   "execution_count": 53,
   "metadata": {},
   "outputs": [
    {
     "name": "stdout",
     "output_type": "stream",
     "text": [
      "Dem States Count: ACTUAL 21      PREDICTION: 28      ADJUSTMENT: 26\n",
      "Rep States Count: ACTUAL 30      PREDICTION: 23      ADJUSTMENT: 25\n",
      "\n",
      "Dem States Electoral: ACTUAL 233      PREDICTION: 383      ADJUSTMENT: 324\n",
      "Rep States Electoral: ACTUAL 305      PREDICTION: 155      ADJUSTMENT: 214\n"
     ]
    }
   ],
   "source": [
    "print_summary(df)"
   ]
  },
  {
   "cell_type": "code",
   "execution_count": null,
   "metadata": {},
   "outputs": [],
   "source": []
  }
 ],
 "metadata": {
  "kernelspec": {
   "display_name": "Python 3",
   "language": "python",
   "name": "python3"
  },
  "language_info": {
   "codemirror_mode": {
    "name": "ipython",
    "version": 3
   },
   "file_extension": ".py",
   "mimetype": "text/x-python",
   "name": "python",
   "nbconvert_exporter": "python",
   "pygments_lexer": "ipython3",
   "version": "3.7.4"
  }
 },
 "nbformat": 4,
 "nbformat_minor": 2
}
