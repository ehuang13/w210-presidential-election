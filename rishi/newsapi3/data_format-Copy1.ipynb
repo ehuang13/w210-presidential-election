{
 "cells": [
  {
   "cell_type": "code",
   "execution_count": 1,
   "metadata": {},
   "outputs": [],
   "source": [
    "import pandas as pd\n",
    "import os\n",
    "from os.path import join, exists"
   ]
  },
  {
   "cell_type": "code",
   "execution_count": 3,
   "metadata": {},
   "outputs": [],
   "source": [
    "def get_mean_scores_by_date(df):\n",
    "    df['date'] = df['date'].dt.date\n",
    "    df2 = df.groupby('date')['scores'].mean().to_frame().reset_index()\n",
    "    return df2"
   ]
  },
  {
   "cell_type": "code",
   "execution_count": 4,
   "metadata": {},
   "outputs": [],
   "source": [
    "def get_plot_data(df):\n",
    "    df = get_mean_scores_by_date(df)\n",
    "    \n",
    "    return df[['date', 'scores']]"
   ]
  },
  {
   "cell_type": "code",
   "execution_count": 11,
   "metadata": {},
   "outputs": [],
   "source": [
    "def format_data_and_save(path):\n",
    "    src_path = join('data2', 'sentiment', path)\n",
    "    target_path = join('twtsentdata', path)\n",
    "    \n",
    "    df = pd.read_csv(src_path)\n",
    "    \n",
    "    df = get_plot_data(df)\n",
    "    \n",
    "    df.to_csv(target_path, index=False)\n",
    "    "
   ]
  },
  {
   "cell_type": "code",
   "execution_count": 12,
   "metadata": {},
   "outputs": [],
   "source": [
    "format_data_and_save(join('candidates', 'cnn', 'trump')'candidate/2020/trump/2020_trump.csv')\n",
    "format_data_and_save('candidate/2020/biden/2020_biden.csv')"
   ]
  },
  {
   "cell_type": "code",
   "execution_count": 13,
   "metadata": {},
   "outputs": [],
   "source": [
    "format_data_and_save('candidate/2016/trump/2016_trump.csv')\n",
    "format_data_and_save('candidate/2016/hillary/2016_hillary.csv')\n",
    "\n",
    "format_data_and_save('candidate/2012/obama/2012_obama.csv')\n",
    "format_data_and_save('candidate/2012/romney/2012_romney.csv')\n"
   ]
  },
  {
   "cell_type": "code",
   "execution_count": 14,
   "metadata": {},
   "outputs": [],
   "source": [
    "format_data_and_save('economy/trump/2020_trump_economy.csv')\n",
    "format_data_and_save('economy/biden/2020_biden_economy.csv')\n",
    "\n",
    "format_data_and_save('party/trump/2020_trump_republican.csv')\n",
    "format_data_and_save('party/biden/2020_biden_democrat.csv')\n",
    "\n",
    "format_data_and_save('environment/trump/2020_trump_environment.csv')\n",
    "format_data_and_save('environment/biden/2020_biden_environment.csv')\n"
   ]
  },
  {
   "cell_type": "code",
   "execution_count": 15,
   "metadata": {},
   "outputs": [],
   "source": [
    "format_data_and_save('health/trump/2020_trump_health.csv')\n",
    "format_data_and_save('health/biden/2020_biden_health.csv')\n",
    "\n",
    "format_data_and_save('immigration/trump/2020_trump_immigration.csv')\n",
    "format_data_and_save('immigration/biden/2020_biden_immigration.csv')\n",
    "\n",
    "format_data_and_save('job/trump/2020_trump_job.csv')\n",
    "format_data_and_save('job/biden/2020_biden_job.csv')"
   ]
  },
  {
   "cell_type": "code",
   "execution_count": null,
   "metadata": {},
   "outputs": [],
   "source": []
  }
 ],
 "metadata": {
  "kernelspec": {
   "display_name": "Python 3",
   "language": "python",
   "name": "python3"
  },
  "language_info": {
   "codemirror_mode": {
    "name": "ipython",
    "version": 3
   },
   "file_extension": ".py",
   "mimetype": "text/x-python",
   "name": "python",
   "nbconvert_exporter": "python",
   "pygments_lexer": "ipython3",
   "version": "3.7.3"
  }
 },
 "nbformat": 4,
 "nbformat_minor": 4
}
