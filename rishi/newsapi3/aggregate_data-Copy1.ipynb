{
 "cells": [
  {
   "cell_type": "code",
   "execution_count": 1,
   "metadata": {},
   "outputs": [
    {
     "name": "stderr",
     "output_type": "stream",
     "text": [
      "[nltk_data] Downloading package stopwords to /home/rmh/nltk_data...\n",
      "[nltk_data]   Package stopwords is already up-to-date!\n"
     ]
    },
    {
     "data": {
      "text/plain": [
       "True"
      ]
     },
     "execution_count": 1,
     "metadata": {},
     "output_type": "execute_result"
    }
   ],
   "source": [
    "import json\n",
    "import os\n",
    "import glob\n",
    "import re\n",
    "import pandas as pd\n",
    "from os import makedirs\n",
    "from os.path import join, exists\n",
    "from pathlib import Path\n",
    "from datetime import datetime, date, timedelta\n",
    "from pathlib import Path\n",
    "from pycorenlp import StanfordCoreNLP\n",
    "import nltk\n",
    "from nltk.tokenize import sent_tokenize, word_tokenize\n",
    "from nltk.corpus import stopwords\n",
    "\n",
    "\n",
    "nltk.download('stopwords')"
   ]
  },
  {
   "cell_type": "code",
   "execution_count": 2,
   "metadata": {},
   "outputs": [],
   "source": [
    "nlp = StanfordCoreNLP('http://localhost:9000')"
   ]
  },
  {
   "cell_type": "code",
   "execution_count": 3,
   "metadata": {},
   "outputs": [],
   "source": [
    "def get_sentiment(text):\n",
    "    res = nlp.annotate(text,\n",
    "                       properties={'annotators': 'sentiment',\n",
    "                                   'outputFormat': 'json',\n",
    "                                   'timeout': 1000,\n",
    "                       })\n",
    "    \n",
    "    try:\n",
    "        if len(res['sentences']) == 0:\n",
    "            return -1\n",
    "        else:\n",
    "            return res['sentences'][0]['sentimentValue']\n",
    "    except:\n",
    "        return False\n",
    "    else:\n",
    "        return 2 #neutral sentiment"
   ]
  },
  {
   "cell_type": "code",
   "execution_count": 10,
   "metadata": {},
   "outputs": [],
   "source": [
    "def get_and_save_election_data(src_path, target_path, start_date, end_date):\n",
    "\n",
    "    data = []\n",
    "    dayrange = range((end_date - start_date).days + 1)\n",
    "    \n",
    "    for daycount in dayrange:\n",
    "        dt = start_date + timedelta(days=daycount)\n",
    "        datestr = dt.strftime('%Y-%m-%d')\n",
    "        fname = join(src_path, datestr + '.json')\n",
    "        \n",
    "        if Path(fname).is_file():\n",
    "\n",
    "            with open(fname) as f:\n",
    "                for hd in json.load(f):\n",
    "                    score = -1\n",
    "                    if hd != None:\n",
    "                        score = int(get_sentiment(hd.lower()))\n",
    "                    \n",
    "                    #if score == -1:\n",
    "                    #    score = 2\n",
    "\n",
    "                    data.append({'date': datestr, 'score': score})\n",
    "        else:\n",
    "            data.append({'date': datestr, 'score': -1})\n",
    "\n",
    "    os.makedirs(target_path, exist_ok=True)\n",
    "    \n",
    "    df = pd.DataFrame(data, columns=['date', 'score'])\n",
    "    \n",
    "    mean_score = df['score'].mean(skipna=True)\n",
    "    df['score']=df.score.mask(df.score == -1,mean_score)\n",
    "    \n",
    "    df2 = df.groupby('date')['score'].mean().to_frame().reset_index()\n",
    "    \n",
    "    df2.to_csv(join(target_path, 'headlines.csv'), index=False)"
   ]
  },
  {
   "cell_type": "code",
   "execution_count": null,
   "metadata": {},
   "outputs": [],
   "source": [
    "\n",
    "                  "
   ]
  },
  {
   "cell_type": "code",
   "execution_count": 11,
   "metadata": {},
   "outputs": [],
   "source": [
    "def agg_all(source):\n",
    "    start_dt = datetime.today() - timedelta(days=30)\n",
    "    end_dt = datetime.today() - timedelta(days=1)\n",
    "    \n",
    "    print('cand')\n",
    "    \n",
    "    get_and_save_election_data(join('data2','candidates', source,'trump'), \n",
    "                             join('data3','candidates', source, 'trump'), \n",
    "                             start_dt, end_dt)\n",
    "    \n",
    "    get_and_save_election_data(join('data2','candidates', source,'biden'), \n",
    "                             join('data3','candidates', source, 'biden'), \n",
    "                             start_dt, end_dt)\n",
    "    \n",
    "    print('econ')\n",
    "    \n",
    "    get_and_save_election_data(join('data2','economy',source,'trump'), \n",
    "                             join('data3','economy', source, 'trump'), \n",
    "                             start_dt, end_dt)\n",
    "    \n",
    "    get_and_save_election_data(join('data2','economy',source,'biden'), \n",
    "                             join('data3','economy',source,'biden'), \n",
    "                             start_dt, end_dt)\n",
    "    \n",
    "    print('env')\n",
    "    \n",
    "    get_and_save_election_data(join('data2','environment',source,'trump'), \n",
    "                             join('data3','environment',source,'trump'), \n",
    "                             start_dt, end_dt)\n",
    "    \n",
    "    get_and_save_election_data(join('data2','environment',source,'biden'), \n",
    "                             join('data3','environment',source,'biden'), \n",
    "                             start_dt, end_dt)\n",
    "    \n",
    "    print('party')\n",
    "    \n",
    "    get_and_save_election_data(join('data2','party',source,'trump'), \n",
    "                             join('data3','party',source,'trump'), \n",
    "                             start_dt, end_dt)\n",
    "    \n",
    "    get_and_save_election_data(join('data2','party',source,'biden'), \n",
    "                             join('data3','party',source,'biden'), \n",
    "                             start_dt, end_dt)\n",
    "    \n",
    "    print('health')\n",
    "    \n",
    "    get_and_save_election_data(join('data2','health',source,'trump'), \n",
    "                             join('data3','health',source,'trump'), \n",
    "                             start_dt, end_dt)\n",
    "    \n",
    "    get_and_save_election_data(join('data2','health',source,'biden'), \n",
    "                             join('data3','health',source,'biden'), \n",
    "                             start_dt, end_dt)\n",
    "    \n",
    "    print('imm')\n",
    "    \n",
    "    get_and_save_election_data(join('data2','immigration',source,'trump'), \n",
    "                             join('data3','immigration',source,'trump'), \n",
    "                             start_dt, end_dt)\n",
    "    \n",
    "    get_and_save_election_data(join('data2','immigration',source,'biden'), \n",
    "                             join('data3','immigration',source,'biden'), \n",
    "                             start_dt, end_dt)\n",
    "    \n",
    "    print('job')\n",
    "    \n",
    "    get_and_save_election_data(join('data2','job',source,'trump'), \n",
    "                             join('data3','job',source,'trump'), \n",
    "                             start_dt, end_dt)\n",
    "    \n",
    "    get_and_save_election_data(join('data2','job',source,'biden'), \n",
    "                             join('data3','job',source,'biden'), \n",
    "                             start_dt, end_dt)"
   ]
  },
  {
   "cell_type": "code",
   "execution_count": 12,
   "metadata": {},
   "outputs": [
    {
     "name": "stdout",
     "output_type": "stream",
     "text": [
      "cand\n",
      "econ\n",
      "env\n",
      "party\n",
      "health\n",
      "imm\n",
      "job\n"
     ]
    }
   ],
   "source": [
    "agg_all('cnn')"
   ]
  },
  {
   "cell_type": "code",
   "execution_count": 13,
   "metadata": {},
   "outputs": [
    {
     "name": "stdout",
     "output_type": "stream",
     "text": [
      "cand\n",
      "econ\n",
      "env\n",
      "party\n",
      "health\n",
      "imm\n",
      "job\n"
     ]
    }
   ],
   "source": [
    "agg_all('fox-news')"
   ]
  },
  {
   "cell_type": "code",
   "execution_count": 5,
   "metadata": {},
   "outputs": [],
   "source": [
    "#combine_and_save_tweet_files(join('data2','raw','candidate','2016','trump'), \n",
    "#                             join('data2','agg','candidate','2016'), \n",
    "#                             date(2016, 10, 8), date(2016, 11, 7), '2016', 'trump')"
   ]
  },
  {
   "cell_type": "code",
   "execution_count": 7,
   "metadata": {},
   "outputs": [],
   "source": [
    "#combine_and_save_tweet_files(join('data2','raw','candidate','2016','hillary'), \n",
    "#                             join('data2','agg','candidate','2016'), \n",
    "#                             date(2016, 10, 8), date(2016, 11, 7), '2016', 'hillary')"
   ]
  },
  {
   "cell_type": "code",
   "execution_count": 9,
   "metadata": {},
   "outputs": [],
   "source": [
    "#combine_and_save_tweet_files(join('data2','raw','candidate','2012','obama'), \n",
    "#                             join('data2','agg','candidate','2012','obama'), \n",
    "#                             date(2012, 10, 20), date(2012, 11, 4), '2012', 'obama')"
   ]
  },
  {
   "cell_type": "code",
   "execution_count": 11,
   "metadata": {},
   "outputs": [],
   "source": [
    "#combine_and_save_tweet_files(join('data2','raw','candidate','2012','romney'), \n",
    "#                             join('data2','agg','candidate','2012', 'romney'), \n",
    "#                             date(2012, 10, 20), date(2012, 11, 4), '2012', 'romney')"
   ]
  }
 ],
 "metadata": {
  "kernelspec": {
   "display_name": "Python 3",
   "language": "python",
   "name": "python3"
  },
  "language_info": {
   "codemirror_mode": {
    "name": "ipython",
    "version": 3
   },
   "file_extension": ".py",
   "mimetype": "text/x-python",
   "name": "python",
   "nbconvert_exporter": "python",
   "pygments_lexer": "ipython3",
   "version": "3.7.3"
  }
 },
 "nbformat": 4,
 "nbformat_minor": 2
}
