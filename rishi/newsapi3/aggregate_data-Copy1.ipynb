{
 "cells": [
  {
   "cell_type": "code",
   "execution_count": 1,
   "metadata": {},
   "outputs": [
    {
     "name": "stderr",
     "output_type": "stream",
     "text": [
      "[nltk_data] Downloading package stopwords to /home/rmh/nltk_data...\n",
      "[nltk_data]   Package stopwords is already up-to-date!\n"
     ]
    },
    {
     "data": {
      "text/plain": [
       "True"
      ]
     },
     "execution_count": 1,
     "metadata": {},
     "output_type": "execute_result"
    }
   ],
   "source": [
    "import json\n",
    "import os\n",
    "import glob\n",
    "import re\n",
    "import pandas as pd\n",
    "from os import makedirs\n",
    "from os.path import join, exists\n",
    "from pathlib import Path\n",
    "from datetime import datetime, date, timedelta\n",
    "from pathlib import Path\n",
    "from pycorenlp import StanfordCoreNLP\n",
    "import nltk\n",
    "from nltk.tokenize import sent_tokenize, word_tokenize\n",
    "from nltk.corpus import stopwords\n",
    "\n",
    "\n",
    "nltk.download('stopwords')"
   ]
  },
  {
   "cell_type": "code",
   "execution_count": 2,
   "metadata": {},
   "outputs": [],
   "source": [
    "nlp = StanfordCoreNLP('http://localhost:9000')"
   ]
  },
  {
   "cell_type": "code",
   "execution_count": 3,
   "metadata": {},
   "outputs": [],
   "source": [
    "def get_sentiment(text):\n",
    "    res = nlp.annotate(text,\n",
    "                       properties={'annotators': 'sentiment',\n",
    "                                   'outputFormat': 'json',\n",
    "                                   'timeout': 1000,\n",
    "                       })\n",
    "    \n",
    "    try:\n",
    "        if len(res['sentences']) == 0:\n",
    "            return -1\n",
    "        else:\n",
    "            return res['sentences'][0]['sentimentValue']\n",
    "    except:\n",
    "        return False\n",
    "    else:\n",
    "        return 2 #neutral sentiment"
   ]
  },
  {
   "cell_type": "code",
   "execution_count": 15,
   "metadata": {},
   "outputs": [],
   "source": [
    "def get_and_save_election_data(src_path, target_path, start_date, end_date):\n",
    "\n",
    "    data = []\n",
    "    dayrange = range((end_date - start_date).days + 1)\n",
    "    \n",
    "    for daycount in dayrange:\n",
    "        dt = start_date + timedelta(days=daycount)\n",
    "        datestr = dt.strftime('%Y-%m-%d')\n",
    "        fname = join(src_path, datestr + '.json')\n",
    "        \n",
    "        if Path(fname).is_file():\n",
    "\n",
    "            with open(fname) as f:\n",
    "                for hd in json.load(f):\n",
    "                    score = -1\n",
    "                    if hd != None:\n",
    "                        score = int(get_sentiment(hd.lower()))\n",
    "                    \n",
    "                    #if score == -1:\n",
    "                    #    score = 2\n",
    "\n",
    "                    data.append({'date': datestr, 'score': score})\n",
    "        else:\n",
    "            data.append({'date': datestr, 'score': -1})\n",
    "\n",
    "    os.makedirs(target_path, exist_ok=True)\n",
    "    \n",
    "    df = pd.DataFrame(data, columns=['date', 'score'])\n",
    "    \n",
    "    mean_score = df['score'].mean(skipna=True)\n",
    "    df['score']=df.score.mask(df.score == -1,mean_score)\n",
    "    \n",
    "    \n",
    "    if len(df) == 0:\n",
    "        df2 = df.groupby('date')['score'].mean().to_frame().reset_index()\n",
    "    \n",
    "    df2.to_csv(join(target_path, 'headlines.csv'), index=False)"
   ]
  },
  {
   "cell_type": "code",
   "execution_count": null,
   "metadata": {},
   "outputs": [],
   "source": [
    "\n",
    "                  "
   ]
  },
  {
   "cell_type": "code",
   "execution_count": 13,
   "metadata": {},
   "outputs": [],
   "source": [
    "def agg_all(source):\n",
    "    #start_dt = datetime.today() - timedelta(days=30)\n",
    "    #end_dt = datetime.today() - timedelta(days=1)\n",
    "    \n",
    "    start_dt = date(2020,5,26)\n",
    "    end_dt = date(2020,6,27)\n",
    "    \n",
    "    \n",
    "    print('cand')\n",
    "    \n",
    "    get_and_save_election_data(join('data2','candidates', source,'trump'), \n",
    "                             join('data3','candidates', source, 'trump'), \n",
    "                             start_dt, end_dt)\n",
    "    \n",
    "    get_and_save_election_data(join('data2','candidates', source,'biden'), \n",
    "                             join('data3','candidates', source, 'biden'), \n",
    "                             start_dt, end_dt)\n",
    "    \n",
    "    print('econ')\n",
    "    \n",
    "    get_and_save_election_data(join('data2','economy',source,'trump'), \n",
    "                             join('data3','economy', source, 'trump'), \n",
    "                             start_dt, end_dt)\n",
    "    \n",
    "    get_and_save_election_data(join('data2','economy',source,'biden'), \n",
    "                             join('data3','economy',source,'biden'), \n",
    "                             start_dt, end_dt)\n",
    "    \n",
    "    print('env')\n",
    "    \n",
    "    get_and_save_election_data(join('data2','environment',source,'trump'), \n",
    "                             join('data3','environment',source,'trump'), \n",
    "                             start_dt, end_dt)\n",
    "    \n",
    "    get_and_save_election_data(join('data2','environment',source,'biden'), \n",
    "                             join('data3','environment',source,'biden'), \n",
    "                             start_dt, end_dt)\n",
    "    \n",
    "    print('party')\n",
    "    \n",
    "    get_and_save_election_data(join('data2','party',source,'trump'), \n",
    "                             join('data3','party',source,'trump'), \n",
    "                             start_dt, end_dt)\n",
    "    \n",
    "    get_and_save_election_data(join('data2','party',source,'biden'), \n",
    "                             join('data3','party',source,'biden'), \n",
    "                             start_dt, end_dt)\n",
    "    \n",
    "    print('health')\n",
    "    \n",
    "    get_and_save_election_data(join('data2','health',source,'trump'), \n",
    "                             join('data3','health',source,'trump'), \n",
    "                             start_dt, end_dt)\n",
    "    \n",
    "    get_and_save_election_data(join('data2','health',source,'biden'), \n",
    "                             join('data3','health',source,'biden'), \n",
    "                             start_dt, end_dt)\n",
    "    \n",
    "    print('imm')\n",
    "    \n",
    "    get_and_save_election_data(join('data2','immigration',source,'trump'), \n",
    "                             join('data3','immigration',source,'trump'), \n",
    "                             start_dt, end_dt)\n",
    "    \n",
    "    get_and_save_election_data(join('data2','immigration',source,'biden'), \n",
    "                             join('data3','immigration',source,'biden'), \n",
    "                             start_dt, end_dt)\n",
    "    \n",
    "    print('job')\n",
    "    \n",
    "    get_and_save_election_data(join('data2','job',source,'trump'), \n",
    "                             join('data3','job',source,'trump'), \n",
    "                             start_dt, end_dt)\n",
    "    \n",
    "    get_and_save_election_data(join('data2','job',source,'biden'), \n",
    "                             join('data3','job',source,'biden'), \n",
    "                             start_dt, end_dt)"
   ]
  },
  {
   "cell_type": "code",
   "execution_count": 12,
   "metadata": {},
   "outputs": [
    {
     "name": "stdout",
     "output_type": "stream",
     "text": [
      "cand\n",
      "econ\n",
      "env\n",
      "party\n",
      "health\n",
      "imm\n",
      "job\n"
     ]
    }
   ],
   "source": [
    "agg_all('cnn')"
   ]
  },
  {
   "cell_type": "code",
   "execution_count": 13,
   "metadata": {},
   "outputs": [
    {
     "name": "stdout",
     "output_type": "stream",
     "text": [
      "cand\n",
      "econ\n",
      "env\n",
      "party\n",
      "health\n",
      "imm\n",
      "job\n"
     ]
    }
   ],
   "source": [
    "agg_all('fox-news')"
   ]
  },
  {
   "cell_type": "code",
   "execution_count": 16,
   "metadata": {},
   "outputs": [
    {
     "name": "stdout",
     "output_type": "stream",
     "text": [
      "cand\n",
      "         date  score\n",
      "0  2020-05-29      2\n",
      "1  2020-06-08      2\n",
      "2  2020-06-09      1\n",
      "3  2020-06-11      2\n",
      "4  2020-06-12      2\n",
      "         date  score\n",
      "0  2020-05-26      1\n",
      "1  2020-05-27      3\n",
      "2  2020-05-27      2\n",
      "3  2020-05-27      2\n",
      "4  2020-05-28      3\n",
      "econ\n",
      "         date  score\n",
      "0  2020-06-05      1\n",
      "1  2020-06-12      1\n",
      "2  2020-06-22      1\n",
      "3  2020-06-23      2\n",
      "4  2020-06-23      2\n",
      "         date  score\n",
      "0  2020-06-12      1\n",
      "env\n",
      "         date  score\n",
      "0  2020-05-28      1\n",
      "1  2020-05-31      1\n",
      "2  2020-06-04      2\n",
      "3  2020-06-13      1\n",
      "4  2020-06-21      1\n",
      "Empty DataFrame\n",
      "Columns: [date, score]\n",
      "Index: []\n"
     ]
    },
    {
     "ename": "DataError",
     "evalue": "No numeric types to aggregate",
     "output_type": "error",
     "traceback": [
      "\u001b[0;31m---------------------------------------------------------------------------\u001b[0m",
      "\u001b[0;31mDataError\u001b[0m                                 Traceback (most recent call last)",
      "\u001b[0;32m<ipython-input-16-92a9734a1589>\u001b[0m in \u001b[0;36m<module>\u001b[0;34m\u001b[0m\n\u001b[0;32m----> 1\u001b[0;31m \u001b[0magg_all\u001b[0m\u001b[0;34m(\u001b[0m\u001b[0;34m'guardian'\u001b[0m\u001b[0;34m)\u001b[0m\u001b[0;34m\u001b[0m\u001b[0;34m\u001b[0m\u001b[0m\n\u001b[0m",
      "\u001b[0;32m<ipython-input-13-34a3682a1177>\u001b[0m in \u001b[0;36magg_all\u001b[0;34m(source)\u001b[0m\n\u001b[1;32m     35\u001b[0m     get_and_save_election_data(join('data2','environment',source,'biden'), \n\u001b[1;32m     36\u001b[0m                              \u001b[0mjoin\u001b[0m\u001b[0;34m(\u001b[0m\u001b[0;34m'data3'\u001b[0m\u001b[0;34m,\u001b[0m\u001b[0;34m'environment'\u001b[0m\u001b[0;34m,\u001b[0m\u001b[0msource\u001b[0m\u001b[0;34m,\u001b[0m\u001b[0;34m'biden'\u001b[0m\u001b[0;34m)\u001b[0m\u001b[0;34m,\u001b[0m\u001b[0;34m\u001b[0m\u001b[0;34m\u001b[0m\u001b[0m\n\u001b[0;32m---> 37\u001b[0;31m                              start_dt, end_dt)\n\u001b[0m\u001b[1;32m     38\u001b[0m \u001b[0;34m\u001b[0m\u001b[0m\n\u001b[1;32m     39\u001b[0m     \u001b[0mprint\u001b[0m\u001b[0;34m(\u001b[0m\u001b[0;34m'party'\u001b[0m\u001b[0;34m)\u001b[0m\u001b[0;34m\u001b[0m\u001b[0;34m\u001b[0m\u001b[0m\n",
      "\u001b[0;32m<ipython-input-15-bce595f06a31>\u001b[0m in \u001b[0;36mget_and_save_election_data\u001b[0;34m(src_path, target_path, start_date, end_date)\u001b[0m\n\u001b[1;32m     33\u001b[0m     \u001b[0mprint\u001b[0m\u001b[0;34m(\u001b[0m\u001b[0mdf\u001b[0m\u001b[0;34m.\u001b[0m\u001b[0mhead\u001b[0m\u001b[0;34m(\u001b[0m\u001b[0;34m)\u001b[0m\u001b[0;34m)\u001b[0m\u001b[0;34m\u001b[0m\u001b[0;34m\u001b[0m\u001b[0m\n\u001b[1;32m     34\u001b[0m \u001b[0;34m\u001b[0m\u001b[0m\n\u001b[0;32m---> 35\u001b[0;31m     \u001b[0mdf2\u001b[0m \u001b[0;34m=\u001b[0m \u001b[0mdf\u001b[0m\u001b[0;34m.\u001b[0m\u001b[0mgroupby\u001b[0m\u001b[0;34m(\u001b[0m\u001b[0;34m'date'\u001b[0m\u001b[0;34m)\u001b[0m\u001b[0;34m[\u001b[0m\u001b[0;34m'score'\u001b[0m\u001b[0;34m]\u001b[0m\u001b[0;34m.\u001b[0m\u001b[0mmean\u001b[0m\u001b[0;34m(\u001b[0m\u001b[0;34m)\u001b[0m\u001b[0;34m.\u001b[0m\u001b[0mto_frame\u001b[0m\u001b[0;34m(\u001b[0m\u001b[0;34m)\u001b[0m\u001b[0;34m.\u001b[0m\u001b[0mreset_index\u001b[0m\u001b[0;34m(\u001b[0m\u001b[0;34m)\u001b[0m\u001b[0;34m\u001b[0m\u001b[0;34m\u001b[0m\u001b[0m\n\u001b[0m\u001b[1;32m     36\u001b[0m \u001b[0;34m\u001b[0m\u001b[0m\n\u001b[1;32m     37\u001b[0m     \u001b[0mdf2\u001b[0m\u001b[0;34m.\u001b[0m\u001b[0mto_csv\u001b[0m\u001b[0;34m(\u001b[0m\u001b[0mjoin\u001b[0m\u001b[0;34m(\u001b[0m\u001b[0mtarget_path\u001b[0m\u001b[0;34m,\u001b[0m \u001b[0;34m'headlines.csv'\u001b[0m\u001b[0;34m)\u001b[0m\u001b[0;34m,\u001b[0m \u001b[0mindex\u001b[0m\u001b[0;34m=\u001b[0m\u001b[0;32mFalse\u001b[0m\u001b[0;34m)\u001b[0m\u001b[0;34m\u001b[0m\u001b[0;34m\u001b[0m\u001b[0m\n",
      "\u001b[0;32m~/anaconda3/lib/python3.7/site-packages/pandas/core/groupby/groupby.py\u001b[0m in \u001b[0;36mmean\u001b[0;34m(self, *args, **kwargs)\u001b[0m\n\u001b[1;32m   1203\u001b[0m         \u001b[0;32mtry\u001b[0m\u001b[0;34m:\u001b[0m\u001b[0;34m\u001b[0m\u001b[0;34m\u001b[0m\u001b[0m\n\u001b[1;32m   1204\u001b[0m             return self._cython_agg_general(\n\u001b[0;32m-> 1205\u001b[0;31m                 \u001b[0;34m\"mean\"\u001b[0m\u001b[0;34m,\u001b[0m \u001b[0malt\u001b[0m\u001b[0;34m=\u001b[0m\u001b[0;32mlambda\u001b[0m \u001b[0mx\u001b[0m\u001b[0;34m,\u001b[0m \u001b[0maxis\u001b[0m\u001b[0;34m:\u001b[0m \u001b[0mSeries\u001b[0m\u001b[0;34m(\u001b[0m\u001b[0mx\u001b[0m\u001b[0;34m)\u001b[0m\u001b[0;34m.\u001b[0m\u001b[0mmean\u001b[0m\u001b[0;34m(\u001b[0m\u001b[0;34m**\u001b[0m\u001b[0mkwargs\u001b[0m\u001b[0;34m)\u001b[0m\u001b[0;34m,\u001b[0m \u001b[0;34m**\u001b[0m\u001b[0mkwargs\u001b[0m\u001b[0;34m\u001b[0m\u001b[0;34m\u001b[0m\u001b[0m\n\u001b[0m\u001b[1;32m   1206\u001b[0m             )\n\u001b[1;32m   1207\u001b[0m         \u001b[0;32mexcept\u001b[0m \u001b[0mGroupByError\u001b[0m\u001b[0;34m:\u001b[0m\u001b[0;34m\u001b[0m\u001b[0;34m\u001b[0m\u001b[0m\n",
      "\u001b[0;32m~/anaconda3/lib/python3.7/site-packages/pandas/core/groupby/groupby.py\u001b[0m in \u001b[0;36m_cython_agg_general\u001b[0;34m(self, how, alt, numeric_only, min_count)\u001b[0m\n\u001b[1;32m    886\u001b[0m \u001b[0;34m\u001b[0m\u001b[0m\n\u001b[1;32m    887\u001b[0m         \u001b[0;32mif\u001b[0m \u001b[0mlen\u001b[0m\u001b[0;34m(\u001b[0m\u001b[0moutput\u001b[0m\u001b[0;34m)\u001b[0m \u001b[0;34m==\u001b[0m \u001b[0;36m0\u001b[0m\u001b[0;34m:\u001b[0m\u001b[0;34m\u001b[0m\u001b[0;34m\u001b[0m\u001b[0m\n\u001b[0;32m--> 888\u001b[0;31m             \u001b[0;32mraise\u001b[0m \u001b[0mDataError\u001b[0m\u001b[0;34m(\u001b[0m\u001b[0;34m\"No numeric types to aggregate\"\u001b[0m\u001b[0;34m)\u001b[0m\u001b[0;34m\u001b[0m\u001b[0;34m\u001b[0m\u001b[0m\n\u001b[0m\u001b[1;32m    889\u001b[0m \u001b[0;34m\u001b[0m\u001b[0m\n\u001b[1;32m    890\u001b[0m         \u001b[0;32mreturn\u001b[0m \u001b[0mself\u001b[0m\u001b[0;34m.\u001b[0m\u001b[0m_wrap_aggregated_output\u001b[0m\u001b[0;34m(\u001b[0m\u001b[0moutput\u001b[0m\u001b[0;34m,\u001b[0m \u001b[0mnames\u001b[0m\u001b[0;34m)\u001b[0m\u001b[0;34m\u001b[0m\u001b[0;34m\u001b[0m\u001b[0m\n",
      "\u001b[0;31mDataError\u001b[0m: No numeric types to aggregate"
     ]
    }
   ],
   "source": [
    "agg_all('guardian')"
   ]
  },
  {
   "cell_type": "code",
   "execution_count": 5,
   "metadata": {},
   "outputs": [],
   "source": [
    "#combine_and_save_tweet_files(join('data2','raw','candidate','2016','trump'), \n",
    "#                             join('data2','agg','candidate','2016'), \n",
    "#                             date(2016, 10, 8), date(2016, 11, 7), '2016', 'trump')"
   ]
  },
  {
   "cell_type": "code",
   "execution_count": 7,
   "metadata": {},
   "outputs": [],
   "source": [
    "#combine_and_save_tweet_files(join('data2','raw','candidate','2016','hillary'), \n",
    "#                             join('data2','agg','candidate','2016'), \n",
    "#                             date(2016, 10, 8), date(2016, 11, 7), '2016', 'hillary')"
   ]
  },
  {
   "cell_type": "code",
   "execution_count": 9,
   "metadata": {},
   "outputs": [],
   "source": [
    "#combine_and_save_tweet_files(join('data2','raw','candidate','2012','obama'), \n",
    "#                             join('data2','agg','candidate','2012','obama'), \n",
    "#                             date(2012, 10, 20), date(2012, 11, 4), '2012', 'obama')"
   ]
  },
  {
   "cell_type": "code",
   "execution_count": 11,
   "metadata": {},
   "outputs": [],
   "source": [
    "#combine_and_save_tweet_files(join('data2','raw','candidate','2012','romney'), \n",
    "#                             join('data2','agg','candidate','2012', 'romney'), \n",
    "#                             date(2012, 10, 20), date(2012, 11, 4), '2012', 'romney')"
   ]
  }
 ],
 "metadata": {
  "kernelspec": {
   "display_name": "Python 3",
   "language": "python",
   "name": "python3"
  },
  "language_info": {
   "codemirror_mode": {
    "name": "ipython",
    "version": 3
   },
   "file_extension": ".py",
   "mimetype": "text/x-python",
   "name": "python",
   "nbconvert_exporter": "python",
   "pygments_lexer": "ipython3",
   "version": "3.7.3"
  }
 },
 "nbformat": 4,
 "nbformat_minor": 2
}
