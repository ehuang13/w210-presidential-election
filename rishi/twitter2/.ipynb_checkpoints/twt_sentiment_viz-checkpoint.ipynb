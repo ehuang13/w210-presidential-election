{
 "cells": [
  {
   "cell_type": "code",
   "execution_count": 50,
   "metadata": {},
   "outputs": [],
   "source": [
    "import numpy as np # we will use this later, so import it now\n",
    "import pandas as pd\n",
    "from bokeh.io import output_notebook, show\n",
    "from bokeh.plotting import figure, output_file, show\n",
    "from bokeh.layouts import row"
   ]
  },
  {
   "cell_type": "code",
   "execution_count": 3,
   "metadata": {},
   "outputs": [
    {
     "data": {
      "text/html": [
       "\n",
       "    <div class=\"bk-root\">\n",
       "        <a href=\"https://bokeh.org\" target=\"_blank\" class=\"bk-logo bk-logo-small bk-logo-notebook\"></a>\n",
       "        <span id=\"1001\">Loading BokehJS ...</span>\n",
       "    </div>"
      ]
     },
     "metadata": {},
     "output_type": "display_data"
    },
    {
     "data": {
      "application/javascript": [
       "\n",
       "(function(root) {\n",
       "  function now() {\n",
       "    return new Date();\n",
       "  }\n",
       "\n",
       "  var force = true;\n",
       "\n",
       "  if (typeof root._bokeh_onload_callbacks === \"undefined\" || force === true) {\n",
       "    root._bokeh_onload_callbacks = [];\n",
       "    root._bokeh_is_loading = undefined;\n",
       "  }\n",
       "\n",
       "  var JS_MIME_TYPE = 'application/javascript';\n",
       "  var HTML_MIME_TYPE = 'text/html';\n",
       "  var EXEC_MIME_TYPE = 'application/vnd.bokehjs_exec.v0+json';\n",
       "  var CLASS_NAME = 'output_bokeh rendered_html';\n",
       "\n",
       "  /**\n",
       "   * Render data to the DOM node\n",
       "   */\n",
       "  function render(props, node) {\n",
       "    var script = document.createElement(\"script\");\n",
       "    node.appendChild(script);\n",
       "  }\n",
       "\n",
       "  /**\n",
       "   * Handle when an output is cleared or removed\n",
       "   */\n",
       "  function handleClearOutput(event, handle) {\n",
       "    var cell = handle.cell;\n",
       "\n",
       "    var id = cell.output_area._bokeh_element_id;\n",
       "    var server_id = cell.output_area._bokeh_server_id;\n",
       "    // Clean up Bokeh references\n",
       "    if (id != null && id in Bokeh.index) {\n",
       "      Bokeh.index[id].model.document.clear();\n",
       "      delete Bokeh.index[id];\n",
       "    }\n",
       "\n",
       "    if (server_id !== undefined) {\n",
       "      // Clean up Bokeh references\n",
       "      var cmd = \"from bokeh.io.state import curstate; print(curstate().uuid_to_server['\" + server_id + \"'].get_sessions()[0].document.roots[0]._id)\";\n",
       "      cell.notebook.kernel.execute(cmd, {\n",
       "        iopub: {\n",
       "          output: function(msg) {\n",
       "            var id = msg.content.text.trim();\n",
       "            if (id in Bokeh.index) {\n",
       "              Bokeh.index[id].model.document.clear();\n",
       "              delete Bokeh.index[id];\n",
       "            }\n",
       "          }\n",
       "        }\n",
       "      });\n",
       "      // Destroy server and session\n",
       "      var cmd = \"import bokeh.io.notebook as ion; ion.destroy_server('\" + server_id + \"')\";\n",
       "      cell.notebook.kernel.execute(cmd);\n",
       "    }\n",
       "  }\n",
       "\n",
       "  /**\n",
       "   * Handle when a new output is added\n",
       "   */\n",
       "  function handleAddOutput(event, handle) {\n",
       "    var output_area = handle.output_area;\n",
       "    var output = handle.output;\n",
       "\n",
       "    // limit handleAddOutput to display_data with EXEC_MIME_TYPE content only\n",
       "    if ((output.output_type != \"display_data\") || (!output.data.hasOwnProperty(EXEC_MIME_TYPE))) {\n",
       "      return\n",
       "    }\n",
       "\n",
       "    var toinsert = output_area.element.find(\".\" + CLASS_NAME.split(' ')[0]);\n",
       "\n",
       "    if (output.metadata[EXEC_MIME_TYPE][\"id\"] !== undefined) {\n",
       "      toinsert[toinsert.length - 1].firstChild.textContent = output.data[JS_MIME_TYPE];\n",
       "      // store reference to embed id on output_area\n",
       "      output_area._bokeh_element_id = output.metadata[EXEC_MIME_TYPE][\"id\"];\n",
       "    }\n",
       "    if (output.metadata[EXEC_MIME_TYPE][\"server_id\"] !== undefined) {\n",
       "      var bk_div = document.createElement(\"div\");\n",
       "      bk_div.innerHTML = output.data[HTML_MIME_TYPE];\n",
       "      var script_attrs = bk_div.children[0].attributes;\n",
       "      for (var i = 0; i < script_attrs.length; i++) {\n",
       "        toinsert[toinsert.length - 1].firstChild.setAttribute(script_attrs[i].name, script_attrs[i].value);\n",
       "        toinsert[toinsert.length - 1].firstChild.textContent = bk_div.children[0].textContent\n",
       "      }\n",
       "      // store reference to server id on output_area\n",
       "      output_area._bokeh_server_id = output.metadata[EXEC_MIME_TYPE][\"server_id\"];\n",
       "    }\n",
       "  }\n",
       "\n",
       "  function register_renderer(events, OutputArea) {\n",
       "\n",
       "    function append_mime(data, metadata, element) {\n",
       "      // create a DOM node to render to\n",
       "      var toinsert = this.create_output_subarea(\n",
       "        metadata,\n",
       "        CLASS_NAME,\n",
       "        EXEC_MIME_TYPE\n",
       "      );\n",
       "      this.keyboard_manager.register_events(toinsert);\n",
       "      // Render to node\n",
       "      var props = {data: data, metadata: metadata[EXEC_MIME_TYPE]};\n",
       "      render(props, toinsert[toinsert.length - 1]);\n",
       "      element.append(toinsert);\n",
       "      return toinsert\n",
       "    }\n",
       "\n",
       "    /* Handle when an output is cleared or removed */\n",
       "    events.on('clear_output.CodeCell', handleClearOutput);\n",
       "    events.on('delete.Cell', handleClearOutput);\n",
       "\n",
       "    /* Handle when a new output is added */\n",
       "    events.on('output_added.OutputArea', handleAddOutput);\n",
       "\n",
       "    /**\n",
       "     * Register the mime type and append_mime function with output_area\n",
       "     */\n",
       "    OutputArea.prototype.register_mime_type(EXEC_MIME_TYPE, append_mime, {\n",
       "      /* Is output safe? */\n",
       "      safe: true,\n",
       "      /* Index of renderer in `output_area.display_order` */\n",
       "      index: 0\n",
       "    });\n",
       "  }\n",
       "\n",
       "  // register the mime type if in Jupyter Notebook environment and previously unregistered\n",
       "  if (root.Jupyter !== undefined) {\n",
       "    var events = require('base/js/events');\n",
       "    var OutputArea = require('notebook/js/outputarea').OutputArea;\n",
       "\n",
       "    if (OutputArea.prototype.mime_types().indexOf(EXEC_MIME_TYPE) == -1) {\n",
       "      register_renderer(events, OutputArea);\n",
       "    }\n",
       "  }\n",
       "\n",
       "  \n",
       "  if (typeof (root._bokeh_timeout) === \"undefined\" || force === true) {\n",
       "    root._bokeh_timeout = Date.now() + 5000;\n",
       "    root._bokeh_failed_load = false;\n",
       "  }\n",
       "\n",
       "  var NB_LOAD_WARNING = {'data': {'text/html':\n",
       "     \"<div style='background-color: #fdd'>\\n\"+\n",
       "     \"<p>\\n\"+\n",
       "     \"BokehJS does not appear to have successfully loaded. If loading BokehJS from CDN, this \\n\"+\n",
       "     \"may be due to a slow or bad network connection. Possible fixes:\\n\"+\n",
       "     \"</p>\\n\"+\n",
       "     \"<ul>\\n\"+\n",
       "     \"<li>re-rerun `output_notebook()` to attempt to load from CDN again, or</li>\\n\"+\n",
       "     \"<li>use INLINE resources instead, as so:</li>\\n\"+\n",
       "     \"</ul>\\n\"+\n",
       "     \"<code>\\n\"+\n",
       "     \"from bokeh.resources import INLINE\\n\"+\n",
       "     \"output_notebook(resources=INLINE)\\n\"+\n",
       "     \"</code>\\n\"+\n",
       "     \"</div>\"}};\n",
       "\n",
       "  function display_loaded() {\n",
       "    var el = document.getElementById(\"1001\");\n",
       "    if (el != null) {\n",
       "      el.textContent = \"BokehJS is loading...\";\n",
       "    }\n",
       "    if (root.Bokeh !== undefined) {\n",
       "      if (el != null) {\n",
       "        el.textContent = \"BokehJS \" + root.Bokeh.version + \" successfully loaded.\";\n",
       "      }\n",
       "    } else if (Date.now() < root._bokeh_timeout) {\n",
       "      setTimeout(display_loaded, 100)\n",
       "    }\n",
       "  }\n",
       "\n",
       "\n",
       "  function run_callbacks() {\n",
       "    try {\n",
       "      root._bokeh_onload_callbacks.forEach(function(callback) {\n",
       "        if (callback != null)\n",
       "          callback();\n",
       "      });\n",
       "    } finally {\n",
       "      delete root._bokeh_onload_callbacks\n",
       "    }\n",
       "    console.debug(\"Bokeh: all callbacks have finished\");\n",
       "  }\n",
       "\n",
       "  function load_libs(css_urls, js_urls, callback) {\n",
       "    if (css_urls == null) css_urls = [];\n",
       "    if (js_urls == null) js_urls = [];\n",
       "\n",
       "    root._bokeh_onload_callbacks.push(callback);\n",
       "    if (root._bokeh_is_loading > 0) {\n",
       "      console.debug(\"Bokeh: BokehJS is being loaded, scheduling callback at\", now());\n",
       "      return null;\n",
       "    }\n",
       "    if (js_urls == null || js_urls.length === 0) {\n",
       "      run_callbacks();\n",
       "      return null;\n",
       "    }\n",
       "    console.debug(\"Bokeh: BokehJS not loaded, scheduling load and callback at\", now());\n",
       "    root._bokeh_is_loading = css_urls.length + js_urls.length;\n",
       "\n",
       "    function on_load() {\n",
       "      root._bokeh_is_loading--;\n",
       "      if (root._bokeh_is_loading === 0) {\n",
       "        console.debug(\"Bokeh: all BokehJS libraries/stylesheets loaded\");\n",
       "        run_callbacks()\n",
       "      }\n",
       "    }\n",
       "\n",
       "    function on_error() {\n",
       "      console.error(\"failed to load \" + url);\n",
       "    }\n",
       "\n",
       "    for (var i = 0; i < css_urls.length; i++) {\n",
       "      var url = css_urls[i];\n",
       "      const element = document.createElement(\"link\");\n",
       "      element.onload = on_load;\n",
       "      element.onerror = on_error;\n",
       "      element.rel = \"stylesheet\";\n",
       "      element.type = \"text/css\";\n",
       "      element.href = url;\n",
       "      console.debug(\"Bokeh: injecting link tag for BokehJS stylesheet: \", url);\n",
       "      document.body.appendChild(element);\n",
       "    }\n",
       "\n",
       "    const hashes = {\"https://cdn.bokeh.org/bokeh/release/bokeh-2.1.1.min.js\": \"kLr4fYcqcSpbuI95brIH3vnnYCquzzSxHPU6XGQCIkQRGJwhg0StNbj1eegrHs12\", \"https://cdn.bokeh.org/bokeh/release/bokeh-widgets-2.1.1.min.js\": \"xIGPmVtaOm+z0BqfSOMn4lOR6ciex448GIKG4eE61LsAvmGj48XcMQZtKcE/UXZe\", \"https://cdn.bokeh.org/bokeh/release/bokeh-tables-2.1.1.min.js\": \"Dc9u1wF/0zApGIWoBbH77iWEHtdmkuYWG839Uzmv8y8yBLXebjO9ZnERsde5Ln/P\", \"https://cdn.bokeh.org/bokeh/release/bokeh-gl-2.1.1.min.js\": \"cT9JaBz7GiRXdENrJLZNSC6eMNF3nh3fa5fTF51Svp+ukxPdwcU5kGXGPBgDCa2j\"};\n",
       "\n",
       "    for (var i = 0; i < js_urls.length; i++) {\n",
       "      var url = js_urls[i];\n",
       "      var element = document.createElement('script');\n",
       "      element.onload = on_load;\n",
       "      element.onerror = on_error;\n",
       "      element.async = false;\n",
       "      element.src = url;\n",
       "      if (url in hashes) {\n",
       "        element.crossOrigin = \"anonymous\";\n",
       "        element.integrity = \"sha384-\" + hashes[url];\n",
       "      }\n",
       "      console.debug(\"Bokeh: injecting script tag for BokehJS library: \", url);\n",
       "      document.head.appendChild(element);\n",
       "    }\n",
       "  };\n",
       "\n",
       "  function inject_raw_css(css) {\n",
       "    const element = document.createElement(\"style\");\n",
       "    element.appendChild(document.createTextNode(css));\n",
       "    document.body.appendChild(element);\n",
       "  }\n",
       "\n",
       "  \n",
       "  var js_urls = [\"https://cdn.bokeh.org/bokeh/release/bokeh-2.1.1.min.js\", \"https://cdn.bokeh.org/bokeh/release/bokeh-widgets-2.1.1.min.js\", \"https://cdn.bokeh.org/bokeh/release/bokeh-tables-2.1.1.min.js\", \"https://cdn.bokeh.org/bokeh/release/bokeh-gl-2.1.1.min.js\"];\n",
       "  var css_urls = [];\n",
       "  \n",
       "\n",
       "  var inline_js = [\n",
       "    function(Bokeh) {\n",
       "      Bokeh.set_log_level(\"info\");\n",
       "    },\n",
       "    function(Bokeh) {\n",
       "    \n",
       "    \n",
       "    }\n",
       "  ];\n",
       "\n",
       "  function run_inline_js() {\n",
       "    \n",
       "    if (root.Bokeh !== undefined || force === true) {\n",
       "      \n",
       "    for (var i = 0; i < inline_js.length; i++) {\n",
       "      inline_js[i].call(root, root.Bokeh);\n",
       "    }\n",
       "    if (force === true) {\n",
       "        display_loaded();\n",
       "      }} else if (Date.now() < root._bokeh_timeout) {\n",
       "      setTimeout(run_inline_js, 100);\n",
       "    } else if (!root._bokeh_failed_load) {\n",
       "      console.log(\"Bokeh: BokehJS failed to load within specified timeout.\");\n",
       "      root._bokeh_failed_load = true;\n",
       "    } else if (force !== true) {\n",
       "      var cell = $(document.getElementById(\"1001\")).parents('.cell').data().cell;\n",
       "      cell.output_area.append_execute_result(NB_LOAD_WARNING)\n",
       "    }\n",
       "\n",
       "  }\n",
       "\n",
       "  if (root._bokeh_is_loading === 0) {\n",
       "    console.debug(\"Bokeh: BokehJS loaded, going straight to plotting\");\n",
       "    run_inline_js();\n",
       "  } else {\n",
       "    load_libs(css_urls, js_urls, function() {\n",
       "      console.debug(\"Bokeh: BokehJS plotting callback run at\", now());\n",
       "      run_inline_js();\n",
       "    });\n",
       "  }\n",
       "}(window));"
      ],
      "application/vnd.bokehjs_load.v0+json": "\n(function(root) {\n  function now() {\n    return new Date();\n  }\n\n  var force = true;\n\n  if (typeof root._bokeh_onload_callbacks === \"undefined\" || force === true) {\n    root._bokeh_onload_callbacks = [];\n    root._bokeh_is_loading = undefined;\n  }\n\n  \n\n  \n  if (typeof (root._bokeh_timeout) === \"undefined\" || force === true) {\n    root._bokeh_timeout = Date.now() + 5000;\n    root._bokeh_failed_load = false;\n  }\n\n  var NB_LOAD_WARNING = {'data': {'text/html':\n     \"<div style='background-color: #fdd'>\\n\"+\n     \"<p>\\n\"+\n     \"BokehJS does not appear to have successfully loaded. If loading BokehJS from CDN, this \\n\"+\n     \"may be due to a slow or bad network connection. Possible fixes:\\n\"+\n     \"</p>\\n\"+\n     \"<ul>\\n\"+\n     \"<li>re-rerun `output_notebook()` to attempt to load from CDN again, or</li>\\n\"+\n     \"<li>use INLINE resources instead, as so:</li>\\n\"+\n     \"</ul>\\n\"+\n     \"<code>\\n\"+\n     \"from bokeh.resources import INLINE\\n\"+\n     \"output_notebook(resources=INLINE)\\n\"+\n     \"</code>\\n\"+\n     \"</div>\"}};\n\n  function display_loaded() {\n    var el = document.getElementById(\"1001\");\n    if (el != null) {\n      el.textContent = \"BokehJS is loading...\";\n    }\n    if (root.Bokeh !== undefined) {\n      if (el != null) {\n        el.textContent = \"BokehJS \" + root.Bokeh.version + \" successfully loaded.\";\n      }\n    } else if (Date.now() < root._bokeh_timeout) {\n      setTimeout(display_loaded, 100)\n    }\n  }\n\n\n  function run_callbacks() {\n    try {\n      root._bokeh_onload_callbacks.forEach(function(callback) {\n        if (callback != null)\n          callback();\n      });\n    } finally {\n      delete root._bokeh_onload_callbacks\n    }\n    console.debug(\"Bokeh: all callbacks have finished\");\n  }\n\n  function load_libs(css_urls, js_urls, callback) {\n    if (css_urls == null) css_urls = [];\n    if (js_urls == null) js_urls = [];\n\n    root._bokeh_onload_callbacks.push(callback);\n    if (root._bokeh_is_loading > 0) {\n      console.debug(\"Bokeh: BokehJS is being loaded, scheduling callback at\", now());\n      return null;\n    }\n    if (js_urls == null || js_urls.length === 0) {\n      run_callbacks();\n      return null;\n    }\n    console.debug(\"Bokeh: BokehJS not loaded, scheduling load and callback at\", now());\n    root._bokeh_is_loading = css_urls.length + js_urls.length;\n\n    function on_load() {\n      root._bokeh_is_loading--;\n      if (root._bokeh_is_loading === 0) {\n        console.debug(\"Bokeh: all BokehJS libraries/stylesheets loaded\");\n        run_callbacks()\n      }\n    }\n\n    function on_error() {\n      console.error(\"failed to load \" + url);\n    }\n\n    for (var i = 0; i < css_urls.length; i++) {\n      var url = css_urls[i];\n      const element = document.createElement(\"link\");\n      element.onload = on_load;\n      element.onerror = on_error;\n      element.rel = \"stylesheet\";\n      element.type = \"text/css\";\n      element.href = url;\n      console.debug(\"Bokeh: injecting link tag for BokehJS stylesheet: \", url);\n      document.body.appendChild(element);\n    }\n\n    const hashes = {\"https://cdn.bokeh.org/bokeh/release/bokeh-2.1.1.min.js\": \"kLr4fYcqcSpbuI95brIH3vnnYCquzzSxHPU6XGQCIkQRGJwhg0StNbj1eegrHs12\", \"https://cdn.bokeh.org/bokeh/release/bokeh-widgets-2.1.1.min.js\": \"xIGPmVtaOm+z0BqfSOMn4lOR6ciex448GIKG4eE61LsAvmGj48XcMQZtKcE/UXZe\", \"https://cdn.bokeh.org/bokeh/release/bokeh-tables-2.1.1.min.js\": \"Dc9u1wF/0zApGIWoBbH77iWEHtdmkuYWG839Uzmv8y8yBLXebjO9ZnERsde5Ln/P\", \"https://cdn.bokeh.org/bokeh/release/bokeh-gl-2.1.1.min.js\": \"cT9JaBz7GiRXdENrJLZNSC6eMNF3nh3fa5fTF51Svp+ukxPdwcU5kGXGPBgDCa2j\"};\n\n    for (var i = 0; i < js_urls.length; i++) {\n      var url = js_urls[i];\n      var element = document.createElement('script');\n      element.onload = on_load;\n      element.onerror = on_error;\n      element.async = false;\n      element.src = url;\n      if (url in hashes) {\n        element.crossOrigin = \"anonymous\";\n        element.integrity = \"sha384-\" + hashes[url];\n      }\n      console.debug(\"Bokeh: injecting script tag for BokehJS library: \", url);\n      document.head.appendChild(element);\n    }\n  };\n\n  function inject_raw_css(css) {\n    const element = document.createElement(\"style\");\n    element.appendChild(document.createTextNode(css));\n    document.body.appendChild(element);\n  }\n\n  \n  var js_urls = [\"https://cdn.bokeh.org/bokeh/release/bokeh-2.1.1.min.js\", \"https://cdn.bokeh.org/bokeh/release/bokeh-widgets-2.1.1.min.js\", \"https://cdn.bokeh.org/bokeh/release/bokeh-tables-2.1.1.min.js\", \"https://cdn.bokeh.org/bokeh/release/bokeh-gl-2.1.1.min.js\"];\n  var css_urls = [];\n  \n\n  var inline_js = [\n    function(Bokeh) {\n      Bokeh.set_log_level(\"info\");\n    },\n    function(Bokeh) {\n    \n    \n    }\n  ];\n\n  function run_inline_js() {\n    \n    if (root.Bokeh !== undefined || force === true) {\n      \n    for (var i = 0; i < inline_js.length; i++) {\n      inline_js[i].call(root, root.Bokeh);\n    }\n    if (force === true) {\n        display_loaded();\n      }} else if (Date.now() < root._bokeh_timeout) {\n      setTimeout(run_inline_js, 100);\n    } else if (!root._bokeh_failed_load) {\n      console.log(\"Bokeh: BokehJS failed to load within specified timeout.\");\n      root._bokeh_failed_load = true;\n    } else if (force !== true) {\n      var cell = $(document.getElementById(\"1001\")).parents('.cell').data().cell;\n      cell.output_area.append_execute_result(NB_LOAD_WARNING)\n    }\n\n  }\n\n  if (root._bokeh_is_loading === 0) {\n    console.debug(\"Bokeh: BokehJS loaded, going straight to plotting\");\n    run_inline_js();\n  } else {\n    load_libs(css_urls, js_urls, function() {\n      console.debug(\"Bokeh: BokehJS plotting callback run at\", now());\n      run_inline_js();\n    });\n  }\n}(window));"
     },
     "metadata": {},
     "output_type": "display_data"
    }
   ],
   "source": [
    "output_notebook()"
   ]
  },
  {
   "cell_type": "code",
   "execution_count": 4,
   "metadata": {},
   "outputs": [],
   "source": [
    "def get_and_clean_data(path):\n",
    "    data = pd.read_csv(path)\n",
    "    data['date'] = pd.to_datetime(data['created_at'].astype(str), errors='coerce')\n",
    "    return data"
   ]
  },
  {
   "cell_type": "code",
   "execution_count": 5,
   "metadata": {},
   "outputs": [],
   "source": [
    "def get_mean_scores_by_date(df):\n",
    "    df['date'] = df['date'].dt.date\n",
    "    df2 = df.groupby('date')['scores'].mean().to_frame().reset_index()\n",
    "    return df2"
   ]
  },
  {
   "cell_type": "code",
   "execution_count": 6,
   "metadata": {},
   "outputs": [],
   "source": [
    "def get_plot_data(path):\n",
    "    df = get_and_clean_data(path)\n",
    "    df = get_mean_scores_by_date(df)\n",
    "    \n",
    "    return df[['date', 'scores']]"
   ]
  },
  {
   "cell_type": "code",
   "execution_count": 60,
   "metadata": {},
   "outputs": [],
   "source": [
    "def plot_chart(rep_df, dem_df, rep_cand, dem_cand, title):\n",
    "    \n",
    "    title = title + '| ' + rep_cand + ': ' + str(round(rep_df[\"scores\"].mean(), 2)) + ' & ' + dem_cand + ': ' + str(round(dem_df[\"scores\"].mean(), 2))\n",
    "    \n",
    "    p = figure(x_axis_type=\"datetime\", title=title, plot_height=200, plot_width=310)\n",
    "    p.xgrid.grid_line_color=None\n",
    "    p.ygrid.grid_line_alpha=0.5\n",
    "    p.xaxis.axis_label = 'Date'\n",
    "    p.yaxis.axis_label = 'Sentiment Score'\n",
    "\n",
    "    p.line(rep_df.date, rep_df.scores, line_color=\"red\", \n",
    "           line_width=1, line_alpha=0.6)\n",
    "    p.circle(rep_df.date, rep_df.scores, fill_color=\"red\", size=5, color=\"red\")\n",
    "\n",
    "    p.line(dem_df.date, dem_df.scores, line_color=\"blue\", \n",
    "           line_width=1, line_alpha=0.6)\n",
    "    p.circle(dem_df.date, dem_df.scores, fill_color=\"blue\", size=5, color=\"blue\")\n",
    "\n",
    "    #p.legend.location = \"bottom_left\"\n",
    "    #p.legend.label_text_font_size = '8pt'\n",
    "\n",
    "    p.toolbar.logo = None\n",
    "    p.toolbar_location = None\n",
    "    \n",
    "    return p"
   ]
  },
  {
   "cell_type": "code",
   "execution_count": 61,
   "metadata": {},
   "outputs": [
    {
     "data": {
      "text/html": [
       "\n",
       "\n",
       "\n",
       "\n",
       "\n",
       "\n",
       "  <div class=\"bk-root\" id=\"b5e5bbaf-398a-47ef-827c-2e33dcaec2c9\" data-root-id=\"17117\"></div>\n"
      ]
     },
     "metadata": {},
     "output_type": "display_data"
    },
    {
     "data": {
      "application/javascript": [
       "(function(root) {\n",
       "  function embed_document(root) {\n",
       "    \n",
       "  var docs_json = {\"b6575ef1-5ca5-4d72-b0b0-e9e2e5fd0d73\":{\"roots\":{\"references\":[{\"attributes\":{\"children\":[{\"id\":\"16814\"},{\"id\":\"16915\"},{\"id\":\"17016\"}]},\"id\":\"17117\",\"type\":\"Row\"},{\"attributes\":{\"items\":[{\"id\":\"16974\"},{\"id\":\"17009\"}],\"label_text_font_size\":\"8pt\",\"location\":\"bottom_left\"},\"id\":\"16973\",\"type\":\"Legend\"},{\"attributes\":{},\"id\":\"16934\",\"type\":\"PanTool\"},{\"attributes\":{\"days\":[1,2,3,4,5,6,7,8,9,10,11,12,13,14,15,16,17,18,19,20,21,22,23,24,25,26,27,28,29,30,31]},\"id\":\"17064\",\"type\":\"DaysTicker\"},{\"attributes\":{\"data_source\":{\"id\":\"16980\"},\"glyph\":{\"id\":\"16981\"},\"hover_glyph\":null,\"muted_glyph\":null,\"nonselection_glyph\":{\"id\":\"16982\"},\"selection_glyph\":null,\"view\":{\"id\":\"16984\"}},\"id\":\"16983\",\"type\":\"GlyphRenderer\"},{\"attributes\":{\"data_source\":{\"id\":\"17010\"},\"glyph\":{\"id\":\"17011\"},\"hover_glyph\":null,\"muted_glyph\":null,\"nonselection_glyph\":{\"id\":\"17012\"},\"selection_glyph\":null,\"view\":{\"id\":\"17014\"}},\"id\":\"17013\",\"type\":\"GlyphRenderer\"},{\"attributes\":{\"line_alpha\":0.1,\"line_color\":\"red\",\"x\":{\"field\":\"x\"},\"y\":{\"field\":\"y\"}},\"id\":\"16950\",\"type\":\"Line\"},{\"attributes\":{\"active_drag\":\"auto\",\"active_inspect\":\"auto\",\"active_multi\":null,\"active_scroll\":\"auto\",\"active_tap\":\"auto\",\"logo\":null,\"tools\":[{\"id\":\"16934\"},{\"id\":\"16935\"},{\"id\":\"16936\"},{\"id\":\"16937\"},{\"id\":\"16938\"},{\"id\":\"16939\"}]},\"id\":\"16941\",\"type\":\"Toolbar\"},{\"attributes\":{},\"id\":\"17919\",\"type\":\"Selection\"},{\"attributes\":{\"months\":[0,2,4,6,8,10]},\"id\":\"17069\",\"type\":\"MonthsTicker\"},{\"attributes\":{\"data_source\":{\"id\":\"17049\"},\"glyph\":{\"id\":\"17050\"},\"hover_glyph\":null,\"muted_glyph\":null,\"nonselection_glyph\":{\"id\":\"17051\"},\"selection_glyph\":null,\"view\":{\"id\":\"17053\"}},\"id\":\"17052\",\"type\":\"GlyphRenderer\"},{\"attributes\":{\"label\":{\"value\":\"Biden\"},\"renderers\":[{\"id\":\"16882\"}]},\"id\":\"16908\",\"type\":\"LegendItem\"},{\"attributes\":{\"line_alpha\":0.6,\"line_color\":\"blue\",\"x\":{\"field\":\"x\"},\"y\":{\"field\":\"y\"}},\"id\":\"17082\",\"type\":\"Line\"},{\"attributes\":{},\"id\":\"16995\",\"type\":\"UnionRenderers\"},{\"attributes\":{\"bottom_units\":\"screen\",\"fill_alpha\":0.5,\"fill_color\":\"lightgrey\",\"left_units\":\"screen\",\"level\":\"overlay\",\"line_alpha\":1.0,\"line_color\":\"black\",\"line_dash\":[4,4],\"line_width\":2,\"right_units\":\"screen\",\"top_units\":\"screen\"},\"id\":\"16940\",\"type\":\"BoxAnnotation\"},{\"attributes\":{\"line_alpha\":0.6,\"line_color\":\"red\",\"x\":{\"field\":\"x\"},\"y\":{\"field\":\"y\"}},\"id\":\"17050\",\"type\":\"Line\"},{\"attributes\":{\"months\":[0,4,8]},\"id\":\"16969\",\"type\":\"MonthsTicker\"},{\"attributes\":{},\"id\":\"17096\",\"type\":\"UnionRenderers\"},{\"attributes\":{\"fill_color\":{\"value\":\"blue\"},\"line_color\":{\"value\":\"blue\"},\"size\":{\"units\":\"screen\",\"value\":5},\"x\":{\"field\":\"x\"},\"y\":{\"field\":\"y\"}},\"id\":\"16910\",\"type\":\"Circle\"},{\"attributes\":{\"fill_color\":{\"value\":\"red\"},\"line_color\":{\"value\":\"red\"},\"size\":{\"units\":\"screen\",\"value\":5},\"x\":{\"field\":\"x\"},\"y\":{\"field\":\"y\"}},\"id\":\"17077\",\"type\":\"Circle\"},{\"attributes\":{\"mantissas\":[1,2,5],\"max_interval\":500.0,\"num_minor_ticks\":0},\"id\":\"17061\",\"type\":\"AdaptiveTicker\"},{\"attributes\":{},\"id\":\"16993\",\"type\":\"UnionRenderers\"},{\"attributes\":{\"base\":60,\"mantissas\":[1,2,5,10,15,20,30],\"max_interval\":1800000.0,\"min_interval\":1000.0,\"num_minor_ticks\":0},\"id\":\"17062\",\"type\":\"AdaptiveTicker\"},{\"attributes\":{\"months\":[0,2,4,6,8,10]},\"id\":\"16968\",\"type\":\"MonthsTicker\"},{\"attributes\":{},\"id\":\"17060\",\"type\":\"UnionRenderers\"},{\"attributes\":{\"line_alpha\":0.1,\"line_color\":\"blue\",\"x\":{\"field\":\"x\"},\"y\":{\"field\":\"y\"}},\"id\":\"17083\",\"type\":\"Line\"},{\"attributes\":{\"source\":{\"id\":\"16948\"}},\"id\":\"16952\",\"type\":\"CDSView\"},{\"attributes\":{},\"id\":\"17094\",\"type\":\"UnionRenderers\"},{\"attributes\":{\"data\":{\"x\":{\"__ndarray__\":\"AACAbRl6dUIAAEDTa3p1QgAAADm+enVCAADAnhB7dUIAAIAEY3t1QgAAQGq1e3VCAAAA0Ad8dUIAAMA1Wnx1QgAAgJusfHVCAABAAf98dUIAAABnUX11QgAAwMyjfXVCAACAMvZ9dUIAAECYSH51QgAAAP6afnVCAADAY+1+dUIAAIDJP391QgAAQC+Sf3VCAAAAleR/dUIAAMD6NoB1QgAAgGCJgHVCAABAxtuAdUIAAAAsLoF1QgAAwJGAgXVCAACA99KBdUIAAEBdJYJ1QgAAAMN3gnVCAADAKMqCdUIAAICOHIN1QgAAQPRug3VCAAAAWsGDdUI=\",\"dtype\":\"float64\",\"order\":\"little\",\"shape\":[31]},\"y\":{\"__ndarray__\":\"Di2yne+n+j+BlUOLbOf7P4lBYOXQIvs/VOOlm8Qg/D9MN4lBYOX8P1yPwvUoXPs/XI/C9Shc+z+amZmZmZn9Pylcj8L1KPw/9P3UeOkm/T8bL90kBoH9PxfZzvdT4/0/Gy/dJAaB/T8tsp3vp8b7P8l2vp8aL/0/y6FFtvP9/D9OYhBYObT8P3WTGARWDv0/dZMYBFYO/T+iRbbz/dT8P1CNl24Sg/w/JzEIrBxa/D9WDi2yne/7P57vp8ZLN/0/kxgEVg4t/j8jCGsd+UL9P5zEILByaP0/I9v5fmq8/D9t5/up8dL9P3WTGARWDv0/arx0kxgE/j8=\",\"dtype\":\"float64\",\"order\":\"little\",\"shape\":[31]}},\"selected\":{\"id\":\"16994\"},\"selection_policy\":{\"id\":\"16995\"}},\"id\":\"16980\",\"type\":\"ColumnDataSource\"},{\"attributes\":{\"source\":{\"id\":\"17049\"}},\"id\":\"17053\",\"type\":\"CDSView\"},{\"attributes\":{\"label\":{\"value\":\"Obama\"},\"renderers\":[{\"id\":\"17084\"}]},\"id\":\"17110\",\"type\":\"LegendItem\"},{\"attributes\":{\"data_source\":{\"id\":\"16948\"},\"glyph\":{\"id\":\"16949\"},\"hover_glyph\":null,\"muted_glyph\":null,\"nonselection_glyph\":{\"id\":\"16950\"},\"selection_glyph\":null,\"view\":{\"id\":\"16952\"}},\"id\":\"16951\",\"type\":\"GlyphRenderer\"},{\"attributes\":{},\"id\":\"17059\",\"type\":\"Selection\"},{\"attributes\":{\"data_source\":{\"id\":\"17111\"},\"glyph\":{\"id\":\"17112\"},\"hover_glyph\":null,\"muted_glyph\":null,\"nonselection_glyph\":{\"id\":\"17113\"},\"selection_glyph\":null,\"view\":{\"id\":\"17115\"}},\"id\":\"17114\",\"type\":\"GlyphRenderer\"},{\"attributes\":{},\"id\":\"16971\",\"type\":\"YearsTicker\"},{\"attributes\":{\"bottom_units\":\"screen\",\"fill_alpha\":0.5,\"fill_color\":\"lightgrey\",\"left_units\":\"screen\",\"level\":\"overlay\",\"line_alpha\":1.0,\"line_color\":\"black\",\"line_dash\":[4,4],\"line_width\":2,\"right_units\":\"screen\",\"top_units\":\"screen\"},\"id\":\"17041\",\"type\":\"BoxAnnotation\"},{\"attributes\":{\"active_drag\":\"auto\",\"active_inspect\":\"auto\",\"active_multi\":null,\"active_scroll\":\"auto\",\"active_tap\":\"auto\",\"logo\":null,\"tools\":[{\"id\":\"17035\"},{\"id\":\"17036\"},{\"id\":\"17037\"},{\"id\":\"17038\"},{\"id\":\"17039\"},{\"id\":\"17040\"}]},\"id\":\"17042\",\"type\":\"Toolbar\"},{\"attributes\":{\"line_alpha\":0.6,\"line_color\":\"red\",\"x\":{\"field\":\"x\"},\"y\":{\"field\":\"y\"}},\"id\":\"16949\",\"type\":\"Line\"},{\"attributes\":{\"fill_color\":{\"value\":\"red\"},\"line_color\":{\"value\":\"red\"},\"size\":{\"units\":\"screen\",\"value\":5},\"x\":{\"field\":\"x\"},\"y\":{\"field\":\"y\"}},\"id\":\"16976\",\"type\":\"Circle\"},{\"attributes\":{\"fill_alpha\":{\"value\":0.1},\"fill_color\":{\"value\":\"red\"},\"line_alpha\":{\"value\":0.1},\"line_color\":{\"value\":\"red\"},\"size\":{\"units\":\"screen\",\"value\":5},\"x\":{\"field\":\"x\"},\"y\":{\"field\":\"y\"}},\"id\":\"17078\",\"type\":\"Circle\"},{\"attributes\":{},\"id\":\"16992\",\"type\":\"Selection\"},{\"attributes\":{},\"id\":\"17962\",\"type\":\"UnionRenderers\"},{\"attributes\":{\"source\":{\"id\":\"16980\"}},\"id\":\"16984\",\"type\":\"CDSView\"},{\"attributes\":{},\"id\":\"17920\",\"type\":\"UnionRenderers\"},{\"attributes\":{},\"id\":\"16957\",\"type\":\"BasicTickFormatter\"},{\"attributes\":{},\"id\":\"17040\",\"type\":\"HelpTool\"},{\"attributes\":{\"line_alpha\":0.1,\"line_color\":\"red\",\"x\":{\"field\":\"x\"},\"y\":{\"field\":\"y\"}},\"id\":\"17051\",\"type\":\"Line\"},{\"attributes\":{\"source\":{\"id\":\"16909\"}},\"id\":\"16913\",\"type\":\"CDSView\"},{\"attributes\":{},\"id\":\"17058\",\"type\":\"BasicTickFormatter\"},{\"attributes\":{},\"id\":\"16958\",\"type\":\"Selection\"},{\"attributes\":{\"base\":24,\"mantissas\":[1,2,4,6,8,12],\"max_interval\":43200000.0,\"min_interval\":3600000.0,\"num_minor_ticks\":0},\"id\":\"17063\",\"type\":\"AdaptiveTicker\"},{\"attributes\":{},\"id\":\"17072\",\"type\":\"YearsTicker\"},{\"attributes\":{},\"id\":\"16959\",\"type\":\"UnionRenderers\"},{\"attributes\":{},\"id\":\"16931\",\"type\":\"BasicTicker\"},{\"attributes\":{},\"id\":\"16893\",\"type\":\"Selection\"},{\"attributes\":{},\"id\":\"17039\",\"type\":\"ResetTool\"},{\"attributes\":{\"months\":[0,6]},\"id\":\"17071\",\"type\":\"MonthsTicker\"},{\"attributes\":{\"line_alpha\":0.1,\"line_color\":\"blue\",\"x\":{\"field\":\"x\"},\"y\":{\"field\":\"y\"}},\"id\":\"16982\",\"type\":\"Line\"},{\"attributes\":{\"mantissas\":[1,2,5],\"max_interval\":500.0,\"num_minor_ticks\":0},\"id\":\"16960\",\"type\":\"AdaptiveTicker\"},{\"attributes\":{\"data_source\":{\"id\":\"17081\"},\"glyph\":{\"id\":\"17082\"},\"hover_glyph\":null,\"muted_glyph\":null,\"nonselection_glyph\":{\"id\":\"17083\"},\"selection_glyph\":null,\"view\":{\"id\":\"17085\"}},\"id\":\"17084\",\"type\":\"GlyphRenderer\"},{\"attributes\":{},\"id\":\"17038\",\"type\":\"SaveTool\"},{\"attributes\":{},\"id\":\"17941\",\"type\":\"UnionRenderers\"},{\"attributes\":{\"overlay\":{\"id\":\"17041\"}},\"id\":\"17037\",\"type\":\"BoxZoomTool\"},{\"attributes\":{\"days\":[1,15]},\"id\":\"16966\",\"type\":\"DaysTicker\"},{\"attributes\":{\"days\":[1,15]},\"id\":\"17067\",\"type\":\"DaysTicker\"},{\"attributes\":{\"text\":\"2016 | Trump: 1.82 & Hillary: 1.8\"},\"id\":\"16916\",\"type\":\"Title\"},{\"attributes\":{\"source\":{\"id\":\"17010\"}},\"id\":\"17014\",\"type\":\"CDSView\"},{\"attributes\":{\"fill_color\":{\"value\":\"blue\"},\"line_color\":{\"value\":\"blue\"},\"size\":{\"units\":\"screen\",\"value\":5},\"x\":{\"field\":\"x\"},\"y\":{\"field\":\"y\"}},\"id\":\"17112\",\"type\":\"Circle\"},{\"attributes\":{},\"id\":\"16994\",\"type\":\"Selection\"},{\"attributes\":{\"label\":{\"value\":\"Hillary\"},\"renderers\":[{\"id\":\"16983\"}]},\"id\":\"17009\",\"type\":\"LegendItem\"},{\"attributes\":{\"data\":{\"x\":{\"__ndarray__\":\"AADAgbenc0IAAIDnCahzQgAAQE1cqHNCAAAAs66oc0IAAMAYAalzQgAAgH5TqXNCAABA5KWpc0IAAABK+KlzQgAAwK9KqnNCAACAFZ2qc0IAAEB776pzQgAAAOFBq3NCAADARpSrc0IAAICs5qtzQgAAQBI5rHNCAAAAeIusc0I=\",\"dtype\":\"float64\",\"order\":\"little\",\"shape\":[16]},\"y\":{\"__ndarray__\":\"mpmZmZmZ/T/2KFyPwvX8Pxsv3SQGgf0/I9v5fmq8/D+6SQwCK4f+Pz81XrpJDP4/zczMzMzM/D/pJjEIrBz+P5qZmZmZmf0//Knx0k1i/D+LbOf7qfH+Pxsv3SQGgf0/ke18PzVe/j8OLbKd76f+P65H4XoUrv8/ZDvfT42X/j8=\",\"dtype\":\"float64\",\"order\":\"little\",\"shape\":[16]}},\"selected\":{\"id\":\"17961\"},\"selection_policy\":{\"id\":\"17962\"}},\"id\":\"17111\",\"type\":\"ColumnDataSource\"},{\"attributes\":{},\"id\":\"17036\",\"type\":\"WheelZoomTool\"},{\"attributes\":{\"data\":{\"x\":{\"__ndarray__\":\"AACAbRl6dUIAAEDTa3p1QgAAADm+enVCAADAnhB7dUIAAIAEY3t1QgAAQGq1e3VCAAAA0Ad8dUIAAMA1Wnx1QgAAgJusfHVCAABAAf98dUIAAABnUX11QgAAwMyjfXVCAACAMvZ9dUIAAECYSH51QgAAAP6afnVCAADAY+1+dUIAAIDJP391QgAAQC+Sf3VCAAAAleR/dUIAAMD6NoB1QgAAgGCJgHVCAABAxtuAdUIAAAAsLoF1QgAAwJGAgXVCAACA99KBdUIAAEBdJYJ1QgAAAMN3gnVCAADAKMqCdUIAAICOHIN1QgAAQPRug3VCAAAAWsGDdUI=\",\"dtype\":\"float64\",\"order\":\"little\",\"shape\":[31]},\"y\":{\"__ndarray__\":\"Di2yne+n+j+BlUOLbOf7P4lBYOXQIvs/VOOlm8Qg/D9MN4lBYOX8P1yPwvUoXPs/XI/C9Shc+z+amZmZmZn9Pylcj8L1KPw/9P3UeOkm/T8bL90kBoH9PxfZzvdT4/0/Gy/dJAaB/T8tsp3vp8b7P8l2vp8aL/0/y6FFtvP9/D9OYhBYObT8P3WTGARWDv0/dZMYBFYO/T+iRbbz/dT8P1CNl24Sg/w/JzEIrBxa/D9WDi2yne/7P57vp8ZLN/0/kxgEVg4t/j8jCGsd+UL9P5zEILByaP0/I9v5fmq8/D9t5/up8dL9P3WTGARWDv0/arx0kxgE/j8=\",\"dtype\":\"float64\",\"order\":\"little\",\"shape\":[31]}},\"selected\":{\"id\":\"17940\"},\"selection_policy\":{\"id\":\"17941\"}},\"id\":\"17010\",\"type\":\"ColumnDataSource\"},{\"attributes\":{\"below\":[{\"id\":\"17027\"}],\"center\":[{\"id\":\"17030\"},{\"id\":\"17034\"},{\"id\":\"17074\"}],\"left\":[{\"id\":\"17031\"}],\"plot_height\":200,\"plot_width\":310,\"renderers\":[{\"id\":\"17052\"},{\"id\":\"17079\"},{\"id\":\"17084\"},{\"id\":\"17114\"}],\"title\":{\"id\":\"17017\"},\"toolbar\":{\"id\":\"17042\"},\"toolbar_location\":null,\"x_range\":{\"id\":\"17019\"},\"x_scale\":{\"id\":\"17023\"},\"y_range\":{\"id\":\"17021\"},\"y_scale\":{\"id\":\"17025\"}},\"id\":\"17016\",\"subtype\":\"Figure\",\"type\":\"Plot\"},{\"attributes\":{\"overlay\":{\"id\":\"16940\"}},\"id\":\"16936\",\"type\":\"BoxZoomTool\"},{\"attributes\":{},\"id\":\"17035\",\"type\":\"PanTool\"},{\"attributes\":{\"days\":[1,4,7,10,13,16,19,22,25,28]},\"id\":\"16964\",\"type\":\"DaysTicker\"},{\"attributes\":{},\"id\":\"17093\",\"type\":\"Selection\"},{\"attributes\":{},\"id\":\"17961\",\"type\":\"Selection\"},{\"attributes\":{\"data\":{\"x\":{\"__ndarray__\":\"AADA2zYld0IAAIBBiSV3QgAAQKfbJXdCAAAADS4md0IAAMBygCZ3QgAAgNjSJndCAABAPiUnd0IAAACkdyd3QgAAwAnKJ3dCAACAbxwod0IAAEDVbih3QgAAADvBKHdCAADAoBMpd0IAAIAGZil3QgAAQGy4KXdCAAAA0goqd0IAAMA3XSp3QgAAgJ2vKndCAABAAwIrd0IAAABpVCt3QgAAwM6mK3dCAACANPkrd0IAAECaSyx3QgAAAACeLHdCAADAZfAsd0IAAIDLQi13QgAAQDGVLXdCAAAAl+ctd0IAAMD8OS53QgAAgGKMLndCAABAyN4ud0I=\",\"dtype\":\"float64\",\"order\":\"little\",\"shape\":[31]},\"y\":{\"__ndarray__\":\"lkOLbOf7/T89CtejcD3+P6RwPQrXo/w/PzVeukkM/j+gGi/dJAb9P4PAyqFFtvs/j8L1KFyP/j9oke18PzX+P3npJjEIrPg/2/l+arx0+z8MAiuHFtn+P39qvHSTGPw/fT81XrpJ/D+sHFpkO9/7P9nO91Pjpfs/L90kBoGV+z9vEoPAyqH9P0jhehSuR/0/CtejcD0K/z9xPQrXo3D9P1g5tMh2vvs/cT0K16Nw/T+gGi/dJAb9PxSuR+F6FP4/dZMYBFYO/T/ufD81Xrr9P2IQWDm0yP4/sp3vp8ZL+z+HFtnO91P7P2ZmZmZmZv4/Vg4tsp3v+z8=\",\"dtype\":\"float64\",\"order\":\"little\",\"shape\":[31]}},\"selected\":{\"id\":\"17919\"},\"selection_policy\":{\"id\":\"17920\"}},\"id\":\"16909\",\"type\":\"ColumnDataSource\"},{\"attributes\":{\"data\":{\"x\":{\"__ndarray__\":\"AADAgbenc0IAAIDnCahzQgAAQE1cqHNCAAAAs66oc0IAAMAYAalzQgAAgH5TqXNCAABA5KWpc0IAAABK+KlzQgAAwK9KqnNCAACAFZ2qc0IAAEB776pzQgAAAOFBq3NCAADARpSrc0IAAICs5qtzQgAAQBI5rHNCAAAAeIusc0I=\",\"dtype\":\"float64\",\"order\":\"little\",\"shape\":[16]},\"y\":{\"__ndarray__\":\"xSCwcmiR/T/y0k1iEFj9PzvfT42Xbv4/FK5H4XoU/j8hsHJoke38P+xRuB6F6/0/16NwPQrX+z/HSzeJQWD9P5HtfD81Xv4/+n5qvHST/D+cxCCwcmj9P7Kd76fGS/8/kxgEVg4t/j8UrkfhehT+P4ts5/up8f4/O99PjZdu/j8=\",\"dtype\":\"float64\",\"order\":\"little\",\"shape\":[16]}},\"selected\":{\"id\":\"17059\"},\"selection_policy\":{\"id\":\"17060\"}},\"id\":\"17049\",\"type\":\"ColumnDataSource\"},{\"attributes\":{\"fill_alpha\":{\"value\":0.1},\"fill_color\":{\"value\":\"blue\"},\"line_alpha\":{\"value\":0.1},\"line_color\":{\"value\":\"blue\"},\"size\":{\"units\":\"screen\",\"value\":5},\"x\":{\"field\":\"x\"},\"y\":{\"field\":\"y\"}},\"id\":\"16911\",\"type\":\"Circle\"},{\"attributes\":{},\"id\":\"16937\",\"type\":\"SaveTool\"},{\"attributes\":{\"axis\":{\"id\":\"17031\"},\"dimension\":1,\"grid_line_alpha\":0.5,\"ticker\":null},\"id\":\"17034\",\"type\":\"Grid\"},{\"attributes\":{\"fill_alpha\":{\"value\":0.1},\"fill_color\":{\"value\":\"blue\"},\"line_alpha\":{\"value\":0.1},\"line_color\":{\"value\":\"blue\"},\"size\":{\"units\":\"screen\",\"value\":5},\"x\":{\"field\":\"x\"},\"y\":{\"field\":\"y\"}},\"id\":\"17012\",\"type\":\"Circle\"},{\"attributes\":{},\"id\":\"16939\",\"type\":\"HelpTool\"},{\"attributes\":{\"source\":{\"id\":\"17076\"}},\"id\":\"17080\",\"type\":\"CDSView\"},{\"attributes\":{\"base\":60,\"mantissas\":[1,2,5,10,15,20,30],\"max_interval\":1800000.0,\"min_interval\":1000.0,\"num_minor_ticks\":0},\"id\":\"16961\",\"type\":\"AdaptiveTicker\"},{\"attributes\":{\"source\":{\"id\":\"17081\"}},\"id\":\"17085\",\"type\":\"CDSView\"},{\"attributes\":{},\"id\":\"16938\",\"type\":\"ResetTool\"},{\"attributes\":{},\"id\":\"17032\",\"type\":\"BasicTicker\"},{\"attributes\":{},\"id\":\"17095\",\"type\":\"Selection\"},{\"attributes\":{},\"id\":\"16935\",\"type\":\"WheelZoomTool\"},{\"attributes\":{\"days\":[1,4,7,10,13,16,19,22,25,28]},\"id\":\"17065\",\"type\":\"DaysTicker\"},{\"attributes\":{\"months\":[0,4,8]},\"id\":\"17070\",\"type\":\"MonthsTicker\"},{\"attributes\":{\"axis_label\":\"Sentiment Score\",\"formatter\":{\"id\":\"17058\"},\"ticker\":{\"id\":\"17032\"}},\"id\":\"17031\",\"type\":\"LinearAxis\"},{\"attributes\":{\"source\":{\"id\":\"16975\"}},\"id\":\"16979\",\"type\":\"CDSView\"},{\"attributes\":{\"data\":{\"x\":{\"__ndarray__\":\"AADAgbenc0IAAIDnCahzQgAAQE1cqHNCAAAAs66oc0IAAMAYAalzQgAAgH5TqXNCAABA5KWpc0IAAABK+KlzQgAAwK9KqnNCAACAFZ2qc0IAAEB776pzQgAAAOFBq3NCAADARpSrc0IAAICs5qtzQgAAQBI5rHNCAAAAeIusc0I=\",\"dtype\":\"float64\",\"order\":\"little\",\"shape\":[16]},\"y\":{\"__ndarray__\":\"xSCwcmiR/T/y0k1iEFj9PzvfT42Xbv4/FK5H4XoU/j8hsHJoke38P+xRuB6F6/0/16NwPQrX+z/HSzeJQWD9P5HtfD81Xv4/+n5qvHST/D+cxCCwcmj9P7Kd76fGS/8/kxgEVg4t/j8UrkfhehT+P4ts5/up8f4/O99PjZdu/j8=\",\"dtype\":\"float64\",\"order\":\"little\",\"shape\":[16]}},\"selected\":{\"id\":\"17093\"},\"selection_policy\":{\"id\":\"17094\"}},\"id\":\"17076\",\"type\":\"ColumnDataSource\"},{\"attributes\":{\"days\":[1,8,15,22]},\"id\":\"16965\",\"type\":\"DaysTicker\"},{\"attributes\":{\"axis\":{\"id\":\"17027\"},\"grid_line_color\":null,\"ticker\":null},\"id\":\"17030\",\"type\":\"Grid\"},{\"attributes\":{\"data\":{\"x\":{\"__ndarray__\":\"AACAbRl6dUIAAEDTa3p1QgAAADm+enVCAADAnhB7dUIAAIAEY3t1QgAAQGq1e3VCAAAA0Ad8dUIAAMA1Wnx1QgAAgJusfHVCAABAAf98dUIAAABnUX11QgAAwMyjfXVCAACAMvZ9dUIAAECYSH51QgAAAP6afnVCAADAY+1+dUIAAIDJP391QgAAQC+Sf3VCAAAAleR/dUIAAMD6NoB1QgAAgGCJgHVCAABAxtuAdUIAAAAsLoF1QgAAwJGAgXVCAACA99KBdUIAAEBdJYJ1QgAAAMN3gnVCAADAKMqCdUIAAICOHIN1QgAAQPRug3VCAAAAWsGDdUI=\",\"dtype\":\"float64\",\"order\":\"little\",\"shape\":[31]},\"y\":{\"__ndarray__\":\"3SQGgZVD+z8GgZVDi2z7PycxCKwcWvw/f2q8dJMY/D/Jdr6fGi/9P/yp8dJNYvw/f2q8dJMY/D8fhetRuB79PzVeukkMAvs/hetRuB6F+z9I4XoUrkf9P2iR7Xw/Nf4/TDeJQWDl/D+iRbbz/dT8P8dLN4lBYP0/bef7qfHS/T9t5/up8dL9P8uhRbbz/fw/wcqhRbbz/T+Nl24Sg8D+P0SLbOf7qf0/O99PjZdu/j9xPQrXo3D9PzvfT42Xbv4/cT0K16Nw/T8W9nZs6gL9P5ZDi2zn+/0/bef7qfHS/T8bL90kBoH9P+58PzVeuv0/46WbxCCw/j8=\",\"dtype\":\"float64\",\"order\":\"little\",\"shape\":[31]}},\"selected\":{\"id\":\"16958\"},\"selection_policy\":{\"id\":\"16959\"}},\"id\":\"16948\",\"type\":\"ColumnDataSource\"},{\"attributes\":{\"label\":{\"value\":\"Romney\"},\"renderers\":[{\"id\":\"17052\"}]},\"id\":\"17075\",\"type\":\"LegendItem\"},{\"attributes\":{\"fill_alpha\":{\"value\":0.1},\"fill_color\":{\"value\":\"red\"},\"line_alpha\":{\"value\":0.1},\"line_color\":{\"value\":\"red\"},\"size\":{\"units\":\"screen\",\"value\":5},\"x\":{\"field\":\"x\"},\"y\":{\"field\":\"y\"}},\"id\":\"16977\",\"type\":\"Circle\"},{\"attributes\":{},\"id\":\"16955\",\"type\":\"DatetimeTickFormatter\"},{\"attributes\":{},\"id\":\"17940\",\"type\":\"Selection\"},{\"attributes\":{\"num_minor_ticks\":5,\"tickers\":[{\"id\":\"17061\"},{\"id\":\"17062\"},{\"id\":\"17063\"},{\"id\":\"17064\"},{\"id\":\"17065\"},{\"id\":\"17066\"},{\"id\":\"17067\"},{\"id\":\"17068\"},{\"id\":\"17069\"},{\"id\":\"17070\"},{\"id\":\"17071\"},{\"id\":\"17072\"}]},\"id\":\"17028\",\"type\":\"DatetimeTicker\"},{\"attributes\":{\"months\":[0,6]},\"id\":\"16970\",\"type\":\"MonthsTicker\"},{\"attributes\":{\"axis\":{\"id\":\"16930\"},\"dimension\":1,\"grid_line_alpha\":0.5,\"ticker\":null},\"id\":\"16933\",\"type\":\"Grid\"},{\"attributes\":{\"axis_label\":\"Date\",\"formatter\":{\"id\":\"17056\"},\"ticker\":{\"id\":\"17028\"}},\"id\":\"17027\",\"type\":\"DatetimeAxis\"},{\"attributes\":{\"fill_color\":{\"value\":\"blue\"},\"line_color\":{\"value\":\"blue\"},\"size\":{\"units\":\"screen\",\"value\":5},\"x\":{\"field\":\"x\"},\"y\":{\"field\":\"y\"}},\"id\":\"17011\",\"type\":\"Circle\"},{\"attributes\":{\"data_source\":{\"id\":\"16909\"},\"glyph\":{\"id\":\"16910\"},\"hover_glyph\":null,\"muted_glyph\":null,\"nonselection_glyph\":{\"id\":\"16911\"},\"selection_glyph\":null,\"view\":{\"id\":\"16913\"}},\"id\":\"16912\",\"type\":\"GlyphRenderer\"},{\"attributes\":{},\"id\":\"16922\",\"type\":\"LinearScale\"},{\"attributes\":{\"fill_alpha\":{\"value\":0.1},\"fill_color\":{\"value\":\"blue\"},\"line_alpha\":{\"value\":0.1},\"line_color\":{\"value\":\"blue\"},\"size\":{\"units\":\"screen\",\"value\":5},\"x\":{\"field\":\"x\"},\"y\":{\"field\":\"y\"}},\"id\":\"17113\",\"type\":\"Circle\"},{\"attributes\":{},\"id\":\"17025\",\"type\":\"LinearScale\"},{\"attributes\":{\"items\":[{\"id\":\"17075\"},{\"id\":\"17110\"}],\"label_text_font_size\":\"8pt\",\"location\":\"bottom_left\"},\"id\":\"17074\",\"type\":\"Legend\"},{\"attributes\":{\"data_source\":{\"id\":\"16975\"},\"glyph\":{\"id\":\"16976\"},\"hover_glyph\":null,\"muted_glyph\":null,\"nonselection_glyph\":{\"id\":\"16977\"},\"selection_glyph\":null,\"view\":{\"id\":\"16979\"}},\"id\":\"16978\",\"type\":\"GlyphRenderer\"},{\"attributes\":{\"axis_label\":\"Sentiment Score\",\"formatter\":{\"id\":\"16957\"},\"ticker\":{\"id\":\"16931\"}},\"id\":\"16930\",\"type\":\"LinearAxis\"},{\"attributes\":{},\"id\":\"17023\",\"type\":\"LinearScale\"},{\"attributes\":{\"axis\":{\"id\":\"16926\"},\"grid_line_color\":null,\"ticker\":null},\"id\":\"16929\",\"type\":\"Grid\"},{\"attributes\":{\"data\":{\"x\":{\"__ndarray__\":\"AADAgbenc0IAAIDnCahzQgAAQE1cqHNCAAAAs66oc0IAAMAYAalzQgAAgH5TqXNCAABA5KWpc0IAAABK+KlzQgAAwK9KqnNCAACAFZ2qc0IAAEB776pzQgAAAOFBq3NCAADARpSrc0IAAICs5qtzQgAAQBI5rHNCAAAAeIusc0I=\",\"dtype\":\"float64\",\"order\":\"little\",\"shape\":[16]},\"y\":{\"__ndarray__\":\"mpmZmZmZ/T/2KFyPwvX8Pxsv3SQGgf0/I9v5fmq8/D+6SQwCK4f+Pz81XrpJDP4/zczMzMzM/D/pJjEIrBz+P5qZmZmZmf0//Knx0k1i/D+LbOf7qfH+Pxsv3SQGgf0/ke18PzVe/j8OLbKd76f+P65H4XoUrv8/ZDvfT42X/j8=\",\"dtype\":\"float64\",\"order\":\"little\",\"shape\":[16]}},\"selected\":{\"id\":\"17095\"},\"selection_policy\":{\"id\":\"17096\"}},\"id\":\"17081\",\"type\":\"ColumnDataSource\"},{\"attributes\":{\"data_source\":{\"id\":\"17076\"},\"glyph\":{\"id\":\"17077\"},\"hover_glyph\":null,\"muted_glyph\":null,\"nonselection_glyph\":{\"id\":\"17078\"},\"selection_glyph\":null,\"view\":{\"id\":\"17080\"}},\"id\":\"17079\",\"type\":\"GlyphRenderer\"},{\"attributes\":{},\"id\":\"17021\",\"type\":\"DataRange1d\"},{\"attributes\":{\"num_minor_ticks\":5,\"tickers\":[{\"id\":\"16960\"},{\"id\":\"16961\"},{\"id\":\"16962\"},{\"id\":\"16963\"},{\"id\":\"16964\"},{\"id\":\"16965\"},{\"id\":\"16966\"},{\"id\":\"16967\"},{\"id\":\"16968\"},{\"id\":\"16969\"},{\"id\":\"16970\"},{\"id\":\"16971\"}]},\"id\":\"16927\",\"type\":\"DatetimeTicker\"},{\"attributes\":{\"axis_label\":\"Date\",\"formatter\":{\"id\":\"16955\"},\"ticker\":{\"id\":\"16927\"}},\"id\":\"16926\",\"type\":\"DatetimeAxis\"},{\"attributes\":{},\"id\":\"17019\",\"type\":\"DataRange1d\"},{\"attributes\":{\"text\":\"2012 | Romney: 1.86 & Obama: 1.87\"},\"id\":\"17017\",\"type\":\"Title\"},{\"attributes\":{},\"id\":\"16892\",\"type\":\"UnionRenderers\"},{\"attributes\":{},\"id\":\"16924\",\"type\":\"LinearScale\"},{\"attributes\":{\"source\":{\"id\":\"17111\"}},\"id\":\"17115\",\"type\":\"CDSView\"},{\"attributes\":{},\"id\":\"16894\",\"type\":\"UnionRenderers\"},{\"attributes\":{\"days\":[1,8,15,22]},\"id\":\"17066\",\"type\":\"DaysTicker\"},{\"attributes\":{},\"id\":\"16920\",\"type\":\"DataRange1d\"},{\"attributes\":{},\"id\":\"16854\",\"type\":\"DatetimeTickFormatter\"},{\"attributes\":{},\"id\":\"16918\",\"type\":\"DataRange1d\"},{\"attributes\":{\"months\":[0,1,2,3,4,5,6,7,8,9,10,11]},\"id\":\"16967\",\"type\":\"MonthsTicker\"},{\"attributes\":{\"line_alpha\":0.6,\"line_color\":\"blue\",\"x\":{\"field\":\"x\"},\"y\":{\"field\":\"y\"}},\"id\":\"16981\",\"type\":\"Line\"},{\"attributes\":{\"data_source\":{\"id\":\"16874\"},\"glyph\":{\"id\":\"16875\"},\"hover_glyph\":null,\"muted_glyph\":null,\"nonselection_glyph\":{\"id\":\"16876\"},\"selection_glyph\":null,\"view\":{\"id\":\"16878\"}},\"id\":\"16877\",\"type\":\"GlyphRenderer\"},{\"attributes\":{},\"id\":\"16837\",\"type\":\"ResetTool\"},{\"attributes\":{\"source\":{\"id\":\"16874\"}},\"id\":\"16878\",\"type\":\"CDSView\"},{\"attributes\":{\"source\":{\"id\":\"16879\"}},\"id\":\"16883\",\"type\":\"CDSView\"},{\"attributes\":{},\"id\":\"16838\",\"type\":\"HelpTool\"},{\"attributes\":{},\"id\":\"16856\",\"type\":\"BasicTickFormatter\"},{\"attributes\":{},\"id\":\"16819\",\"type\":\"DataRange1d\"},{\"attributes\":{\"line_alpha\":0.1,\"line_color\":\"red\",\"x\":{\"field\":\"x\"},\"y\":{\"field\":\"y\"}},\"id\":\"16849\",\"type\":\"Line\"},{\"attributes\":{\"active_drag\":\"auto\",\"active_inspect\":\"auto\",\"active_multi\":null,\"active_scroll\":\"auto\",\"active_tap\":\"auto\",\"logo\":null,\"tools\":[{\"id\":\"16833\"},{\"id\":\"16834\"},{\"id\":\"16835\"},{\"id\":\"16836\"},{\"id\":\"16837\"},{\"id\":\"16838\"}]},\"id\":\"16840\",\"type\":\"Toolbar\"},{\"attributes\":{},\"id\":\"16891\",\"type\":\"Selection\"},{\"attributes\":{\"bottom_units\":\"screen\",\"fill_alpha\":0.5,\"fill_color\":\"lightgrey\",\"left_units\":\"screen\",\"level\":\"overlay\",\"line_alpha\":1.0,\"line_color\":\"black\",\"line_dash\":[4,4],\"line_width\":2,\"right_units\":\"screen\",\"top_units\":\"screen\"},\"id\":\"16839\",\"type\":\"BoxAnnotation\"},{\"attributes\":{\"below\":[{\"id\":\"16926\"}],\"center\":[{\"id\":\"16929\"},{\"id\":\"16933\"},{\"id\":\"16973\"}],\"left\":[{\"id\":\"16930\"}],\"plot_height\":200,\"plot_width\":310,\"renderers\":[{\"id\":\"16951\"},{\"id\":\"16978\"},{\"id\":\"16983\"},{\"id\":\"17013\"}],\"title\":{\"id\":\"16916\"},\"toolbar\":{\"id\":\"16941\"},\"toolbar_location\":null,\"x_range\":{\"id\":\"16918\"},\"x_scale\":{\"id\":\"16922\"},\"y_range\":{\"id\":\"16920\"},\"y_scale\":{\"id\":\"16924\"}},\"id\":\"16915\",\"subtype\":\"Figure\",\"type\":\"Plot\"},{\"attributes\":{\"source\":{\"id\":\"16847\"}},\"id\":\"16851\",\"type\":\"CDSView\"},{\"attributes\":{\"line_alpha\":0.1,\"line_color\":\"blue\",\"x\":{\"field\":\"x\"},\"y\":{\"field\":\"y\"}},\"id\":\"16881\",\"type\":\"Line\"},{\"attributes\":{\"data_source\":{\"id\":\"16847\"},\"glyph\":{\"id\":\"16848\"},\"hover_glyph\":null,\"muted_glyph\":null,\"nonselection_glyph\":{\"id\":\"16849\"},\"selection_glyph\":null,\"view\":{\"id\":\"16851\"}},\"id\":\"16850\",\"type\":\"GlyphRenderer\"},{\"attributes\":{\"line_alpha\":0.6,\"line_color\":\"red\",\"x\":{\"field\":\"x\"},\"y\":{\"field\":\"y\"}},\"id\":\"16848\",\"type\":\"Line\"},{\"attributes\":{\"items\":[{\"id\":\"16873\"},{\"id\":\"16908\"}],\"label_text_font_size\":\"8pt\",\"location\":\"bottom_left\"},\"id\":\"16872\",\"type\":\"Legend\"},{\"attributes\":{\"mantissas\":[1,2,5],\"max_interval\":500.0,\"num_minor_ticks\":0},\"id\":\"16859\",\"type\":\"AdaptiveTicker\"},{\"attributes\":{\"months\":[0,2,4,6,8,10]},\"id\":\"16867\",\"type\":\"MonthsTicker\"},{\"attributes\":{\"base\":60,\"mantissas\":[1,2,5,10,15,20,30],\"max_interval\":1800000.0,\"min_interval\":1000.0,\"num_minor_ticks\":0},\"id\":\"16860\",\"type\":\"AdaptiveTicker\"},{\"attributes\":{\"months\":[0,1,2,3,4,5,6,7,8,9,10,11]},\"id\":\"16866\",\"type\":\"MonthsTicker\"},{\"attributes\":{},\"id\":\"16857\",\"type\":\"Selection\"},{\"attributes\":{},\"id\":\"16870\",\"type\":\"YearsTicker\"},{\"attributes\":{\"months\":[0,6]},\"id\":\"16869\",\"type\":\"MonthsTicker\"},{\"attributes\":{\"base\":24,\"mantissas\":[1,2,4,6,8,12],\"max_interval\":43200000.0,\"min_interval\":3600000.0,\"num_minor_ticks\":0},\"id\":\"16861\",\"type\":\"AdaptiveTicker\"},{\"attributes\":{\"months\":[0,1,2,3,4,5,6,7,8,9,10,11]},\"id\":\"17068\",\"type\":\"MonthsTicker\"},{\"attributes\":{\"days\":[1,2,3,4,5,6,7,8,9,10,11,12,13,14,15,16,17,18,19,20,21,22,23,24,25,26,27,28,29,30,31]},\"id\":\"16862\",\"type\":\"DaysTicker\"},{\"attributes\":{},\"id\":\"16836\",\"type\":\"SaveTool\"},{\"attributes\":{\"data\":{\"x\":{\"__ndarray__\":\"AADA2zYld0IAAIBBiSV3QgAAQKfbJXdCAAAADS4md0IAAMBygCZ3QgAAgNjSJndCAABAPiUnd0IAAACkdyd3QgAAwAnKJ3dCAACAbxwod0IAAEDVbih3QgAAADvBKHdCAADAoBMpd0IAAIAGZil3QgAAQGy4KXdCAAAA0goqd0IAAMA3XSp3QgAAgJ2vKndCAABAAwIrd0IAAABpVCt3QgAAwM6mK3dCAACANPkrd0IAAECaSyx3QgAAAACeLHdCAADAZfAsd0IAAIDLQi13QgAAQDGVLXdCAAAAl+ctd0IAAMD8OS53QgAAgGKMLndCAABAyN4ud0I=\",\"dtype\":\"float64\",\"order\":\"little\",\"shape\":[31]},\"y\":{\"__ndarray__\":\"VOOlm8Qg/D+mm8QgsHL8P/hT46WbxPw/pHA9Ctej/D/NzMzMzMz8P28Sg8DKof0/mpmZmZmZ/T/HSzeJQWD9P57vp8ZLN/0/SOF6FK5H/T/D9Shcj8L9P8uhRbbz/fw/QmDl0CLb/T9MN4lBYOX8P5HtfD81Xv4/GQRWDi2y/T9YObTIdr77P/p+arx0k/w/y6FFtvP9/D/Jdr6fGi/9P1TjpZvEIPw/9P3UeOkm/T/4U+Olm8T8P+58PzVeuv0/UrgehetR/D8xCKwcWmT7P8UgsHJokf0/16NwPQrX+z+oxks3iUH8P0w3iUFg5fw/TmIQWDm0/D8=\",\"dtype\":\"float64\",\"order\":\"little\",\"shape\":[31]}},\"selected\":{\"id\":\"16891\"},\"selection_policy\":{\"id\":\"16892\"}},\"id\":\"16874\",\"type\":\"ColumnDataSource\"},{\"attributes\":{\"label\":{\"value\":\"Trump\"},\"renderers\":[{\"id\":\"16850\"}]},\"id\":\"16873\",\"type\":\"LegendItem\"},{\"attributes\":{},\"id\":\"17056\",\"type\":\"DatetimeTickFormatter\"},{\"attributes\":{\"overlay\":{\"id\":\"16839\"}},\"id\":\"16835\",\"type\":\"BoxZoomTool\"},{\"attributes\":{\"label\":{\"value\":\"Trump\"},\"renderers\":[{\"id\":\"16951\"}]},\"id\":\"16974\",\"type\":\"LegendItem\"},{\"attributes\":{},\"id\":\"16834\",\"type\":\"WheelZoomTool\"},{\"attributes\":{},\"id\":\"16833\",\"type\":\"PanTool\"},{\"attributes\":{\"days\":[1,15]},\"id\":\"16865\",\"type\":\"DaysTicker\"},{\"attributes\":{\"line_alpha\":0.6,\"line_color\":\"blue\",\"x\":{\"field\":\"x\"},\"y\":{\"field\":\"y\"}},\"id\":\"16880\",\"type\":\"Line\"},{\"attributes\":{\"data\":{\"x\":{\"__ndarray__\":\"AADA2zYld0IAAIBBiSV3QgAAQKfbJXdCAAAADS4md0IAAMBygCZ3QgAAgNjSJndCAABAPiUnd0IAAACkdyd3QgAAwAnKJ3dCAACAbxwod0IAAEDVbih3QgAAADvBKHdCAADAoBMpd0IAAIAGZil3QgAAQGy4KXdCAAAA0goqd0IAAMA3XSp3QgAAgJ2vKndCAABAAwIrd0IAAABpVCt3QgAAwM6mK3dCAACANPkrd0IAAECaSyx3QgAAAACeLHdCAADAZfAsd0IAAIDLQi13QgAAQDGVLXdCAAAAl+ctd0IAAMD8OS53QgAAgGKMLndCAABAyN4ud0I=\",\"dtype\":\"float64\",\"order\":\"little\",\"shape\":[31]},\"y\":{\"__ndarray__\":\"VOOlm8Qg/D+mm8QgsHL8P/hT46WbxPw/pHA9Ctej/D/NzMzMzMz8P28Sg8DKof0/mpmZmZmZ/T/HSzeJQWD9P57vp8ZLN/0/SOF6FK5H/T/D9Shcj8L9P8uhRbbz/fw/QmDl0CLb/T9MN4lBYOX8P5HtfD81Xv4/GQRWDi2y/T9YObTIdr77P/p+arx0k/w/y6FFtvP9/D/Jdr6fGi/9P1TjpZvEIPw/9P3UeOkm/T/4U+Olm8T8P+58PzVeuv0/UrgehetR/D8xCKwcWmT7P8UgsHJokf0/16NwPQrX+z+oxks3iUH8P0w3iUFg5fw/TmIQWDm0/D8=\",\"dtype\":\"float64\",\"order\":\"little\",\"shape\":[31]}},\"selected\":{\"id\":\"16857\"},\"selection_policy\":{\"id\":\"16858\"}},\"id\":\"16847\",\"type\":\"ColumnDataSource\"},{\"attributes\":{},\"id\":\"16858\",\"type\":\"UnionRenderers\"},{\"attributes\":{\"days\":[1,8,15,22]},\"id\":\"16864\",\"type\":\"DaysTicker\"},{\"attributes\":{\"num_minor_ticks\":5,\"tickers\":[{\"id\":\"16859\"},{\"id\":\"16860\"},{\"id\":\"16861\"},{\"id\":\"16862\"},{\"id\":\"16863\"},{\"id\":\"16864\"},{\"id\":\"16865\"},{\"id\":\"16866\"},{\"id\":\"16867\"},{\"id\":\"16868\"},{\"id\":\"16869\"},{\"id\":\"16870\"}]},\"id\":\"16826\",\"type\":\"DatetimeTicker\"},{\"attributes\":{\"axis\":{\"id\":\"16829\"},\"dimension\":1,\"grid_line_alpha\":0.5,\"ticker\":null},\"id\":\"16832\",\"type\":\"Grid\"},{\"attributes\":{},\"id\":\"16830\",\"type\":\"BasicTicker\"},{\"attributes\":{\"axis_label\":\"Sentiment Score\",\"formatter\":{\"id\":\"16856\"},\"ticker\":{\"id\":\"16830\"}},\"id\":\"16829\",\"type\":\"LinearAxis\"},{\"attributes\":{\"below\":[{\"id\":\"16825\"}],\"center\":[{\"id\":\"16828\"},{\"id\":\"16832\"},{\"id\":\"16872\"}],\"left\":[{\"id\":\"16829\"}],\"plot_height\":200,\"plot_width\":310,\"renderers\":[{\"id\":\"16850\"},{\"id\":\"16877\"},{\"id\":\"16882\"},{\"id\":\"16912\"}],\"title\":{\"id\":\"16815\"},\"toolbar\":{\"id\":\"16840\"},\"toolbar_location\":null,\"x_range\":{\"id\":\"16817\"},\"x_scale\":{\"id\":\"16821\"},\"y_range\":{\"id\":\"16819\"},\"y_scale\":{\"id\":\"16823\"}},\"id\":\"16814\",\"subtype\":\"Figure\",\"type\":\"Plot\"},{\"attributes\":{\"fill_alpha\":{\"value\":0.1},\"fill_color\":{\"value\":\"red\"},\"line_alpha\":{\"value\":0.1},\"line_color\":{\"value\":\"red\"},\"size\":{\"units\":\"screen\",\"value\":5},\"x\":{\"field\":\"x\"},\"y\":{\"field\":\"y\"}},\"id\":\"16876\",\"type\":\"Circle\"},{\"attributes\":{\"axis\":{\"id\":\"16825\"},\"grid_line_color\":null,\"ticker\":null},\"id\":\"16828\",\"type\":\"Grid\"},{\"attributes\":{\"fill_color\":{\"value\":\"red\"},\"line_color\":{\"value\":\"red\"},\"size\":{\"units\":\"screen\",\"value\":5},\"x\":{\"field\":\"x\"},\"y\":{\"field\":\"y\"}},\"id\":\"16875\",\"type\":\"Circle\"},{\"attributes\":{\"data_source\":{\"id\":\"16879\"},\"glyph\":{\"id\":\"16880\"},\"hover_glyph\":null,\"muted_glyph\":null,\"nonselection_glyph\":{\"id\":\"16881\"},\"selection_glyph\":null,\"view\":{\"id\":\"16883\"}},\"id\":\"16882\",\"type\":\"GlyphRenderer\"},{\"attributes\":{\"base\":24,\"mantissas\":[1,2,4,6,8,12],\"max_interval\":43200000.0,\"min_interval\":3600000.0,\"num_minor_ticks\":0},\"id\":\"16962\",\"type\":\"AdaptiveTicker\"},{\"attributes\":{\"days\":[1,2,3,4,5,6,7,8,9,10,11,12,13,14,15,16,17,18,19,20,21,22,23,24,25,26,27,28,29,30,31]},\"id\":\"16963\",\"type\":\"DaysTicker\"},{\"attributes\":{\"months\":[0,4,8]},\"id\":\"16868\",\"type\":\"MonthsTicker\"},{\"attributes\":{\"data\":{\"x\":{\"__ndarray__\":\"AADA2zYld0IAAIBBiSV3QgAAQKfbJXdCAAAADS4md0IAAMBygCZ3QgAAgNjSJndCAABAPiUnd0IAAACkdyd3QgAAwAnKJ3dCAACAbxwod0IAAEDVbih3QgAAADvBKHdCAADAoBMpd0IAAIAGZil3QgAAQGy4KXdCAAAA0goqd0IAAMA3XSp3QgAAgJ2vKndCAABAAwIrd0IAAABpVCt3QgAAwM6mK3dCAACANPkrd0IAAECaSyx3QgAAAACeLHdCAADAZfAsd0IAAIDLQi13QgAAQDGVLXdCAAAAl+ctd0IAAMD8OS53QgAAgGKMLndCAABAyN4ud0I=\",\"dtype\":\"float64\",\"order\":\"little\",\"shape\":[31]},\"y\":{\"__ndarray__\":\"lkOLbOf7/T89CtejcD3+P6RwPQrXo/w/PzVeukkM/j+gGi/dJAb9P4PAyqFFtvs/j8L1KFyP/j9oke18PzX+P3npJjEIrPg/2/l+arx0+z8MAiuHFtn+P39qvHSTGPw/fT81XrpJ/D+sHFpkO9/7P9nO91Pjpfs/L90kBoGV+z9vEoPAyqH9P0jhehSuR/0/CtejcD0K/z9xPQrXo3D9P1g5tMh2vvs/cT0K16Nw/T+gGi/dJAb9PxSuR+F6FP4/dZMYBFYO/T/ufD81Xrr9P2IQWDm0yP4/sp3vp8ZL+z+HFtnO91P7P2ZmZmZmZv4/Vg4tsp3v+z8=\",\"dtype\":\"float64\",\"order\":\"little\",\"shape\":[31]}},\"selected\":{\"id\":\"16893\"},\"selection_policy\":{\"id\":\"16894\"}},\"id\":\"16879\",\"type\":\"ColumnDataSource\"},{\"attributes\":{\"axis_label\":\"Date\",\"formatter\":{\"id\":\"16854\"},\"ticker\":{\"id\":\"16826\"}},\"id\":\"16825\",\"type\":\"DatetimeAxis\"},{\"attributes\":{},\"id\":\"16823\",\"type\":\"LinearScale\"},{\"attributes\":{\"data\":{\"x\":{\"__ndarray__\":\"AACAbRl6dUIAAEDTa3p1QgAAADm+enVCAADAnhB7dUIAAIAEY3t1QgAAQGq1e3VCAAAA0Ad8dUIAAMA1Wnx1QgAAgJusfHVCAABAAf98dUIAAABnUX11QgAAwMyjfXVCAACAMvZ9dUIAAECYSH51QgAAAP6afnVCAADAY+1+dUIAAIDJP391QgAAQC+Sf3VCAAAAleR/dUIAAMD6NoB1QgAAgGCJgHVCAABAxtuAdUIAAAAsLoF1QgAAwJGAgXVCAACA99KBdUIAAEBdJYJ1QgAAAMN3gnVCAADAKMqCdUIAAICOHIN1QgAAQPRug3VCAAAAWsGDdUI=\",\"dtype\":\"float64\",\"order\":\"little\",\"shape\":[31]},\"y\":{\"__ndarray__\":\"3SQGgZVD+z8GgZVDi2z7PycxCKwcWvw/f2q8dJMY/D/Jdr6fGi/9P/yp8dJNYvw/f2q8dJMY/D8fhetRuB79PzVeukkMAvs/hetRuB6F+z9I4XoUrkf9P2iR7Xw/Nf4/TDeJQWDl/D+iRbbz/dT8P8dLN4lBYP0/bef7qfHS/T9t5/up8dL9P8uhRbbz/fw/wcqhRbbz/T+Nl24Sg8D+P0SLbOf7qf0/O99PjZdu/j9xPQrXo3D9PzvfT42Xbv4/cT0K16Nw/T8W9nZs6gL9P5ZDi2zn+/0/bef7qfHS/T8bL90kBoH9P+58PzVeuv0/46WbxCCw/j8=\",\"dtype\":\"float64\",\"order\":\"little\",\"shape\":[31]}},\"selected\":{\"id\":\"16992\"},\"selection_policy\":{\"id\":\"16993\"}},\"id\":\"16975\",\"type\":\"ColumnDataSource\"},{\"attributes\":{\"days\":[1,4,7,10,13,16,19,22,25,28]},\"id\":\"16863\",\"type\":\"DaysTicker\"},{\"attributes\":{},\"id\":\"16821\",\"type\":\"LinearScale\"},{\"attributes\":{},\"id\":\"16817\",\"type\":\"DataRange1d\"},{\"attributes\":{\"text\":\"2020 | Trump: 1.81 & Biden: 1.81\"},\"id\":\"16815\",\"type\":\"Title\"}],\"root_ids\":[\"17117\"]},\"title\":\"Bokeh Application\",\"version\":\"2.1.1\"}};\n",
       "  var render_items = [{\"docid\":\"b6575ef1-5ca5-4d72-b0b0-e9e2e5fd0d73\",\"root_ids\":[\"17117\"],\"roots\":{\"17117\":\"b5e5bbaf-398a-47ef-827c-2e33dcaec2c9\"}}];\n",
       "  root.Bokeh.embed.embed_items_notebook(docs_json, render_items);\n",
       "\n",
       "  }\n",
       "  if (root.Bokeh !== undefined) {\n",
       "    embed_document(root);\n",
       "  } else {\n",
       "    var attempts = 0;\n",
       "    var timer = setInterval(function(root) {\n",
       "      if (root.Bokeh !== undefined) {\n",
       "        clearInterval(timer);\n",
       "        embed_document(root);\n",
       "      } else {\n",
       "        attempts++;\n",
       "        if (attempts > 100) {\n",
       "          clearInterval(timer);\n",
       "          console.log(\"Bokeh: ERROR: Unable to run BokehJS code because BokehJS library is missing\");\n",
       "        }\n",
       "      }\n",
       "    }, 10, root)\n",
       "  }\n",
       "})(window);"
      ],
      "application/vnd.bokehjs_exec.v0+json": ""
     },
     "metadata": {
      "application/vnd.bokehjs_exec.v0+json": {
       "id": "17117"
      }
     },
     "output_type": "display_data"
    }
   ],
   "source": [
    "df_trump = get_plot_data('twtsentdata/candidate/2020/trump/2020_trump.csv')\n",
    "df_biden = get_plot_data('twtsentdata/candidate/2020/biden/2020_biden.csv')\n",
    "\n",
    "p_2020_cand = plot_chart(df_trump, df_biden, 'Trump', 'Biden', \"2020 \")\n",
    "\n",
    "df_trump_16 = get_plot_data('twtsentdata/candidate/2016/trump/2016_trump.csv')\n",
    "df_hillary = get_plot_data('twtsentdata/candidate/2016/hillary/2016_hillary.csv')\n",
    "\n",
    "p_2016_cand = plot_chart(df_trump_16, df_hillary, 'Trump', 'Hillary', \"2016 \")\n",
    "\n",
    "df_obama = get_plot_data('twtsentdata/candidate/2012/obama/2012_obama.csv')\n",
    "df_romney = get_plot_data('twtsentdata/candidate/2012/romney/2012_romney.csv')\n",
    "\n",
    "p_2012_cand = plot_chart(df_obama, df_romney, 'Romney', 'Obama', \"2012 \")\n",
    "\n",
    "# put all the plots in an HBox\n",
    "p = row(p_2020_cand, p_2016_cand, p_2012_cand)\n",
    "\n",
    "# show the results\n",
    "show(p)"
   ]
  },
  {
   "cell_type": "code",
   "execution_count": 37,
   "metadata": {},
   "outputs": [
    {
     "data": {
      "text/html": [
       "\n",
       "\n",
       "\n",
       "\n",
       "\n",
       "\n",
       "  <div class=\"bk-root\" id=\"2aaf665a-3f54-4fdd-b6ee-93b0a5623c39\" data-root-id=\"7968\"></div>\n"
      ]
     },
     "metadata": {},
     "output_type": "display_data"
    },
    {
     "data": {
      "application/javascript": [
       "(function(root) {\n",
       "  function embed_document(root) {\n",
       "    \n",
       "  var docs_json = {\"f79af8c7-9283-449c-ae94-d009f45b7c4b\":{\"roots\":{\"references\":[{\"attributes\":{\"below\":[{\"id\":\"7979\"}],\"center\":[{\"id\":\"7982\"},{\"id\":\"7986\"},{\"id\":\"8026\"}],\"left\":[{\"id\":\"7983\"}],\"plot_height\":250,\"plot_width\":410,\"renderers\":[{\"id\":\"8004\"},{\"id\":\"8031\"},{\"id\":\"8036\"},{\"id\":\"8066\"}],\"title\":{\"id\":\"7969\"},\"toolbar\":{\"id\":\"7994\"},\"toolbar_location\":null,\"x_range\":{\"id\":\"7971\"},\"x_scale\":{\"id\":\"7975\"},\"y_range\":{\"id\":\"7973\"},\"y_scale\":{\"id\":\"7977\"}},\"id\":\"7968\",\"subtype\":\"Figure\",\"type\":\"Plot\"},{\"attributes\":{\"days\":[1,8,15,22]},\"id\":\"8018\",\"type\":\"DaysTicker\"},{\"attributes\":{\"overlay\":{\"id\":\"7993\"}},\"id\":\"7989\",\"type\":\"BoxZoomTool\"},{\"attributes\":{\"active_drag\":\"auto\",\"active_inspect\":\"auto\",\"active_multi\":null,\"active_scroll\":\"auto\",\"active_tap\":\"auto\",\"logo\":null,\"tools\":[{\"id\":\"7987\"},{\"id\":\"7988\"},{\"id\":\"7989\"},{\"id\":\"7990\"},{\"id\":\"7991\"},{\"id\":\"7992\"}]},\"id\":\"7994\",\"type\":\"Toolbar\"},{\"attributes\":{\"days\":[1,4,7,10,13,16,19,22,25,28]},\"id\":\"8017\",\"type\":\"DaysTicker\"},{\"attributes\":{},\"id\":\"8024\",\"type\":\"YearsTicker\"},{\"attributes\":{},\"id\":\"7984\",\"type\":\"BasicTicker\"},{\"attributes\":{\"source\":{\"id\":\"8001\"}},\"id\":\"8005\",\"type\":\"CDSView\"},{\"attributes\":{\"fill_alpha\":{\"value\":0.1},\"fill_color\":{\"value\":\"red\"},\"line_alpha\":{\"value\":0.1},\"line_color\":{\"value\":\"red\"},\"size\":{\"units\":\"screen\",\"value\":5},\"x\":{\"field\":\"x\"},\"y\":{\"field\":\"y\"}},\"id\":\"8030\",\"type\":\"Circle\"},{\"attributes\":{},\"id\":\"7992\",\"type\":\"HelpTool\"},{\"attributes\":{\"text\":\"Candidate (2016 - 30 Days) | Trump: 1.82 & Hillary: 1.81\"},\"id\":\"7969\",\"type\":\"Title\"},{\"attributes\":{\"data_source\":{\"id\":\"8028\"},\"glyph\":{\"id\":\"8029\"},\"hover_glyph\":null,\"muted_glyph\":null,\"nonselection_glyph\":{\"id\":\"8030\"},\"selection_glyph\":null,\"view\":{\"id\":\"8032\"}},\"id\":\"8031\",\"type\":\"GlyphRenderer\"},{\"attributes\":{},\"id\":\"7975\",\"type\":\"LinearScale\"},{\"attributes\":{\"data_source\":{\"id\":\"8001\"},\"glyph\":{\"id\":\"8002\"},\"hover_glyph\":null,\"muted_glyph\":null,\"nonselection_glyph\":{\"id\":\"8003\"},\"selection_glyph\":null,\"view\":{\"id\":\"8005\"}},\"id\":\"8004\",\"type\":\"GlyphRenderer\"},{\"attributes\":{},\"id\":\"7977\",\"type\":\"LinearScale\"},{\"attributes\":{},\"id\":\"7991\",\"type\":\"ResetTool\"},{\"attributes\":{\"source\":{\"id\":\"8033\"}},\"id\":\"8037\",\"type\":\"CDSView\"},{\"attributes\":{},\"id\":\"8046\",\"type\":\"UnionRenderers\"},{\"attributes\":{\"data\":{\"x\":{\"__ndarray__\":\"AACAbRl6dUIAAEDTa3p1QgAAADm+enVCAADAnhB7dUIAAIAEY3t1QgAAQGq1e3VCAAAA0Ad8dUIAAMA1Wnx1QgAAgJusfHVCAABAAf98dUIAAABnUX11QgAAwMyjfXVCAACAMvZ9dUIAAECYSH51QgAAAP6afnVCAADAY+1+dUIAAIDJP391QgAAQC+Sf3VCAAAAleR/dUIAAMD6NoB1QgAAgGCJgHVCAABAxtuAdUIAAAAsLoF1QgAAwJGAgXVCAACA99KBdUIAAEBdJYJ1QgAAAMN3gnVCAADAKMqCdUIAAICOHIN1QgAAQPRug3VCAAAAWsGDdUI=\",\"dtype\":\"float64\",\"order\":\"little\",\"shape\":[31]},\"y\":{\"__ndarray__\":\"Di2yne+n+j+BlUOLbOf7P4lBYOXQIvs/VOOlm8Qg/D9MN4lBYOX8P1yPwvUoXPs/XI/C9Shc+z+amZmZmZn9Pylcj8L1KPw/9P3UeOkm/T8bL90kBoH9PxfZzvdT4/0/Gy/dJAaB/T8tsp3vp8b7P8l2vp8aL/0/y6FFtvP9/D9OYhBYObT8P3WTGARWDv0/dZMYBFYO/T+iRbbz/dT8P1CNl24Sg/w/JzEIrBxa/D9WDi2yne/7P57vp8ZLN/0/kxgEVg4t/j8jCGsd+UL9P5zEILByaP0/I9v5fmq8/D9t5/up8dL9P3WTGARWDv0/arx0kxgE/j8=\",\"dtype\":\"float64\",\"order\":\"little\",\"shape\":[31]}},\"selected\":{\"id\":\"8470\"},\"selection_policy\":{\"id\":\"8471\"}},\"id\":\"8063\",\"type\":\"ColumnDataSource\"},{\"attributes\":{},\"id\":\"7990\",\"type\":\"SaveTool\"},{\"attributes\":{\"axis\":{\"id\":\"7983\"},\"dimension\":1,\"grid_line_alpha\":0.5,\"ticker\":null},\"id\":\"7986\",\"type\":\"Grid\"},{\"attributes\":{\"source\":{\"id\":\"8028\"}},\"id\":\"8032\",\"type\":\"CDSView\"},{\"attributes\":{\"line_alpha\":0.6,\"line_color\":\"red\",\"x\":{\"field\":\"x\"},\"y\":{\"field\":\"y\"}},\"id\":\"8002\",\"type\":\"Line\"},{\"attributes\":{},\"id\":\"8010\",\"type\":\"BasicTickFormatter\"},{\"attributes\":{},\"id\":\"7988\",\"type\":\"WheelZoomTool\"},{\"attributes\":{},\"id\":\"8011\",\"type\":\"Selection\"},{\"attributes\":{\"line_alpha\":0.6,\"line_color\":\"blue\",\"x\":{\"field\":\"x\"},\"y\":{\"field\":\"y\"}},\"id\":\"8034\",\"type\":\"Line\"},{\"attributes\":{},\"id\":\"7987\",\"type\":\"PanTool\"},{\"attributes\":{\"fill_color\":{\"value\":\"blue\"},\"line_color\":{\"value\":\"blue\"},\"size\":{\"units\":\"screen\",\"value\":5},\"x\":{\"field\":\"x\"},\"y\":{\"field\":\"y\"}},\"id\":\"8064\",\"type\":\"Circle\"},{\"attributes\":{\"base\":24,\"mantissas\":[1,2,4,6,8,12],\"max_interval\":43200000.0,\"min_interval\":3600000.0,\"num_minor_ticks\":0},\"id\":\"8015\",\"type\":\"AdaptiveTicker\"},{\"attributes\":{},\"id\":\"8012\",\"type\":\"UnionRenderers\"},{\"attributes\":{\"label\":{\"value\":\"Trump\"},\"renderers\":[{\"id\":\"8004\"}]},\"id\":\"8027\",\"type\":\"LegendItem\"},{\"attributes\":{},\"id\":\"8047\",\"type\":\"Selection\"},{\"attributes\":{},\"id\":\"7971\",\"type\":\"DataRange1d\"},{\"attributes\":{},\"id\":\"8471\",\"type\":\"UnionRenderers\"},{\"attributes\":{},\"id\":\"8048\",\"type\":\"UnionRenderers\"},{\"attributes\":{\"mantissas\":[1,2,5],\"max_interval\":500.0,\"num_minor_ticks\":0},\"id\":\"8013\",\"type\":\"AdaptiveTicker\"},{\"attributes\":{\"data\":{\"x\":{\"__ndarray__\":\"AACAbRl6dUIAAEDTa3p1QgAAADm+enVCAADAnhB7dUIAAIAEY3t1QgAAQGq1e3VCAAAA0Ad8dUIAAMA1Wnx1QgAAgJusfHVCAABAAf98dUIAAABnUX11QgAAwMyjfXVCAACAMvZ9dUIAAECYSH51QgAAAP6afnVCAADAY+1+dUIAAIDJP391QgAAQC+Sf3VCAAAAleR/dUIAAMD6NoB1QgAAgGCJgHVCAABAxtuAdUIAAAAsLoF1QgAAwJGAgXVCAACA99KBdUIAAEBdJYJ1QgAAAMN3gnVCAADAKMqCdUIAAICOHIN1QgAAQPRug3VCAAAAWsGDdUI=\",\"dtype\":\"float64\",\"order\":\"little\",\"shape\":[31]},\"y\":{\"__ndarray__\":\"3SQGgZVD+z8GgZVDi2z7PycxCKwcWvw/f2q8dJMY/D/Jdr6fGi/9P/yp8dJNYvw/f2q8dJMY/D8fhetRuB79PzVeukkMAvs/hetRuB6F+z9I4XoUrkf9P2iR7Xw/Nf4/TDeJQWDl/D+iRbbz/dT8P8dLN4lBYP0/bef7qfHS/T9t5/up8dL9P8uhRbbz/fw/wcqhRbbz/T+Nl24Sg8D+P0SLbOf7qf0/O99PjZdu/j9xPQrXo3D9PzvfT42Xbv4/cT0K16Nw/T8W9nZs6gL9P5ZDi2zn+/0/bef7qfHS/T8bL90kBoH9P+58PzVeuv0/46WbxCCw/j8=\",\"dtype\":\"float64\",\"order\":\"little\",\"shape\":[31]}},\"selected\":{\"id\":\"8011\"},\"selection_policy\":{\"id\":\"8012\"}},\"id\":\"8001\",\"type\":\"ColumnDataSource\"},{\"attributes\":{},\"id\":\"8045\",\"type\":\"Selection\"},{\"attributes\":{\"data_source\":{\"id\":\"8063\"},\"glyph\":{\"id\":\"8064\"},\"hover_glyph\":null,\"muted_glyph\":null,\"nonselection_glyph\":{\"id\":\"8065\"},\"selection_glyph\":null,\"view\":{\"id\":\"8067\"}},\"id\":\"8066\",\"type\":\"GlyphRenderer\"},{\"attributes\":{\"days\":[1,15]},\"id\":\"8019\",\"type\":\"DaysTicker\"},{\"attributes\":{\"fill_color\":{\"value\":\"red\"},\"line_color\":{\"value\":\"red\"},\"size\":{\"units\":\"screen\",\"value\":5},\"x\":{\"field\":\"x\"},\"y\":{\"field\":\"y\"}},\"id\":\"8029\",\"type\":\"Circle\"},{\"attributes\":{\"days\":[1,2,3,4,5,6,7,8,9,10,11,12,13,14,15,16,17,18,19,20,21,22,23,24,25,26,27,28,29,30,31]},\"id\":\"8016\",\"type\":\"DaysTicker\"},{\"attributes\":{\"label\":{\"value\":\"Hillary\"},\"renderers\":[{\"id\":\"8036\"}]},\"id\":\"8062\",\"type\":\"LegendItem\"},{\"attributes\":{},\"id\":\"8008\",\"type\":\"DatetimeTickFormatter\"},{\"attributes\":{\"months\":[0,4,8]},\"id\":\"8022\",\"type\":\"MonthsTicker\"},{\"attributes\":{\"fill_alpha\":{\"value\":0.1},\"fill_color\":{\"value\":\"blue\"},\"line_alpha\":{\"value\":0.1},\"line_color\":{\"value\":\"blue\"},\"size\":{\"units\":\"screen\",\"value\":5},\"x\":{\"field\":\"x\"},\"y\":{\"field\":\"y\"}},\"id\":\"8065\",\"type\":\"Circle\"},{\"attributes\":{\"items\":[{\"id\":\"8027\"},{\"id\":\"8062\"}],\"location\":\"bottom_right\"},\"id\":\"8026\",\"type\":\"Legend\"},{\"attributes\":{\"axis_label\":\"Sentiment Score\",\"formatter\":{\"id\":\"8010\"},\"ticker\":{\"id\":\"7984\"}},\"id\":\"7983\",\"type\":\"LinearAxis\"},{\"attributes\":{\"months\":[0,6]},\"id\":\"8023\",\"type\":\"MonthsTicker\"},{\"attributes\":{\"data\":{\"x\":{\"__ndarray__\":\"AACAbRl6dUIAAEDTa3p1QgAAADm+enVCAADAnhB7dUIAAIAEY3t1QgAAQGq1e3VCAAAA0Ad8dUIAAMA1Wnx1QgAAgJusfHVCAABAAf98dUIAAABnUX11QgAAwMyjfXVCAACAMvZ9dUIAAECYSH51QgAAAP6afnVCAADAY+1+dUIAAIDJP391QgAAQC+Sf3VCAAAAleR/dUIAAMD6NoB1QgAAgGCJgHVCAABAxtuAdUIAAAAsLoF1QgAAwJGAgXVCAACA99KBdUIAAEBdJYJ1QgAAAMN3gnVCAADAKMqCdUIAAICOHIN1QgAAQPRug3VCAAAAWsGDdUI=\",\"dtype\":\"float64\",\"order\":\"little\",\"shape\":[31]},\"y\":{\"__ndarray__\":\"Di2yne+n+j+BlUOLbOf7P4lBYOXQIvs/VOOlm8Qg/D9MN4lBYOX8P1yPwvUoXPs/XI/C9Shc+z+amZmZmZn9Pylcj8L1KPw/9P3UeOkm/T8bL90kBoH9PxfZzvdT4/0/Gy/dJAaB/T8tsp3vp8b7P8l2vp8aL/0/y6FFtvP9/D9OYhBYObT8P3WTGARWDv0/dZMYBFYO/T+iRbbz/dT8P1CNl24Sg/w/JzEIrBxa/D9WDi2yne/7P57vp8ZLN/0/kxgEVg4t/j8jCGsd+UL9P5zEILByaP0/I9v5fmq8/D9t5/up8dL9P3WTGARWDv0/arx0kxgE/j8=\",\"dtype\":\"float64\",\"order\":\"little\",\"shape\":[31]}},\"selected\":{\"id\":\"8047\"},\"selection_policy\":{\"id\":\"8048\"}},\"id\":\"8033\",\"type\":\"ColumnDataSource\"},{\"attributes\":{\"data_source\":{\"id\":\"8033\"},\"glyph\":{\"id\":\"8034\"},\"hover_glyph\":null,\"muted_glyph\":null,\"nonselection_glyph\":{\"id\":\"8035\"},\"selection_glyph\":null,\"view\":{\"id\":\"8037\"}},\"id\":\"8036\",\"type\":\"GlyphRenderer\"},{\"attributes\":{\"axis\":{\"id\":\"7979\"},\"grid_line_color\":null,\"ticker\":null},\"id\":\"7982\",\"type\":\"Grid\"},{\"attributes\":{},\"id\":\"8470\",\"type\":\"Selection\"},{\"attributes\":{\"months\":[0,2,4,6,8,10]},\"id\":\"8021\",\"type\":\"MonthsTicker\"},{\"attributes\":{\"num_minor_ticks\":5,\"tickers\":[{\"id\":\"8013\"},{\"id\":\"8014\"},{\"id\":\"8015\"},{\"id\":\"8016\"},{\"id\":\"8017\"},{\"id\":\"8018\"},{\"id\":\"8019\"},{\"id\":\"8020\"},{\"id\":\"8021\"},{\"id\":\"8022\"},{\"id\":\"8023\"},{\"id\":\"8024\"}]},\"id\":\"7980\",\"type\":\"DatetimeTicker\"},{\"attributes\":{\"base\":60,\"mantissas\":[1,2,5,10,15,20,30],\"max_interval\":1800000.0,\"min_interval\":1000.0,\"num_minor_ticks\":0},\"id\":\"8014\",\"type\":\"AdaptiveTicker\"},{\"attributes\":{\"bottom_units\":\"screen\",\"fill_alpha\":0.5,\"fill_color\":\"lightgrey\",\"left_units\":\"screen\",\"level\":\"overlay\",\"line_alpha\":1.0,\"line_color\":\"black\",\"line_dash\":[4,4],\"line_width\":2,\"right_units\":\"screen\",\"top_units\":\"screen\"},\"id\":\"7993\",\"type\":\"BoxAnnotation\"},{\"attributes\":{\"line_alpha\":0.1,\"line_color\":\"red\",\"x\":{\"field\":\"x\"},\"y\":{\"field\":\"y\"}},\"id\":\"8003\",\"type\":\"Line\"},{\"attributes\":{\"axis_label\":\"Date\",\"formatter\":{\"id\":\"8008\"},\"ticker\":{\"id\":\"7980\"}},\"id\":\"7979\",\"type\":\"DatetimeAxis\"},{\"attributes\":{\"line_alpha\":0.1,\"line_color\":\"blue\",\"x\":{\"field\":\"x\"},\"y\":{\"field\":\"y\"}},\"id\":\"8035\",\"type\":\"Line\"},{\"attributes\":{\"source\":{\"id\":\"8063\"}},\"id\":\"8067\",\"type\":\"CDSView\"},{\"attributes\":{\"months\":[0,1,2,3,4,5,6,7,8,9,10,11]},\"id\":\"8020\",\"type\":\"MonthsTicker\"},{\"attributes\":{},\"id\":\"7973\",\"type\":\"DataRange1d\"},{\"attributes\":{\"data\":{\"x\":{\"__ndarray__\":\"AACAbRl6dUIAAEDTa3p1QgAAADm+enVCAADAnhB7dUIAAIAEY3t1QgAAQGq1e3VCAAAA0Ad8dUIAAMA1Wnx1QgAAgJusfHVCAABAAf98dUIAAABnUX11QgAAwMyjfXVCAACAMvZ9dUIAAECYSH51QgAAAP6afnVCAADAY+1+dUIAAIDJP391QgAAQC+Sf3VCAAAAleR/dUIAAMD6NoB1QgAAgGCJgHVCAABAxtuAdUIAAAAsLoF1QgAAwJGAgXVCAACA99KBdUIAAEBdJYJ1QgAAAMN3gnVCAADAKMqCdUIAAICOHIN1QgAAQPRug3VCAAAAWsGDdUI=\",\"dtype\":\"float64\",\"order\":\"little\",\"shape\":[31]},\"y\":{\"__ndarray__\":\"3SQGgZVD+z8GgZVDi2z7PycxCKwcWvw/f2q8dJMY/D/Jdr6fGi/9P/yp8dJNYvw/f2q8dJMY/D8fhetRuB79PzVeukkMAvs/hetRuB6F+z9I4XoUrkf9P2iR7Xw/Nf4/TDeJQWDl/D+iRbbz/dT8P8dLN4lBYP0/bef7qfHS/T9t5/up8dL9P8uhRbbz/fw/wcqhRbbz/T+Nl24Sg8D+P0SLbOf7qf0/O99PjZdu/j9xPQrXo3D9PzvfT42Xbv4/cT0K16Nw/T8W9nZs6gL9P5ZDi2zn+/0/bef7qfHS/T8bL90kBoH9P+58PzVeuv0/46WbxCCw/j8=\",\"dtype\":\"float64\",\"order\":\"little\",\"shape\":[31]}},\"selected\":{\"id\":\"8045\"},\"selection_policy\":{\"id\":\"8046\"}},\"id\":\"8028\",\"type\":\"ColumnDataSource\"}],\"root_ids\":[\"7968\"]},\"title\":\"Bokeh Application\",\"version\":\"2.1.1\"}};\n",
       "  var render_items = [{\"docid\":\"f79af8c7-9283-449c-ae94-d009f45b7c4b\",\"root_ids\":[\"7968\"],\"roots\":{\"7968\":\"2aaf665a-3f54-4fdd-b6ee-93b0a5623c39\"}}];\n",
       "  root.Bokeh.embed.embed_items_notebook(docs_json, render_items);\n",
       "\n",
       "  }\n",
       "  if (root.Bokeh !== undefined) {\n",
       "    embed_document(root);\n",
       "  } else {\n",
       "    var attempts = 0;\n",
       "    var timer = setInterval(function(root) {\n",
       "      if (root.Bokeh !== undefined) {\n",
       "        clearInterval(timer);\n",
       "        embed_document(root);\n",
       "      } else {\n",
       "        attempts++;\n",
       "        if (attempts > 100) {\n",
       "          clearInterval(timer);\n",
       "          console.log(\"Bokeh: ERROR: Unable to run BokehJS code because BokehJS library is missing\");\n",
       "        }\n",
       "      }\n",
       "    }, 10, root)\n",
       "  }\n",
       "})(window);"
      ],
      "application/vnd.bokehjs_exec.v0+json": ""
     },
     "metadata": {
      "application/vnd.bokehjs_exec.v0+json": {
       "id": "7968"
      }
     },
     "output_type": "display_data"
    }
   ],
   "source": []
  },
  {
   "cell_type": "code",
   "execution_count": 44,
   "metadata": {},
   "outputs": [
    {
     "data": {
      "text/html": [
       "\n",
       "\n",
       "\n",
       "\n",
       "\n",
       "\n",
       "  <div class=\"bk-root\" id=\"56254274-ead2-4846-877e-7dee4df1f30d\" data-root-id=\"17743\"></div>\n"
      ]
     },
     "metadata": {},
     "output_type": "display_data"
    },
    {
     "data": {
      "application/javascript": [
       "(function(root) {\n",
       "  function embed_document(root) {\n",
       "    \n",
       "  var docs_json = {\"e842f1a2-0ba0-43f1-bb83-1803099edabf\":{\"roots\":{\"references\":[{\"attributes\":{\"below\":[{\"id\":\"17754\"}],\"center\":[{\"id\":\"17757\"},{\"id\":\"17761\"},{\"id\":\"17801\"}],\"left\":[{\"id\":\"17758\"}],\"plot_height\":350,\"plot_width\":900,\"renderers\":[{\"id\":\"17779\"},{\"id\":\"17806\"},{\"id\":\"17811\"},{\"id\":\"17841\"}],\"title\":{\"id\":\"17744\"},\"toolbar\":{\"id\":\"17769\"},\"x_range\":{\"id\":\"17746\"},\"x_scale\":{\"id\":\"17750\"},\"y_range\":{\"id\":\"17748\"},\"y_scale\":{\"id\":\"17752\"}},\"id\":\"17743\",\"subtype\":\"Figure\",\"type\":\"Plot\"},{\"attributes\":{\"overlay\":{\"id\":\"17768\"}},\"id\":\"17764\",\"type\":\"BoxZoomTool\"},{\"attributes\":{\"fill_color\":{\"value\":\"blue\"},\"line_color\":{\"value\":\"blue\"},\"size\":{\"units\":\"screen\",\"value\":5},\"x\":{\"field\":\"x\"},\"y\":{\"field\":\"y\"}},\"id\":\"17839\",\"type\":\"Circle\"},{\"attributes\":{\"data\":{\"x\":{\"__ndarray__\":\"AADAgbenc0IAAIDnCahzQgAAQE1cqHNCAAAAs66oc0IAAMAYAalzQgAAgH5TqXNCAABA5KWpc0IAAABK+KlzQgAAwK9KqnNCAACAFZ2qc0IAAEB776pzQgAAAOFBq3NCAADARpSrc0IAAICs5qtzQgAAQBI5rHNCAAAAeIusc0I=\",\"dtype\":\"float64\",\"order\":\"little\",\"shape\":[16]},\"y\":{\"__ndarray__\":\"xSCwcmiR/T/y0k1iEFj9PzvfT42Xbv4/FK5H4XoU/j8hsHJoke38P+xRuB6F6/0/16NwPQrX+z/HSzeJQWD9P5HtfD81Xv4/+n5qvHST/D+cxCCwcmj9P7Kd76fGS/8/kxgEVg4t/j8UrkfhehT+P4ts5/up8f4/O99PjZdu/j8=\",\"dtype\":\"float64\",\"order\":\"little\",\"shape\":[16]}},\"selected\":{\"id\":\"17800\"},\"selection_policy\":{\"id\":\"17799\"}},\"id\":\"17776\",\"type\":\"ColumnDataSource\"},{\"attributes\":{\"axis\":{\"id\":\"17754\"},\"grid_line_color\":null,\"ticker\":null},\"id\":\"17757\",\"type\":\"Grid\"},{\"attributes\":{\"line_alpha\":0.6,\"line_color\":\"blue\",\"line_width\":4,\"x\":{\"field\":\"x\"},\"y\":{\"field\":\"y\"}},\"id\":\"17809\",\"type\":\"Line\"},{\"attributes\":{\"label\":{\"value\":\"Romney (1.86238)\"},\"renderers\":[{\"id\":\"17779\"}]},\"id\":\"17802\",\"type\":\"LegendItem\"},{\"attributes\":{},\"id\":\"17782\",\"type\":\"BasicTickFormatter\"},{\"attributes\":{\"source\":{\"id\":\"17838\"}},\"id\":\"17842\",\"type\":\"CDSView\"},{\"attributes\":{\"base\":60,\"mantissas\":[1,2,5,10,15,20,30],\"max_interval\":1800000.0,\"min_interval\":1000.0,\"num_minor_ticks\":0},\"id\":\"17788\",\"type\":\"AdaptiveTicker\"},{\"attributes\":{\"line_alpha\":0.1,\"line_color\":\"red\",\"line_width\":4,\"x\":{\"field\":\"x\"},\"y\":{\"field\":\"y\"}},\"id\":\"17778\",\"type\":\"Line\"},{\"attributes\":{\"source\":{\"id\":\"17803\"}},\"id\":\"17807\",\"type\":\"CDSView\"},{\"attributes\":{\"source\":{\"id\":\"17776\"}},\"id\":\"17780\",\"type\":\"CDSView\"},{\"attributes\":{\"fill_color\":{\"value\":\"red\"},\"line_color\":{\"value\":\"red\"},\"size\":{\"units\":\"screen\",\"value\":5},\"x\":{\"field\":\"x\"},\"y\":{\"field\":\"y\"}},\"id\":\"17804\",\"type\":\"Circle\"},{\"attributes\":{\"days\":[1,8,15,22]},\"id\":\"17792\",\"type\":\"DaysTicker\"},{\"attributes\":{\"data\":{\"x\":{\"__ndarray__\":\"AADAgbenc0IAAIDnCahzQgAAQE1cqHNCAAAAs66oc0IAAMAYAalzQgAAgH5TqXNCAABA5KWpc0IAAABK+KlzQgAAwK9KqnNCAACAFZ2qc0IAAEB776pzQgAAAOFBq3NCAADARpSrc0IAAICs5qtzQgAAQBI5rHNCAAAAeIusc0I=\",\"dtype\":\"float64\",\"order\":\"little\",\"shape\":[16]},\"y\":{\"__ndarray__\":\"mpmZmZmZ/T/2KFyPwvX8Pxsv3SQGgf0/I9v5fmq8/D+6SQwCK4f+Pz81XrpJDP4/zczMzMzM/D/pJjEIrBz+P5qZmZmZmf0//Knx0k1i/D+LbOf7qfH+Pxsv3SQGgf0/ke18PzVe/j8OLbKd76f+P65H4XoUrv8/ZDvfT42X/j8=\",\"dtype\":\"float64\",\"order\":\"little\",\"shape\":[16]}},\"selected\":{\"id\":\"18570\"},\"selection_policy\":{\"id\":\"18569\"}},\"id\":\"17838\",\"type\":\"ColumnDataSource\"},{\"attributes\":{},\"id\":\"17800\",\"type\":\"Selection\"},{\"attributes\":{\"line_alpha\":0.6,\"line_color\":\"red\",\"line_width\":4,\"x\":{\"field\":\"x\"},\"y\":{\"field\":\"y\"}},\"id\":\"17777\",\"type\":\"Line\"},{\"attributes\":{},\"id\":\"17798\",\"type\":\"YearsTicker\"},{\"attributes\":{},\"id\":\"17762\",\"type\":\"PanTool\"},{\"attributes\":{},\"id\":\"17765\",\"type\":\"SaveTool\"},{\"attributes\":{\"axis\":{\"id\":\"17758\"},\"dimension\":1,\"grid_line_alpha\":0.5,\"ticker\":null},\"id\":\"17761\",\"type\":\"Grid\"},{\"attributes\":{\"items\":[{\"id\":\"17802\"},{\"id\":\"17837\"}],\"location\":\"bottom_right\"},\"id\":\"17801\",\"type\":\"Legend\"},{\"attributes\":{},\"id\":\"17767\",\"type\":\"HelpTool\"},{\"attributes\":{},\"id\":\"18569\",\"type\":\"UnionRenderers\"},{\"attributes\":{\"data_source\":{\"id\":\"17776\"},\"glyph\":{\"id\":\"17777\"},\"hover_glyph\":null,\"muted_glyph\":null,\"nonselection_glyph\":{\"id\":\"17778\"},\"selection_glyph\":null,\"view\":{\"id\":\"17780\"}},\"id\":\"17779\",\"type\":\"GlyphRenderer\"},{\"attributes\":{},\"id\":\"17746\",\"type\":\"DataRange1d\"},{\"attributes\":{},\"id\":\"17752\",\"type\":\"LinearScale\"},{\"attributes\":{\"data\":{\"x\":{\"__ndarray__\":\"AADAgbenc0IAAIDnCahzQgAAQE1cqHNCAAAAs66oc0IAAMAYAalzQgAAgH5TqXNCAABA5KWpc0IAAABK+KlzQgAAwK9KqnNCAACAFZ2qc0IAAEB776pzQgAAAOFBq3NCAADARpSrc0IAAICs5qtzQgAAQBI5rHNCAAAAeIusc0I=\",\"dtype\":\"float64\",\"order\":\"little\",\"shape\":[16]},\"y\":{\"__ndarray__\":\"xSCwcmiR/T/y0k1iEFj9PzvfT42Xbv4/FK5H4XoU/j8hsHJoke38P+xRuB6F6/0/16NwPQrX+z/HSzeJQWD9P5HtfD81Xv4/+n5qvHST/D+cxCCwcmj9P7Kd76fGS/8/kxgEVg4t/j8UrkfhehT+P4ts5/up8f4/O99PjZdu/j8=\",\"dtype\":\"float64\",\"order\":\"little\",\"shape\":[16]}},\"selected\":{\"id\":\"17834\"},\"selection_policy\":{\"id\":\"17833\"}},\"id\":\"17803\",\"type\":\"ColumnDataSource\"},{\"attributes\":{},\"id\":\"17836\",\"type\":\"Selection\"},{\"attributes\":{\"days\":[1,15]},\"id\":\"17793\",\"type\":\"DaysTicker\"},{\"attributes\":{\"base\":24,\"mantissas\":[1,2,4,6,8,12],\"max_interval\":43200000.0,\"min_interval\":3600000.0,\"num_minor_ticks\":0},\"id\":\"17789\",\"type\":\"AdaptiveTicker\"},{\"attributes\":{},\"id\":\"17834\",\"type\":\"Selection\"},{\"attributes\":{\"days\":[1,4,7,10,13,16,19,22,25,28]},\"id\":\"17791\",\"type\":\"DaysTicker\"},{\"attributes\":{\"months\":[0,1,2,3,4,5,6,7,8,9,10,11]},\"id\":\"17794\",\"type\":\"MonthsTicker\"},{\"attributes\":{\"mantissas\":[1,2,5],\"max_interval\":500.0,\"num_minor_ticks\":0},\"id\":\"17787\",\"type\":\"AdaptiveTicker\"},{\"attributes\":{},\"id\":\"17766\",\"type\":\"ResetTool\"},{\"attributes\":{},\"id\":\"17833\",\"type\":\"UnionRenderers\"},{\"attributes\":{\"months\":[0,2,4,6,8,10]},\"id\":\"17795\",\"type\":\"MonthsTicker\"},{\"attributes\":{\"text\":\"Candidate Sentiment - 2012 - 30 Days Prior to Election\"},\"id\":\"17744\",\"type\":\"Title\"},{\"attributes\":{},\"id\":\"17748\",\"type\":\"DataRange1d\"},{\"attributes\":{},\"id\":\"17759\",\"type\":\"BasicTicker\"},{\"attributes\":{\"axis_label\":\"Date\",\"formatter\":{\"id\":\"17784\"},\"ticker\":{\"id\":\"17755\"}},\"id\":\"17754\",\"type\":\"DatetimeAxis\"},{\"attributes\":{\"months\":[0,4,8]},\"id\":\"17796\",\"type\":\"MonthsTicker\"},{\"attributes\":{},\"id\":\"17763\",\"type\":\"WheelZoomTool\"},{\"attributes\":{\"line_alpha\":0.1,\"line_color\":\"blue\",\"line_width\":4,\"x\":{\"field\":\"x\"},\"y\":{\"field\":\"y\"}},\"id\":\"17810\",\"type\":\"Line\"},{\"attributes\":{\"bottom_units\":\"screen\",\"fill_alpha\":0.5,\"fill_color\":\"lightgrey\",\"left_units\":\"screen\",\"level\":\"overlay\",\"line_alpha\":1.0,\"line_color\":\"black\",\"line_dash\":[4,4],\"line_width\":2,\"right_units\":\"screen\",\"top_units\":\"screen\"},\"id\":\"17768\",\"type\":\"BoxAnnotation\"},{\"attributes\":{\"days\":[1,2,3,4,5,6,7,8,9,10,11,12,13,14,15,16,17,18,19,20,21,22,23,24,25,26,27,28,29,30,31]},\"id\":\"17790\",\"type\":\"DaysTicker\"},{\"attributes\":{},\"id\":\"17784\",\"type\":\"DatetimeTickFormatter\"},{\"attributes\":{\"fill_alpha\":{\"value\":0.1},\"fill_color\":{\"value\":\"red\"},\"line_alpha\":{\"value\":0.1},\"line_color\":{\"value\":\"red\"},\"size\":{\"units\":\"screen\",\"value\":5},\"x\":{\"field\":\"x\"},\"y\":{\"field\":\"y\"}},\"id\":\"17805\",\"type\":\"Circle\"},{\"attributes\":{\"active_drag\":\"auto\",\"active_inspect\":\"auto\",\"active_multi\":null,\"active_scroll\":\"auto\",\"active_tap\":\"auto\",\"tools\":[{\"id\":\"17762\"},{\"id\":\"17763\"},{\"id\":\"17764\"},{\"id\":\"17765\"},{\"id\":\"17766\"},{\"id\":\"17767\"}]},\"id\":\"17769\",\"type\":\"Toolbar\"},{\"attributes\":{\"source\":{\"id\":\"17808\"}},\"id\":\"17812\",\"type\":\"CDSView\"},{\"attributes\":{\"data\":{\"x\":{\"__ndarray__\":\"AADAgbenc0IAAIDnCahzQgAAQE1cqHNCAAAAs66oc0IAAMAYAalzQgAAgH5TqXNCAABA5KWpc0IAAABK+KlzQgAAwK9KqnNCAACAFZ2qc0IAAEB776pzQgAAAOFBq3NCAADARpSrc0IAAICs5qtzQgAAQBI5rHNCAAAAeIusc0I=\",\"dtype\":\"float64\",\"order\":\"little\",\"shape\":[16]},\"y\":{\"__ndarray__\":\"mpmZmZmZ/T/2KFyPwvX8Pxsv3SQGgf0/I9v5fmq8/D+6SQwCK4f+Pz81XrpJDP4/zczMzMzM/D/pJjEIrBz+P5qZmZmZmf0//Knx0k1i/D+LbOf7qfH+Pxsv3SQGgf0/ke18PzVe/j8OLbKd76f+P65H4XoUrv8/ZDvfT42X/j8=\",\"dtype\":\"float64\",\"order\":\"little\",\"shape\":[16]}},\"selected\":{\"id\":\"17836\"},\"selection_policy\":{\"id\":\"17835\"}},\"id\":\"17808\",\"type\":\"ColumnDataSource\"},{\"attributes\":{\"months\":[0,6]},\"id\":\"17797\",\"type\":\"MonthsTicker\"},{\"attributes\":{},\"id\":\"17835\",\"type\":\"UnionRenderers\"},{\"attributes\":{\"axis_label\":\"Sentiment Score\",\"formatter\":{\"id\":\"17782\"},\"ticker\":{\"id\":\"17759\"}},\"id\":\"17758\",\"type\":\"LinearAxis\"},{\"attributes\":{\"data_source\":{\"id\":\"17803\"},\"glyph\":{\"id\":\"17804\"},\"hover_glyph\":null,\"muted_glyph\":null,\"nonselection_glyph\":{\"id\":\"17805\"},\"selection_glyph\":null,\"view\":{\"id\":\"17807\"}},\"id\":\"17806\",\"type\":\"GlyphRenderer\"},{\"attributes\":{\"data_source\":{\"id\":\"17808\"},\"glyph\":{\"id\":\"17809\"},\"hover_glyph\":null,\"muted_glyph\":null,\"nonselection_glyph\":{\"id\":\"17810\"},\"selection_glyph\":null,\"view\":{\"id\":\"17812\"}},\"id\":\"17811\",\"type\":\"GlyphRenderer\"},{\"attributes\":{\"data_source\":{\"id\":\"17838\"},\"glyph\":{\"id\":\"17839\"},\"hover_glyph\":null,\"muted_glyph\":null,\"nonselection_glyph\":{\"id\":\"17840\"},\"selection_glyph\":null,\"view\":{\"id\":\"17842\"}},\"id\":\"17841\",\"type\":\"GlyphRenderer\"},{\"attributes\":{\"label\":{\"value\":\"Obama (1.80865)\"},\"renderers\":[{\"id\":\"17811\"}]},\"id\":\"17837\",\"type\":\"LegendItem\"},{\"attributes\":{},\"id\":\"17750\",\"type\":\"LinearScale\"},{\"attributes\":{\"num_minor_ticks\":5,\"tickers\":[{\"id\":\"17787\"},{\"id\":\"17788\"},{\"id\":\"17789\"},{\"id\":\"17790\"},{\"id\":\"17791\"},{\"id\":\"17792\"},{\"id\":\"17793\"},{\"id\":\"17794\"},{\"id\":\"17795\"},{\"id\":\"17796\"},{\"id\":\"17797\"},{\"id\":\"17798\"}]},\"id\":\"17755\",\"type\":\"DatetimeTicker\"},{\"attributes\":{\"fill_alpha\":{\"value\":0.1},\"fill_color\":{\"value\":\"blue\"},\"line_alpha\":{\"value\":0.1},\"line_color\":{\"value\":\"blue\"},\"size\":{\"units\":\"screen\",\"value\":5},\"x\":{\"field\":\"x\"},\"y\":{\"field\":\"y\"}},\"id\":\"17840\",\"type\":\"Circle\"},{\"attributes\":{},\"id\":\"18570\",\"type\":\"Selection\"},{\"attributes\":{},\"id\":\"17799\",\"type\":\"UnionRenderers\"}],\"root_ids\":[\"17743\"]},\"title\":\"Bokeh Application\",\"version\":\"2.1.1\"}};\n",
       "  var render_items = [{\"docid\":\"e842f1a2-0ba0-43f1-bb83-1803099edabf\",\"root_ids\":[\"17743\"],\"roots\":{\"17743\":\"56254274-ead2-4846-877e-7dee4df1f30d\"}}];\n",
       "  root.Bokeh.embed.embed_items_notebook(docs_json, render_items);\n",
       "\n",
       "  }\n",
       "  if (root.Bokeh !== undefined) {\n",
       "    embed_document(root);\n",
       "  } else {\n",
       "    var attempts = 0;\n",
       "    var timer = setInterval(function(root) {\n",
       "      if (root.Bokeh !== undefined) {\n",
       "        clearInterval(timer);\n",
       "        embed_document(root);\n",
       "      } else {\n",
       "        attempts++;\n",
       "        if (attempts > 100) {\n",
       "          clearInterval(timer);\n",
       "          console.log(\"Bokeh: ERROR: Unable to run BokehJS code because BokehJS library is missing\");\n",
       "        }\n",
       "      }\n",
       "    }, 10, root)\n",
       "  }\n",
       "})(window);"
      ],
      "application/vnd.bokehjs_exec.v0+json": ""
     },
     "metadata": {
      "application/vnd.bokehjs_exec.v0+json": {
       "id": "17743"
      }
     },
     "output_type": "display_data"
    }
   ],
   "source": []
  },
  {
   "cell_type": "code",
   "execution_count": null,
   "metadata": {},
   "outputs": [],
   "source": []
  },
  {
   "cell_type": "code",
   "execution_count": 46,
   "metadata": {},
   "outputs": [
    {
     "data": {
      "text/html": [
       "\n",
       "\n",
       "\n",
       "\n",
       "\n",
       "\n",
       "  <div class=\"bk-root\" id=\"0496a474-0cee-44e1-a469-f7ec8f83be83\" data-root-id=\"18727\"></div>\n"
      ]
     },
     "metadata": {},
     "output_type": "display_data"
    },
    {
     "data": {
      "application/javascript": [
       "(function(root) {\n",
       "  function embed_document(root) {\n",
       "    \n",
       "  var docs_json = {\"9a721d07-c39b-42dc-91c2-6c691e9cb496\":{\"roots\":{\"references\":[{\"attributes\":{\"below\":[{\"id\":\"18738\"}],\"center\":[{\"id\":\"18741\"},{\"id\":\"18745\"},{\"id\":\"18785\"}],\"left\":[{\"id\":\"18742\"}],\"plot_height\":350,\"plot_width\":900,\"renderers\":[{\"id\":\"18763\"},{\"id\":\"18790\"},{\"id\":\"18795\"},{\"id\":\"18825\"}],\"title\":{\"id\":\"18728\"},\"toolbar\":{\"id\":\"18753\"},\"x_range\":{\"id\":\"18730\"},\"x_scale\":{\"id\":\"18734\"},\"y_range\":{\"id\":\"18732\"},\"y_scale\":{\"id\":\"18736\"}},\"id\":\"18727\",\"subtype\":\"Figure\",\"type\":\"Plot\"},{\"attributes\":{\"data\":{\"x\":{\"__ndarray__\":\"AACAQYkld0IAAECn2yV3QgAAAA0uJndCAADAcoAmd0IAAIDY0iZ3QgAAQD4lJ3dCAAAApHcnd0IAAMAJyid3QgAAgG8cKHdCAABA1W4od0IAAAA7wSh3QgAAwKATKXdCAACABmYpd0IAAEBsuCl3QgAAANIKKndCAADAN10qd0IAAICdryp3QgAAQAMCK3dCAAAAaVQrd0IAAMDOpit3QgAAgDT5K3dCAABAmkssd0IAAAAAnix3QgAAwGXwLHdCAACAy0Itd0IAAEAxlS13QgAAAJfnLXdCAADA/Dkud0IAAIBijC53QgAAQMjeLndCAAAALjEvd0IAAMCTgy93QgAAgPnVL3dC\",\"dtype\":\"float64\",\"order\":\"little\",\"shape\":[33]},\"y\":{\"__ndarray__\":\"1XjpJjEI/D/pJjEIrBwCQEoMAiuHFv0/AiuHFtnOA0CamZmZmZn9P4lBYOXQIvs/yXa+nxovBUA9CtejcD32P5huEoPAyvU/JQaBlUOL9D+yne+nxksBQCUGgZVDiwJAObTIdr6f+j+HFtnO91P3PxKDwMqhRf4/qMZLN4lB9D8bL90kBoH9P8dLN4lBYAVApHA9Ctej/D9kO99PjZcAQGQ730+Nl/o/vHSTGARW/j9MN4lBYOUAQHWTGARWDvk/fT81XrpJ/D8j2/l+arwAQM/3U+Olm/w/qMZLN4lB/D/jpZvEILD+P42XbhKDwPY/NV66SQwC/z99PzVeukkCQJqZmZmZmQFA\",\"dtype\":\"float64\",\"order\":\"little\",\"shape\":[33]}},\"selected\":{\"id\":\"18820\"},\"selection_policy\":{\"id\":\"18819\"}},\"id\":\"18792\",\"type\":\"ColumnDataSource\"},{\"attributes\":{\"days\":[1,8,15,22]},\"id\":\"18776\",\"type\":\"DaysTicker\"},{\"attributes\":{\"fill_color\":{\"value\":\"red\"},\"line_color\":{\"value\":\"red\"},\"size\":{\"units\":\"screen\",\"value\":5},\"x\":{\"field\":\"x\"},\"y\":{\"field\":\"y\"}},\"id\":\"18788\",\"type\":\"Circle\"},{\"attributes\":{\"days\":[1,15]},\"id\":\"18777\",\"type\":\"DaysTicker\"},{\"attributes\":{},\"id\":\"18747\",\"type\":\"WheelZoomTool\"},{\"attributes\":{\"months\":[0,4,8]},\"id\":\"18780\",\"type\":\"MonthsTicker\"},{\"attributes\":{\"line_alpha\":0.6,\"line_color\":\"blue\",\"line_width\":4,\"x\":{\"field\":\"x\"},\"y\":{\"field\":\"y\"}},\"id\":\"18793\",\"type\":\"Line\"},{\"attributes\":{},\"id\":\"18783\",\"type\":\"UnionRenderers\"},{\"attributes\":{},\"id\":\"18766\",\"type\":\"BasicTickFormatter\"},{\"attributes\":{\"days\":[1,2,3,4,5,6,7,8,9,10,11,12,13,14,15,16,17,18,19,20,21,22,23,24,25,26,27,28,29,30,31]},\"id\":\"18774\",\"type\":\"DaysTicker\"},{\"attributes\":{},\"id\":\"18817\",\"type\":\"UnionRenderers\"},{\"attributes\":{\"months\":[0,1,2,3,4,5,6,7,8,9,10,11]},\"id\":\"18778\",\"type\":\"MonthsTicker\"},{\"attributes\":{\"line_alpha\":0.1,\"line_color\":\"red\",\"line_width\":4,\"x\":{\"field\":\"x\"},\"y\":{\"field\":\"y\"}},\"id\":\"18762\",\"type\":\"Line\"},{\"attributes\":{},\"id\":\"18751\",\"type\":\"HelpTool\"},{\"attributes\":{\"line_alpha\":0.6,\"line_color\":\"red\",\"line_width\":4,\"x\":{\"field\":\"x\"},\"y\":{\"field\":\"y\"}},\"id\":\"18761\",\"type\":\"Line\"},{\"attributes\":{},\"id\":\"18820\",\"type\":\"Selection\"},{\"attributes\":{\"active_drag\":\"auto\",\"active_inspect\":\"auto\",\"active_multi\":null,\"active_scroll\":\"auto\",\"active_tap\":\"auto\",\"tools\":[{\"id\":\"18746\"},{\"id\":\"18747\"},{\"id\":\"18748\"},{\"id\":\"18749\"},{\"id\":\"18750\"},{\"id\":\"18751\"}]},\"id\":\"18753\",\"type\":\"Toolbar\"},{\"attributes\":{\"days\":[1,4,7,10,13,16,19,22,25,28]},\"id\":\"18775\",\"type\":\"DaysTicker\"},{\"attributes\":{\"data_source\":{\"id\":\"18787\"},\"glyph\":{\"id\":\"18788\"},\"hover_glyph\":null,\"muted_glyph\":null,\"nonselection_glyph\":{\"id\":\"18789\"},\"selection_glyph\":null,\"view\":{\"id\":\"18791\"}},\"id\":\"18790\",\"type\":\"GlyphRenderer\"},{\"attributes\":{\"source\":{\"id\":\"18760\"}},\"id\":\"18764\",\"type\":\"CDSView\"},{\"attributes\":{\"axis\":{\"id\":\"18742\"},\"dimension\":1,\"grid_line_alpha\":0.5,\"ticker\":null},\"id\":\"18745\",\"type\":\"Grid\"},{\"attributes\":{\"months\":[0,2,4,6,8,10]},\"id\":\"18779\",\"type\":\"MonthsTicker\"},{\"attributes\":{\"line_alpha\":0.1,\"line_color\":\"blue\",\"line_width\":4,\"x\":{\"field\":\"x\"},\"y\":{\"field\":\"y\"}},\"id\":\"18794\",\"type\":\"Line\"},{\"attributes\":{\"axis_label\":\"Date\",\"formatter\":{\"id\":\"18768\"},\"ticker\":{\"id\":\"18739\"}},\"id\":\"18738\",\"type\":\"DatetimeAxis\"},{\"attributes\":{},\"id\":\"19580\",\"type\":\"Selection\"},{\"attributes\":{\"axis\":{\"id\":\"18738\"},\"grid_line_color\":null,\"ticker\":null},\"id\":\"18741\",\"type\":\"Grid\"},{\"attributes\":{\"data_source\":{\"id\":\"18760\"},\"glyph\":{\"id\":\"18761\"},\"hover_glyph\":null,\"muted_glyph\":null,\"nonselection_glyph\":{\"id\":\"18762\"},\"selection_glyph\":null,\"view\":{\"id\":\"18764\"}},\"id\":\"18763\",\"type\":\"GlyphRenderer\"},{\"attributes\":{},\"id\":\"18782\",\"type\":\"YearsTicker\"},{\"attributes\":{},\"id\":\"18819\",\"type\":\"UnionRenderers\"},{\"attributes\":{\"bottom_units\":\"screen\",\"fill_alpha\":0.5,\"fill_color\":\"lightgrey\",\"left_units\":\"screen\",\"level\":\"overlay\",\"line_alpha\":1.0,\"line_color\":\"black\",\"line_dash\":[4,4],\"line_width\":2,\"right_units\":\"screen\",\"top_units\":\"screen\"},\"id\":\"18752\",\"type\":\"BoxAnnotation\"},{\"attributes\":{\"fill_alpha\":{\"value\":0.1},\"fill_color\":{\"value\":\"red\"},\"line_alpha\":{\"value\":0.1},\"line_color\":{\"value\":\"red\"},\"size\":{\"units\":\"screen\",\"value\":5},\"x\":{\"field\":\"x\"},\"y\":{\"field\":\"y\"}},\"id\":\"18789\",\"type\":\"Circle\"},{\"attributes\":{\"data\":{\"x\":{\"__ndarray__\":\"AACAQYkld0IAAECn2yV3QgAAAA0uJndCAADAcoAmd0IAAIDY0iZ3QgAAQD4lJ3dCAAAApHcnd0IAAMAJyid3QgAAgG8cKHdCAABA1W4od0IAAAA7wSh3QgAAwKATKXdCAACABmYpd0IAAEBsuCl3QgAAANIKKndCAADAN10qd0IAAICdryp3QgAAQAMCK3dCAAAAaVQrd0IAAMDOpit3QgAAgDT5K3dCAABAmkssd0IAAAAAnix3QgAAwGXwLHdCAACAy0Itd0IAAEAxlS13QgAAAJfnLXdCAADA/Dkud0IAAIBijC53QgAAQMjeLndCAAAALjEvd0IAAMCTgy93QgAAgPnVL3dC\",\"dtype\":\"float64\",\"order\":\"little\",\"shape\":[33]},\"y\":{\"__ndarray__\":\"PzVeukkM/j9xPQrXo3D9P42XbhKDwPo/2c73U+Ol9z+uR+F6FK73P65H4XoUrvs/iUFg5dAi9z/LoUW28/38P2IQWDm0yPo/xSCwcmiR/T8X2c73U+P9P+F6FK5H4f4/6SYxCKwc+j9eukkMAisBQC2yne+nxv8/XrpJDAIr+z9eukkMAiv/P1K4HoXrUfg/yXa+nxovAUBg5dAi2/n6P2Q730+Nl/o/xSCwcmiRAUDJdr6fGi/9P6JFtvP91Pg/8KfGSzeJ/T9kO99PjZf+PycxCKwcWvw/y6FFtvP9/D9g5dAi2/n+P5HtfD81Xv4/4XoUrkfh/j/dJAaBlUP7P9nO91Pjpf8/\",\"dtype\":\"float64\",\"order\":\"little\",\"shape\":[33]}},\"selected\":{\"id\":\"18784\"},\"selection_policy\":{\"id\":\"18783\"}},\"id\":\"18760\",\"type\":\"ColumnDataSource\"},{\"attributes\":{},\"id\":\"18730\",\"type\":\"DataRange1d\"},{\"attributes\":{},\"id\":\"18736\",\"type\":\"LinearScale\"},{\"attributes\":{\"items\":[{\"id\":\"18786\"},{\"id\":\"18821\"}],\"location\":\"bottom_right\"},\"id\":\"18785\",\"type\":\"Legend\"},{\"attributes\":{\"num_minor_ticks\":5,\"tickers\":[{\"id\":\"18771\"},{\"id\":\"18772\"},{\"id\":\"18773\"},{\"id\":\"18774\"},{\"id\":\"18775\"},{\"id\":\"18776\"},{\"id\":\"18777\"},{\"id\":\"18778\"},{\"id\":\"18779\"},{\"id\":\"18780\"},{\"id\":\"18781\"},{\"id\":\"18782\"}]},\"id\":\"18739\",\"type\":\"DatetimeTicker\"},{\"attributes\":{\"base\":60,\"mantissas\":[1,2,5,10,15,20,30],\"max_interval\":1800000.0,\"min_interval\":1000.0,\"num_minor_ticks\":0},\"id\":\"18772\",\"type\":\"AdaptiveTicker\"},{\"attributes\":{\"data\":{\"x\":{\"__ndarray__\":\"AACAQYkld0IAAECn2yV3QgAAAA0uJndCAADAcoAmd0IAAIDY0iZ3QgAAQD4lJ3dCAAAApHcnd0IAAMAJyid3QgAAgG8cKHdCAABA1W4od0IAAAA7wSh3QgAAwKATKXdCAACABmYpd0IAAEBsuCl3QgAAANIKKndCAADAN10qd0IAAICdryp3QgAAQAMCK3dCAAAAaVQrd0IAAMDOpit3QgAAgDT5K3dCAABAmkssd0IAAAAAnix3QgAAwGXwLHdCAACAy0Itd0IAAEAxlS13QgAAAJfnLXdCAADA/Dkud0IAAIBijC53QgAAQMjeLndCAAAALjEvd0IAAMCTgy93QgAAgPnVL3dC\",\"dtype\":\"float64\",\"order\":\"little\",\"shape\":[33]},\"y\":{\"__ndarray__\":\"1XjpJjEI/D/pJjEIrBwCQEoMAiuHFv0/AiuHFtnOA0CamZmZmZn9P4lBYOXQIvs/yXa+nxovBUA9CtejcD32P5huEoPAyvU/JQaBlUOL9D+yne+nxksBQCUGgZVDiwJAObTIdr6f+j+HFtnO91P3PxKDwMqhRf4/qMZLN4lB9D8bL90kBoH9P8dLN4lBYAVApHA9Ctej/D9kO99PjZcAQGQ730+Nl/o/vHSTGARW/j9MN4lBYOUAQHWTGARWDvk/fT81XrpJ/D8j2/l+arwAQM/3U+Olm/w/qMZLN4lB/D/jpZvEILD+P42XbhKDwPY/NV66SQwC/z99PzVeukkCQJqZmZmZmQFA\",\"dtype\":\"float64\",\"order\":\"little\",\"shape\":[33]}},\"selected\":{\"id\":\"19580\"},\"selection_policy\":{\"id\":\"19579\"}},\"id\":\"18822\",\"type\":\"ColumnDataSource\"},{\"attributes\":{},\"id\":\"18743\",\"type\":\"BasicTicker\"},{\"attributes\":{},\"id\":\"18784\",\"type\":\"Selection\"},{\"attributes\":{\"label\":{\"value\":\"Biden (1.80865)\"},\"renderers\":[{\"id\":\"18795\"}]},\"id\":\"18821\",\"type\":\"LegendItem\"},{\"attributes\":{\"mantissas\":[1,2,5],\"max_interval\":500.0,\"num_minor_ticks\":0},\"id\":\"18771\",\"type\":\"AdaptiveTicker\"},{\"attributes\":{\"overlay\":{\"id\":\"18752\"}},\"id\":\"18748\",\"type\":\"BoxZoomTool\"},{\"attributes\":{\"source\":{\"id\":\"18822\"}},\"id\":\"18826\",\"type\":\"CDSView\"},{\"attributes\":{\"axis_label\":\"Sentiment Score\",\"formatter\":{\"id\":\"18766\"},\"ticker\":{\"id\":\"18743\"}},\"id\":\"18742\",\"type\":\"LinearAxis\"},{\"attributes\":{\"source\":{\"id\":\"18792\"}},\"id\":\"18796\",\"type\":\"CDSView\"},{\"attributes\":{},\"id\":\"18746\",\"type\":\"PanTool\"},{\"attributes\":{\"fill_color\":{\"value\":\"blue\"},\"line_color\":{\"value\":\"blue\"},\"size\":{\"units\":\"screen\",\"value\":5},\"x\":{\"field\":\"x\"},\"y\":{\"field\":\"y\"}},\"id\":\"18823\",\"type\":\"Circle\"},{\"attributes\":{},\"id\":\"18818\",\"type\":\"Selection\"},{\"attributes\":{\"text\":\"Candidate|Economy - Last 30 Days\"},\"id\":\"18728\",\"type\":\"Title\"},{\"attributes\":{},\"id\":\"19579\",\"type\":\"UnionRenderers\"},{\"attributes\":{\"fill_alpha\":{\"value\":0.1},\"fill_color\":{\"value\":\"blue\"},\"line_alpha\":{\"value\":0.1},\"line_color\":{\"value\":\"blue\"},\"size\":{\"units\":\"screen\",\"value\":5},\"x\":{\"field\":\"x\"},\"y\":{\"field\":\"y\"}},\"id\":\"18824\",\"type\":\"Circle\"},{\"attributes\":{},\"id\":\"18750\",\"type\":\"ResetTool\"},{\"attributes\":{},\"id\":\"18734\",\"type\":\"LinearScale\"},{\"attributes\":{\"label\":{\"value\":\"Trump (1.80127)\"},\"renderers\":[{\"id\":\"18763\"}]},\"id\":\"18786\",\"type\":\"LegendItem\"},{\"attributes\":{\"data_source\":{\"id\":\"18792\"},\"glyph\":{\"id\":\"18793\"},\"hover_glyph\":null,\"muted_glyph\":null,\"nonselection_glyph\":{\"id\":\"18794\"},\"selection_glyph\":null,\"view\":{\"id\":\"18796\"}},\"id\":\"18795\",\"type\":\"GlyphRenderer\"},{\"attributes\":{\"data_source\":{\"id\":\"18822\"},\"glyph\":{\"id\":\"18823\"},\"hover_glyph\":null,\"muted_glyph\":null,\"nonselection_glyph\":{\"id\":\"18824\"},\"selection_glyph\":null,\"view\":{\"id\":\"18826\"}},\"id\":\"18825\",\"type\":\"GlyphRenderer\"},{\"attributes\":{},\"id\":\"18749\",\"type\":\"SaveTool\"},{\"attributes\":{\"source\":{\"id\":\"18787\"}},\"id\":\"18791\",\"type\":\"CDSView\"},{\"attributes\":{\"base\":24,\"mantissas\":[1,2,4,6,8,12],\"max_interval\":43200000.0,\"min_interval\":3600000.0,\"num_minor_ticks\":0},\"id\":\"18773\",\"type\":\"AdaptiveTicker\"},{\"attributes\":{},\"id\":\"18732\",\"type\":\"DataRange1d\"},{\"attributes\":{\"data\":{\"x\":{\"__ndarray__\":\"AACAQYkld0IAAECn2yV3QgAAAA0uJndCAADAcoAmd0IAAIDY0iZ3QgAAQD4lJ3dCAAAApHcnd0IAAMAJyid3QgAAgG8cKHdCAABA1W4od0IAAAA7wSh3QgAAwKATKXdCAACABmYpd0IAAEBsuCl3QgAAANIKKndCAADAN10qd0IAAICdryp3QgAAQAMCK3dCAAAAaVQrd0IAAMDOpit3QgAAgDT5K3dCAABAmkssd0IAAAAAnix3QgAAwGXwLHdCAACAy0Itd0IAAEAxlS13QgAAAJfnLXdCAADA/Dkud0IAAIBijC53QgAAQMjeLndCAAAALjEvd0IAAMCTgy93QgAAgPnVL3dC\",\"dtype\":\"float64\",\"order\":\"little\",\"shape\":[33]},\"y\":{\"__ndarray__\":\"PzVeukkM/j9xPQrXo3D9P42XbhKDwPo/2c73U+Ol9z+uR+F6FK73P65H4XoUrvs/iUFg5dAi9z/LoUW28/38P2IQWDm0yPo/xSCwcmiR/T8X2c73U+P9P+F6FK5H4f4/6SYxCKwc+j9eukkMAisBQC2yne+nxv8/XrpJDAIr+z9eukkMAiv/P1K4HoXrUfg/yXa+nxovAUBg5dAi2/n6P2Q730+Nl/o/xSCwcmiRAUDJdr6fGi/9P6JFtvP91Pg/8KfGSzeJ/T9kO99PjZf+PycxCKwcWvw/y6FFtvP9/D9g5dAi2/n+P5HtfD81Xv4/4XoUrkfh/j/dJAaBlUP7P9nO91Pjpf8/\",\"dtype\":\"float64\",\"order\":\"little\",\"shape\":[33]}},\"selected\":{\"id\":\"18818\"},\"selection_policy\":{\"id\":\"18817\"}},\"id\":\"18787\",\"type\":\"ColumnDataSource\"},{\"attributes\":{},\"id\":\"18768\",\"type\":\"DatetimeTickFormatter\"},{\"attributes\":{\"months\":[0,6]},\"id\":\"18781\",\"type\":\"MonthsTicker\"}],\"root_ids\":[\"18727\"]},\"title\":\"Bokeh Application\",\"version\":\"2.1.1\"}};\n",
       "  var render_items = [{\"docid\":\"9a721d07-c39b-42dc-91c2-6c691e9cb496\",\"root_ids\":[\"18727\"],\"roots\":{\"18727\":\"0496a474-0cee-44e1-a469-f7ec8f83be83\"}}];\n",
       "  root.Bokeh.embed.embed_items_notebook(docs_json, render_items);\n",
       "\n",
       "  }\n",
       "  if (root.Bokeh !== undefined) {\n",
       "    embed_document(root);\n",
       "  } else {\n",
       "    var attempts = 0;\n",
       "    var timer = setInterval(function(root) {\n",
       "      if (root.Bokeh !== undefined) {\n",
       "        clearInterval(timer);\n",
       "        embed_document(root);\n",
       "      } else {\n",
       "        attempts++;\n",
       "        if (attempts > 100) {\n",
       "          clearInterval(timer);\n",
       "          console.log(\"Bokeh: ERROR: Unable to run BokehJS code because BokehJS library is missing\");\n",
       "        }\n",
       "      }\n",
       "    }, 10, root)\n",
       "  }\n",
       "})(window);"
      ],
      "application/vnd.bokehjs_exec.v0+json": ""
     },
     "metadata": {
      "application/vnd.bokehjs_exec.v0+json": {
       "id": "18727"
      }
     },
     "output_type": "display_data"
    }
   ],
   "source": [
    "df_trump_econ = get_plot_data('data2/sentiment/economy/trump/2020_trump economy.csv')\n",
    "df_biden_econ = get_plot_data('data2/sentiment/economy/biden/2020_biden economy.csv')\n",
    "\n",
    "plot_chart(df_trump_econ, df_biden_econ, 'Trump', 'Biden', \"Candidate|Economy - Last 30 Days\")"
   ]
  },
  {
   "cell_type": "code",
   "execution_count": 47,
   "metadata": {},
   "outputs": [
    {
     "data": {
      "text/html": [
       "\n",
       "\n",
       "\n",
       "\n",
       "\n",
       "\n",
       "  <div class=\"bk-root\" id=\"ab018786-8b23-4b3b-9831-77274301da33\" data-root-id=\"19737\"></div>\n"
      ]
     },
     "metadata": {},
     "output_type": "display_data"
    },
    {
     "data": {
      "application/javascript": [
       "(function(root) {\n",
       "  function embed_document(root) {\n",
       "    \n",
       "  var docs_json = {\"9f1dd85b-0fae-4b94-9b9f-b3b68ec933cc\":{\"roots\":{\"references\":[{\"attributes\":{\"below\":[{\"id\":\"19748\"}],\"center\":[{\"id\":\"19751\"},{\"id\":\"19755\"},{\"id\":\"19795\"}],\"left\":[{\"id\":\"19752\"}],\"plot_height\":350,\"plot_width\":900,\"renderers\":[{\"id\":\"19773\"},{\"id\":\"19800\"},{\"id\":\"19805\"},{\"id\":\"19835\"}],\"title\":{\"id\":\"19738\"},\"toolbar\":{\"id\":\"19763\"},\"x_range\":{\"id\":\"19740\"},\"x_scale\":{\"id\":\"19744\"},\"y_range\":{\"id\":\"19742\"},\"y_scale\":{\"id\":\"19746\"}},\"id\":\"19737\",\"subtype\":\"Figure\",\"type\":\"Plot\"},{\"attributes\":{\"data\":{\"x\":{\"__ndarray__\":\"AACAQYkld0IAAECn2yV3QgAAAA0uJndCAADAcoAmd0IAAIDY0iZ3QgAAQD4lJ3dCAAAApHcnd0IAAMAJyid3QgAAgG8cKHdCAABA1W4od0IAAAA7wSh3QgAAwKATKXdCAACABmYpd0IAAEBsuCl3QgAAANIKKndCAADAN10qd0IAAICdryp3QgAAQAMCK3dCAAAAaVQrd0IAAMDOpit3QgAAgDT5K3dCAABAmkssd0IAAAAAnix3QgAAwGXwLHdCAACAy0Itd0IAAEAxlS13QgAAAJfnLXdCAADA/Dkud0IAAIBijC53QgAAQMjeLndCAAAALjEvd0IAAMCTgy93QgAAgPnVL3dC\",\"dtype\":\"float64\",\"order\":\"little\",\"shape\":[33]},\"y\":{\"__ndarray__\":\"IbByaJHt/D+YbhKDwMr1P/hT46WbxPw/N4lBYOXQ+j+gGi/dJAb9P4ts5/up8QBAqvHSTWIQ/D8lBoGVQ4v8P1g5tMh2vvs/Di2yne+n/j9vEoPAyqH9P7bz/dR46f4/aJHtfD81+j9kO99PjZf2PwaBlUOLbPc/aJHtfD81+j9QjZduEoMAQLx0kxgEVv4/1XjpJjEI/D+Nl24Sg8D6P7bz/dR46f4/30+Nl24S/z8K16NwPQr7P9V46SYxCPQ/3SQGgZVD/z9MN4lBYOUAQF66SQwCK/8/5/up8dJN8j+LbOf7qfH6P57vp8ZLN/k/ke18PzVe9j/ByqFFtvP9P6jGSzeJQfg/\",\"dtype\":\"float64\",\"order\":\"little\",\"shape\":[33]}},\"selected\":{\"id\":\"19830\"},\"selection_policy\":{\"id\":\"19829\"}},\"id\":\"19802\",\"type\":\"ColumnDataSource\"},{\"attributes\":{},\"id\":\"20615\",\"type\":\"UnionRenderers\"},{\"attributes\":{},\"id\":\"19757\",\"type\":\"WheelZoomTool\"},{\"attributes\":{},\"id\":\"19742\",\"type\":\"DataRange1d\"},{\"attributes\":{\"overlay\":{\"id\":\"19762\"}},\"id\":\"19758\",\"type\":\"BoxZoomTool\"},{\"attributes\":{\"line_alpha\":0.6,\"line_color\":\"blue\",\"line_width\":4,\"x\":{\"field\":\"x\"},\"y\":{\"field\":\"y\"}},\"id\":\"19803\",\"type\":\"Line\"},{\"attributes\":{\"months\":[0,1,2,3,4,5,6,7,8,9,10,11]},\"id\":\"19788\",\"type\":\"MonthsTicker\"},{\"attributes\":{\"fill_color\":{\"value\":\"blue\"},\"line_color\":{\"value\":\"blue\"},\"size\":{\"units\":\"screen\",\"value\":5},\"x\":{\"field\":\"x\"},\"y\":{\"field\":\"y\"}},\"id\":\"19833\",\"type\":\"Circle\"},{\"attributes\":{},\"id\":\"19794\",\"type\":\"Selection\"},{\"attributes\":{\"data_source\":{\"id\":\"19797\"},\"glyph\":{\"id\":\"19798\"},\"hover_glyph\":null,\"muted_glyph\":null,\"nonselection_glyph\":{\"id\":\"19799\"},\"selection_glyph\":null,\"view\":{\"id\":\"19801\"}},\"id\":\"19800\",\"type\":\"GlyphRenderer\"},{\"attributes\":{},\"id\":\"19759\",\"type\":\"SaveTool\"},{\"attributes\":{\"items\":[{\"id\":\"19796\"},{\"id\":\"19831\"}],\"location\":\"bottom_right\"},\"id\":\"19795\",\"type\":\"Legend\"},{\"attributes\":{\"mantissas\":[1,2,5],\"max_interval\":500.0,\"num_minor_ticks\":0},\"id\":\"19781\",\"type\":\"AdaptiveTicker\"},{\"attributes\":{},\"id\":\"19760\",\"type\":\"ResetTool\"},{\"attributes\":{\"base\":24,\"mantissas\":[1,2,4,6,8,12],\"max_interval\":43200000.0,\"min_interval\":3600000.0,\"num_minor_ticks\":0},\"id\":\"19783\",\"type\":\"AdaptiveTicker\"},{\"attributes\":{\"months\":[0,2,4,6,8,10]},\"id\":\"19789\",\"type\":\"MonthsTicker\"},{\"attributes\":{},\"id\":\"19829\",\"type\":\"UnionRenderers\"},{\"attributes\":{},\"id\":\"19761\",\"type\":\"HelpTool\"},{\"attributes\":{\"base\":60,\"mantissas\":[1,2,5,10,15,20,30],\"max_interval\":1800000.0,\"min_interval\":1000.0,\"num_minor_ticks\":0},\"id\":\"19782\",\"type\":\"AdaptiveTicker\"},{\"attributes\":{\"months\":[0,4,8]},\"id\":\"19790\",\"type\":\"MonthsTicker\"},{\"attributes\":{\"source\":{\"id\":\"19832\"}},\"id\":\"19836\",\"type\":\"CDSView\"},{\"attributes\":{},\"id\":\"20616\",\"type\":\"Selection\"},{\"attributes\":{\"label\":{\"value\":\"Biden (1.80865)\"},\"renderers\":[{\"id\":\"19805\"}]},\"id\":\"19831\",\"type\":\"LegendItem\"},{\"attributes\":{\"axis\":{\"id\":\"19752\"},\"dimension\":1,\"grid_line_alpha\":0.5,\"ticker\":null},\"id\":\"19755\",\"type\":\"Grid\"},{\"attributes\":{\"days\":[1,4,7,10,13,16,19,22,25,28]},\"id\":\"19785\",\"type\":\"DaysTicker\"},{\"attributes\":{\"label\":{\"value\":\"Trump (1.84485)\"},\"renderers\":[{\"id\":\"19773\"}]},\"id\":\"19796\",\"type\":\"LegendItem\"},{\"attributes\":{},\"id\":\"19753\",\"type\":\"BasicTicker\"},{\"attributes\":{\"source\":{\"id\":\"19797\"}},\"id\":\"19801\",\"type\":\"CDSView\"},{\"attributes\":{\"active_drag\":\"auto\",\"active_inspect\":\"auto\",\"active_multi\":null,\"active_scroll\":\"auto\",\"active_tap\":\"auto\",\"tools\":[{\"id\":\"19756\"},{\"id\":\"19757\"},{\"id\":\"19758\"},{\"id\":\"19759\"},{\"id\":\"19760\"},{\"id\":\"19761\"}]},\"id\":\"19763\",\"type\":\"Toolbar\"},{\"attributes\":{\"line_alpha\":0.1,\"line_color\":\"blue\",\"line_width\":4,\"x\":{\"field\":\"x\"},\"y\":{\"field\":\"y\"}},\"id\":\"19804\",\"type\":\"Line\"},{\"attributes\":{\"bottom_units\":\"screen\",\"fill_alpha\":0.5,\"fill_color\":\"lightgrey\",\"left_units\":\"screen\",\"level\":\"overlay\",\"line_alpha\":1.0,\"line_color\":\"black\",\"line_dash\":[4,4],\"line_width\":2,\"right_units\":\"screen\",\"top_units\":\"screen\"},\"id\":\"19762\",\"type\":\"BoxAnnotation\"},{\"attributes\":{\"axis_label\":\"Sentiment Score\",\"formatter\":{\"id\":\"19776\"},\"ticker\":{\"id\":\"19753\"}},\"id\":\"19752\",\"type\":\"LinearAxis\"},{\"attributes\":{},\"id\":\"19827\",\"type\":\"UnionRenderers\"},{\"attributes\":{\"data\":{\"x\":{\"__ndarray__\":\"AACAQYkld0IAAECn2yV3QgAAAA0uJndCAADAcoAmd0IAAIDY0iZ3QgAAQD4lJ3dCAAAApHcnd0IAAMAJyid3QgAAgG8cKHdCAABA1W4od0IAAAA7wSh3QgAAwKATKXdCAACABmYpd0IAAEBsuCl3QgAAANIKKndCAADAN10qd0IAAICdryp3QgAAQAMCK3dCAAAAaVQrd0IAAMDOpit3QgAAgDT5K3dCAABAmkssd0IAAAAAnix3QgAAwGXwLHdCAACAy0Itd0IAAEAxlS13QgAAAJfnLXdCAADA/Dkud0IAAIBijC53QgAAQMjeLndCAAAALjEvd0IAAMCTgy93QgAAgPnVL3dC\",\"dtype\":\"float64\",\"order\":\"little\",\"shape\":[33]},\"y\":{\"__ndarray__\":\"0SLb+X5q/D/ufD81Xrr5P2Dl0CLb+fI/aJHtfD81+j+oxks3iUH8Pzm0yHa+nwBAL90kBoGV+z/LoUW28/38Pxsv3SQGgQNAqMZLN4lB/D9oke18PzX+P3npJjEIrPw/L90kBoGV+z99PzVeukkAQDeJQWDl0P4/BoGVQ4ts/z8xCKwcWmT7P+F6FK5H4f4/2c73U+Ol/z83iUFg5dD6P6RwPQrXo/w/O99PjZdu/j8xCKwcWmT7P1g5tMh2vvs/fT81XrpJAEBqvHSTGAQCQHWTGARWDv0/AAAAAAAA/D8ZBFYOLbIBQKrx0k1iEPw/GQRWDi2y/T8fhetRuB79P3Noke18P/0/\",\"dtype\":\"float64\",\"order\":\"little\",\"shape\":[33]}},\"selected\":{\"id\":\"19828\"},\"selection_policy\":{\"id\":\"19827\"}},\"id\":\"19797\",\"type\":\"ColumnDataSource\"},{\"attributes\":{\"data_source\":{\"id\":\"19802\"},\"glyph\":{\"id\":\"19803\"},\"hover_glyph\":null,\"muted_glyph\":null,\"nonselection_glyph\":{\"id\":\"19804\"},\"selection_glyph\":null,\"view\":{\"id\":\"19806\"}},\"id\":\"19805\",\"type\":\"GlyphRenderer\"},{\"attributes\":{\"axis\":{\"id\":\"19748\"},\"grid_line_color\":null,\"ticker\":null},\"id\":\"19751\",\"type\":\"Grid\"},{\"attributes\":{\"data\":{\"x\":{\"__ndarray__\":\"AACAQYkld0IAAECn2yV3QgAAAA0uJndCAADAcoAmd0IAAIDY0iZ3QgAAQD4lJ3dCAAAApHcnd0IAAMAJyid3QgAAgG8cKHdCAABA1W4od0IAAAA7wSh3QgAAwKATKXdCAACABmYpd0IAAEBsuCl3QgAAANIKKndCAADAN10qd0IAAICdryp3QgAAQAMCK3dCAAAAaVQrd0IAAMDOpit3QgAAgDT5K3dCAABAmkssd0IAAAAAnix3QgAAwGXwLHdCAACAy0Itd0IAAEAxlS13QgAAAJfnLXdCAADA/Dkud0IAAIBijC53QgAAQMjeLndCAAAALjEvd0IAAMCTgy93QgAAgPnVL3dC\",\"dtype\":\"float64\",\"order\":\"little\",\"shape\":[33]},\"y\":{\"__ndarray__\":\"0SLb+X5q/D/ufD81Xrr5P2Dl0CLb+fI/aJHtfD81+j+oxks3iUH8Pzm0yHa+nwBAL90kBoGV+z/LoUW28/38Pxsv3SQGgQNAqMZLN4lB/D9oke18PzX+P3npJjEIrPw/L90kBoGV+z99PzVeukkAQDeJQWDl0P4/BoGVQ4ts/z8xCKwcWmT7P+F6FK5H4f4/2c73U+Ol/z83iUFg5dD6P6RwPQrXo/w/O99PjZdu/j8xCKwcWmT7P1g5tMh2vvs/fT81XrpJAEBqvHSTGAQCQHWTGARWDv0/AAAAAAAA/D8ZBFYOLbIBQKrx0k1iEPw/GQRWDi2y/T8fhetRuB79P3Noke18P/0/\",\"dtype\":\"float64\",\"order\":\"little\",\"shape\":[33]}},\"selected\":{\"id\":\"19794\"},\"selection_policy\":{\"id\":\"19793\"}},\"id\":\"19770\",\"type\":\"ColumnDataSource\"},{\"attributes\":{\"days\":[1,15]},\"id\":\"19787\",\"type\":\"DaysTicker\"},{\"attributes\":{\"months\":[0,6]},\"id\":\"19791\",\"type\":\"MonthsTicker\"},{\"attributes\":{\"num_minor_ticks\":5,\"tickers\":[{\"id\":\"19781\"},{\"id\":\"19782\"},{\"id\":\"19783\"},{\"id\":\"19784\"},{\"id\":\"19785\"},{\"id\":\"19786\"},{\"id\":\"19787\"},{\"id\":\"19788\"},{\"id\":\"19789\"},{\"id\":\"19790\"},{\"id\":\"19791\"},{\"id\":\"19792\"}]},\"id\":\"19749\",\"type\":\"DatetimeTicker\"},{\"attributes\":{\"data_source\":{\"id\":\"19832\"},\"glyph\":{\"id\":\"19833\"},\"hover_glyph\":null,\"muted_glyph\":null,\"nonselection_glyph\":{\"id\":\"19834\"},\"selection_glyph\":null,\"view\":{\"id\":\"19836\"}},\"id\":\"19835\",\"type\":\"GlyphRenderer\"},{\"attributes\":{\"line_alpha\":0.1,\"line_color\":\"red\",\"line_width\":4,\"x\":{\"field\":\"x\"},\"y\":{\"field\":\"y\"}},\"id\":\"19772\",\"type\":\"Line\"},{\"attributes\":{\"days\":[1,2,3,4,5,6,7,8,9,10,11,12,13,14,15,16,17,18,19,20,21,22,23,24,25,26,27,28,29,30,31]},\"id\":\"19784\",\"type\":\"DaysTicker\"},{\"attributes\":{\"data_source\":{\"id\":\"19770\"},\"glyph\":{\"id\":\"19771\"},\"hover_glyph\":null,\"muted_glyph\":null,\"nonselection_glyph\":{\"id\":\"19772\"},\"selection_glyph\":null,\"view\":{\"id\":\"19774\"}},\"id\":\"19773\",\"type\":\"GlyphRenderer\"},{\"attributes\":{\"axis_label\":\"Date\",\"formatter\":{\"id\":\"19778\"},\"ticker\":{\"id\":\"19749\"}},\"id\":\"19748\",\"type\":\"DatetimeAxis\"},{\"attributes\":{\"fill_color\":{\"value\":\"red\"},\"line_color\":{\"value\":\"red\"},\"size\":{\"units\":\"screen\",\"value\":5},\"x\":{\"field\":\"x\"},\"y\":{\"field\":\"y\"}},\"id\":\"19798\",\"type\":\"Circle\"},{\"attributes\":{\"line_alpha\":0.6,\"line_color\":\"red\",\"line_width\":4,\"x\":{\"field\":\"x\"},\"y\":{\"field\":\"y\"}},\"id\":\"19771\",\"type\":\"Line\"},{\"attributes\":{\"fill_alpha\":{\"value\":0.1},\"fill_color\":{\"value\":\"red\"},\"line_alpha\":{\"value\":0.1},\"line_color\":{\"value\":\"red\"},\"size\":{\"units\":\"screen\",\"value\":5},\"x\":{\"field\":\"x\"},\"y\":{\"field\":\"y\"}},\"id\":\"19799\",\"type\":\"Circle\"},{\"attributes\":{},\"id\":\"19746\",\"type\":\"LinearScale\"},{\"attributes\":{},\"id\":\"19793\",\"type\":\"UnionRenderers\"},{\"attributes\":{\"source\":{\"id\":\"19770\"}},\"id\":\"19774\",\"type\":\"CDSView\"},{\"attributes\":{},\"id\":\"19776\",\"type\":\"BasicTickFormatter\"},{\"attributes\":{},\"id\":\"19744\",\"type\":\"LinearScale\"},{\"attributes\":{},\"id\":\"19778\",\"type\":\"DatetimeTickFormatter\"},{\"attributes\":{},\"id\":\"19792\",\"type\":\"YearsTicker\"},{\"attributes\":{},\"id\":\"19740\",\"type\":\"DataRange1d\"},{\"attributes\":{\"fill_alpha\":{\"value\":0.1},\"fill_color\":{\"value\":\"blue\"},\"line_alpha\":{\"value\":0.1},\"line_color\":{\"value\":\"blue\"},\"size\":{\"units\":\"screen\",\"value\":5},\"x\":{\"field\":\"x\"},\"y\":{\"field\":\"y\"}},\"id\":\"19834\",\"type\":\"Circle\"},{\"attributes\":{\"days\":[1,8,15,22]},\"id\":\"19786\",\"type\":\"DaysTicker\"},{\"attributes\":{\"text\":\"Candidate|Party - Last 30 Days\"},\"id\":\"19738\",\"type\":\"Title\"},{\"attributes\":{\"source\":{\"id\":\"19802\"}},\"id\":\"19806\",\"type\":\"CDSView\"},{\"attributes\":{},\"id\":\"19756\",\"type\":\"PanTool\"},{\"attributes\":{},\"id\":\"19828\",\"type\":\"Selection\"},{\"attributes\":{},\"id\":\"19830\",\"type\":\"Selection\"},{\"attributes\":{\"data\":{\"x\":{\"__ndarray__\":\"AACAQYkld0IAAECn2yV3QgAAAA0uJndCAADAcoAmd0IAAIDY0iZ3QgAAQD4lJ3dCAAAApHcnd0IAAMAJyid3QgAAgG8cKHdCAABA1W4od0IAAAA7wSh3QgAAwKATKXdCAACABmYpd0IAAEBsuCl3QgAAANIKKndCAADAN10qd0IAAICdryp3QgAAQAMCK3dCAAAAaVQrd0IAAMDOpit3QgAAgDT5K3dCAABAmkssd0IAAAAAnix3QgAAwGXwLHdCAACAy0Itd0IAAEAxlS13QgAAAJfnLXdCAADA/Dkud0IAAIBijC53QgAAQMjeLndCAAAALjEvd0IAAMCTgy93QgAAgPnVL3dC\",\"dtype\":\"float64\",\"order\":\"little\",\"shape\":[33]},\"y\":{\"__ndarray__\":\"IbByaJHt/D+YbhKDwMr1P/hT46WbxPw/N4lBYOXQ+j+gGi/dJAb9P4ts5/up8QBAqvHSTWIQ/D8lBoGVQ4v8P1g5tMh2vvs/Di2yne+n/j9vEoPAyqH9P7bz/dR46f4/aJHtfD81+j9kO99PjZf2PwaBlUOLbPc/aJHtfD81+j9QjZduEoMAQLx0kxgEVv4/1XjpJjEI/D+Nl24Sg8D6P7bz/dR46f4/30+Nl24S/z8K16NwPQr7P9V46SYxCPQ/3SQGgZVD/z9MN4lBYOUAQF66SQwCK/8/5/up8dJN8j+LbOf7qfH6P57vp8ZLN/k/ke18PzVe9j/ByqFFtvP9P6jGSzeJQfg/\",\"dtype\":\"float64\",\"order\":\"little\",\"shape\":[33]}},\"selected\":{\"id\":\"20616\"},\"selection_policy\":{\"id\":\"20615\"}},\"id\":\"19832\",\"type\":\"ColumnDataSource\"}],\"root_ids\":[\"19737\"]},\"title\":\"Bokeh Application\",\"version\":\"2.1.1\"}};\n",
       "  var render_items = [{\"docid\":\"9f1dd85b-0fae-4b94-9b9f-b3b68ec933cc\",\"root_ids\":[\"19737\"],\"roots\":{\"19737\":\"ab018786-8b23-4b3b-9831-77274301da33\"}}];\n",
       "  root.Bokeh.embed.embed_items_notebook(docs_json, render_items);\n",
       "\n",
       "  }\n",
       "  if (root.Bokeh !== undefined) {\n",
       "    embed_document(root);\n",
       "  } else {\n",
       "    var attempts = 0;\n",
       "    var timer = setInterval(function(root) {\n",
       "      if (root.Bokeh !== undefined) {\n",
       "        clearInterval(timer);\n",
       "        embed_document(root);\n",
       "      } else {\n",
       "        attempts++;\n",
       "        if (attempts > 100) {\n",
       "          clearInterval(timer);\n",
       "          console.log(\"Bokeh: ERROR: Unable to run BokehJS code because BokehJS library is missing\");\n",
       "        }\n",
       "      }\n",
       "    }, 10, root)\n",
       "  }\n",
       "})(window);"
      ],
      "application/vnd.bokehjs_exec.v0+json": ""
     },
     "metadata": {
      "application/vnd.bokehjs_exec.v0+json": {
       "id": "19737"
      }
     },
     "output_type": "display_data"
    }
   ],
   "source": [
    "df_trump_party = get_plot_data('data2/sentiment/party/trump/2020_trump republican.csv')\n",
    "df_biden_party = get_plot_data('data2/sentiment/party/biden/2020_biden democrat.csv')\n",
    "\n",
    "plot_chart(df_trump_party, df_biden_party, 'Trump', 'Biden', \"Candidate|Party - Last 30 Days\")"
   ]
  },
  {
   "cell_type": "code",
   "execution_count": 48,
   "metadata": {},
   "outputs": [
    {
     "data": {
      "text/html": [
       "\n",
       "\n",
       "\n",
       "\n",
       "\n",
       "\n",
       "  <div class=\"bk-root\" id=\"38c3bb4b-66bb-46be-b6e8-f1c2a472b5fb\" data-root-id=\"20773\"></div>\n"
      ]
     },
     "metadata": {},
     "output_type": "display_data"
    },
    {
     "data": {
      "application/javascript": [
       "(function(root) {\n",
       "  function embed_document(root) {\n",
       "    \n",
       "  var docs_json = {\"c18d33f9-d837-461e-b58a-9d83309b7226\":{\"roots\":{\"references\":[{\"attributes\":{\"below\":[{\"id\":\"20784\"}],\"center\":[{\"id\":\"20787\"},{\"id\":\"20791\"},{\"id\":\"20831\"}],\"left\":[{\"id\":\"20788\"}],\"plot_height\":350,\"plot_width\":900,\"renderers\":[{\"id\":\"20809\"},{\"id\":\"20836\"},{\"id\":\"20841\"},{\"id\":\"20871\"}],\"title\":{\"id\":\"20774\"},\"toolbar\":{\"id\":\"20799\"},\"x_range\":{\"id\":\"20776\"},\"x_scale\":{\"id\":\"20780\"},\"y_range\":{\"id\":\"20778\"},\"y_scale\":{\"id\":\"20782\"}},\"id\":\"20773\",\"subtype\":\"Figure\",\"type\":\"Plot\"},{\"attributes\":{\"line_alpha\":0.1,\"line_color\":\"red\",\"line_width\":4,\"x\":{\"field\":\"x\"},\"y\":{\"field\":\"y\"}},\"id\":\"20808\",\"type\":\"Line\"},{\"attributes\":{\"base\":24,\"mantissas\":[1,2,4,6,8,12],\"max_interval\":43200000.0,\"min_interval\":3600000.0,\"num_minor_ticks\":0},\"id\":\"20819\",\"type\":\"AdaptiveTicker\"},{\"attributes\":{},\"id\":\"20795\",\"type\":\"SaveTool\"},{\"attributes\":{},\"id\":\"20814\",\"type\":\"DatetimeTickFormatter\"},{\"attributes\":{},\"id\":\"20796\",\"type\":\"ResetTool\"},{\"attributes\":{\"source\":{\"id\":\"20838\"}},\"id\":\"20842\",\"type\":\"CDSView\"},{\"attributes\":{},\"id\":\"20797\",\"type\":\"HelpTool\"},{\"attributes\":{},\"id\":\"21678\",\"type\":\"Selection\"},{\"attributes\":{\"data\":{\"x\":{\"__ndarray__\":\"AACAQYkld0IAAECn2yV3QgAAAA0uJndCAADAcoAmd0IAAIDY0iZ3QgAAQD4lJ3dCAAAApHcnd0IAAMAJyid3QgAAgG8cKHdCAABA1W4od0IAAAA7wSh3QgAAwKATKXdCAACABmYpd0IAAEBsuCl3QgAAANIKKndCAADAN10qd0IAAICdryp3QgAAQAMCK3dCAAAAaVQrd0IAAMDOpit3QgAAgDT5K3dCAABAmkssd0IAAAAAnix3QgAAwGXwLHdCAACAy0Itd0IAAEAxlS13QgAAAJfnLXdCAADA/Dkud0IAAIBijC53QgAAQMjeLndCAAAALjEvd0IAAMCTgy93QgAAgPnVL3dC\",\"dtype\":\"float64\",\"order\":\"little\",\"shape\":[33]},\"y\":{\"__ndarray__\":\"goGBgYGB/T/JUkeIbVoBQJMriMkVxABAiYiIiIiIAEB/6Zd+6Zf+Pzm0yHa+n/o/ozjXMYpz/T/drpUTnun/P0bRWn5AhgRALBaLxWKxAEAAAAAAAAAAQK/l4Ga/EPs/V3M1V3M1/z+hL+gL+oL+P4Sb/UKsKP0/XXTRRRdd/D8LmwOJVtj8PxljjDHGGP8/hFTLOtB2/z/hyw0xIB37PwAAAAAAIP8/QV/QF/QF/T8VKlSoUKH6P9qo72zUd/4/168UqPUr/T/43nvvvff+P1KdJgeZl/o/fN3rXve6/z8EDzzwwAP/P/scUhOMt/4/FK5H4XoU8j/b+X5qvHTzP64GzxEo2vo/\",\"dtype\":\"float64\",\"order\":\"little\",\"shape\":[33]}},\"selected\":{\"id\":\"21678\"},\"selection_policy\":{\"id\":\"21677\"}},\"id\":\"20868\",\"type\":\"ColumnDataSource\"},{\"attributes\":{\"data_source\":{\"id\":\"20833\"},\"glyph\":{\"id\":\"20834\"},\"hover_glyph\":null,\"muted_glyph\":null,\"nonselection_glyph\":{\"id\":\"20835\"},\"selection_glyph\":null,\"view\":{\"id\":\"20837\"}},\"id\":\"20836\",\"type\":\"GlyphRenderer\"},{\"attributes\":{\"label\":{\"value\":\"Biden (1.80865)\"},\"renderers\":[{\"id\":\"20841\"}]},\"id\":\"20867\",\"type\":\"LegendItem\"},{\"attributes\":{},\"id\":\"20792\",\"type\":\"PanTool\"},{\"attributes\":{\"fill_color\":{\"value\":\"blue\"},\"line_color\":{\"value\":\"blue\"},\"size\":{\"units\":\"screen\",\"value\":5},\"x\":{\"field\":\"x\"},\"y\":{\"field\":\"y\"}},\"id\":\"20869\",\"type\":\"Circle\"},{\"attributes\":{\"mantissas\":[1,2,5],\"max_interval\":500.0,\"num_minor_ticks\":0},\"id\":\"20817\",\"type\":\"AdaptiveTicker\"},{\"attributes\":{\"axis\":{\"id\":\"20784\"},\"grid_line_color\":null,\"ticker\":null},\"id\":\"20787\",\"type\":\"Grid\"},{\"attributes\":{\"fill_color\":{\"value\":\"red\"},\"line_color\":{\"value\":\"red\"},\"size\":{\"units\":\"screen\",\"value\":5},\"x\":{\"field\":\"x\"},\"y\":{\"field\":\"y\"}},\"id\":\"20834\",\"type\":\"Circle\"},{\"attributes\":{\"days\":[1,2,3,4,5,6,7,8,9,10,11,12,13,14,15,16,17,18,19,20,21,22,23,24,25,26,27,28,29,30,31]},\"id\":\"20820\",\"type\":\"DaysTicker\"},{\"attributes\":{\"fill_alpha\":{\"value\":0.1},\"fill_color\":{\"value\":\"red\"},\"line_alpha\":{\"value\":0.1},\"line_color\":{\"value\":\"red\"},\"size\":{\"units\":\"screen\",\"value\":5},\"x\":{\"field\":\"x\"},\"y\":{\"field\":\"y\"}},\"id\":\"20835\",\"type\":\"Circle\"},{\"attributes\":{\"items\":[{\"id\":\"20832\"},{\"id\":\"20867\"}],\"location\":\"bottom_right\"},\"id\":\"20831\",\"type\":\"Legend\"},{\"attributes\":{\"bottom_units\":\"screen\",\"fill_alpha\":0.5,\"fill_color\":\"lightgrey\",\"left_units\":\"screen\",\"level\":\"overlay\",\"line_alpha\":1.0,\"line_color\":\"black\",\"line_dash\":[4,4],\"line_width\":2,\"right_units\":\"screen\",\"top_units\":\"screen\"},\"id\":\"20798\",\"type\":\"BoxAnnotation\"},{\"attributes\":{\"days\":[1,8,15,22]},\"id\":\"20822\",\"type\":\"DaysTicker\"},{\"attributes\":{\"axis\":{\"id\":\"20788\"},\"dimension\":1,\"grid_line_alpha\":0.5,\"ticker\":null},\"id\":\"20791\",\"type\":\"Grid\"},{\"attributes\":{\"data_source\":{\"id\":\"20868\"},\"glyph\":{\"id\":\"20869\"},\"hover_glyph\":null,\"muted_glyph\":null,\"nonselection_glyph\":{\"id\":\"20870\"},\"selection_glyph\":null,\"view\":{\"id\":\"20872\"}},\"id\":\"20871\",\"type\":\"GlyphRenderer\"},{\"attributes\":{\"data\":{\"x\":{\"__ndarray__\":\"AACAQYkld0IAAECn2yV3QgAAAA0uJndCAADAcoAmd0IAAIDY0iZ3QgAAQD4lJ3dCAAAApHcnd0IAAMAJyid3QgAAgG8cKHdCAABA1W4od0IAAAA7wSh3QgAAwKATKXdCAACABmYpd0IAAEBsuCl3QgAAANIKKndCAADAN10qd0IAAICdryp3QgAAQAMCK3dCAAAAaVQrd0IAAMDOpit3QgAAgDT5K3dCAABAmkssd0IAAAAAnix3QgAAwGXwLHdCAACAy0Itd0IAAEAxlS13QgAAAJfnLXdCAADA/Dkud0IAAIBijC53QgAAQMjeLndCAAAALjEvd0IAAMCTgy93QgAAgPnVL3dC\",\"dtype\":\"float64\",\"order\":\"little\",\"shape\":[33]},\"y\":{\"__ndarray__\":\"FK5H4XoU/j9xPQrXo3D9P05iEFg5tABAO99PjZdu/j8EVg4tsp37P28Sg8DKof0/PzVeukkM/j8X2c73U+P9P5huEoPAygNAukkMAiuHAED6fmq8dJMCQKjGSzeJQfw/vp8aL90k/j/Xo3A9Ctf7PwisHFpkO/8/iUFg5dAi+z+cxCCwcmj5P28Sg8DKoQFA5/up8dJNAEB56SYxCKz8P/T91HjpJv0/L90kBoGV+z+mm8QgsHL4P6JFtvP91Pw/WmQ730+N+z8/NV66SQz6P+58PzVeuvk/I9v5fmq8/D+0yHa+nxr/P7gehetRuPo/BoGVQ4ts9z/2KFyPwvX8P7TIdr6fGvs/\",\"dtype\":\"float64\",\"order\":\"little\",\"shape\":[33]}},\"selected\":{\"id\":\"20830\"},\"selection_policy\":{\"id\":\"20829\"}},\"id\":\"20806\",\"type\":\"ColumnDataSource\"},{\"attributes\":{\"fill_alpha\":{\"value\":0.1},\"fill_color\":{\"value\":\"blue\"},\"line_alpha\":{\"value\":0.1},\"line_color\":{\"value\":\"blue\"},\"size\":{\"units\":\"screen\",\"value\":5},\"x\":{\"field\":\"x\"},\"y\":{\"field\":\"y\"}},\"id\":\"20870\",\"type\":\"Circle\"},{\"attributes\":{\"active_drag\":\"auto\",\"active_inspect\":\"auto\",\"active_multi\":null,\"active_scroll\":\"auto\",\"active_tap\":\"auto\",\"tools\":[{\"id\":\"20792\"},{\"id\":\"20793\"},{\"id\":\"20794\"},{\"id\":\"20795\"},{\"id\":\"20796\"},{\"id\":\"20797\"}]},\"id\":\"20799\",\"type\":\"Toolbar\"},{\"attributes\":{\"data_source\":{\"id\":\"20806\"},\"glyph\":{\"id\":\"20807\"},\"hover_glyph\":null,\"muted_glyph\":null,\"nonselection_glyph\":{\"id\":\"20808\"},\"selection_glyph\":null,\"view\":{\"id\":\"20810\"}},\"id\":\"20809\",\"type\":\"GlyphRenderer\"},{\"attributes\":{\"label\":{\"value\":\"Trump (1.84145)\"},\"renderers\":[{\"id\":\"20809\"}]},\"id\":\"20832\",\"type\":\"LegendItem\"},{\"attributes\":{},\"id\":\"20789\",\"type\":\"BasicTicker\"},{\"attributes\":{\"source\":{\"id\":\"20868\"}},\"id\":\"20872\",\"type\":\"CDSView\"},{\"attributes\":{\"months\":[0,2,4,6,8,10]},\"id\":\"20825\",\"type\":\"MonthsTicker\"},{\"attributes\":{\"num_minor_ticks\":5,\"tickers\":[{\"id\":\"20817\"},{\"id\":\"20818\"},{\"id\":\"20819\"},{\"id\":\"20820\"},{\"id\":\"20821\"},{\"id\":\"20822\"},{\"id\":\"20823\"},{\"id\":\"20824\"},{\"id\":\"20825\"},{\"id\":\"20826\"},{\"id\":\"20827\"},{\"id\":\"20828\"}]},\"id\":\"20785\",\"type\":\"DatetimeTicker\"},{\"attributes\":{\"data\":{\"x\":{\"__ndarray__\":\"AACAQYkld0IAAECn2yV3QgAAAA0uJndCAADAcoAmd0IAAIDY0iZ3QgAAQD4lJ3dCAAAApHcnd0IAAMAJyid3QgAAgG8cKHdCAABA1W4od0IAAAA7wSh3QgAAwKATKXdCAACABmYpd0IAAEBsuCl3QgAAANIKKndCAADAN10qd0IAAICdryp3QgAAQAMCK3dCAAAAaVQrd0IAAMDOpit3QgAAgDT5K3dCAABAmkssd0IAAAAAnix3QgAAwGXwLHdCAACAy0Itd0IAAEAxlS13QgAAAJfnLXdCAADA/Dkud0IAAIBijC53QgAAQMjeLndCAAAALjEvd0IAAMCTgy93QgAAgPnVL3dC\",\"dtype\":\"float64\",\"order\":\"little\",\"shape\":[33]},\"y\":{\"__ndarray__\":\"goGBgYGB/T/JUkeIbVoBQJMriMkVxABAiYiIiIiIAEB/6Zd+6Zf+Pzm0yHa+n/o/ozjXMYpz/T/drpUTnun/P0bRWn5AhgRALBaLxWKxAEAAAAAAAAAAQK/l4Ga/EPs/V3M1V3M1/z+hL+gL+oL+P4Sb/UKsKP0/XXTRRRdd/D8LmwOJVtj8PxljjDHGGP8/hFTLOtB2/z/hyw0xIB37PwAAAAAAIP8/QV/QF/QF/T8VKlSoUKH6P9qo72zUd/4/168UqPUr/T/43nvvvff+P1KdJgeZl/o/fN3rXve6/z8EDzzwwAP/P/scUhOMt/4/FK5H4XoU8j/b+X5qvHTzP64GzxEo2vo/\",\"dtype\":\"float64\",\"order\":\"little\",\"shape\":[33]}},\"selected\":{\"id\":\"20866\"},\"selection_policy\":{\"id\":\"20865\"}},\"id\":\"20838\",\"type\":\"ColumnDataSource\"},{\"attributes\":{},\"id\":\"20830\",\"type\":\"Selection\"},{\"attributes\":{\"overlay\":{\"id\":\"20798\"}},\"id\":\"20794\",\"type\":\"BoxZoomTool\"},{\"attributes\":{\"base\":60,\"mantissas\":[1,2,5,10,15,20,30],\"max_interval\":1800000.0,\"min_interval\":1000.0,\"num_minor_ticks\":0},\"id\":\"20818\",\"type\":\"AdaptiveTicker\"},{\"attributes\":{\"axis_label\":\"Date\",\"formatter\":{\"id\":\"20814\"},\"ticker\":{\"id\":\"20785\"}},\"id\":\"20784\",\"type\":\"DatetimeAxis\"},{\"attributes\":{\"line_alpha\":0.6,\"line_color\":\"blue\",\"line_width\":4,\"x\":{\"field\":\"x\"},\"y\":{\"field\":\"y\"}},\"id\":\"20839\",\"type\":\"Line\"},{\"attributes\":{\"source\":{\"id\":\"20806\"}},\"id\":\"20810\",\"type\":\"CDSView\"},{\"attributes\":{\"source\":{\"id\":\"20833\"}},\"id\":\"20837\",\"type\":\"CDSView\"},{\"attributes\":{\"months\":[0,4,8]},\"id\":\"20826\",\"type\":\"MonthsTicker\"},{\"attributes\":{},\"id\":\"20793\",\"type\":\"WheelZoomTool\"},{\"attributes\":{\"months\":[0,1,2,3,4,5,6,7,8,9,10,11]},\"id\":\"20824\",\"type\":\"MonthsTicker\"},{\"attributes\":{\"axis_label\":\"Sentiment Score\",\"formatter\":{\"id\":\"20812\"},\"ticker\":{\"id\":\"20789\"}},\"id\":\"20788\",\"type\":\"LinearAxis\"},{\"attributes\":{},\"id\":\"20782\",\"type\":\"LinearScale\"},{\"attributes\":{\"line_alpha\":0.6,\"line_color\":\"red\",\"line_width\":4,\"x\":{\"field\":\"x\"},\"y\":{\"field\":\"y\"}},\"id\":\"20807\",\"type\":\"Line\"},{\"attributes\":{},\"id\":\"20865\",\"type\":\"UnionRenderers\"},{\"attributes\":{\"line_alpha\":0.1,\"line_color\":\"blue\",\"line_width\":4,\"x\":{\"field\":\"x\"},\"y\":{\"field\":\"y\"}},\"id\":\"20840\",\"type\":\"Line\"},{\"attributes\":{\"data\":{\"x\":{\"__ndarray__\":\"AACAQYkld0IAAECn2yV3QgAAAA0uJndCAADAcoAmd0IAAIDY0iZ3QgAAQD4lJ3dCAAAApHcnd0IAAMAJyid3QgAAgG8cKHdCAABA1W4od0IAAAA7wSh3QgAAwKATKXdCAACABmYpd0IAAEBsuCl3QgAAANIKKndCAADAN10qd0IAAICdryp3QgAAQAMCK3dCAAAAaVQrd0IAAMDOpit3QgAAgDT5K3dCAABAmkssd0IAAAAAnix3QgAAwGXwLHdCAACAy0Itd0IAAEAxlS13QgAAAJfnLXdCAADA/Dkud0IAAIBijC53QgAAQMjeLndCAAAALjEvd0IAAMCTgy93QgAAgPnVL3dC\",\"dtype\":\"float64\",\"order\":\"little\",\"shape\":[33]},\"y\":{\"__ndarray__\":\"FK5H4XoU/j9xPQrXo3D9P05iEFg5tABAO99PjZdu/j8EVg4tsp37P28Sg8DKof0/PzVeukkM/j8X2c73U+P9P5huEoPAygNAukkMAiuHAED6fmq8dJMCQKjGSzeJQfw/vp8aL90k/j/Xo3A9Ctf7PwisHFpkO/8/iUFg5dAi+z+cxCCwcmj5P28Sg8DKoQFA5/up8dJNAEB56SYxCKz8P/T91HjpJv0/L90kBoGV+z+mm8QgsHL4P6JFtvP91Pw/WmQ730+N+z8/NV66SQz6P+58PzVeuvk/I9v5fmq8/D+0yHa+nxr/P7gehetRuPo/BoGVQ4ts9z/2KFyPwvX8P7TIdr6fGvs/\",\"dtype\":\"float64\",\"order\":\"little\",\"shape\":[33]}},\"selected\":{\"id\":\"20864\"},\"selection_policy\":{\"id\":\"20863\"}},\"id\":\"20833\",\"type\":\"ColumnDataSource\"},{\"attributes\":{},\"id\":\"21677\",\"type\":\"UnionRenderers\"},{\"attributes\":{},\"id\":\"20864\",\"type\":\"Selection\"},{\"attributes\":{\"text\":\"Candidate|Environment - Last 30 Days\"},\"id\":\"20774\",\"type\":\"Title\"},{\"attributes\":{},\"id\":\"20866\",\"type\":\"Selection\"},{\"attributes\":{},\"id\":\"20829\",\"type\":\"UnionRenderers\"},{\"attributes\":{\"data_source\":{\"id\":\"20838\"},\"glyph\":{\"id\":\"20839\"},\"hover_glyph\":null,\"muted_glyph\":null,\"nonselection_glyph\":{\"id\":\"20840\"},\"selection_glyph\":null,\"view\":{\"id\":\"20842\"}},\"id\":\"20841\",\"type\":\"GlyphRenderer\"},{\"attributes\":{},\"id\":\"20780\",\"type\":\"LinearScale\"},{\"attributes\":{},\"id\":\"20812\",\"type\":\"BasicTickFormatter\"},{\"attributes\":{},\"id\":\"20828\",\"type\":\"YearsTicker\"},{\"attributes\":{},\"id\":\"20863\",\"type\":\"UnionRenderers\"},{\"attributes\":{},\"id\":\"20776\",\"type\":\"DataRange1d\"},{\"attributes\":{\"months\":[0,6]},\"id\":\"20827\",\"type\":\"MonthsTicker\"},{\"attributes\":{\"days\":[1,4,7,10,13,16,19,22,25,28]},\"id\":\"20821\",\"type\":\"DaysTicker\"},{\"attributes\":{\"days\":[1,15]},\"id\":\"20823\",\"type\":\"DaysTicker\"},{\"attributes\":{},\"id\":\"20778\",\"type\":\"DataRange1d\"}],\"root_ids\":[\"20773\"]},\"title\":\"Bokeh Application\",\"version\":\"2.1.1\"}};\n",
       "  var render_items = [{\"docid\":\"c18d33f9-d837-461e-b58a-9d83309b7226\",\"root_ids\":[\"20773\"],\"roots\":{\"20773\":\"38c3bb4b-66bb-46be-b6e8-f1c2a472b5fb\"}}];\n",
       "  root.Bokeh.embed.embed_items_notebook(docs_json, render_items);\n",
       "\n",
       "  }\n",
       "  if (root.Bokeh !== undefined) {\n",
       "    embed_document(root);\n",
       "  } else {\n",
       "    var attempts = 0;\n",
       "    var timer = setInterval(function(root) {\n",
       "      if (root.Bokeh !== undefined) {\n",
       "        clearInterval(timer);\n",
       "        embed_document(root);\n",
       "      } else {\n",
       "        attempts++;\n",
       "        if (attempts > 100) {\n",
       "          clearInterval(timer);\n",
       "          console.log(\"Bokeh: ERROR: Unable to run BokehJS code because BokehJS library is missing\");\n",
       "        }\n",
       "      }\n",
       "    }, 10, root)\n",
       "  }\n",
       "})(window);"
      ],
      "application/vnd.bokehjs_exec.v0+json": ""
     },
     "metadata": {
      "application/vnd.bokehjs_exec.v0+json": {
       "id": "20773"
      }
     },
     "output_type": "display_data"
    }
   ],
   "source": [
    "df_trump_env = get_plot_data('data2/sentiment/environment/trump/2020_trump environment.csv')\n",
    "df_biden_env = get_plot_data('data2/sentiment/environment/biden/2020_biden environment.csv')\n",
    "\n",
    "plot_chart(df_trump_env, df_biden_env, 'Trump', 'Biden', \"Candidate|Environment - Last 30 Days\")"
   ]
  },
  {
   "cell_type": "code",
   "execution_count": 49,
   "metadata": {},
   "outputs": [
    {
     "data": {
      "text/html": [
       "\n",
       "\n",
       "\n",
       "\n",
       "\n",
       "\n",
       "  <div class=\"bk-root\" id=\"c798abf3-ba82-490e-9f03-b273495f8d8b\" data-root-id=\"21835\"></div>\n"
      ]
     },
     "metadata": {},
     "output_type": "display_data"
    },
    {
     "data": {
      "application/javascript": [
       "(function(root) {\n",
       "  function embed_document(root) {\n",
       "    \n",
       "  var docs_json = {\"511f9875-5063-4c5d-9743-900618dbec39\":{\"roots\":{\"references\":[{\"attributes\":{\"below\":[{\"id\":\"21846\"}],\"center\":[{\"id\":\"21849\"},{\"id\":\"21853\"},{\"id\":\"21893\"}],\"left\":[{\"id\":\"21850\"}],\"plot_height\":350,\"plot_width\":900,\"renderers\":[{\"id\":\"21871\"},{\"id\":\"21898\"},{\"id\":\"21903\"},{\"id\":\"21933\"}],\"title\":{\"id\":\"21836\"},\"toolbar\":{\"id\":\"21861\"},\"x_range\":{\"id\":\"21838\"},\"x_scale\":{\"id\":\"21842\"},\"y_range\":{\"id\":\"21840\"},\"y_scale\":{\"id\":\"21844\"}},\"id\":\"21835\",\"subtype\":\"Figure\",\"type\":\"Plot\"},{\"attributes\":{\"days\":[1,4,7,10,13,16,19,22,25,28]},\"id\":\"21883\",\"type\":\"DaysTicker\"},{\"attributes\":{\"days\":[1,8,15,22]},\"id\":\"21884\",\"type\":\"DaysTicker\"},{\"attributes\":{},\"id\":\"21925\",\"type\":\"UnionRenderers\"},{\"attributes\":{},\"id\":\"21891\",\"type\":\"UnionRenderers\"},{\"attributes\":{},\"id\":\"21857\",\"type\":\"SaveTool\"},{\"attributes\":{\"items\":[{\"id\":\"21894\"},{\"id\":\"21929\"}],\"location\":\"bottom_right\"},\"id\":\"21893\",\"type\":\"Legend\"},{\"attributes\":{\"source\":{\"id\":\"21895\"}},\"id\":\"21899\",\"type\":\"CDSView\"},{\"attributes\":{\"months\":[0,4,8]},\"id\":\"21888\",\"type\":\"MonthsTicker\"},{\"attributes\":{},\"id\":\"21855\",\"type\":\"WheelZoomTool\"},{\"attributes\":{\"line_alpha\":0.1,\"line_color\":\"blue\",\"line_width\":4,\"x\":{\"field\":\"x\"},\"y\":{\"field\":\"y\"}},\"id\":\"21902\",\"type\":\"Line\"},{\"attributes\":{},\"id\":\"21859\",\"type\":\"HelpTool\"},{\"attributes\":{\"data_source\":{\"id\":\"21895\"},\"glyph\":{\"id\":\"21896\"},\"hover_glyph\":null,\"muted_glyph\":null,\"nonselection_glyph\":{\"id\":\"21897\"},\"selection_glyph\":null,\"view\":{\"id\":\"21899\"}},\"id\":\"21898\",\"type\":\"GlyphRenderer\"},{\"attributes\":{\"line_alpha\":0.6,\"line_color\":\"blue\",\"line_width\":4,\"x\":{\"field\":\"x\"},\"y\":{\"field\":\"y\"}},\"id\":\"21901\",\"type\":\"Line\"},{\"attributes\":{\"days\":[1,15]},\"id\":\"21885\",\"type\":\"DaysTicker\"},{\"attributes\":{\"months\":[0,1,2,3,4,5,6,7,8,9,10,11]},\"id\":\"21886\",\"type\":\"MonthsTicker\"},{\"attributes\":{\"label\":{\"value\":\"Trump (1.75588)\"},\"renderers\":[{\"id\":\"21871\"}]},\"id\":\"21894\",\"type\":\"LegendItem\"},{\"attributes\":{\"base\":24,\"mantissas\":[1,2,4,6,8,12],\"max_interval\":43200000.0,\"min_interval\":3600000.0,\"num_minor_ticks\":0},\"id\":\"21881\",\"type\":\"AdaptiveTicker\"},{\"attributes\":{},\"id\":\"21858\",\"type\":\"ResetTool\"},{\"attributes\":{\"months\":[0,2,4,6,8,10]},\"id\":\"21887\",\"type\":\"MonthsTicker\"},{\"attributes\":{\"data\":{\"x\":{\"__ndarray__\":\"AACAQYkld0IAAECn2yV3QgAAAA0uJndCAADAcoAmd0IAAIDY0iZ3QgAAQD4lJ3dCAAAApHcnd0IAAMAJyid3QgAAgG8cKHdCAABA1W4od0IAAAA7wSh3QgAAwKATKXdCAACABmYpd0IAAEBsuCl3QgAAANIKKndCAADAN10qd0IAAICdryp3QgAAQAMCK3dCAAAAaVQrd0IAAMDOpit3QgAAgDT5K3dCAABAmkssd0IAAAAAnix3QgAAwGXwLHdCAACAy0Itd0IAAEAxlS13QgAAAJfnLXdCAADA/Dkud0IAAIBijC53QgAAQMjeLndCAAAALjEvd0IAAMCTgy93QgAAgPnVL3dC\",\"dtype\":\"float64\",\"order\":\"little\",\"shape\":[33]},\"y\":{\"__ndarray__\":\"hetRuB6FA0Coxks3iUEAQC2yne+nxvM/y6FFtvP99D9WDi2yne/7P7pJDAIrhwBAkxgEVg4tAEAK16NwPQr7P76fGi/dJP4/WmQ730+N+z9OYhBYObT8PwIrhxbZzvs/8KfGSzeJAUAAAAAAAAACQKwcWmQ73/8/BoGVQ4ts/z/ZzvdT46X7P30/NV66Sfw/d76fGi/d/D9WDi2yne/7P65H4XoUrvc/oBov3SQG/T8dWmQ730/5PxSuR+F6FP4/rkfhehSu+z8lBoGVQ4v8P3E9CtejcPU/Vg4tsp3v/z+6SQwCK4f6P6rx0k1iEABAO99PjZduAECiRbbz/dT8P3WTGARWDvk/\",\"dtype\":\"float64\",\"order\":\"little\",\"shape\":[33]}},\"selected\":{\"id\":\"22766\"},\"selection_policy\":{\"id\":\"22765\"}},\"id\":\"21930\",\"type\":\"ColumnDataSource\"},{\"attributes\":{\"active_drag\":\"auto\",\"active_inspect\":\"auto\",\"active_multi\":null,\"active_scroll\":\"auto\",\"active_tap\":\"auto\",\"tools\":[{\"id\":\"21854\"},{\"id\":\"21855\"},{\"id\":\"21856\"},{\"id\":\"21857\"},{\"id\":\"21858\"},{\"id\":\"21859\"}]},\"id\":\"21861\",\"type\":\"Toolbar\"},{\"attributes\":{\"fill_color\":{\"value\":\"red\"},\"line_color\":{\"value\":\"red\"},\"size\":{\"units\":\"screen\",\"value\":5},\"x\":{\"field\":\"x\"},\"y\":{\"field\":\"y\"}},\"id\":\"21896\",\"type\":\"Circle\"},{\"attributes\":{\"base\":60,\"mantissas\":[1,2,5,10,15,20,30],\"max_interval\":1800000.0,\"min_interval\":1000.0,\"num_minor_ticks\":0},\"id\":\"21880\",\"type\":\"AdaptiveTicker\"},{\"attributes\":{},\"id\":\"21928\",\"type\":\"Selection\"},{\"attributes\":{\"label\":{\"value\":\"Biden (1.80865)\"},\"renderers\":[{\"id\":\"21903\"}]},\"id\":\"21929\",\"type\":\"LegendItem\"},{\"attributes\":{\"bottom_units\":\"screen\",\"fill_alpha\":0.5,\"fill_color\":\"lightgrey\",\"left_units\":\"screen\",\"level\":\"overlay\",\"line_alpha\":1.0,\"line_color\":\"black\",\"line_dash\":[4,4],\"line_width\":2,\"right_units\":\"screen\",\"top_units\":\"screen\"},\"id\":\"21860\",\"type\":\"BoxAnnotation\"},{\"attributes\":{},\"id\":\"22766\",\"type\":\"Selection\"},{\"attributes\":{\"data\":{\"x\":{\"__ndarray__\":\"AACAQYkld0IAAECn2yV3QgAAAA0uJndCAADAcoAmd0IAAIDY0iZ3QgAAQD4lJ3dCAAAApHcnd0IAAMAJyid3QgAAgG8cKHdCAABA1W4od0IAAAA7wSh3QgAAwKATKXdCAACABmYpd0IAAEBsuCl3QgAAANIKKndCAADAN10qd0IAAICdryp3QgAAQAMCK3dCAAAAaVQrd0IAAMDOpit3QgAAgDT5K3dCAABAmkssd0IAAAAAnix3QgAAwGXwLHdCAACAy0Itd0IAAEAxlS13QgAAAJfnLXdCAADA/Dkud0IAAIBijC53QgAAQMjeLndCAAAALjEvd0IAAMCTgy93QgAAgPnVL3dC\",\"dtype\":\"float64\",\"order\":\"little\",\"shape\":[33]},\"y\":{\"__ndarray__\":\"x0s3iUFg+T9vEoPAyqH9P3WTGARWDgFA16NwPQrX/z9eukkMAisBQDvfT42Xbvo/7FG4HoXr/T/l0CLb+X76P2iR7Xw/NfY/arx0kxgE+j8bL90kBoH9P7TIdr6fGvs/xSCwcmiR9T+6SQwCK4f+P6rx0k1iEABA4XoUrkfh+j8bL90kBoH9PxKDwMqhRf4/okW28/3U+D8UrkfhehT+P7pJDAIrh/4/oBov3SQG/T+wcmiR7Xz3P7x0kxgEVvo/7nw/NV66/T93vp8aL938PyPb+X5qvPg/MzMzMzMz+z/LoUW28/38P/hT46WbxPw/iUFg5dAi+z/P91PjpZv4PyGwcmiR7fw/\",\"dtype\":\"float64\",\"order\":\"little\",\"shape\":[33]}},\"selected\":{\"id\":\"21892\"},\"selection_policy\":{\"id\":\"21891\"}},\"id\":\"21868\",\"type\":\"ColumnDataSource\"},{\"attributes\":{\"data\":{\"x\":{\"__ndarray__\":\"AACAQYkld0IAAECn2yV3QgAAAA0uJndCAADAcoAmd0IAAIDY0iZ3QgAAQD4lJ3dCAAAApHcnd0IAAMAJyid3QgAAgG8cKHdCAABA1W4od0IAAAA7wSh3QgAAwKATKXdCAACABmYpd0IAAEBsuCl3QgAAANIKKndCAADAN10qd0IAAICdryp3QgAAQAMCK3dCAAAAaVQrd0IAAMDOpit3QgAAgDT5K3dCAABAmkssd0IAAAAAnix3QgAAwGXwLHdCAACAy0Itd0IAAEAxlS13QgAAAJfnLXdCAADA/Dkud0IAAIBijC53QgAAQMjeLndCAAAALjEvd0IAAMCTgy93QgAAgPnVL3dC\",\"dtype\":\"float64\",\"order\":\"little\",\"shape\":[33]},\"y\":{\"__ndarray__\":\"hetRuB6FA0Coxks3iUEAQC2yne+nxvM/y6FFtvP99D9WDi2yne/7P7pJDAIrhwBAkxgEVg4tAEAK16NwPQr7P76fGi/dJP4/WmQ730+N+z9OYhBYObT8PwIrhxbZzvs/8KfGSzeJAUAAAAAAAAACQKwcWmQ73/8/BoGVQ4ts/z/ZzvdT46X7P30/NV66Sfw/d76fGi/d/D9WDi2yne/7P65H4XoUrvc/oBov3SQG/T8dWmQ730/5PxSuR+F6FP4/rkfhehSu+z8lBoGVQ4v8P3E9CtejcPU/Vg4tsp3v/z+6SQwCK4f6P6rx0k1iEABAO99PjZduAECiRbbz/dT8P3WTGARWDvk/\",\"dtype\":\"float64\",\"order\":\"little\",\"shape\":[33]}},\"selected\":{\"id\":\"21928\"},\"selection_policy\":{\"id\":\"21927\"}},\"id\":\"21900\",\"type\":\"ColumnDataSource\"},{\"attributes\":{\"fill_color\":{\"value\":\"blue\"},\"line_color\":{\"value\":\"blue\"},\"size\":{\"units\":\"screen\",\"value\":5},\"x\":{\"field\":\"x\"},\"y\":{\"field\":\"y\"}},\"id\":\"21931\",\"type\":\"Circle\"},{\"attributes\":{\"axis\":{\"id\":\"21850\"},\"dimension\":1,\"grid_line_alpha\":0.5,\"ticker\":null},\"id\":\"21853\",\"type\":\"Grid\"},{\"attributes\":{},\"id\":\"21838\",\"type\":\"DataRange1d\"},{\"attributes\":{\"fill_alpha\":{\"value\":0.1},\"fill_color\":{\"value\":\"red\"},\"line_alpha\":{\"value\":0.1},\"line_color\":{\"value\":\"red\"},\"size\":{\"units\":\"screen\",\"value\":5},\"x\":{\"field\":\"x\"},\"y\":{\"field\":\"y\"}},\"id\":\"21897\",\"type\":\"Circle\"},{\"attributes\":{\"data_source\":{\"id\":\"21868\"},\"glyph\":{\"id\":\"21869\"},\"hover_glyph\":null,\"muted_glyph\":null,\"nonselection_glyph\":{\"id\":\"21870\"},\"selection_glyph\":null,\"view\":{\"id\":\"21872\"}},\"id\":\"21871\",\"type\":\"GlyphRenderer\"},{\"attributes\":{},\"id\":\"21840\",\"type\":\"DataRange1d\"},{\"attributes\":{},\"id\":\"21892\",\"type\":\"Selection\"},{\"attributes\":{\"line_alpha\":0.6,\"line_color\":\"red\",\"line_width\":4,\"x\":{\"field\":\"x\"},\"y\":{\"field\":\"y\"}},\"id\":\"21869\",\"type\":\"Line\"},{\"attributes\":{\"source\":{\"id\":\"21868\"}},\"id\":\"21872\",\"type\":\"CDSView\"},{\"attributes\":{},\"id\":\"21851\",\"type\":\"BasicTicker\"},{\"attributes\":{\"line_alpha\":0.1,\"line_color\":\"red\",\"line_width\":4,\"x\":{\"field\":\"x\"},\"y\":{\"field\":\"y\"}},\"id\":\"21870\",\"type\":\"Line\"},{\"attributes\":{\"fill_alpha\":{\"value\":0.1},\"fill_color\":{\"value\":\"blue\"},\"line_alpha\":{\"value\":0.1},\"line_color\":{\"value\":\"blue\"},\"size\":{\"units\":\"screen\",\"value\":5},\"x\":{\"field\":\"x\"},\"y\":{\"field\":\"y\"}},\"id\":\"21932\",\"type\":\"Circle\"},{\"attributes\":{},\"id\":\"21890\",\"type\":\"YearsTicker\"},{\"attributes\":{},\"id\":\"21874\",\"type\":\"BasicTickFormatter\"},{\"attributes\":{\"data_source\":{\"id\":\"21900\"},\"glyph\":{\"id\":\"21901\"},\"hover_glyph\":null,\"muted_glyph\":null,\"nonselection_glyph\":{\"id\":\"21902\"},\"selection_glyph\":null,\"view\":{\"id\":\"21904\"}},\"id\":\"21903\",\"type\":\"GlyphRenderer\"},{\"attributes\":{\"axis_label\":\"Sentiment Score\",\"formatter\":{\"id\":\"21874\"},\"ticker\":{\"id\":\"21851\"}},\"id\":\"21850\",\"type\":\"LinearAxis\"},{\"attributes\":{},\"id\":\"21876\",\"type\":\"DatetimeTickFormatter\"},{\"attributes\":{\"source\":{\"id\":\"21930\"}},\"id\":\"21934\",\"type\":\"CDSView\"},{\"attributes\":{},\"id\":\"21927\",\"type\":\"UnionRenderers\"},{\"attributes\":{\"axis\":{\"id\":\"21846\"},\"grid_line_color\":null,\"ticker\":null},\"id\":\"21849\",\"type\":\"Grid\"},{\"attributes\":{\"days\":[1,2,3,4,5,6,7,8,9,10,11,12,13,14,15,16,17,18,19,20,21,22,23,24,25,26,27,28,29,30,31]},\"id\":\"21882\",\"type\":\"DaysTicker\"},{\"attributes\":{\"mantissas\":[1,2,5],\"max_interval\":500.0,\"num_minor_ticks\":0},\"id\":\"21879\",\"type\":\"AdaptiveTicker\"},{\"attributes\":{},\"id\":\"21926\",\"type\":\"Selection\"},{\"attributes\":{\"num_minor_ticks\":5,\"tickers\":[{\"id\":\"21879\"},{\"id\":\"21880\"},{\"id\":\"21881\"},{\"id\":\"21882\"},{\"id\":\"21883\"},{\"id\":\"21884\"},{\"id\":\"21885\"},{\"id\":\"21886\"},{\"id\":\"21887\"},{\"id\":\"21888\"},{\"id\":\"21889\"},{\"id\":\"21890\"}]},\"id\":\"21847\",\"type\":\"DatetimeTicker\"},{\"attributes\":{\"text\":\"Candidate|Health - Last 30 Days\"},\"id\":\"21836\",\"type\":\"Title\"},{\"attributes\":{\"data_source\":{\"id\":\"21930\"},\"glyph\":{\"id\":\"21931\"},\"hover_glyph\":null,\"muted_glyph\":null,\"nonselection_glyph\":{\"id\":\"21932\"},\"selection_glyph\":null,\"view\":{\"id\":\"21934\"}},\"id\":\"21933\",\"type\":\"GlyphRenderer\"},{\"attributes\":{\"axis_label\":\"Date\",\"formatter\":{\"id\":\"21876\"},\"ticker\":{\"id\":\"21847\"}},\"id\":\"21846\",\"type\":\"DatetimeAxis\"},{\"attributes\":{\"source\":{\"id\":\"21900\"}},\"id\":\"21904\",\"type\":\"CDSView\"},{\"attributes\":{\"data\":{\"x\":{\"__ndarray__\":\"AACAQYkld0IAAECn2yV3QgAAAA0uJndCAADAcoAmd0IAAIDY0iZ3QgAAQD4lJ3dCAAAApHcnd0IAAMAJyid3QgAAgG8cKHdCAABA1W4od0IAAAA7wSh3QgAAwKATKXdCAACABmYpd0IAAEBsuCl3QgAAANIKKndCAADAN10qd0IAAICdryp3QgAAQAMCK3dCAAAAaVQrd0IAAMDOpit3QgAAgDT5K3dCAABAmkssd0IAAAAAnix3QgAAwGXwLHdCAACAy0Itd0IAAEAxlS13QgAAAJfnLXdCAADA/Dkud0IAAIBijC53QgAAQMjeLndCAAAALjEvd0IAAMCTgy93QgAAgPnVL3dC\",\"dtype\":\"float64\",\"order\":\"little\",\"shape\":[33]},\"y\":{\"__ndarray__\":\"x0s3iUFg+T9vEoPAyqH9P3WTGARWDgFA16NwPQrX/z9eukkMAisBQDvfT42Xbvo/7FG4HoXr/T/l0CLb+X76P2iR7Xw/NfY/arx0kxgE+j8bL90kBoH9P7TIdr6fGvs/xSCwcmiR9T+6SQwCK4f+P6rx0k1iEABA4XoUrkfh+j8bL90kBoH9PxKDwMqhRf4/okW28/3U+D8UrkfhehT+P7pJDAIrh/4/oBov3SQG/T+wcmiR7Xz3P7x0kxgEVvo/7nw/NV66/T93vp8aL938PyPb+X5qvPg/MzMzMzMz+z/LoUW28/38P/hT46WbxPw/iUFg5dAi+z/P91PjpZv4PyGwcmiR7fw/\",\"dtype\":\"float64\",\"order\":\"little\",\"shape\":[33]}},\"selected\":{\"id\":\"21926\"},\"selection_policy\":{\"id\":\"21925\"}},\"id\":\"21895\",\"type\":\"ColumnDataSource\"},{\"attributes\":{\"months\":[0,6]},\"id\":\"21889\",\"type\":\"MonthsTicker\"},{\"attributes\":{},\"id\":\"21844\",\"type\":\"LinearScale\"},{\"attributes\":{},\"id\":\"22765\",\"type\":\"UnionRenderers\"},{\"attributes\":{\"overlay\":{\"id\":\"21860\"}},\"id\":\"21856\",\"type\":\"BoxZoomTool\"},{\"attributes\":{},\"id\":\"21842\",\"type\":\"LinearScale\"},{\"attributes\":{},\"id\":\"21854\",\"type\":\"PanTool\"}],\"root_ids\":[\"21835\"]},\"title\":\"Bokeh Application\",\"version\":\"2.1.1\"}};\n",
       "  var render_items = [{\"docid\":\"511f9875-5063-4c5d-9743-900618dbec39\",\"root_ids\":[\"21835\"],\"roots\":{\"21835\":\"c798abf3-ba82-490e-9f03-b273495f8d8b\"}}];\n",
       "  root.Bokeh.embed.embed_items_notebook(docs_json, render_items);\n",
       "\n",
       "  }\n",
       "  if (root.Bokeh !== undefined) {\n",
       "    embed_document(root);\n",
       "  } else {\n",
       "    var attempts = 0;\n",
       "    var timer = setInterval(function(root) {\n",
       "      if (root.Bokeh !== undefined) {\n",
       "        clearInterval(timer);\n",
       "        embed_document(root);\n",
       "      } else {\n",
       "        attempts++;\n",
       "        if (attempts > 100) {\n",
       "          clearInterval(timer);\n",
       "          console.log(\"Bokeh: ERROR: Unable to run BokehJS code because BokehJS library is missing\");\n",
       "        }\n",
       "      }\n",
       "    }, 10, root)\n",
       "  }\n",
       "})(window);"
      ],
      "application/vnd.bokehjs_exec.v0+json": ""
     },
     "metadata": {
      "application/vnd.bokehjs_exec.v0+json": {
       "id": "21835"
      }
     },
     "output_type": "display_data"
    }
   ],
   "source": [
    "df_trump_health = get_plot_data('data2/sentiment/health/trump/2020_trump health.csv')\n",
    "df_biden_health = get_plot_data('data2/sentiment/health/biden/2020_biden health.csv')\n",
    "\n",
    "plot_chart(df_trump_health, df_biden_health, 'Trump', 'Biden', \"Candidate|Health - Last 30 Days\")"
   ]
  },
  {
   "cell_type": "code",
   "execution_count": 50,
   "metadata": {},
   "outputs": [
    {
     "data": {
      "text/html": [
       "\n",
       "\n",
       "\n",
       "\n",
       "\n",
       "\n",
       "  <div class=\"bk-root\" id=\"c92bfdde-3976-40a0-adec-9bc31b394a80\" data-root-id=\"22923\"></div>\n"
      ]
     },
     "metadata": {},
     "output_type": "display_data"
    },
    {
     "data": {
      "application/javascript": [
       "(function(root) {\n",
       "  function embed_document(root) {\n",
       "    \n",
       "  var docs_json = {\"b67c801f-71d9-4edb-a0f0-4af4f036549d\":{\"roots\":{\"references\":[{\"attributes\":{\"below\":[{\"id\":\"22934\"}],\"center\":[{\"id\":\"22937\"},{\"id\":\"22941\"},{\"id\":\"22981\"}],\"left\":[{\"id\":\"22938\"}],\"plot_height\":350,\"plot_width\":900,\"renderers\":[{\"id\":\"22959\"},{\"id\":\"22986\"},{\"id\":\"22991\"},{\"id\":\"23021\"}],\"title\":{\"id\":\"22924\"},\"toolbar\":{\"id\":\"22949\"},\"x_range\":{\"id\":\"22926\"},\"x_scale\":{\"id\":\"22930\"},\"y_range\":{\"id\":\"22928\"},\"y_scale\":{\"id\":\"22932\"}},\"id\":\"22923\",\"subtype\":\"Figure\",\"type\":\"Plot\"},{\"attributes\":{\"overlay\":{\"id\":\"22948\"}},\"id\":\"22944\",\"type\":\"BoxZoomTool\"},{\"attributes\":{},\"id\":\"22979\",\"type\":\"UnionRenderers\"},{\"attributes\":{\"days\":[1,2,3,4,5,6,7,8,9,10,11,12,13,14,15,16,17,18,19,20,21,22,23,24,25,26,27,28,29,30,31]},\"id\":\"22970\",\"type\":\"DaysTicker\"},{\"attributes\":{},\"id\":\"22943\",\"type\":\"WheelZoomTool\"},{\"attributes\":{\"fill_alpha\":{\"value\":0.1},\"fill_color\":{\"value\":\"blue\"},\"line_alpha\":{\"value\":0.1},\"line_color\":{\"value\":\"blue\"},\"size\":{\"units\":\"screen\",\"value\":5},\"x\":{\"field\":\"x\"},\"y\":{\"field\":\"y\"}},\"id\":\"23020\",\"type\":\"Circle\"},{\"attributes\":{\"active_drag\":\"auto\",\"active_inspect\":\"auto\",\"active_multi\":null,\"active_scroll\":\"auto\",\"active_tap\":\"auto\",\"tools\":[{\"id\":\"22942\"},{\"id\":\"22943\"},{\"id\":\"22944\"},{\"id\":\"22945\"},{\"id\":\"22946\"},{\"id\":\"22947\"}]},\"id\":\"22949\",\"type\":\"Toolbar\"},{\"attributes\":{\"data_source\":{\"id\":\"23018\"},\"glyph\":{\"id\":\"23019\"},\"hover_glyph\":null,\"muted_glyph\":null,\"nonselection_glyph\":{\"id\":\"23020\"},\"selection_glyph\":null,\"view\":{\"id\":\"23022\"}},\"id\":\"23021\",\"type\":\"GlyphRenderer\"},{\"attributes\":{\"bottom_units\":\"screen\",\"fill_alpha\":0.5,\"fill_color\":\"lightgrey\",\"left_units\":\"screen\",\"level\":\"overlay\",\"line_alpha\":1.0,\"line_color\":\"black\",\"line_dash\":[4,4],\"line_width\":2,\"right_units\":\"screen\",\"top_units\":\"screen\"},\"id\":\"22948\",\"type\":\"BoxAnnotation\"},{\"attributes\":{},\"id\":\"22942\",\"type\":\"PanTool\"},{\"attributes\":{},\"id\":\"23016\",\"type\":\"Selection\"},{\"attributes\":{\"data\":{\"x\":{\"__ndarray__\":\"AACAQYkld0IAAECn2yV3QgAAAA0uJndCAADAcoAmd0IAAIDY0iZ3QgAAQD4lJ3dCAAAApHcnd0IAAMAJyid3QgAAgG8cKHdCAABA1W4od0IAAAA7wSh3QgAAwKATKXdCAACABmYpd0IAAEBsuCl3QgAAANIKKndCAADAN10qd0IAAICdryp3QgAAQAMCK3dCAAAAaVQrd0IAAMDOpit3QgAAgDT5K3dCAABAmkssd0IAAAAAnix3QgAAwGXwLHdCAACAy0Itd0IAAEAxlS13QgAAAJfnLXdCAADA/Dkud0IAAIBijC53QgAAQMjeLndCAAAALjEvd0IAAMCTgy93QgAAgPnVL3dC\",\"dtype\":\"float64\",\"order\":\"little\",\"shape\":[33]},\"y\":{\"__ndarray__\":\"CtejcD0K/z9KDAIrhxb9P7Kd76fGS/8/g8DKoUW2+z8fhetRuB79P+58PzVeuv0/c2iR7Xw//T8QWDm0yHb+P6RwPQrXo/w/8tJNYhBYA0Dwp8ZLN4n9PzEIrBxaZPs/+FPjpZvEAEACK4cW2c7/PzMzMzMzM/8/7FG4HoXr/T+HFtnO91P7P6rx0k1iEABAN4lBYOXQ+j9g5dAi2/n+P/p+arx0k/w/YOXQItv5/j+oxks3iUH4P+XQItv5fv4/ukkMAiuH/j/HSzeJQWD9P9nO91Pjpf8/IbByaJHt/D8/NV66SQz+P+Olm8QgsP4/YhBYObTIAEAK16NwPQr7PxkEVg4tsv0/\",\"dtype\":\"float64\",\"order\":\"little\",\"shape\":[33]}},\"selected\":{\"id\":\"22980\"},\"selection_policy\":{\"id\":\"22979\"}},\"id\":\"22956\",\"type\":\"ColumnDataSource\"},{\"attributes\":{},\"id\":\"22978\",\"type\":\"YearsTicker\"},{\"attributes\":{\"line_alpha\":0.6,\"line_color\":\"blue\",\"line_width\":4,\"x\":{\"field\":\"x\"},\"y\":{\"field\":\"y\"}},\"id\":\"22989\",\"type\":\"Line\"},{\"attributes\":{\"data\":{\"x\":{\"__ndarray__\":\"AACAQYkld0IAAECn2yV3QgAAAA0uJndCAADAcoAmd0IAAIDY0iZ3QgAAQD4lJ3dCAAAApHcnd0IAAMAJyid3QgAAgG8cKHdCAABA1W4od0IAAAA7wSh3QgAAwKATKXdCAACABmYpd0IAAEBsuCl3QgAAANIKKndCAADAN10qd0IAAICdryp3QgAAQAMCK3dCAAAAaVQrd0IAAMDOpit3QgAAgDT5K3dCAABAmkssd0IAAAAAnix3QgAAwGXwLHdCAACAy0Itd0IAAEAxlS13QgAAAJfnLXdCAADA/Dkud0IAAIBijC53QgAAQMjeLndCAAAALjEvd0IAAMCTgy93QgAAgPnVL3dC\",\"dtype\":\"float64\",\"order\":\"little\",\"shape\":[33]},\"y\":{\"__ndarray__\":\"w0ndl8dWAEDlw7hfl1T2PzZaozVao/U/x75H5ATh/j/UdzbqOxv9P+MrvuIrvvo/wcspeDkF9z+yTHpGJMv0PwAAAAAAQPU/UxhnUxhn8z8Ha5YYnzL9P1yPwvUoXP8/2/l+arx0/z/6fmq8dJP8PzqTakdnUv0/9WT8dqkn+z/aavAcgaL9P5LwrSgeCf8/amDvmBrY+z8Ijbzztzj9P31p4jBWW/8/w/UoXI/C/T/TTWIQWDn8P4wfwiBnyf4/yXa+nxov9T+u1oUn5Gr9P99PjZduEv8/eekmMQis/D8UrkfhehQAQHE9CtejcP0/z/dT46Wb9D9g5dAi2/n2PzMzMzMzM/8/\",\"dtype\":\"float64\",\"order\":\"little\",\"shape\":[33]}},\"selected\":{\"id\":\"23016\"},\"selection_policy\":{\"id\":\"23015\"}},\"id\":\"22988\",\"type\":\"ColumnDataSource\"},{\"attributes\":{\"data_source\":{\"id\":\"22956\"},\"glyph\":{\"id\":\"22957\"},\"hover_glyph\":null,\"muted_glyph\":null,\"nonselection_glyph\":{\"id\":\"22958\"},\"selection_glyph\":null,\"view\":{\"id\":\"22960\"}},\"id\":\"22959\",\"type\":\"GlyphRenderer\"},{\"attributes\":{},\"id\":\"23015\",\"type\":\"UnionRenderers\"},{\"attributes\":{\"line_alpha\":0.6,\"line_color\":\"red\",\"line_width\":4,\"x\":{\"field\":\"x\"},\"y\":{\"field\":\"y\"}},\"id\":\"22957\",\"type\":\"Line\"},{\"attributes\":{\"axis\":{\"id\":\"22938\"},\"dimension\":1,\"grid_line_alpha\":0.5,\"ticker\":null},\"id\":\"22941\",\"type\":\"Grid\"},{\"attributes\":{\"source\":{\"id\":\"22956\"}},\"id\":\"22960\",\"type\":\"CDSView\"},{\"attributes\":{\"num_minor_ticks\":5,\"tickers\":[{\"id\":\"22967\"},{\"id\":\"22968\"},{\"id\":\"22969\"},{\"id\":\"22970\"},{\"id\":\"22971\"},{\"id\":\"22972\"},{\"id\":\"22973\"},{\"id\":\"22974\"},{\"id\":\"22975\"},{\"id\":\"22976\"},{\"id\":\"22977\"},{\"id\":\"22978\"}]},\"id\":\"22935\",\"type\":\"DatetimeTicker\"},{\"attributes\":{\"line_alpha\":0.1,\"line_color\":\"red\",\"line_width\":4,\"x\":{\"field\":\"x\"},\"y\":{\"field\":\"y\"}},\"id\":\"22958\",\"type\":\"Line\"},{\"attributes\":{},\"id\":\"22939\",\"type\":\"BasicTicker\"},{\"attributes\":{\"label\":{\"value\":\"Biden (1.80865)\"},\"renderers\":[{\"id\":\"22991\"}]},\"id\":\"23017\",\"type\":\"LegendItem\"},{\"attributes\":{},\"id\":\"22962\",\"type\":\"BasicTickFormatter\"},{\"attributes\":{\"data\":{\"x\":{\"__ndarray__\":\"AACAQYkld0IAAECn2yV3QgAAAA0uJndCAADAcoAmd0IAAIDY0iZ3QgAAQD4lJ3dCAAAApHcnd0IAAMAJyid3QgAAgG8cKHdCAABA1W4od0IAAAA7wSh3QgAAwKATKXdCAACABmYpd0IAAEBsuCl3QgAAANIKKndCAADAN10qd0IAAICdryp3QgAAQAMCK3dCAAAAaVQrd0IAAMDOpit3QgAAgDT5K3dCAABAmkssd0IAAAAAnix3QgAAwGXwLHdCAACAy0Itd0IAAEAxlS13QgAAAJfnLXdCAADA/Dkud0IAAIBijC53QgAAQMjeLndCAAAALjEvd0IAAMCTgy93QgAAgPnVL3dC\",\"dtype\":\"float64\",\"order\":\"little\",\"shape\":[33]},\"y\":{\"__ndarray__\":\"CtejcD0K/z9KDAIrhxb9P7Kd76fGS/8/g8DKoUW2+z8fhetRuB79P+58PzVeuv0/c2iR7Xw//T8QWDm0yHb+P6RwPQrXo/w/8tJNYhBYA0Dwp8ZLN4n9PzEIrBxaZPs/+FPjpZvEAEACK4cW2c7/PzMzMzMzM/8/7FG4HoXr/T+HFtnO91P7P6rx0k1iEABAN4lBYOXQ+j9g5dAi2/n+P/p+arx0k/w/YOXQItv5/j+oxks3iUH4P+XQItv5fv4/ukkMAiuH/j/HSzeJQWD9P9nO91Pjpf8/IbByaJHt/D8/NV66SQz+P+Olm8QgsP4/YhBYObTIAEAK16NwPQr7PxkEVg4tsv0/\",\"dtype\":\"float64\",\"order\":\"little\",\"shape\":[33]}},\"selected\":{\"id\":\"23014\"},\"selection_policy\":{\"id\":\"23013\"}},\"id\":\"22983\",\"type\":\"ColumnDataSource\"},{\"attributes\":{\"data\":{\"x\":{\"__ndarray__\":\"AACAQYkld0IAAECn2yV3QgAAAA0uJndCAADAcoAmd0IAAIDY0iZ3QgAAQD4lJ3dCAAAApHcnd0IAAMAJyid3QgAAgG8cKHdCAABA1W4od0IAAAA7wSh3QgAAwKATKXdCAACABmYpd0IAAEBsuCl3QgAAANIKKndCAADAN10qd0IAAICdryp3QgAAQAMCK3dCAAAAaVQrd0IAAMDOpit3QgAAgDT5K3dCAABAmkssd0IAAAAAnix3QgAAwGXwLHdCAACAy0Itd0IAAEAxlS13QgAAAJfnLXdCAADA/Dkud0IAAIBijC53QgAAQMjeLndCAAAALjEvd0IAAMCTgy93QgAAgPnVL3dC\",\"dtype\":\"float64\",\"order\":\"little\",\"shape\":[33]},\"y\":{\"__ndarray__\":\"w0ndl8dWAEDlw7hfl1T2PzZaozVao/U/x75H5ATh/j/UdzbqOxv9P+MrvuIrvvo/wcspeDkF9z+yTHpGJMv0PwAAAAAAQPU/UxhnUxhn8z8Ha5YYnzL9P1yPwvUoXP8/2/l+arx0/z/6fmq8dJP8PzqTakdnUv0/9WT8dqkn+z/aavAcgaL9P5LwrSgeCf8/amDvmBrY+z8Ijbzztzj9P31p4jBWW/8/w/UoXI/C/T/TTWIQWDn8P4wfwiBnyf4/yXa+nxov9T+u1oUn5Gr9P99PjZduEv8/eekmMQis/D8UrkfhehQAQHE9CtejcP0/z/dT46Wb9D9g5dAi2/n2PzMzMzMzM/8/\",\"dtype\":\"float64\",\"order\":\"little\",\"shape\":[33]}},\"selected\":{\"id\":\"23880\"},\"selection_policy\":{\"id\":\"23879\"}},\"id\":\"23018\",\"type\":\"ColumnDataSource\"},{\"attributes\":{\"axis_label\":\"Sentiment Score\",\"formatter\":{\"id\":\"22962\"},\"ticker\":{\"id\":\"22939\"}},\"id\":\"22938\",\"type\":\"LinearAxis\"},{\"attributes\":{},\"id\":\"22964\",\"type\":\"DatetimeTickFormatter\"},{\"attributes\":{\"axis\":{\"id\":\"22934\"},\"grid_line_color\":null,\"ticker\":null},\"id\":\"22937\",\"type\":\"Grid\"},{\"attributes\":{\"source\":{\"id\":\"22983\"}},\"id\":\"22987\",\"type\":\"CDSView\"},{\"attributes\":{\"mantissas\":[1,2,5],\"max_interval\":500.0,\"num_minor_ticks\":0},\"id\":\"22967\",\"type\":\"AdaptiveTicker\"},{\"attributes\":{\"days\":[1,15]},\"id\":\"22973\",\"type\":\"DaysTicker\"},{\"attributes\":{},\"id\":\"23880\",\"type\":\"Selection\"},{\"attributes\":{},\"id\":\"22980\",\"type\":\"Selection\"},{\"attributes\":{\"axis_label\":\"Date\",\"formatter\":{\"id\":\"22964\"},\"ticker\":{\"id\":\"22935\"}},\"id\":\"22934\",\"type\":\"DatetimeAxis\"},{\"attributes\":{\"data_source\":{\"id\":\"22988\"},\"glyph\":{\"id\":\"22989\"},\"hover_glyph\":null,\"muted_glyph\":null,\"nonselection_glyph\":{\"id\":\"22990\"},\"selection_glyph\":null,\"view\":{\"id\":\"22992\"}},\"id\":\"22991\",\"type\":\"GlyphRenderer\"},{\"attributes\":{\"fill_alpha\":{\"value\":0.1},\"fill_color\":{\"value\":\"red\"},\"line_alpha\":{\"value\":0.1},\"line_color\":{\"value\":\"red\"},\"size\":{\"units\":\"screen\",\"value\":5},\"x\":{\"field\":\"x\"},\"y\":{\"field\":\"y\"}},\"id\":\"22985\",\"type\":\"Circle\"},{\"attributes\":{\"fill_color\":{\"value\":\"blue\"},\"line_color\":{\"value\":\"blue\"},\"size\":{\"units\":\"screen\",\"value\":5},\"x\":{\"field\":\"x\"},\"y\":{\"field\":\"y\"}},\"id\":\"23019\",\"type\":\"Circle\"},{\"attributes\":{\"months\":[0,6]},\"id\":\"22977\",\"type\":\"MonthsTicker\"},{\"attributes\":{},\"id\":\"22932\",\"type\":\"LinearScale\"},{\"attributes\":{\"line_alpha\":0.1,\"line_color\":\"blue\",\"line_width\":4,\"x\":{\"field\":\"x\"},\"y\":{\"field\":\"y\"}},\"id\":\"22990\",\"type\":\"Line\"},{\"attributes\":{\"source\":{\"id\":\"22988\"}},\"id\":\"22992\",\"type\":\"CDSView\"},{\"attributes\":{\"days\":[1,8,15,22]},\"id\":\"22972\",\"type\":\"DaysTicker\"},{\"attributes\":{},\"id\":\"23879\",\"type\":\"UnionRenderers\"},{\"attributes\":{},\"id\":\"22930\",\"type\":\"LinearScale\"},{\"attributes\":{\"source\":{\"id\":\"23018\"}},\"id\":\"23022\",\"type\":\"CDSView\"},{\"attributes\":{\"base\":60,\"mantissas\":[1,2,5,10,15,20,30],\"max_interval\":1800000.0,\"min_interval\":1000.0,\"num_minor_ticks\":0},\"id\":\"22968\",\"type\":\"AdaptiveTicker\"},{\"attributes\":{\"months\":[0,1,2,3,4,5,6,7,8,9,10,11]},\"id\":\"22974\",\"type\":\"MonthsTicker\"},{\"attributes\":{\"fill_color\":{\"value\":\"red\"},\"line_color\":{\"value\":\"red\"},\"size\":{\"units\":\"screen\",\"value\":5},\"x\":{\"field\":\"x\"},\"y\":{\"field\":\"y\"}},\"id\":\"22984\",\"type\":\"Circle\"},{\"attributes\":{},\"id\":\"22928\",\"type\":\"DataRange1d\"},{\"attributes\":{},\"id\":\"23013\",\"type\":\"UnionRenderers\"},{\"attributes\":{\"data_source\":{\"id\":\"22983\"},\"glyph\":{\"id\":\"22984\"},\"hover_glyph\":null,\"muted_glyph\":null,\"nonselection_glyph\":{\"id\":\"22985\"},\"selection_glyph\":null,\"view\":{\"id\":\"22987\"}},\"id\":\"22986\",\"type\":\"GlyphRenderer\"},{\"attributes\":{\"base\":24,\"mantissas\":[1,2,4,6,8,12],\"max_interval\":43200000.0,\"min_interval\":3600000.0,\"num_minor_ticks\":0},\"id\":\"22969\",\"type\":\"AdaptiveTicker\"},{\"attributes\":{},\"id\":\"22926\",\"type\":\"DataRange1d\"},{\"attributes\":{},\"id\":\"22945\",\"type\":\"SaveTool\"},{\"attributes\":{\"days\":[1,4,7,10,13,16,19,22,25,28]},\"id\":\"22971\",\"type\":\"DaysTicker\"},{\"attributes\":{\"text\":\"Candidate|Immigration - Last 30 Days\"},\"id\":\"22924\",\"type\":\"Title\"},{\"attributes\":{\"label\":{\"value\":\"Trump (1.87782)\"},\"renderers\":[{\"id\":\"22959\"}]},\"id\":\"22982\",\"type\":\"LegendItem\"},{\"attributes\":{},\"id\":\"22947\",\"type\":\"HelpTool\"},{\"attributes\":{\"items\":[{\"id\":\"22982\"},{\"id\":\"23017\"}],\"location\":\"bottom_right\"},\"id\":\"22981\",\"type\":\"Legend\"},{\"attributes\":{\"months\":[0,2,4,6,8,10]},\"id\":\"22975\",\"type\":\"MonthsTicker\"},{\"attributes\":{},\"id\":\"22946\",\"type\":\"ResetTool\"},{\"attributes\":{},\"id\":\"23014\",\"type\":\"Selection\"},{\"attributes\":{\"months\":[0,4,8]},\"id\":\"22976\",\"type\":\"MonthsTicker\"}],\"root_ids\":[\"22923\"]},\"title\":\"Bokeh Application\",\"version\":\"2.1.1\"}};\n",
       "  var render_items = [{\"docid\":\"b67c801f-71d9-4edb-a0f0-4af4f036549d\",\"root_ids\":[\"22923\"],\"roots\":{\"22923\":\"c92bfdde-3976-40a0-adec-9bc31b394a80\"}}];\n",
       "  root.Bokeh.embed.embed_items_notebook(docs_json, render_items);\n",
       "\n",
       "  }\n",
       "  if (root.Bokeh !== undefined) {\n",
       "    embed_document(root);\n",
       "  } else {\n",
       "    var attempts = 0;\n",
       "    var timer = setInterval(function(root) {\n",
       "      if (root.Bokeh !== undefined) {\n",
       "        clearInterval(timer);\n",
       "        embed_document(root);\n",
       "      } else {\n",
       "        attempts++;\n",
       "        if (attempts > 100) {\n",
       "          clearInterval(timer);\n",
       "          console.log(\"Bokeh: ERROR: Unable to run BokehJS code because BokehJS library is missing\");\n",
       "        }\n",
       "      }\n",
       "    }, 10, root)\n",
       "  }\n",
       "})(window);"
      ],
      "application/vnd.bokehjs_exec.v0+json": ""
     },
     "metadata": {
      "application/vnd.bokehjs_exec.v0+json": {
       "id": "22923"
      }
     },
     "output_type": "display_data"
    }
   ],
   "source": [
    "df_trump_imm = get_plot_data('data2/sentiment/immigration/trump/2020_trump immigration.csv')\n",
    "df_biden_imm = get_plot_data('data2/sentiment/immigration/biden/2020_biden immigration.csv')\n",
    "\n",
    "plot_chart(df_trump_imm, df_biden_imm, 'Trump', 'Biden', \"Candidate|Immigration - Last 30 Days\")"
   ]
  },
  {
   "cell_type": "code",
   "execution_count": 51,
   "metadata": {},
   "outputs": [
    {
     "data": {
      "text/html": [
       "\n",
       "\n",
       "\n",
       "\n",
       "\n",
       "\n",
       "  <div class=\"bk-root\" id=\"47d8d440-a4a0-4914-b011-9f6d587b1664\" data-root-id=\"24037\"></div>\n"
      ]
     },
     "metadata": {},
     "output_type": "display_data"
    },
    {
     "data": {
      "application/javascript": [
       "(function(root) {\n",
       "  function embed_document(root) {\n",
       "    \n",
       "  var docs_json = {\"e6912110-0ae8-49ea-8a25-6d1e3e14d45d\":{\"roots\":{\"references\":[{\"attributes\":{\"below\":[{\"id\":\"24048\"}],\"center\":[{\"id\":\"24051\"},{\"id\":\"24055\"},{\"id\":\"24095\"}],\"left\":[{\"id\":\"24052\"}],\"plot_height\":350,\"plot_width\":900,\"renderers\":[{\"id\":\"24073\"},{\"id\":\"24100\"},{\"id\":\"24105\"},{\"id\":\"24135\"}],\"title\":{\"id\":\"24038\"},\"toolbar\":{\"id\":\"24063\"},\"x_range\":{\"id\":\"24040\"},\"x_scale\":{\"id\":\"24044\"},\"y_range\":{\"id\":\"24042\"},\"y_scale\":{\"id\":\"24046\"}},\"id\":\"24037\",\"subtype\":\"Figure\",\"type\":\"Plot\"},{\"attributes\":{},\"id\":\"24042\",\"type\":\"DataRange1d\"},{\"attributes\":{\"source\":{\"id\":\"24070\"}},\"id\":\"24074\",\"type\":\"CDSView\"},{\"attributes\":{\"line_alpha\":0.1,\"line_color\":\"red\",\"line_width\":4,\"x\":{\"field\":\"x\"},\"y\":{\"field\":\"y\"}},\"id\":\"24072\",\"type\":\"Line\"},{\"attributes\":{},\"id\":\"24060\",\"type\":\"ResetTool\"},{\"attributes\":{\"source\":{\"id\":\"24097\"}},\"id\":\"24101\",\"type\":\"CDSView\"},{\"attributes\":{},\"id\":\"24076\",\"type\":\"BasicTickFormatter\"},{\"attributes\":{\"label\":{\"value\":\"Trump (1.85018)\"},\"renderers\":[{\"id\":\"24073\"}]},\"id\":\"24096\",\"type\":\"LegendItem\"},{\"attributes\":{},\"id\":\"24128\",\"type\":\"Selection\"},{\"attributes\":{},\"id\":\"24078\",\"type\":\"DatetimeTickFormatter\"},{\"attributes\":{},\"id\":\"24059\",\"type\":\"SaveTool\"},{\"attributes\":{\"source\":{\"id\":\"24132\"}},\"id\":\"24136\",\"type\":\"CDSView\"},{\"attributes\":{\"fill_alpha\":{\"value\":0.1},\"fill_color\":{\"value\":\"blue\"},\"line_alpha\":{\"value\":0.1},\"line_color\":{\"value\":\"blue\"},\"size\":{\"units\":\"screen\",\"value\":5},\"x\":{\"field\":\"x\"},\"y\":{\"field\":\"y\"}},\"id\":\"24134\",\"type\":\"Circle\"},{\"attributes\":{\"data\":{\"x\":{\"__ndarray__\":\"AACAQYkld0IAAECn2yV3QgAAAA0uJndCAADAcoAmd0IAAIDY0iZ3QgAAQD4lJ3dCAAAApHcnd0IAAMAJyid3QgAAgG8cKHdCAABA1W4od0IAAAA7wSh3QgAAwKATKXdCAACABmYpd0IAAEBsuCl3QgAAANIKKndCAADAN10qd0IAAICdryp3QgAAQAMCK3dCAAAAaVQrd0IAAMDOpit3QgAAgDT5K3dCAABAmkssd0IAAAAAnix3QgAAwGXwLHdCAACAy0Itd0IAAEAxlS13QgAAAJfnLXdCAADA/Dkud0IAAIBijC53QgAAQMjeLndCAAAALjEvd0IAAMCTgy93QgAAgPnVL3dC\",\"dtype\":\"float64\",\"order\":\"little\",\"shape\":[33]},\"y\":{\"__ndarray__\":\"DAIrhxbZ+j+LbOf7qfHyPxSuR+F6FABAiUFg5dAi+z9OYhBYObT8P/yp8dJNYgBAXI/C9Shc/z/pJjEIrBz+P28Sg8DKof0/001iEFg5/D9aZDvfT437PxKDwMqhRf4/i2zn+6nx/j8CK4cW2c77P4PAyqFFtvs/oBov3SQG+T/D9Shcj8L9PzVeukkMAgVAJzEIrBxa/D8hsHJoke3wP/YoXI/C9fw/H4XrUbge/T+R7Xw/NV76P9Ei2/l+avw/BoGVQ4ts/z+HFtnO91P7Pzm0yHa+nwRA2c73U+Ol9z8rhxbZzvf/P4ts5/up8f4/hetRuB6F/z/wp8ZLN4n9P99PjZduEv8/\",\"dtype\":\"float64\",\"order\":\"little\",\"shape\":[33]}},\"selected\":{\"id\":\"25020\"},\"selection_policy\":{\"id\":\"25019\"}},\"id\":\"24132\",\"type\":\"ColumnDataSource\"},{\"attributes\":{\"fill_color\":{\"value\":\"red\"},\"line_color\":{\"value\":\"red\"},\"size\":{\"units\":\"screen\",\"value\":5},\"x\":{\"field\":\"x\"},\"y\":{\"field\":\"y\"}},\"id\":\"24098\",\"type\":\"Circle\"},{\"attributes\":{\"months\":[0,4,8]},\"id\":\"24090\",\"type\":\"MonthsTicker\"},{\"attributes\":{\"label\":{\"value\":\"Biden (1.80865)\"},\"renderers\":[{\"id\":\"24105\"}]},\"id\":\"24131\",\"type\":\"LegendItem\"},{\"attributes\":{\"mantissas\":[1,2,5],\"max_interval\":500.0,\"num_minor_ticks\":0},\"id\":\"24081\",\"type\":\"AdaptiveTicker\"},{\"attributes\":{\"line_alpha\":0.6,\"line_color\":\"blue\",\"line_width\":4,\"x\":{\"field\":\"x\"},\"y\":{\"field\":\"y\"}},\"id\":\"24103\",\"type\":\"Line\"},{\"attributes\":{\"fill_color\":{\"value\":\"blue\"},\"line_color\":{\"value\":\"blue\"},\"size\":{\"units\":\"screen\",\"value\":5},\"x\":{\"field\":\"x\"},\"y\":{\"field\":\"y\"}},\"id\":\"24133\",\"type\":\"Circle\"},{\"attributes\":{\"overlay\":{\"id\":\"24062\"}},\"id\":\"24058\",\"type\":\"BoxZoomTool\"},{\"attributes\":{\"days\":[1,4,7,10,13,16,19,22,25,28]},\"id\":\"24085\",\"type\":\"DaysTicker\"},{\"attributes\":{},\"id\":\"25019\",\"type\":\"UnionRenderers\"},{\"attributes\":{\"months\":[0,1,2,3,4,5,6,7,8,9,10,11]},\"id\":\"24088\",\"type\":\"MonthsTicker\"},{\"attributes\":{},\"id\":\"24127\",\"type\":\"UnionRenderers\"},{\"attributes\":{},\"id\":\"24057\",\"type\":\"WheelZoomTool\"},{\"attributes\":{\"days\":[1,2,3,4,5,6,7,8,9,10,11,12,13,14,15,16,17,18,19,20,21,22,23,24,25,26,27,28,29,30,31]},\"id\":\"24084\",\"type\":\"DaysTicker\"},{\"attributes\":{},\"id\":\"24044\",\"type\":\"LinearScale\"},{\"attributes\":{\"base\":60,\"mantissas\":[1,2,5,10,15,20,30],\"max_interval\":1800000.0,\"min_interval\":1000.0,\"num_minor_ticks\":0},\"id\":\"24082\",\"type\":\"AdaptiveTicker\"},{\"attributes\":{\"data_source\":{\"id\":\"24132\"},\"glyph\":{\"id\":\"24133\"},\"hover_glyph\":null,\"muted_glyph\":null,\"nonselection_glyph\":{\"id\":\"24134\"},\"selection_glyph\":null,\"view\":{\"id\":\"24136\"}},\"id\":\"24135\",\"type\":\"GlyphRenderer\"},{\"attributes\":{},\"id\":\"24056\",\"type\":\"PanTool\"},{\"attributes\":{\"line_alpha\":0.6,\"line_color\":\"red\",\"line_width\":4,\"x\":{\"field\":\"x\"},\"y\":{\"field\":\"y\"}},\"id\":\"24071\",\"type\":\"Line\"},{\"attributes\":{},\"id\":\"24094\",\"type\":\"Selection\"},{\"attributes\":{},\"id\":\"24129\",\"type\":\"UnionRenderers\"},{\"attributes\":{},\"id\":\"24046\",\"type\":\"LinearScale\"},{\"attributes\":{},\"id\":\"24130\",\"type\":\"Selection\"},{\"attributes\":{\"data\":{\"x\":{\"__ndarray__\":\"AACAQYkld0IAAECn2yV3QgAAAA0uJndCAADAcoAmd0IAAIDY0iZ3QgAAQD4lJ3dCAAAApHcnd0IAAMAJyid3QgAAgG8cKHdCAABA1W4od0IAAAA7wSh3QgAAwKATKXdCAACABmYpd0IAAEBsuCl3QgAAANIKKndCAADAN10qd0IAAICdryp3QgAAQAMCK3dCAAAAaVQrd0IAAMDOpit3QgAAgDT5K3dCAABAmkssd0IAAAAAnix3QgAAwGXwLHdCAACAy0Itd0IAAEAxlS13QgAAAJfnLXdCAADA/Dkud0IAAIBijC53QgAAQMjeLndCAAAALjEvd0IAAMCTgy93QgAAgPnVL3dC\",\"dtype\":\"float64\",\"order\":\"little\",\"shape\":[33]},\"y\":{\"__ndarray__\":\"tvP91Hjp/j8K16NwPQoDQPhT46WbxPw/sp3vp8ZLAUASg8DKoUX6P9nO91Pjpf8/16NwPQrX/z++nxov3SQAQGq8dJMYBP4/9P3UeOkm+T+oxks3iUH8PzeJQWDl0PY/d76fGi/d/D9cj8L1KFz/P8HKoUW28/U/gZVDi2zn+z+uR+F6FK77P2ZmZmZmZv4/SgwCK4cW/T+q8dJNYhD8Pz81XrpJDP4/rBxaZDvf+z8/NV66SQz+P1CNl24SgwBAvHSTGARW9j+LbOf7qfH6P1TjpZvEIABAO99PjZdu+j97FK5H4XoCQBSuR+F6FP4/8tJNYhBY/T/y0k1iEFj9P1TjpZvEIAJA\",\"dtype\":\"float64\",\"order\":\"little\",\"shape\":[33]}},\"selected\":{\"id\":\"24128\"},\"selection_policy\":{\"id\":\"24127\"}},\"id\":\"24097\",\"type\":\"ColumnDataSource\"},{\"attributes\":{\"base\":24,\"mantissas\":[1,2,4,6,8,12],\"max_interval\":43200000.0,\"min_interval\":3600000.0,\"num_minor_ticks\":0},\"id\":\"24083\",\"type\":\"AdaptiveTicker\"},{\"attributes\":{},\"id\":\"25020\",\"type\":\"Selection\"},{\"attributes\":{\"data\":{\"x\":{\"__ndarray__\":\"AACAQYkld0IAAECn2yV3QgAAAA0uJndCAADAcoAmd0IAAIDY0iZ3QgAAQD4lJ3dCAAAApHcnd0IAAMAJyid3QgAAgG8cKHdCAABA1W4od0IAAAA7wSh3QgAAwKATKXdCAACABmYpd0IAAEBsuCl3QgAAANIKKndCAADAN10qd0IAAICdryp3QgAAQAMCK3dCAAAAaVQrd0IAAMDOpit3QgAAgDT5K3dCAABAmkssd0IAAAAAnix3QgAAwGXwLHdCAACAy0Itd0IAAEAxlS13QgAAAJfnLXdCAADA/Dkud0IAAIBijC53QgAAQMjeLndCAAAALjEvd0IAAMCTgy93QgAAgPnVL3dC\",\"dtype\":\"float64\",\"order\":\"little\",\"shape\":[33]},\"y\":{\"__ndarray__\":\"DAIrhxbZ+j+LbOf7qfHyPxSuR+F6FABAiUFg5dAi+z9OYhBYObT8P/yp8dJNYgBAXI/C9Shc/z/pJjEIrBz+P28Sg8DKof0/001iEFg5/D9aZDvfT437PxKDwMqhRf4/i2zn+6nx/j8CK4cW2c77P4PAyqFFtvs/oBov3SQG+T/D9Shcj8L9PzVeukkMAgVAJzEIrBxa/D8hsHJoke3wP/YoXI/C9fw/H4XrUbge/T+R7Xw/NV76P9Ei2/l+avw/BoGVQ4ts/z+HFtnO91P7Pzm0yHa+nwRA2c73U+Ol9z8rhxbZzvf/P4ts5/up8f4/hetRuB6F/z/wp8ZLN4n9P99PjZduEv8/\",\"dtype\":\"float64\",\"order\":\"little\",\"shape\":[33]}},\"selected\":{\"id\":\"24130\"},\"selection_policy\":{\"id\":\"24129\"}},\"id\":\"24102\",\"type\":\"ColumnDataSource\"},{\"attributes\":{},\"id\":\"24093\",\"type\":\"UnionRenderers\"},{\"attributes\":{\"months\":[0,2,4,6,8,10]},\"id\":\"24089\",\"type\":\"MonthsTicker\"},{\"attributes\":{\"axis\":{\"id\":\"24052\"},\"dimension\":1,\"grid_line_alpha\":0.5,\"ticker\":null},\"id\":\"24055\",\"type\":\"Grid\"},{\"attributes\":{\"data_source\":{\"id\":\"24070\"},\"glyph\":{\"id\":\"24071\"},\"hover_glyph\":null,\"muted_glyph\":null,\"nonselection_glyph\":{\"id\":\"24072\"},\"selection_glyph\":null,\"view\":{\"id\":\"24074\"}},\"id\":\"24073\",\"type\":\"GlyphRenderer\"},{\"attributes\":{},\"id\":\"24040\",\"type\":\"DataRange1d\"},{\"attributes\":{},\"id\":\"24053\",\"type\":\"BasicTicker\"},{\"attributes\":{\"months\":[0,6]},\"id\":\"24091\",\"type\":\"MonthsTicker\"},{\"attributes\":{\"items\":[{\"id\":\"24096\"},{\"id\":\"24131\"}],\"location\":\"bottom_right\"},\"id\":\"24095\",\"type\":\"Legend\"},{\"attributes\":{\"days\":[1,8,15,22]},\"id\":\"24086\",\"type\":\"DaysTicker\"},{\"attributes\":{\"text\":\"Candidate|Job - Last 30 Days\"},\"id\":\"24038\",\"type\":\"Title\"},{\"attributes\":{\"axis_label\":\"Sentiment Score\",\"formatter\":{\"id\":\"24076\"},\"ticker\":{\"id\":\"24053\"}},\"id\":\"24052\",\"type\":\"LinearAxis\"},{\"attributes\":{},\"id\":\"24092\",\"type\":\"YearsTicker\"},{\"attributes\":{\"data_source\":{\"id\":\"24097\"},\"glyph\":{\"id\":\"24098\"},\"hover_glyph\":null,\"muted_glyph\":null,\"nonselection_glyph\":{\"id\":\"24099\"},\"selection_glyph\":null,\"view\":{\"id\":\"24101\"}},\"id\":\"24100\",\"type\":\"GlyphRenderer\"},{\"attributes\":{\"data\":{\"x\":{\"__ndarray__\":\"AACAQYkld0IAAECn2yV3QgAAAA0uJndCAADAcoAmd0IAAIDY0iZ3QgAAQD4lJ3dCAAAApHcnd0IAAMAJyid3QgAAgG8cKHdCAABA1W4od0IAAAA7wSh3QgAAwKATKXdCAACABmYpd0IAAEBsuCl3QgAAANIKKndCAADAN10qd0IAAICdryp3QgAAQAMCK3dCAAAAaVQrd0IAAMDOpit3QgAAgDT5K3dCAABAmkssd0IAAAAAnix3QgAAwGXwLHdCAACAy0Itd0IAAEAxlS13QgAAAJfnLXdCAADA/Dkud0IAAIBijC53QgAAQMjeLndCAAAALjEvd0IAAMCTgy93QgAAgPnVL3dC\",\"dtype\":\"float64\",\"order\":\"little\",\"shape\":[33]},\"y\":{\"__ndarray__\":\"tvP91Hjp/j8K16NwPQoDQPhT46WbxPw/sp3vp8ZLAUASg8DKoUX6P9nO91Pjpf8/16NwPQrX/z++nxov3SQAQGq8dJMYBP4/9P3UeOkm+T+oxks3iUH8PzeJQWDl0PY/d76fGi/d/D9cj8L1KFz/P8HKoUW28/U/gZVDi2zn+z+uR+F6FK77P2ZmZmZmZv4/SgwCK4cW/T+q8dJNYhD8Pz81XrpJDP4/rBxaZDvf+z8/NV66SQz+P1CNl24SgwBAvHSTGARW9j+LbOf7qfH6P1TjpZvEIABAO99PjZdu+j97FK5H4XoCQBSuR+F6FP4/8tJNYhBY/T/y0k1iEFj9P1TjpZvEIAJA\",\"dtype\":\"float64\",\"order\":\"little\",\"shape\":[33]}},\"selected\":{\"id\":\"24094\"},\"selection_policy\":{\"id\":\"24093\"}},\"id\":\"24070\",\"type\":\"ColumnDataSource\"},{\"attributes\":{\"axis\":{\"id\":\"24048\"},\"grid_line_color\":null,\"ticker\":null},\"id\":\"24051\",\"type\":\"Grid\"},{\"attributes\":{\"data_source\":{\"id\":\"24102\"},\"glyph\":{\"id\":\"24103\"},\"hover_glyph\":null,\"muted_glyph\":null,\"nonselection_glyph\":{\"id\":\"24104\"},\"selection_glyph\":null,\"view\":{\"id\":\"24106\"}},\"id\":\"24105\",\"type\":\"GlyphRenderer\"},{\"attributes\":{\"fill_alpha\":{\"value\":0.1},\"fill_color\":{\"value\":\"red\"},\"line_alpha\":{\"value\":0.1},\"line_color\":{\"value\":\"red\"},\"size\":{\"units\":\"screen\",\"value\":5},\"x\":{\"field\":\"x\"},\"y\":{\"field\":\"y\"}},\"id\":\"24099\",\"type\":\"Circle\"},{\"attributes\":{\"source\":{\"id\":\"24102\"}},\"id\":\"24106\",\"type\":\"CDSView\"},{\"attributes\":{\"bottom_units\":\"screen\",\"fill_alpha\":0.5,\"fill_color\":\"lightgrey\",\"left_units\":\"screen\",\"level\":\"overlay\",\"line_alpha\":1.0,\"line_color\":\"black\",\"line_dash\":[4,4],\"line_width\":2,\"right_units\":\"screen\",\"top_units\":\"screen\"},\"id\":\"24062\",\"type\":\"BoxAnnotation\"},{\"attributes\":{\"num_minor_ticks\":5,\"tickers\":[{\"id\":\"24081\"},{\"id\":\"24082\"},{\"id\":\"24083\"},{\"id\":\"24084\"},{\"id\":\"24085\"},{\"id\":\"24086\"},{\"id\":\"24087\"},{\"id\":\"24088\"},{\"id\":\"24089\"},{\"id\":\"24090\"},{\"id\":\"24091\"},{\"id\":\"24092\"}]},\"id\":\"24049\",\"type\":\"DatetimeTicker\"},{\"attributes\":{\"active_drag\":\"auto\",\"active_inspect\":\"auto\",\"active_multi\":null,\"active_scroll\":\"auto\",\"active_tap\":\"auto\",\"tools\":[{\"id\":\"24056\"},{\"id\":\"24057\"},{\"id\":\"24058\"},{\"id\":\"24059\"},{\"id\":\"24060\"},{\"id\":\"24061\"}]},\"id\":\"24063\",\"type\":\"Toolbar\"},{\"attributes\":{\"line_alpha\":0.1,\"line_color\":\"blue\",\"line_width\":4,\"x\":{\"field\":\"x\"},\"y\":{\"field\":\"y\"}},\"id\":\"24104\",\"type\":\"Line\"},{\"attributes\":{\"axis_label\":\"Date\",\"formatter\":{\"id\":\"24078\"},\"ticker\":{\"id\":\"24049\"}},\"id\":\"24048\",\"type\":\"DatetimeAxis\"},{\"attributes\":{\"days\":[1,15]},\"id\":\"24087\",\"type\":\"DaysTicker\"},{\"attributes\":{},\"id\":\"24061\",\"type\":\"HelpTool\"}],\"root_ids\":[\"24037\"]},\"title\":\"Bokeh Application\",\"version\":\"2.1.1\"}};\n",
       "  var render_items = [{\"docid\":\"e6912110-0ae8-49ea-8a25-6d1e3e14d45d\",\"root_ids\":[\"24037\"],\"roots\":{\"24037\":\"47d8d440-a4a0-4914-b011-9f6d587b1664\"}}];\n",
       "  root.Bokeh.embed.embed_items_notebook(docs_json, render_items);\n",
       "\n",
       "  }\n",
       "  if (root.Bokeh !== undefined) {\n",
       "    embed_document(root);\n",
       "  } else {\n",
       "    var attempts = 0;\n",
       "    var timer = setInterval(function(root) {\n",
       "      if (root.Bokeh !== undefined) {\n",
       "        clearInterval(timer);\n",
       "        embed_document(root);\n",
       "      } else {\n",
       "        attempts++;\n",
       "        if (attempts > 100) {\n",
       "          clearInterval(timer);\n",
       "          console.log(\"Bokeh: ERROR: Unable to run BokehJS code because BokehJS library is missing\");\n",
       "        }\n",
       "      }\n",
       "    }, 10, root)\n",
       "  }\n",
       "})(window);"
      ],
      "application/vnd.bokehjs_exec.v0+json": ""
     },
     "metadata": {
      "application/vnd.bokehjs_exec.v0+json": {
       "id": "24037"
      }
     },
     "output_type": "display_data"
    }
   ],
   "source": [
    "df_trump_job = get_plot_data('data2/sentiment/job/trump/2020_trump job.csv')\n",
    "df_biden_job = get_plot_data('data2/sentiment/job/biden/2020_biden job.csv')\n",
    "\n",
    "plot_chart(df_trump_job, df_biden_job, 'Trump', 'Biden', \"Candidate|Job - Last 30 Days\")"
   ]
  },
  {
   "cell_type": "code",
   "execution_count": null,
   "metadata": {},
   "outputs": [],
   "source": []
  }
 ],
 "metadata": {
  "kernelspec": {
   "display_name": "Python 3",
   "language": "python",
   "name": "python3"
  },
  "language_info": {
   "codemirror_mode": {
    "name": "ipython",
    "version": 3
   },
   "file_extension": ".py",
   "mimetype": "text/x-python",
   "name": "python",
   "nbconvert_exporter": "python",
   "pygments_lexer": "ipython3",
   "version": "3.7.3"
  }
 },
 "nbformat": 4,
 "nbformat_minor": 2
}
