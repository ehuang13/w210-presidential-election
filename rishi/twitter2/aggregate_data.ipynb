{
 "cells": [
  {
   "cell_type": "code",
   "execution_count": 2,
   "metadata": {},
   "outputs": [],
   "source": [
    "import json\n",
    "import os\n",
    "import glob\n",
    "import re\n",
    "import pandas as pd\n",
    "from os import makedirs\n",
    "from os.path import join, exists\n",
    "from datetime import date, timedelta\n",
    "from pathlib import Path"
   ]
  },
  {
   "cell_type": "code",
   "execution_count": null,
   "metadata": {},
   "outputs": [],
   "source": []
  },
  {
   "cell_type": "code",
   "execution_count": 3,
   "metadata": {},
   "outputs": [],
   "source": [
    "def get_election_data(start_date, end_date, data_path, file_starts):\n",
    "\n",
    "    df_all = []\n",
    "    dayrange = range((end_date - start_date).days + 1)\n",
    "    \n",
    "    for daycount in dayrange:\n",
    "        dt = start_date + timedelta(days=daycount)\n",
    "        datestr = dt.strftime('%Y_%m_%d')\n",
    "        fname = join(data_path, file_starts + '_' + datestr + '.csv')\n",
    "        df_tweet = pd.read_csv(fname)\n",
    "        \n",
    "        if len(df_all) == 0:\n",
    "            df_all = df_tweet\n",
    "        else:\n",
    "            df_all = pd.concat([df_all, df_tweet])\n",
    "            \n",
    "    return df_all"
   ]
  },
  {
   "cell_type": "code",
   "execution_count": 4,
   "metadata": {},
   "outputs": [],
   "source": [
    "def combine_and_save_tweet_files(src_path, target_path, start_date, end_date, year, key_term):\n",
    "    df_twt = get_election_data(start_date, end_date, src_path, key_term)\n",
    "    df_twt.to_csv(join(target_path, year + '_' +key_term + '.csv'))\n",
    "                  "
   ]
  },
  {
   "cell_type": "code",
   "execution_count": 5,
   "metadata": {},
   "outputs": [],
   "source": [
    "combine_and_save_tweet_files(join('data2','raw','candidate','2020','trump'), \n",
    "                             join('data2','agg','candidate','2020'), \n",
    "                             date(2020, 5, 27), date(2020, 6, 26), '2020','trump')"
   ]
  },
  {
   "cell_type": "code",
   "execution_count": 9,
   "metadata": {},
   "outputs": [],
   "source": [
    "combine_and_save_tweet_files(join('data2','raw','candidate','2020','biden'), \n",
    "                             join('data2','agg','candidate','2020'), \n",
    "                             date(2020, 5, 27), date(2020, 6, 26), '2020', 'biden')"
   ]
  },
  {
   "cell_type": "code",
   "execution_count": 5,
   "metadata": {},
   "outputs": [],
   "source": [
    "combine_and_save_tweet_files(join('data2','raw','candidate','2016','trump'), \n",
    "                             join('data2','agg','candidate','2016'), \n",
    "                             date(2016, 10, 8), date(2016, 11, 7), '2016', 'trump')"
   ]
  },
  {
   "cell_type": "code",
   "execution_count": 7,
   "metadata": {},
   "outputs": [],
   "source": [
    "combine_and_save_tweet_files(join('data2','raw','candidate','2016','hillary'), \n",
    "                             join('data2','agg','candidate','2016'), \n",
    "                             date(2016, 10, 8), date(2016, 11, 7), '2016', 'hillary')"
   ]
  },
  {
   "cell_type": "code",
   "execution_count": 9,
   "metadata": {},
   "outputs": [],
   "source": [
    "combine_and_save_tweet_files(join('data2','raw','candidate','2012','obama'), \n",
    "                             join('data2','agg','candidate','2012','obama'), \n",
    "                             date(2012, 10, 20), date(2012, 11, 4), '2012', 'obama')"
   ]
  },
  {
   "cell_type": "code",
   "execution_count": 11,
   "metadata": {},
   "outputs": [],
   "source": [
    "combine_and_save_tweet_files(join('data2','raw','candidate','2012','romney'), \n",
    "                             join('data2','agg','candidate','2012', 'romney'), \n",
    "                             date(2012, 10, 20), date(2012, 11, 4), '2012', 'romney')"
   ]
  },
  {
   "cell_type": "code",
   "execution_count": null,
   "metadata": {},
   "outputs": [],
   "source": []
  },
  {
   "cell_type": "code",
   "execution_count": 9,
   "metadata": {},
   "outputs": [],
   "source": [
    "combine_and_save_tweet_files(join('data2','raw','candidate','2020','trump_econ'), \n",
    "                             join('data2','agg','econ','trump'), \n",
    "                             date(2020, 5, 28), date(2020, 6, 27), '2020', 'trump economy')"
   ]
  },
  {
   "cell_type": "code",
   "execution_count": 10,
   "metadata": {},
   "outputs": [],
   "source": [
    "combine_and_save_tweet_files(join('data2','raw','candidate','2020','biden_econ'), \n",
    "                             join('data2','agg','econ','biden'), \n",
    "                             date(2020, 5, 28), date(2020, 6, 27), '2020', 'biden economy')"
   ]
  },
  {
   "cell_type": "code",
   "execution_count": null,
   "metadata": {},
   "outputs": [],
   "source": []
  },
  {
   "cell_type": "code",
   "execution_count": 12,
   "metadata": {},
   "outputs": [],
   "source": [
    "combine_and_save_tweet_files(join('data2','raw','candidate','2020','trump_environment'), \n",
    "                             join('data2','agg','environment','trump'), \n",
    "                             date(2020, 5, 28), date(2020, 6, 27), '2020', 'trump environment')"
   ]
  },
  {
   "cell_type": "code",
   "execution_count": 14,
   "metadata": {},
   "outputs": [],
   "source": [
    "combine_and_save_tweet_files(join('data2','raw','candidate','2020','biden_environment'), \n",
    "                             join('data2','agg','environment','biden'), \n",
    "                             date(2020, 5, 28), date(2020, 6, 27), '2020', 'biden environment')"
   ]
  },
  {
   "cell_type": "code",
   "execution_count": null,
   "metadata": {},
   "outputs": [],
   "source": []
  },
  {
   "cell_type": "code",
   "execution_count": 15,
   "metadata": {},
   "outputs": [],
   "source": [
    "combine_and_save_tweet_files(join('data2','raw','candidate','2020','trump_party'), \n",
    "                             join('data2','agg','party','trump'), \n",
    "                             date(2020, 5, 28), date(2020, 6, 27), '2020', 'trump republican')"
   ]
  },
  {
   "cell_type": "code",
   "execution_count": 16,
   "metadata": {},
   "outputs": [],
   "source": [
    "combine_and_save_tweet_files(join('data2','raw','candidate','2020','biden_party'), \n",
    "                             join('data2','agg','party','biden'), \n",
    "                             date(2020, 5, 28), date(2020, 6, 27), '2020', 'biden democrat')"
   ]
  },
  {
   "cell_type": "code",
   "execution_count": null,
   "metadata": {},
   "outputs": [],
   "source": []
  },
  {
   "cell_type": "code",
   "execution_count": 17,
   "metadata": {},
   "outputs": [],
   "source": [
    "combine_and_save_tweet_files(join('data2','raw','candidate','2020','trump_health'), \n",
    "                             join('data2','agg','health','trump'), \n",
    "                             date(2020, 5, 28), date(2020, 6, 27), '2020', 'trump health')"
   ]
  },
  {
   "cell_type": "code",
   "execution_count": 18,
   "metadata": {},
   "outputs": [],
   "source": [
    "combine_and_save_tweet_files(join('data2','raw','candidate','2020','biden_health'), \n",
    "                             join('data2','agg','health','biden'), \n",
    "                             date(2020, 5, 28), date(2020, 6, 27), '2020', 'biden health')"
   ]
  },
  {
   "cell_type": "code",
   "execution_count": null,
   "metadata": {},
   "outputs": [],
   "source": []
  },
  {
   "cell_type": "code",
   "execution_count": 19,
   "metadata": {},
   "outputs": [],
   "source": [
    "combine_and_save_tweet_files(join('data2','raw','candidate','2020','trump_imm'), \n",
    "                             join('data2','agg','imm','trump'), \n",
    "                             date(2020, 5, 28), date(2020, 6, 27), '2020', 'trump immigration')"
   ]
  },
  {
   "cell_type": "code",
   "execution_count": 20,
   "metadata": {},
   "outputs": [],
   "source": [
    "combine_and_save_tweet_files(join('data2','raw','candidate','2020','biden_imm'), \n",
    "                             join('data2','agg','imm','biden'), \n",
    "                             date(2020, 5, 28), date(2020, 6, 27), '2020', 'biden immigration')"
   ]
  },
  {
   "cell_type": "code",
   "execution_count": null,
   "metadata": {},
   "outputs": [],
   "source": []
  },
  {
   "cell_type": "code",
   "execution_count": 21,
   "metadata": {},
   "outputs": [],
   "source": [
    "combine_and_save_tweet_files(join('data2','raw','candidate','2020','trump_job'), \n",
    "                             join('data2','agg','job','trump'), \n",
    "                             date(2020, 5, 28), date(2020, 6, 27), '2020', 'trump job')"
   ]
  },
  {
   "cell_type": "code",
   "execution_count": 22,
   "metadata": {},
   "outputs": [],
   "source": [
    "combine_and_save_tweet_files(join('data2','raw','candidate','2020','biden_job'), \n",
    "                             join('data2','agg','job','biden'), \n",
    "                             date(2020, 5, 28), date(2020, 6, 27), '2020', 'biden job')"
   ]
  },
  {
   "cell_type": "code",
   "execution_count": null,
   "metadata": {},
   "outputs": [],
   "source": []
  }
 ],
 "metadata": {
  "kernelspec": {
   "display_name": "Python 3",
   "language": "python",
   "name": "python3"
  },
  "language_info": {
   "codemirror_mode": {
    "name": "ipython",
    "version": 3
   },
   "file_extension": ".py",
   "mimetype": "text/x-python",
   "name": "python",
   "nbconvert_exporter": "python",
   "pygments_lexer": "ipython3",
   "version": "3.7.3"
  }
 },
 "nbformat": 4,
 "nbformat_minor": 2
}
