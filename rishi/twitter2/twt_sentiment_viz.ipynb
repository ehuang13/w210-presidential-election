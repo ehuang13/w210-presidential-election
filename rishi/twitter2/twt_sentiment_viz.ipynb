{
 "cells": [
  {
   "cell_type": "code",
   "execution_count": 2,
   "metadata": {},
   "outputs": [],
   "source": [
    "import numpy as np # we will use this later, so import it now\n",
    "import pandas as pd\n",
    "from bokeh.io import output_notebook, show\n",
    "from bokeh.plotting import figure, output_file, show"
   ]
  },
  {
   "cell_type": "code",
   "execution_count": 3,
   "metadata": {},
   "outputs": [
    {
     "data": {
      "text/html": [
       "\n",
       "    <div class=\"bk-root\">\n",
       "        <a href=\"https://bokeh.org\" target=\"_blank\" class=\"bk-logo bk-logo-small bk-logo-notebook\"></a>\n",
       "        <span id=\"1001\">Loading BokehJS ...</span>\n",
       "    </div>"
      ]
     },
     "metadata": {},
     "output_type": "display_data"
    },
    {
     "data": {
      "application/javascript": [
       "\n",
       "(function(root) {\n",
       "  function now() {\n",
       "    return new Date();\n",
       "  }\n",
       "\n",
       "  var force = true;\n",
       "\n",
       "  if (typeof root._bokeh_onload_callbacks === \"undefined\" || force === true) {\n",
       "    root._bokeh_onload_callbacks = [];\n",
       "    root._bokeh_is_loading = undefined;\n",
       "  }\n",
       "\n",
       "  var JS_MIME_TYPE = 'application/javascript';\n",
       "  var HTML_MIME_TYPE = 'text/html';\n",
       "  var EXEC_MIME_TYPE = 'application/vnd.bokehjs_exec.v0+json';\n",
       "  var CLASS_NAME = 'output_bokeh rendered_html';\n",
       "\n",
       "  /**\n",
       "   * Render data to the DOM node\n",
       "   */\n",
       "  function render(props, node) {\n",
       "    var script = document.createElement(\"script\");\n",
       "    node.appendChild(script);\n",
       "  }\n",
       "\n",
       "  /**\n",
       "   * Handle when an output is cleared or removed\n",
       "   */\n",
       "  function handleClearOutput(event, handle) {\n",
       "    var cell = handle.cell;\n",
       "\n",
       "    var id = cell.output_area._bokeh_element_id;\n",
       "    var server_id = cell.output_area._bokeh_server_id;\n",
       "    // Clean up Bokeh references\n",
       "    if (id != null && id in Bokeh.index) {\n",
       "      Bokeh.index[id].model.document.clear();\n",
       "      delete Bokeh.index[id];\n",
       "    }\n",
       "\n",
       "    if (server_id !== undefined) {\n",
       "      // Clean up Bokeh references\n",
       "      var cmd = \"from bokeh.io.state import curstate; print(curstate().uuid_to_server['\" + server_id + \"'].get_sessions()[0].document.roots[0]._id)\";\n",
       "      cell.notebook.kernel.execute(cmd, {\n",
       "        iopub: {\n",
       "          output: function(msg) {\n",
       "            var id = msg.content.text.trim();\n",
       "            if (id in Bokeh.index) {\n",
       "              Bokeh.index[id].model.document.clear();\n",
       "              delete Bokeh.index[id];\n",
       "            }\n",
       "          }\n",
       "        }\n",
       "      });\n",
       "      // Destroy server and session\n",
       "      var cmd = \"import bokeh.io.notebook as ion; ion.destroy_server('\" + server_id + \"')\";\n",
       "      cell.notebook.kernel.execute(cmd);\n",
       "    }\n",
       "  }\n",
       "\n",
       "  /**\n",
       "   * Handle when a new output is added\n",
       "   */\n",
       "  function handleAddOutput(event, handle) {\n",
       "    var output_area = handle.output_area;\n",
       "    var output = handle.output;\n",
       "\n",
       "    // limit handleAddOutput to display_data with EXEC_MIME_TYPE content only\n",
       "    if ((output.output_type != \"display_data\") || (!output.data.hasOwnProperty(EXEC_MIME_TYPE))) {\n",
       "      return\n",
       "    }\n",
       "\n",
       "    var toinsert = output_area.element.find(\".\" + CLASS_NAME.split(' ')[0]);\n",
       "\n",
       "    if (output.metadata[EXEC_MIME_TYPE][\"id\"] !== undefined) {\n",
       "      toinsert[toinsert.length - 1].firstChild.textContent = output.data[JS_MIME_TYPE];\n",
       "      // store reference to embed id on output_area\n",
       "      output_area._bokeh_element_id = output.metadata[EXEC_MIME_TYPE][\"id\"];\n",
       "    }\n",
       "    if (output.metadata[EXEC_MIME_TYPE][\"server_id\"] !== undefined) {\n",
       "      var bk_div = document.createElement(\"div\");\n",
       "      bk_div.innerHTML = output.data[HTML_MIME_TYPE];\n",
       "      var script_attrs = bk_div.children[0].attributes;\n",
       "      for (var i = 0; i < script_attrs.length; i++) {\n",
       "        toinsert[toinsert.length - 1].firstChild.setAttribute(script_attrs[i].name, script_attrs[i].value);\n",
       "        toinsert[toinsert.length - 1].firstChild.textContent = bk_div.children[0].textContent\n",
       "      }\n",
       "      // store reference to server id on output_area\n",
       "      output_area._bokeh_server_id = output.metadata[EXEC_MIME_TYPE][\"server_id\"];\n",
       "    }\n",
       "  }\n",
       "\n",
       "  function register_renderer(events, OutputArea) {\n",
       "\n",
       "    function append_mime(data, metadata, element) {\n",
       "      // create a DOM node to render to\n",
       "      var toinsert = this.create_output_subarea(\n",
       "        metadata,\n",
       "        CLASS_NAME,\n",
       "        EXEC_MIME_TYPE\n",
       "      );\n",
       "      this.keyboard_manager.register_events(toinsert);\n",
       "      // Render to node\n",
       "      var props = {data: data, metadata: metadata[EXEC_MIME_TYPE]};\n",
       "      render(props, toinsert[toinsert.length - 1]);\n",
       "      element.append(toinsert);\n",
       "      return toinsert\n",
       "    }\n",
       "\n",
       "    /* Handle when an output is cleared or removed */\n",
       "    events.on('clear_output.CodeCell', handleClearOutput);\n",
       "    events.on('delete.Cell', handleClearOutput);\n",
       "\n",
       "    /* Handle when a new output is added */\n",
       "    events.on('output_added.OutputArea', handleAddOutput);\n",
       "\n",
       "    /**\n",
       "     * Register the mime type and append_mime function with output_area\n",
       "     */\n",
       "    OutputArea.prototype.register_mime_type(EXEC_MIME_TYPE, append_mime, {\n",
       "      /* Is output safe? */\n",
       "      safe: true,\n",
       "      /* Index of renderer in `output_area.display_order` */\n",
       "      index: 0\n",
       "    });\n",
       "  }\n",
       "\n",
       "  // register the mime type if in Jupyter Notebook environment and previously unregistered\n",
       "  if (root.Jupyter !== undefined) {\n",
       "    var events = require('base/js/events');\n",
       "    var OutputArea = require('notebook/js/outputarea').OutputArea;\n",
       "\n",
       "    if (OutputArea.prototype.mime_types().indexOf(EXEC_MIME_TYPE) == -1) {\n",
       "      register_renderer(events, OutputArea);\n",
       "    }\n",
       "  }\n",
       "\n",
       "  \n",
       "  if (typeof (root._bokeh_timeout) === \"undefined\" || force === true) {\n",
       "    root._bokeh_timeout = Date.now() + 5000;\n",
       "    root._bokeh_failed_load = false;\n",
       "  }\n",
       "\n",
       "  var NB_LOAD_WARNING = {'data': {'text/html':\n",
       "     \"<div style='background-color: #fdd'>\\n\"+\n",
       "     \"<p>\\n\"+\n",
       "     \"BokehJS does not appear to have successfully loaded. If loading BokehJS from CDN, this \\n\"+\n",
       "     \"may be due to a slow or bad network connection. Possible fixes:\\n\"+\n",
       "     \"</p>\\n\"+\n",
       "     \"<ul>\\n\"+\n",
       "     \"<li>re-rerun `output_notebook()` to attempt to load from CDN again, or</li>\\n\"+\n",
       "     \"<li>use INLINE resources instead, as so:</li>\\n\"+\n",
       "     \"</ul>\\n\"+\n",
       "     \"<code>\\n\"+\n",
       "     \"from bokeh.resources import INLINE\\n\"+\n",
       "     \"output_notebook(resources=INLINE)\\n\"+\n",
       "     \"</code>\\n\"+\n",
       "     \"</div>\"}};\n",
       "\n",
       "  function display_loaded() {\n",
       "    var el = document.getElementById(\"1001\");\n",
       "    if (el != null) {\n",
       "      el.textContent = \"BokehJS is loading...\";\n",
       "    }\n",
       "    if (root.Bokeh !== undefined) {\n",
       "      if (el != null) {\n",
       "        el.textContent = \"BokehJS \" + root.Bokeh.version + \" successfully loaded.\";\n",
       "      }\n",
       "    } else if (Date.now() < root._bokeh_timeout) {\n",
       "      setTimeout(display_loaded, 100)\n",
       "    }\n",
       "  }\n",
       "\n",
       "\n",
       "  function run_callbacks() {\n",
       "    try {\n",
       "      root._bokeh_onload_callbacks.forEach(function(callback) {\n",
       "        if (callback != null)\n",
       "          callback();\n",
       "      });\n",
       "    } finally {\n",
       "      delete root._bokeh_onload_callbacks\n",
       "    }\n",
       "    console.debug(\"Bokeh: all callbacks have finished\");\n",
       "  }\n",
       "\n",
       "  function load_libs(css_urls, js_urls, callback) {\n",
       "    if (css_urls == null) css_urls = [];\n",
       "    if (js_urls == null) js_urls = [];\n",
       "\n",
       "    root._bokeh_onload_callbacks.push(callback);\n",
       "    if (root._bokeh_is_loading > 0) {\n",
       "      console.debug(\"Bokeh: BokehJS is being loaded, scheduling callback at\", now());\n",
       "      return null;\n",
       "    }\n",
       "    if (js_urls == null || js_urls.length === 0) {\n",
       "      run_callbacks();\n",
       "      return null;\n",
       "    }\n",
       "    console.debug(\"Bokeh: BokehJS not loaded, scheduling load and callback at\", now());\n",
       "    root._bokeh_is_loading = css_urls.length + js_urls.length;\n",
       "\n",
       "    function on_load() {\n",
       "      root._bokeh_is_loading--;\n",
       "      if (root._bokeh_is_loading === 0) {\n",
       "        console.debug(\"Bokeh: all BokehJS libraries/stylesheets loaded\");\n",
       "        run_callbacks()\n",
       "      }\n",
       "    }\n",
       "\n",
       "    function on_error() {\n",
       "      console.error(\"failed to load \" + url);\n",
       "    }\n",
       "\n",
       "    for (var i = 0; i < css_urls.length; i++) {\n",
       "      var url = css_urls[i];\n",
       "      const element = document.createElement(\"link\");\n",
       "      element.onload = on_load;\n",
       "      element.onerror = on_error;\n",
       "      element.rel = \"stylesheet\";\n",
       "      element.type = \"text/css\";\n",
       "      element.href = url;\n",
       "      console.debug(\"Bokeh: injecting link tag for BokehJS stylesheet: \", url);\n",
       "      document.body.appendChild(element);\n",
       "    }\n",
       "\n",
       "    const hashes = {\"https://cdn.bokeh.org/bokeh/release/bokeh-2.1.1.min.js\": \"kLr4fYcqcSpbuI95brIH3vnnYCquzzSxHPU6XGQCIkQRGJwhg0StNbj1eegrHs12\", \"https://cdn.bokeh.org/bokeh/release/bokeh-widgets-2.1.1.min.js\": \"xIGPmVtaOm+z0BqfSOMn4lOR6ciex448GIKG4eE61LsAvmGj48XcMQZtKcE/UXZe\", \"https://cdn.bokeh.org/bokeh/release/bokeh-tables-2.1.1.min.js\": \"Dc9u1wF/0zApGIWoBbH77iWEHtdmkuYWG839Uzmv8y8yBLXebjO9ZnERsde5Ln/P\", \"https://cdn.bokeh.org/bokeh/release/bokeh-gl-2.1.1.min.js\": \"cT9JaBz7GiRXdENrJLZNSC6eMNF3nh3fa5fTF51Svp+ukxPdwcU5kGXGPBgDCa2j\"};\n",
       "\n",
       "    for (var i = 0; i < js_urls.length; i++) {\n",
       "      var url = js_urls[i];\n",
       "      var element = document.createElement('script');\n",
       "      element.onload = on_load;\n",
       "      element.onerror = on_error;\n",
       "      element.async = false;\n",
       "      element.src = url;\n",
       "      if (url in hashes) {\n",
       "        element.crossOrigin = \"anonymous\";\n",
       "        element.integrity = \"sha384-\" + hashes[url];\n",
       "      }\n",
       "      console.debug(\"Bokeh: injecting script tag for BokehJS library: \", url);\n",
       "      document.head.appendChild(element);\n",
       "    }\n",
       "  };\n",
       "\n",
       "  function inject_raw_css(css) {\n",
       "    const element = document.createElement(\"style\");\n",
       "    element.appendChild(document.createTextNode(css));\n",
       "    document.body.appendChild(element);\n",
       "  }\n",
       "\n",
       "  \n",
       "  var js_urls = [\"https://cdn.bokeh.org/bokeh/release/bokeh-2.1.1.min.js\", \"https://cdn.bokeh.org/bokeh/release/bokeh-widgets-2.1.1.min.js\", \"https://cdn.bokeh.org/bokeh/release/bokeh-tables-2.1.1.min.js\", \"https://cdn.bokeh.org/bokeh/release/bokeh-gl-2.1.1.min.js\"];\n",
       "  var css_urls = [];\n",
       "  \n",
       "\n",
       "  var inline_js = [\n",
       "    function(Bokeh) {\n",
       "      Bokeh.set_log_level(\"info\");\n",
       "    },\n",
       "    function(Bokeh) {\n",
       "    \n",
       "    \n",
       "    }\n",
       "  ];\n",
       "\n",
       "  function run_inline_js() {\n",
       "    \n",
       "    if (root.Bokeh !== undefined || force === true) {\n",
       "      \n",
       "    for (var i = 0; i < inline_js.length; i++) {\n",
       "      inline_js[i].call(root, root.Bokeh);\n",
       "    }\n",
       "    if (force === true) {\n",
       "        display_loaded();\n",
       "      }} else if (Date.now() < root._bokeh_timeout) {\n",
       "      setTimeout(run_inline_js, 100);\n",
       "    } else if (!root._bokeh_failed_load) {\n",
       "      console.log(\"Bokeh: BokehJS failed to load within specified timeout.\");\n",
       "      root._bokeh_failed_load = true;\n",
       "    } else if (force !== true) {\n",
       "      var cell = $(document.getElementById(\"1001\")).parents('.cell').data().cell;\n",
       "      cell.output_area.append_execute_result(NB_LOAD_WARNING)\n",
       "    }\n",
       "\n",
       "  }\n",
       "\n",
       "  if (root._bokeh_is_loading === 0) {\n",
       "    console.debug(\"Bokeh: BokehJS loaded, going straight to plotting\");\n",
       "    run_inline_js();\n",
       "  } else {\n",
       "    load_libs(css_urls, js_urls, function() {\n",
       "      console.debug(\"Bokeh: BokehJS plotting callback run at\", now());\n",
       "      run_inline_js();\n",
       "    });\n",
       "  }\n",
       "}(window));"
      ],
      "application/vnd.bokehjs_load.v0+json": "\n(function(root) {\n  function now() {\n    return new Date();\n  }\n\n  var force = true;\n\n  if (typeof root._bokeh_onload_callbacks === \"undefined\" || force === true) {\n    root._bokeh_onload_callbacks = [];\n    root._bokeh_is_loading = undefined;\n  }\n\n  \n\n  \n  if (typeof (root._bokeh_timeout) === \"undefined\" || force === true) {\n    root._bokeh_timeout = Date.now() + 5000;\n    root._bokeh_failed_load = false;\n  }\n\n  var NB_LOAD_WARNING = {'data': {'text/html':\n     \"<div style='background-color: #fdd'>\\n\"+\n     \"<p>\\n\"+\n     \"BokehJS does not appear to have successfully loaded. If loading BokehJS from CDN, this \\n\"+\n     \"may be due to a slow or bad network connection. Possible fixes:\\n\"+\n     \"</p>\\n\"+\n     \"<ul>\\n\"+\n     \"<li>re-rerun `output_notebook()` to attempt to load from CDN again, or</li>\\n\"+\n     \"<li>use INLINE resources instead, as so:</li>\\n\"+\n     \"</ul>\\n\"+\n     \"<code>\\n\"+\n     \"from bokeh.resources import INLINE\\n\"+\n     \"output_notebook(resources=INLINE)\\n\"+\n     \"</code>\\n\"+\n     \"</div>\"}};\n\n  function display_loaded() {\n    var el = document.getElementById(\"1001\");\n    if (el != null) {\n      el.textContent = \"BokehJS is loading...\";\n    }\n    if (root.Bokeh !== undefined) {\n      if (el != null) {\n        el.textContent = \"BokehJS \" + root.Bokeh.version + \" successfully loaded.\";\n      }\n    } else if (Date.now() < root._bokeh_timeout) {\n      setTimeout(display_loaded, 100)\n    }\n  }\n\n\n  function run_callbacks() {\n    try {\n      root._bokeh_onload_callbacks.forEach(function(callback) {\n        if (callback != null)\n          callback();\n      });\n    } finally {\n      delete root._bokeh_onload_callbacks\n    }\n    console.debug(\"Bokeh: all callbacks have finished\");\n  }\n\n  function load_libs(css_urls, js_urls, callback) {\n    if (css_urls == null) css_urls = [];\n    if (js_urls == null) js_urls = [];\n\n    root._bokeh_onload_callbacks.push(callback);\n    if (root._bokeh_is_loading > 0) {\n      console.debug(\"Bokeh: BokehJS is being loaded, scheduling callback at\", now());\n      return null;\n    }\n    if (js_urls == null || js_urls.length === 0) {\n      run_callbacks();\n      return null;\n    }\n    console.debug(\"Bokeh: BokehJS not loaded, scheduling load and callback at\", now());\n    root._bokeh_is_loading = css_urls.length + js_urls.length;\n\n    function on_load() {\n      root._bokeh_is_loading--;\n      if (root._bokeh_is_loading === 0) {\n        console.debug(\"Bokeh: all BokehJS libraries/stylesheets loaded\");\n        run_callbacks()\n      }\n    }\n\n    function on_error() {\n      console.error(\"failed to load \" + url);\n    }\n\n    for (var i = 0; i < css_urls.length; i++) {\n      var url = css_urls[i];\n      const element = document.createElement(\"link\");\n      element.onload = on_load;\n      element.onerror = on_error;\n      element.rel = \"stylesheet\";\n      element.type = \"text/css\";\n      element.href = url;\n      console.debug(\"Bokeh: injecting link tag for BokehJS stylesheet: \", url);\n      document.body.appendChild(element);\n    }\n\n    const hashes = {\"https://cdn.bokeh.org/bokeh/release/bokeh-2.1.1.min.js\": \"kLr4fYcqcSpbuI95brIH3vnnYCquzzSxHPU6XGQCIkQRGJwhg0StNbj1eegrHs12\", \"https://cdn.bokeh.org/bokeh/release/bokeh-widgets-2.1.1.min.js\": \"xIGPmVtaOm+z0BqfSOMn4lOR6ciex448GIKG4eE61LsAvmGj48XcMQZtKcE/UXZe\", \"https://cdn.bokeh.org/bokeh/release/bokeh-tables-2.1.1.min.js\": \"Dc9u1wF/0zApGIWoBbH77iWEHtdmkuYWG839Uzmv8y8yBLXebjO9ZnERsde5Ln/P\", \"https://cdn.bokeh.org/bokeh/release/bokeh-gl-2.1.1.min.js\": \"cT9JaBz7GiRXdENrJLZNSC6eMNF3nh3fa5fTF51Svp+ukxPdwcU5kGXGPBgDCa2j\"};\n\n    for (var i = 0; i < js_urls.length; i++) {\n      var url = js_urls[i];\n      var element = document.createElement('script');\n      element.onload = on_load;\n      element.onerror = on_error;\n      element.async = false;\n      element.src = url;\n      if (url in hashes) {\n        element.crossOrigin = \"anonymous\";\n        element.integrity = \"sha384-\" + hashes[url];\n      }\n      console.debug(\"Bokeh: injecting script tag for BokehJS library: \", url);\n      document.head.appendChild(element);\n    }\n  };\n\n  function inject_raw_css(css) {\n    const element = document.createElement(\"style\");\n    element.appendChild(document.createTextNode(css));\n    document.body.appendChild(element);\n  }\n\n  \n  var js_urls = [\"https://cdn.bokeh.org/bokeh/release/bokeh-2.1.1.min.js\", \"https://cdn.bokeh.org/bokeh/release/bokeh-widgets-2.1.1.min.js\", \"https://cdn.bokeh.org/bokeh/release/bokeh-tables-2.1.1.min.js\", \"https://cdn.bokeh.org/bokeh/release/bokeh-gl-2.1.1.min.js\"];\n  var css_urls = [];\n  \n\n  var inline_js = [\n    function(Bokeh) {\n      Bokeh.set_log_level(\"info\");\n    },\n    function(Bokeh) {\n    \n    \n    }\n  ];\n\n  function run_inline_js() {\n    \n    if (root.Bokeh !== undefined || force === true) {\n      \n    for (var i = 0; i < inline_js.length; i++) {\n      inline_js[i].call(root, root.Bokeh);\n    }\n    if (force === true) {\n        display_loaded();\n      }} else if (Date.now() < root._bokeh_timeout) {\n      setTimeout(run_inline_js, 100);\n    } else if (!root._bokeh_failed_load) {\n      console.log(\"Bokeh: BokehJS failed to load within specified timeout.\");\n      root._bokeh_failed_load = true;\n    } else if (force !== true) {\n      var cell = $(document.getElementById(\"1001\")).parents('.cell').data().cell;\n      cell.output_area.append_execute_result(NB_LOAD_WARNING)\n    }\n\n  }\n\n  if (root._bokeh_is_loading === 0) {\n    console.debug(\"Bokeh: BokehJS loaded, going straight to plotting\");\n    run_inline_js();\n  } else {\n    load_libs(css_urls, js_urls, function() {\n      console.debug(\"Bokeh: BokehJS plotting callback run at\", now());\n      run_inline_js();\n    });\n  }\n}(window));"
     },
     "metadata": {},
     "output_type": "display_data"
    }
   ],
   "source": [
    "output_notebook()"
   ]
  },
  {
   "cell_type": "code",
   "execution_count": null,
   "metadata": {},
   "outputs": [],
   "source": []
  },
  {
   "cell_type": "code",
   "execution_count": 4,
   "metadata": {},
   "outputs": [],
   "source": [
    "def get_and_clean_data(path):\n",
    "    data = pd.read_csv(path)\n",
    "    data = data.drop(['Unnamed: 0', 'Unnamed: 0.1', 'Unnamed: 0.1.1'], axis=1)\n",
    "    data['date'] = pd.to_datetime(data['created_at'].astype(str), errors='coerce')\n",
    "    return data"
   ]
  },
  {
   "cell_type": "code",
   "execution_count": 5,
   "metadata": {},
   "outputs": [],
   "source": [
    "def get_mean_scores_by_date(df):\n",
    "    df['date'] = df['date'].dt.date\n",
    "    df2 = df.groupby('date')['scores'].mean().to_frame().reset_index()\n",
    "    return df2"
   ]
  },
  {
   "cell_type": "code",
   "execution_count": 6,
   "metadata": {},
   "outputs": [],
   "source": [
    "def get_plot_data(path):\n",
    "    df = get_and_clean_data(path)\n",
    "    df = get_mean_scores_by_date(df)\n",
    "    \n",
    "    return df[['date', 'scores']]"
   ]
  },
  {
   "cell_type": "code",
   "execution_count": 20,
   "metadata": {},
   "outputs": [],
   "source": [
    "def plot_chart(rep_df, dem_df, rep_cand, dem_cand, title):\n",
    "    p = figure(x_axis_type=\"datetime\", title=title, plot_height=350, plot_width=900)\n",
    "    p.xgrid.grid_line_color=None\n",
    "    p.ygrid.grid_line_alpha=0.5\n",
    "    p.xaxis.axis_label = 'Date'\n",
    "    p.yaxis.axis_label = 'Sentiment Score'\n",
    "\n",
    "    p.line(rep_df.date, rep_df.scores, line_color=\"red\", \n",
    "           line_width=4, line_alpha=0.6, \n",
    "           legend_label= rep_cand + ' (' + str(round(rep_df[\"scores\"].mean(), 5)) + ')')\n",
    "    p.circle(rep_df.date, rep_df.scores, fill_color=\"red\", size=5, color=\"red\")\n",
    "\n",
    "    p.line(dem_df.date, dem_df.scores, line_color=\"blue\", \n",
    "           line_width=4, line_alpha=0.6, \n",
    "           legend_label= dem_cand + ' (' + str(round(df_biden[\"scores\"].mean(), 5))  + ')')\n",
    "    p.circle(dem_df.date, dem_df.scores, fill_color=\"blue\", size=5, color=\"blue\")\n",
    "\n",
    "    p.legend.location = \"bottom_right\"\n",
    "\n",
    "    show(p)"
   ]
  },
  {
   "cell_type": "code",
   "execution_count": 21,
   "metadata": {},
   "outputs": [
    {
     "data": {
      "text/html": [
       "\n",
       "\n",
       "\n",
       "\n",
       "\n",
       "\n",
       "  <div class=\"bk-root\" id=\"7044274e-0676-45f2-915a-7968070795db\" data-root-id=\"5534\"></div>\n"
      ]
     },
     "metadata": {},
     "output_type": "display_data"
    },
    {
     "data": {
      "application/javascript": [
       "(function(root) {\n",
       "  function embed_document(root) {\n",
       "    \n",
       "  var docs_json = {\"fbd84fe9-91e3-4b8e-99da-bde643ae3e7c\":{\"roots\":{\"references\":[{\"attributes\":{\"below\":[{\"id\":\"5545\"}],\"center\":[{\"id\":\"5548\"},{\"id\":\"5552\"},{\"id\":\"5592\"}],\"left\":[{\"id\":\"5549\"}],\"plot_height\":350,\"plot_width\":900,\"renderers\":[{\"id\":\"5570\"},{\"id\":\"5597\"},{\"id\":\"5602\"},{\"id\":\"5632\"}],\"title\":{\"id\":\"5535\"},\"toolbar\":{\"id\":\"5560\"},\"x_range\":{\"id\":\"5537\"},\"x_scale\":{\"id\":\"5541\"},\"y_range\":{\"id\":\"5539\"},\"y_scale\":{\"id\":\"5543\"}},\"id\":\"5534\",\"subtype\":\"Figure\",\"type\":\"Plot\"},{\"attributes\":{\"overlay\":{\"id\":\"5559\"}},\"id\":\"5555\",\"type\":\"BoxZoomTool\"},{\"attributes\":{},\"id\":\"5945\",\"type\":\"Selection\"},{\"attributes\":{\"days\":[1,4,7,10,13,16,19,22,25,28]},\"id\":\"5582\",\"type\":\"DaysTicker\"},{\"attributes\":{\"label\":{\"value\":\"Biden (1.80865)\"},\"renderers\":[{\"id\":\"5602\"}]},\"id\":\"5628\",\"type\":\"LegendItem\"},{\"attributes\":{},\"id\":\"5554\",\"type\":\"WheelZoomTool\"},{\"attributes\":{\"active_drag\":\"auto\",\"active_inspect\":\"auto\",\"active_multi\":null,\"active_scroll\":\"auto\",\"active_tap\":\"auto\",\"tools\":[{\"id\":\"5553\"},{\"id\":\"5554\"},{\"id\":\"5555\"},{\"id\":\"5556\"},{\"id\":\"5557\"},{\"id\":\"5558\"}]},\"id\":\"5560\",\"type\":\"Toolbar\"},{\"attributes\":{\"data\":{\"x\":{\"__ndarray__\":\"AADA2zYld0IAAIBBiSV3QgAAQKfbJXdCAAAADS4md0IAAMBygCZ3QgAAgNjSJndCAABAPiUnd0IAAACkdyd3QgAAwAnKJ3dCAACAbxwod0IAAEDVbih3QgAAADvBKHdCAADAoBMpd0IAAIAGZil3QgAAQGy4KXdCAAAA0goqd0IAAMA3XSp3QgAAgJ2vKndCAABAAwIrd0IAAABpVCt3QgAAwM6mK3dCAACANPkrd0IAAECaSyx3QgAAAACeLHdCAADAZfAsd0IAAIDLQi13QgAAQDGVLXdCAAAAl+ctd0IAAMD8OS53QgAAgGKMLndCAABAyN4ud0I=\",\"dtype\":\"float64\",\"order\":\"little\",\"shape\":[31]},\"y\":{\"__ndarray__\":\"lkOLbOf7/T89CtejcD3+P6RwPQrXo/w/PzVeukkM/j+gGi/dJAb9P4PAyqFFtvs/j8L1KFyP/j9oke18PzX+P3npJjEIrPg/2/l+arx0+z8MAiuHFtn+P39qvHSTGPw/fT81XrpJ/D+sHFpkO9/7P9nO91Pjpfs/L90kBoGV+z9vEoPAyqH9P0jhehSuR/0/CtejcD0K/z9xPQrXo3D9P1g5tMh2vvs/cT0K16Nw/T+gGi/dJAb9PxSuR+F6FP4/dZMYBFYO/T/ufD81Xrr9P2IQWDm0yP4/sp3vp8ZL+z+HFtnO91P7P2ZmZmZmZv4/Vg4tsp3v+z8=\",\"dtype\":\"float64\",\"order\":\"little\",\"shape\":[31]}},\"selected\":{\"id\":\"5945\"},\"selection_policy\":{\"id\":\"5944\"}},\"id\":\"5629\",\"type\":\"ColumnDataSource\"},{\"attributes\":{\"bottom_units\":\"screen\",\"fill_alpha\":0.5,\"fill_color\":\"lightgrey\",\"left_units\":\"screen\",\"level\":\"overlay\",\"line_alpha\":1.0,\"line_color\":\"black\",\"line_dash\":[4,4],\"line_width\":2,\"right_units\":\"screen\",\"top_units\":\"screen\"},\"id\":\"5559\",\"type\":\"BoxAnnotation\"},{\"attributes\":{\"data_source\":{\"id\":\"5594\"},\"glyph\":{\"id\":\"5595\"},\"hover_glyph\":null,\"muted_glyph\":null,\"nonselection_glyph\":{\"id\":\"5596\"},\"selection_glyph\":null,\"view\":{\"id\":\"5598\"}},\"id\":\"5597\",\"type\":\"GlyphRenderer\"},{\"attributes\":{},\"id\":\"5553\",\"type\":\"PanTool\"},{\"attributes\":{\"fill_alpha\":{\"value\":0.1},\"fill_color\":{\"value\":\"red\"},\"line_alpha\":{\"value\":0.1},\"line_color\":{\"value\":\"red\"},\"size\":{\"units\":\"screen\",\"value\":5},\"x\":{\"field\":\"x\"},\"y\":{\"field\":\"y\"}},\"id\":\"5596\",\"type\":\"Circle\"},{\"attributes\":{},\"id\":\"5624\",\"type\":\"UnionRenderers\"},{\"attributes\":{\"data\":{\"x\":{\"__ndarray__\":\"AADA2zYld0IAAIBBiSV3QgAAQKfbJXdCAAAADS4md0IAAMBygCZ3QgAAgNjSJndCAABAPiUnd0IAAACkdyd3QgAAwAnKJ3dCAACAbxwod0IAAEDVbih3QgAAADvBKHdCAADAoBMpd0IAAIAGZil3QgAAQGy4KXdCAAAA0goqd0IAAMA3XSp3QgAAgJ2vKndCAABAAwIrd0IAAABpVCt3QgAAwM6mK3dCAACANPkrd0IAAECaSyx3QgAAAACeLHdCAADAZfAsd0IAAIDLQi13QgAAQDGVLXdCAAAAl+ctd0IAAMD8OS53QgAAgGKMLndCAABAyN4ud0I=\",\"dtype\":\"float64\",\"order\":\"little\",\"shape\":[31]},\"y\":{\"__ndarray__\":\"VOOlm8Qg/D+mm8QgsHL8P/hT46WbxPw/pHA9Ctej/D/NzMzMzMz8P28Sg8DKof0/mpmZmZmZ/T/HSzeJQWD9P57vp8ZLN/0/SOF6FK5H/T/D9Shcj8L9P8uhRbbz/fw/QmDl0CLb/T9MN4lBYOX8P5HtfD81Xv4/GQRWDi2y/T9YObTIdr77P/p+arx0k/w/y6FFtvP9/D/Jdr6fGi/9P1TjpZvEIPw/9P3UeOkm/T/4U+Olm8T8P+58PzVeuv0/UrgehetR/D8xCKwcWmT7P8UgsHJokf0/16NwPQrX+z+oxks3iUH8P0w3iUFg5fw/TmIQWDm0/D8=\",\"dtype\":\"float64\",\"order\":\"little\",\"shape\":[31]}},\"selected\":{\"id\":\"5591\"},\"selection_policy\":{\"id\":\"5590\"}},\"id\":\"5567\",\"type\":\"ColumnDataSource\"},{\"attributes\":{\"label\":{\"value\":\"Trump (1.80787)\"},\"renderers\":[{\"id\":\"5570\"}]},\"id\":\"5593\",\"type\":\"LegendItem\"},{\"attributes\":{\"source\":{\"id\":\"5594\"}},\"id\":\"5598\",\"type\":\"CDSView\"},{\"attributes\":{\"source\":{\"id\":\"5599\"}},\"id\":\"5603\",\"type\":\"CDSView\"},{\"attributes\":{\"data_source\":{\"id\":\"5567\"},\"glyph\":{\"id\":\"5568\"},\"hover_glyph\":null,\"muted_glyph\":null,\"nonselection_glyph\":{\"id\":\"5569\"},\"selection_glyph\":null,\"view\":{\"id\":\"5571\"}},\"id\":\"5570\",\"type\":\"GlyphRenderer\"},{\"attributes\":{\"line_alpha\":0.6,\"line_color\":\"blue\",\"line_width\":4,\"x\":{\"field\":\"x\"},\"y\":{\"field\":\"y\"}},\"id\":\"5600\",\"type\":\"Line\"},{\"attributes\":{\"line_alpha\":0.6,\"line_color\":\"red\",\"line_width\":4,\"x\":{\"field\":\"x\"},\"y\":{\"field\":\"y\"}},\"id\":\"5568\",\"type\":\"Line\"},{\"attributes\":{\"data\":{\"x\":{\"__ndarray__\":\"AADA2zYld0IAAIBBiSV3QgAAQKfbJXdCAAAADS4md0IAAMBygCZ3QgAAgNjSJndCAABAPiUnd0IAAACkdyd3QgAAwAnKJ3dCAACAbxwod0IAAEDVbih3QgAAADvBKHdCAADAoBMpd0IAAIAGZil3QgAAQGy4KXdCAAAA0goqd0IAAMA3XSp3QgAAgJ2vKndCAABAAwIrd0IAAABpVCt3QgAAwM6mK3dCAACANPkrd0IAAECaSyx3QgAAAACeLHdCAADAZfAsd0IAAIDLQi13QgAAQDGVLXdCAAAAl+ctd0IAAMD8OS53QgAAgGKMLndCAABAyN4ud0I=\",\"dtype\":\"float64\",\"order\":\"little\",\"shape\":[31]},\"y\":{\"__ndarray__\":\"lkOLbOf7/T89CtejcD3+P6RwPQrXo/w/PzVeukkM/j+gGi/dJAb9P4PAyqFFtvs/j8L1KFyP/j9oke18PzX+P3npJjEIrPg/2/l+arx0+z8MAiuHFtn+P39qvHSTGPw/fT81XrpJ/D+sHFpkO9/7P9nO91Pjpfs/L90kBoGV+z9vEoPAyqH9P0jhehSuR/0/CtejcD0K/z9xPQrXo3D9P1g5tMh2vvs/cT0K16Nw/T+gGi/dJAb9PxSuR+F6FP4/dZMYBFYO/T/ufD81Xrr9P2IQWDm0yP4/sp3vp8ZL+z+HFtnO91P7P2ZmZmZmZv4/Vg4tsp3v+z8=\",\"dtype\":\"float64\",\"order\":\"little\",\"shape\":[31]}},\"selected\":{\"id\":\"5627\"},\"selection_policy\":{\"id\":\"5626\"}},\"id\":\"5599\",\"type\":\"ColumnDataSource\"},{\"attributes\":{\"source\":{\"id\":\"5567\"}},\"id\":\"5571\",\"type\":\"CDSView\"},{\"attributes\":{},\"id\":\"5589\",\"type\":\"YearsTicker\"},{\"attributes\":{},\"id\":\"5625\",\"type\":\"Selection\"},{\"attributes\":{\"line_alpha\":0.1,\"line_color\":\"red\",\"line_width\":4,\"x\":{\"field\":\"x\"},\"y\":{\"field\":\"y\"}},\"id\":\"5569\",\"type\":\"Line\"},{\"attributes\":{\"axis\":{\"id\":\"5549\"},\"dimension\":1,\"grid_line_alpha\":0.5,\"ticker\":null},\"id\":\"5552\",\"type\":\"Grid\"},{\"attributes\":{\"items\":[{\"id\":\"5593\"},{\"id\":\"5628\"}],\"location\":\"bottom_right\"},\"id\":\"5592\",\"type\":\"Legend\"},{\"attributes\":{},\"id\":\"5573\",\"type\":\"BasicTickFormatter\"},{\"attributes\":{},\"id\":\"5550\",\"type\":\"BasicTicker\"},{\"attributes\":{\"fill_color\":{\"value\":\"blue\"},\"line_color\":{\"value\":\"blue\"},\"size\":{\"units\":\"screen\",\"value\":5},\"x\":{\"field\":\"x\"},\"y\":{\"field\":\"y\"}},\"id\":\"5630\",\"type\":\"Circle\"},{\"attributes\":{\"days\":[1,8,15,22]},\"id\":\"5583\",\"type\":\"DaysTicker\"},{\"attributes\":{\"base\":24,\"mantissas\":[1,2,4,6,8,12],\"max_interval\":43200000.0,\"min_interval\":3600000.0,\"num_minor_ticks\":0},\"id\":\"5580\",\"type\":\"AdaptiveTicker\"},{\"attributes\":{\"data_source\":{\"id\":\"5599\"},\"glyph\":{\"id\":\"5600\"},\"hover_glyph\":null,\"muted_glyph\":null,\"nonselection_glyph\":{\"id\":\"5601\"},\"selection_glyph\":null,\"view\":{\"id\":\"5603\"}},\"id\":\"5602\",\"type\":\"GlyphRenderer\"},{\"attributes\":{\"axis_label\":\"Sentiment Score\",\"formatter\":{\"id\":\"5573\"},\"ticker\":{\"id\":\"5550\"}},\"id\":\"5549\",\"type\":\"LinearAxis\"},{\"attributes\":{\"mantissas\":[1,2,5],\"max_interval\":500.0,\"num_minor_ticks\":0},\"id\":\"5578\",\"type\":\"AdaptiveTicker\"},{\"attributes\":{},\"id\":\"5556\",\"type\":\"SaveTool\"},{\"attributes\":{},\"id\":\"5627\",\"type\":\"Selection\"},{\"attributes\":{\"axis\":{\"id\":\"5545\"},\"grid_line_color\":null,\"ticker\":null},\"id\":\"5548\",\"type\":\"Grid\"},{\"attributes\":{\"days\":[1,2,3,4,5,6,7,8,9,10,11,12,13,14,15,16,17,18,19,20,21,22,23,24,25,26,27,28,29,30,31]},\"id\":\"5581\",\"type\":\"DaysTicker\"},{\"attributes\":{\"source\":{\"id\":\"5629\"}},\"id\":\"5633\",\"type\":\"CDSView\"},{\"attributes\":{},\"id\":\"5590\",\"type\":\"UnionRenderers\"},{\"attributes\":{\"axis_label\":\"Date\",\"formatter\":{\"id\":\"5575\"},\"ticker\":{\"id\":\"5546\"}},\"id\":\"5545\",\"type\":\"DatetimeAxis\"},{\"attributes\":{\"data_source\":{\"id\":\"5629\"},\"glyph\":{\"id\":\"5630\"},\"hover_glyph\":null,\"muted_glyph\":null,\"nonselection_glyph\":{\"id\":\"5631\"},\"selection_glyph\":null,\"view\":{\"id\":\"5633\"}},\"id\":\"5632\",\"type\":\"GlyphRenderer\"},{\"attributes\":{\"num_minor_ticks\":5,\"tickers\":[{\"id\":\"5578\"},{\"id\":\"5579\"},{\"id\":\"5580\"},{\"id\":\"5581\"},{\"id\":\"5582\"},{\"id\":\"5583\"},{\"id\":\"5584\"},{\"id\":\"5585\"},{\"id\":\"5586\"},{\"id\":\"5587\"},{\"id\":\"5588\"},{\"id\":\"5589\"}]},\"id\":\"5546\",\"type\":\"DatetimeTicker\"},{\"attributes\":{\"months\":[0,4,8]},\"id\":\"5587\",\"type\":\"MonthsTicker\"},{\"attributes\":{\"months\":[0,6]},\"id\":\"5588\",\"type\":\"MonthsTicker\"},{\"attributes\":{},\"id\":\"5626\",\"type\":\"UnionRenderers\"},{\"attributes\":{},\"id\":\"5575\",\"type\":\"DatetimeTickFormatter\"},{\"attributes\":{},\"id\":\"5944\",\"type\":\"UnionRenderers\"},{\"attributes\":{},\"id\":\"5558\",\"type\":\"HelpTool\"},{\"attributes\":{},\"id\":\"5543\",\"type\":\"LinearScale\"},{\"attributes\":{\"line_alpha\":0.1,\"line_color\":\"blue\",\"line_width\":4,\"x\":{\"field\":\"x\"},\"y\":{\"field\":\"y\"}},\"id\":\"5601\",\"type\":\"Line\"},{\"attributes\":{},\"id\":\"5557\",\"type\":\"ResetTool\"},{\"attributes\":{\"months\":[0,1,2,3,4,5,6,7,8,9,10,11]},\"id\":\"5585\",\"type\":\"MonthsTicker\"},{\"attributes\":{},\"id\":\"5541\",\"type\":\"LinearScale\"},{\"attributes\":{\"fill_color\":{\"value\":\"red\"},\"line_color\":{\"value\":\"red\"},\"size\":{\"units\":\"screen\",\"value\":5},\"x\":{\"field\":\"x\"},\"y\":{\"field\":\"y\"}},\"id\":\"5595\",\"type\":\"Circle\"},{\"attributes\":{},\"id\":\"5539\",\"type\":\"DataRange1d\"},{\"attributes\":{\"fill_alpha\":{\"value\":0.1},\"fill_color\":{\"value\":\"blue\"},\"line_alpha\":{\"value\":0.1},\"line_color\":{\"value\":\"blue\"},\"size\":{\"units\":\"screen\",\"value\":5},\"x\":{\"field\":\"x\"},\"y\":{\"field\":\"y\"}},\"id\":\"5631\",\"type\":\"Circle\"},{\"attributes\":{},\"id\":\"5591\",\"type\":\"Selection\"},{\"attributes\":{},\"id\":\"5537\",\"type\":\"DataRange1d\"},{\"attributes\":{\"months\":[0,2,4,6,8,10]},\"id\":\"5586\",\"type\":\"MonthsTicker\"},{\"attributes\":{\"base\":60,\"mantissas\":[1,2,5,10,15,20,30],\"max_interval\":1800000.0,\"min_interval\":1000.0,\"num_minor_ticks\":0},\"id\":\"5579\",\"type\":\"AdaptiveTicker\"},{\"attributes\":{\"data\":{\"x\":{\"__ndarray__\":\"AADA2zYld0IAAIBBiSV3QgAAQKfbJXdCAAAADS4md0IAAMBygCZ3QgAAgNjSJndCAABAPiUnd0IAAACkdyd3QgAAwAnKJ3dCAACAbxwod0IAAEDVbih3QgAAADvBKHdCAADAoBMpd0IAAIAGZil3QgAAQGy4KXdCAAAA0goqd0IAAMA3XSp3QgAAgJ2vKndCAABAAwIrd0IAAABpVCt3QgAAwM6mK3dCAACANPkrd0IAAECaSyx3QgAAAACeLHdCAADAZfAsd0IAAIDLQi13QgAAQDGVLXdCAAAAl+ctd0IAAMD8OS53QgAAgGKMLndCAABAyN4ud0I=\",\"dtype\":\"float64\",\"order\":\"little\",\"shape\":[31]},\"y\":{\"__ndarray__\":\"VOOlm8Qg/D+mm8QgsHL8P/hT46WbxPw/pHA9Ctej/D/NzMzMzMz8P28Sg8DKof0/mpmZmZmZ/T/HSzeJQWD9P57vp8ZLN/0/SOF6FK5H/T/D9Shcj8L9P8uhRbbz/fw/QmDl0CLb/T9MN4lBYOX8P5HtfD81Xv4/GQRWDi2y/T9YObTIdr77P/p+arx0k/w/y6FFtvP9/D/Jdr6fGi/9P1TjpZvEIPw/9P3UeOkm/T/4U+Olm8T8P+58PzVeuv0/UrgehetR/D8xCKwcWmT7P8UgsHJokf0/16NwPQrX+z+oxks3iUH8P0w3iUFg5fw/TmIQWDm0/D8=\",\"dtype\":\"float64\",\"order\":\"little\",\"shape\":[31]}},\"selected\":{\"id\":\"5625\"},\"selection_policy\":{\"id\":\"5624\"}},\"id\":\"5594\",\"type\":\"ColumnDataSource\"},{\"attributes\":{\"text\":\"Candidate Sentiment - 2020 - Last 30 Days\"},\"id\":\"5535\",\"type\":\"Title\"},{\"attributes\":{\"days\":[1,15]},\"id\":\"5584\",\"type\":\"DaysTicker\"}],\"root_ids\":[\"5534\"]},\"title\":\"Bokeh Application\",\"version\":\"2.1.1\"}};\n",
       "  var render_items = [{\"docid\":\"fbd84fe9-91e3-4b8e-99da-bde643ae3e7c\",\"root_ids\":[\"5534\"],\"roots\":{\"5534\":\"7044274e-0676-45f2-915a-7968070795db\"}}];\n",
       "  root.Bokeh.embed.embed_items_notebook(docs_json, render_items);\n",
       "\n",
       "  }\n",
       "  if (root.Bokeh !== undefined) {\n",
       "    embed_document(root);\n",
       "  } else {\n",
       "    var attempts = 0;\n",
       "    var timer = setInterval(function(root) {\n",
       "      if (root.Bokeh !== undefined) {\n",
       "        clearInterval(timer);\n",
       "        embed_document(root);\n",
       "      } else {\n",
       "        attempts++;\n",
       "        if (attempts > 100) {\n",
       "          clearInterval(timer);\n",
       "          console.log(\"Bokeh: ERROR: Unable to run BokehJS code because BokehJS library is missing\");\n",
       "        }\n",
       "      }\n",
       "    }, 10, root)\n",
       "  }\n",
       "})(window);"
      ],
      "application/vnd.bokehjs_exec.v0+json": ""
     },
     "metadata": {
      "application/vnd.bokehjs_exec.v0+json": {
       "id": "5534"
      }
     },
     "output_type": "display_data"
    }
   ],
   "source": [
    "df_trump = get_plot_data('data2/sentiment/candidate/2020/trump/2020_trump.csv')\n",
    "df_biden = get_plot_data('data2/sentiment/candidate/2020/biden/2020_biden.csv')\n",
    "\n",
    "plot_chart(df_trump, df_biden, 'Trump', 'Biden', \"Candidate Sentiment - 2020 - Last 30 Days\")"
   ]
  },
  {
   "cell_type": "code",
   "execution_count": 22,
   "metadata": {},
   "outputs": [
    {
     "data": {
      "text/html": [
       "\n",
       "\n",
       "\n",
       "\n",
       "\n",
       "\n",
       "  <div class=\"bk-root\" id=\"90e61ce7-7e95-4ab9-90f6-3cf1376fd867\" data-root-id=\"6102\"></div>\n"
      ]
     },
     "metadata": {},
     "output_type": "display_data"
    },
    {
     "data": {
      "application/javascript": [
       "(function(root) {\n",
       "  function embed_document(root) {\n",
       "    \n",
       "  var docs_json = {\"1ad52b70-11c0-457b-b3d5-1ce3c0eba940\":{\"roots\":{\"references\":[{\"attributes\":{\"below\":[{\"id\":\"6113\"}],\"center\":[{\"id\":\"6116\"},{\"id\":\"6120\"},{\"id\":\"6160\"}],\"left\":[{\"id\":\"6117\"}],\"plot_height\":350,\"plot_width\":900,\"renderers\":[{\"id\":\"6138\"},{\"id\":\"6165\"},{\"id\":\"6170\"},{\"id\":\"6200\"}],\"title\":{\"id\":\"6103\"},\"toolbar\":{\"id\":\"6128\"},\"x_range\":{\"id\":\"6105\"},\"x_scale\":{\"id\":\"6109\"},\"y_range\":{\"id\":\"6107\"},\"y_scale\":{\"id\":\"6111\"}},\"id\":\"6102\",\"subtype\":\"Figure\",\"type\":\"Plot\"},{\"attributes\":{},\"id\":\"6192\",\"type\":\"UnionRenderers\"},{\"attributes\":{\"fill_color\":{\"value\":\"red\"},\"line_color\":{\"value\":\"red\"},\"size\":{\"units\":\"screen\",\"value\":5},\"x\":{\"field\":\"x\"},\"y\":{\"field\":\"y\"}},\"id\":\"6163\",\"type\":\"Circle\"},{\"attributes\":{\"data_source\":{\"id\":\"6162\"},\"glyph\":{\"id\":\"6163\"},\"hover_glyph\":null,\"muted_glyph\":null,\"nonselection_glyph\":{\"id\":\"6164\"},\"selection_glyph\":null,\"view\":{\"id\":\"6166\"}},\"id\":\"6165\",\"type\":\"GlyphRenderer\"},{\"attributes\":{\"data\":{\"x\":{\"__ndarray__\":\"AACAbRl6dUIAAEDTa3p1QgAAADm+enVCAADAnhB7dUIAAIAEY3t1QgAAQGq1e3VCAAAA0Ad8dUIAAMA1Wnx1QgAAgJusfHVCAABAAf98dUIAAABnUX11QgAAwMyjfXVCAACAMvZ9dUIAAECYSH51QgAAAP6afnVCAADAY+1+dUIAAIDJP391QgAAQC+Sf3VCAAAAleR/dUIAAMD6NoB1QgAAgGCJgHVCAABAxtuAdUIAAAAsLoF1QgAAwJGAgXVCAACA99KBdUIAAEBdJYJ1QgAAAMN3gnVCAADAKMqCdUIAAICOHIN1QgAAQPRug3VCAAAAWsGDdUI=\",\"dtype\":\"float64\",\"order\":\"little\",\"shape\":[31]},\"y\":{\"__ndarray__\":\"3SQGgZVD+z8GgZVDi2z7PycxCKwcWvw/f2q8dJMY/D/Jdr6fGi/9P/yp8dJNYvw/f2q8dJMY/D8fhetRuB79PzVeukkMAvs/hetRuB6F+z9I4XoUrkf9P2iR7Xw/Nf4/TDeJQWDl/D+iRbbz/dT8P8dLN4lBYP0/bef7qfHS/T9t5/up8dL9P8uhRbbz/fw/wcqhRbbz/T+Nl24Sg8D+P0SLbOf7qf0/O99PjZdu/j9xPQrXo3D9PzvfT42Xbv4/cT0K16Nw/T8W9nZs6gL9P5ZDi2zn+/0/bef7qfHS/T8bL90kBoH9P+58PzVeuv0/46WbxCCw/j8=\",\"dtype\":\"float64\",\"order\":\"little\",\"shape\":[31]}},\"selected\":{\"id\":\"6159\"},\"selection_policy\":{\"id\":\"6158\"}},\"id\":\"6135\",\"type\":\"ColumnDataSource\"},{\"attributes\":{\"months\":[0,1,2,3,4,5,6,7,8,9,10,11]},\"id\":\"6153\",\"type\":\"MonthsTicker\"},{\"attributes\":{\"fill_alpha\":{\"value\":0.1},\"fill_color\":{\"value\":\"blue\"},\"line_alpha\":{\"value\":0.1},\"line_color\":{\"value\":\"blue\"},\"size\":{\"units\":\"screen\",\"value\":5},\"x\":{\"field\":\"x\"},\"y\":{\"field\":\"y\"}},\"id\":\"6199\",\"type\":\"Circle\"},{\"attributes\":{\"source\":{\"id\":\"6162\"}},\"id\":\"6166\",\"type\":\"CDSView\"},{\"attributes\":{\"base\":24,\"mantissas\":[1,2,4,6,8,12],\"max_interval\":43200000.0,\"min_interval\":3600000.0,\"num_minor_ticks\":0},\"id\":\"6148\",\"type\":\"AdaptiveTicker\"},{\"attributes\":{},\"id\":\"6158\",\"type\":\"UnionRenderers\"},{\"attributes\":{},\"id\":\"6195\",\"type\":\"Selection\"},{\"attributes\":{\"bottom_units\":\"screen\",\"fill_alpha\":0.5,\"fill_color\":\"lightgrey\",\"left_units\":\"screen\",\"level\":\"overlay\",\"line_alpha\":1.0,\"line_color\":\"black\",\"line_dash\":[4,4],\"line_width\":2,\"right_units\":\"screen\",\"top_units\":\"screen\"},\"id\":\"6127\",\"type\":\"BoxAnnotation\"},{\"attributes\":{},\"id\":\"6107\",\"type\":\"DataRange1d\"},{\"attributes\":{\"axis_label\":\"Date\",\"formatter\":{\"id\":\"6143\"},\"ticker\":{\"id\":\"6114\"}},\"id\":\"6113\",\"type\":\"DatetimeAxis\"},{\"attributes\":{\"axis_label\":\"Sentiment Score\",\"formatter\":{\"id\":\"6141\"},\"ticker\":{\"id\":\"6118\"}},\"id\":\"6117\",\"type\":\"LinearAxis\"},{\"attributes\":{\"label\":{\"value\":\"Trump (1.82365)\"},\"renderers\":[{\"id\":\"6138\"}]},\"id\":\"6161\",\"type\":\"LegendItem\"},{\"attributes\":{\"active_drag\":\"auto\",\"active_inspect\":\"auto\",\"active_multi\":null,\"active_scroll\":\"auto\",\"active_tap\":\"auto\",\"tools\":[{\"id\":\"6121\"},{\"id\":\"6122\"},{\"id\":\"6123\"},{\"id\":\"6124\"},{\"id\":\"6125\"},{\"id\":\"6126\"}]},\"id\":\"6128\",\"type\":\"Toolbar\"},{\"attributes\":{\"num_minor_ticks\":5,\"tickers\":[{\"id\":\"6146\"},{\"id\":\"6147\"},{\"id\":\"6148\"},{\"id\":\"6149\"},{\"id\":\"6150\"},{\"id\":\"6151\"},{\"id\":\"6152\"},{\"id\":\"6153\"},{\"id\":\"6154\"},{\"id\":\"6155\"},{\"id\":\"6156\"},{\"id\":\"6157\"}]},\"id\":\"6114\",\"type\":\"DatetimeTicker\"},{\"attributes\":{},\"id\":\"6193\",\"type\":\"Selection\"},{\"attributes\":{\"mantissas\":[1,2,5],\"max_interval\":500.0,\"num_minor_ticks\":0},\"id\":\"6146\",\"type\":\"AdaptiveTicker\"},{\"attributes\":{\"line_alpha\":0.1,\"line_color\":\"blue\",\"line_width\":4,\"x\":{\"field\":\"x\"},\"y\":{\"field\":\"y\"}},\"id\":\"6169\",\"type\":\"Line\"},{\"attributes\":{\"data\":{\"x\":{\"__ndarray__\":\"AACAbRl6dUIAAEDTa3p1QgAAADm+enVCAADAnhB7dUIAAIAEY3t1QgAAQGq1e3VCAAAA0Ad8dUIAAMA1Wnx1QgAAgJusfHVCAABAAf98dUIAAABnUX11QgAAwMyjfXVCAACAMvZ9dUIAAECYSH51QgAAAP6afnVCAADAY+1+dUIAAIDJP391QgAAQC+Sf3VCAAAAleR/dUIAAMD6NoB1QgAAgGCJgHVCAABAxtuAdUIAAAAsLoF1QgAAwJGAgXVCAACA99KBdUIAAEBdJYJ1QgAAAMN3gnVCAADAKMqCdUIAAICOHIN1QgAAQPRug3VCAAAAWsGDdUI=\",\"dtype\":\"float64\",\"order\":\"little\",\"shape\":[31]},\"y\":{\"__ndarray__\":\"Di2yne+n+j+BlUOLbOf7P4lBYOXQIvs/VOOlm8Qg/D9MN4lBYOX8P1yPwvUoXPs/XI/C9Shc+z+amZmZmZn9Pylcj8L1KPw/9P3UeOkm/T8bL90kBoH9PxfZzvdT4/0/Gy/dJAaB/T8tsp3vp8b7P8l2vp8aL/0/y6FFtvP9/D9OYhBYObT8P3WTGARWDv0/dZMYBFYO/T+iRbbz/dT8P1CNl24Sg/w/JzEIrBxa/D9WDi2yne/7P57vp8ZLN/0/kxgEVg4t/j8jCGsd+UL9P5zEILByaP0/I9v5fmq8/D9t5/up8dL9P3WTGARWDv0/arx0kxgE/j8=\",\"dtype\":\"float64\",\"order\":\"little\",\"shape\":[31]}},\"selected\":{\"id\":\"6539\"},\"selection_policy\":{\"id\":\"6538\"}},\"id\":\"6197\",\"type\":\"ColumnDataSource\"},{\"attributes\":{\"days\":[1,8,15,22]},\"id\":\"6151\",\"type\":\"DaysTicker\"},{\"attributes\":{},\"id\":\"6126\",\"type\":\"HelpTool\"},{\"attributes\":{\"base\":60,\"mantissas\":[1,2,5,10,15,20,30],\"max_interval\":1800000.0,\"min_interval\":1000.0,\"num_minor_ticks\":0},\"id\":\"6147\",\"type\":\"AdaptiveTicker\"},{\"attributes\":{},\"id\":\"6159\",\"type\":\"Selection\"},{\"attributes\":{},\"id\":\"6125\",\"type\":\"ResetTool\"},{\"attributes\":{\"data_source\":{\"id\":\"6197\"},\"glyph\":{\"id\":\"6198\"},\"hover_glyph\":null,\"muted_glyph\":null,\"nonselection_glyph\":{\"id\":\"6199\"},\"selection_glyph\":null,\"view\":{\"id\":\"6201\"}},\"id\":\"6200\",\"type\":\"GlyphRenderer\"},{\"attributes\":{},\"id\":\"6121\",\"type\":\"PanTool\"},{\"attributes\":{\"months\":[0,2,4,6,8,10]},\"id\":\"6154\",\"type\":\"MonthsTicker\"},{\"attributes\":{\"data_source\":{\"id\":\"6167\"},\"glyph\":{\"id\":\"6168\"},\"hover_glyph\":null,\"muted_glyph\":null,\"nonselection_glyph\":{\"id\":\"6169\"},\"selection_glyph\":null,\"view\":{\"id\":\"6171\"}},\"id\":\"6170\",\"type\":\"GlyphRenderer\"},{\"attributes\":{},\"id\":\"6143\",\"type\":\"DatetimeTickFormatter\"},{\"attributes\":{},\"id\":\"6157\",\"type\":\"YearsTicker\"},{\"attributes\":{\"fill_color\":{\"value\":\"blue\"},\"line_color\":{\"value\":\"blue\"},\"size\":{\"units\":\"screen\",\"value\":5},\"x\":{\"field\":\"x\"},\"y\":{\"field\":\"y\"}},\"id\":\"6198\",\"type\":\"Circle\"},{\"attributes\":{},\"id\":\"6124\",\"type\":\"SaveTool\"},{\"attributes\":{},\"id\":\"6141\",\"type\":\"BasicTickFormatter\"},{\"attributes\":{\"source\":{\"id\":\"6167\"}},\"id\":\"6171\",\"type\":\"CDSView\"},{\"attributes\":{\"data\":{\"x\":{\"__ndarray__\":\"AACAbRl6dUIAAEDTa3p1QgAAADm+enVCAADAnhB7dUIAAIAEY3t1QgAAQGq1e3VCAAAA0Ad8dUIAAMA1Wnx1QgAAgJusfHVCAABAAf98dUIAAABnUX11QgAAwMyjfXVCAACAMvZ9dUIAAECYSH51QgAAAP6afnVCAADAY+1+dUIAAIDJP391QgAAQC+Sf3VCAAAAleR/dUIAAMD6NoB1QgAAgGCJgHVCAABAxtuAdUIAAAAsLoF1QgAAwJGAgXVCAACA99KBdUIAAEBdJYJ1QgAAAMN3gnVCAADAKMqCdUIAAICOHIN1QgAAQPRug3VCAAAAWsGDdUI=\",\"dtype\":\"float64\",\"order\":\"little\",\"shape\":[31]},\"y\":{\"__ndarray__\":\"3SQGgZVD+z8GgZVDi2z7PycxCKwcWvw/f2q8dJMY/D/Jdr6fGi/9P/yp8dJNYvw/f2q8dJMY/D8fhetRuB79PzVeukkMAvs/hetRuB6F+z9I4XoUrkf9P2iR7Xw/Nf4/TDeJQWDl/D+iRbbz/dT8P8dLN4lBYP0/bef7qfHS/T9t5/up8dL9P8uhRbbz/fw/wcqhRbbz/T+Nl24Sg8D+P0SLbOf7qf0/O99PjZdu/j9xPQrXo3D9PzvfT42Xbv4/cT0K16Nw/T8W9nZs6gL9P5ZDi2zn+/0/bef7qfHS/T8bL90kBoH9P+58PzVeuv0/46WbxCCw/j8=\",\"dtype\":\"float64\",\"order\":\"little\",\"shape\":[31]}},\"selected\":{\"id\":\"6193\"},\"selection_policy\":{\"id\":\"6192\"}},\"id\":\"6162\",\"type\":\"ColumnDataSource\"},{\"attributes\":{\"line_alpha\":0.1,\"line_color\":\"red\",\"line_width\":4,\"x\":{\"field\":\"x\"},\"y\":{\"field\":\"y\"}},\"id\":\"6137\",\"type\":\"Line\"},{\"attributes\":{\"days\":[1,2,3,4,5,6,7,8,9,10,11,12,13,14,15,16,17,18,19,20,21,22,23,24,25,26,27,28,29,30,31]},\"id\":\"6149\",\"type\":\"DaysTicker\"},{\"attributes\":{\"overlay\":{\"id\":\"6127\"}},\"id\":\"6123\",\"type\":\"BoxZoomTool\"},{\"attributes\":{},\"id\":\"6109\",\"type\":\"LinearScale\"},{\"attributes\":{},\"id\":\"6111\",\"type\":\"LinearScale\"},{\"attributes\":{},\"id\":\"6194\",\"type\":\"UnionRenderers\"},{\"attributes\":{\"source\":{\"id\":\"6135\"}},\"id\":\"6139\",\"type\":\"CDSView\"},{\"attributes\":{\"source\":{\"id\":\"6197\"}},\"id\":\"6201\",\"type\":\"CDSView\"},{\"attributes\":{\"label\":{\"value\":\"Hillary (1.80865)\"},\"renderers\":[{\"id\":\"6170\"}]},\"id\":\"6196\",\"type\":\"LegendItem\"},{\"attributes\":{},\"id\":\"6118\",\"type\":\"BasicTicker\"},{\"attributes\":{\"fill_alpha\":{\"value\":0.1},\"fill_color\":{\"value\":\"red\"},\"line_alpha\":{\"value\":0.1},\"line_color\":{\"value\":\"red\"},\"size\":{\"units\":\"screen\",\"value\":5},\"x\":{\"field\":\"x\"},\"y\":{\"field\":\"y\"}},\"id\":\"6164\",\"type\":\"Circle\"},{\"attributes\":{\"axis\":{\"id\":\"6117\"},\"dimension\":1,\"grid_line_alpha\":0.5,\"ticker\":null},\"id\":\"6120\",\"type\":\"Grid\"},{\"attributes\":{\"text\":\"Candidate Sentiment - 2016 - 30 Days Prior to Election Day\"},\"id\":\"6103\",\"type\":\"Title\"},{\"attributes\":{\"items\":[{\"id\":\"6161\"},{\"id\":\"6196\"}],\"location\":\"bottom_right\"},\"id\":\"6160\",\"type\":\"Legend\"},{\"attributes\":{\"days\":[1,4,7,10,13,16,19,22,25,28]},\"id\":\"6150\",\"type\":\"DaysTicker\"},{\"attributes\":{\"days\":[1,15]},\"id\":\"6152\",\"type\":\"DaysTicker\"},{\"attributes\":{},\"id\":\"6105\",\"type\":\"DataRange1d\"},{\"attributes\":{\"line_alpha\":0.6,\"line_color\":\"blue\",\"line_width\":4,\"x\":{\"field\":\"x\"},\"y\":{\"field\":\"y\"}},\"id\":\"6168\",\"type\":\"Line\"},{\"attributes\":{\"data_source\":{\"id\":\"6135\"},\"glyph\":{\"id\":\"6136\"},\"hover_glyph\":null,\"muted_glyph\":null,\"nonselection_glyph\":{\"id\":\"6137\"},\"selection_glyph\":null,\"view\":{\"id\":\"6139\"}},\"id\":\"6138\",\"type\":\"GlyphRenderer\"},{\"attributes\":{},\"id\":\"6539\",\"type\":\"Selection\"},{\"attributes\":{},\"id\":\"6122\",\"type\":\"WheelZoomTool\"},{\"attributes\":{\"line_alpha\":0.6,\"line_color\":\"red\",\"line_width\":4,\"x\":{\"field\":\"x\"},\"y\":{\"field\":\"y\"}},\"id\":\"6136\",\"type\":\"Line\"},{\"attributes\":{},\"id\":\"6538\",\"type\":\"UnionRenderers\"},{\"attributes\":{\"months\":[0,6]},\"id\":\"6156\",\"type\":\"MonthsTicker\"},{\"attributes\":{\"axis\":{\"id\":\"6113\"},\"grid_line_color\":null,\"ticker\":null},\"id\":\"6116\",\"type\":\"Grid\"},{\"attributes\":{\"data\":{\"x\":{\"__ndarray__\":\"AACAbRl6dUIAAEDTa3p1QgAAADm+enVCAADAnhB7dUIAAIAEY3t1QgAAQGq1e3VCAAAA0Ad8dUIAAMA1Wnx1QgAAgJusfHVCAABAAf98dUIAAABnUX11QgAAwMyjfXVCAACAMvZ9dUIAAECYSH51QgAAAP6afnVCAADAY+1+dUIAAIDJP391QgAAQC+Sf3VCAAAAleR/dUIAAMD6NoB1QgAAgGCJgHVCAABAxtuAdUIAAAAsLoF1QgAAwJGAgXVCAACA99KBdUIAAEBdJYJ1QgAAAMN3gnVCAADAKMqCdUIAAICOHIN1QgAAQPRug3VCAAAAWsGDdUI=\",\"dtype\":\"float64\",\"order\":\"little\",\"shape\":[31]},\"y\":{\"__ndarray__\":\"Di2yne+n+j+BlUOLbOf7P4lBYOXQIvs/VOOlm8Qg/D9MN4lBYOX8P1yPwvUoXPs/XI/C9Shc+z+amZmZmZn9Pylcj8L1KPw/9P3UeOkm/T8bL90kBoH9PxfZzvdT4/0/Gy/dJAaB/T8tsp3vp8b7P8l2vp8aL/0/y6FFtvP9/D9OYhBYObT8P3WTGARWDv0/dZMYBFYO/T+iRbbz/dT8P1CNl24Sg/w/JzEIrBxa/D9WDi2yne/7P57vp8ZLN/0/kxgEVg4t/j8jCGsd+UL9P5zEILByaP0/I9v5fmq8/D9t5/up8dL9P3WTGARWDv0/arx0kxgE/j8=\",\"dtype\":\"float64\",\"order\":\"little\",\"shape\":[31]}},\"selected\":{\"id\":\"6195\"},\"selection_policy\":{\"id\":\"6194\"}},\"id\":\"6167\",\"type\":\"ColumnDataSource\"},{\"attributes\":{\"months\":[0,4,8]},\"id\":\"6155\",\"type\":\"MonthsTicker\"}],\"root_ids\":[\"6102\"]},\"title\":\"Bokeh Application\",\"version\":\"2.1.1\"}};\n",
       "  var render_items = [{\"docid\":\"1ad52b70-11c0-457b-b3d5-1ce3c0eba940\",\"root_ids\":[\"6102\"],\"roots\":{\"6102\":\"90e61ce7-7e95-4ab9-90f6-3cf1376fd867\"}}];\n",
       "  root.Bokeh.embed.embed_items_notebook(docs_json, render_items);\n",
       "\n",
       "  }\n",
       "  if (root.Bokeh !== undefined) {\n",
       "    embed_document(root);\n",
       "  } else {\n",
       "    var attempts = 0;\n",
       "    var timer = setInterval(function(root) {\n",
       "      if (root.Bokeh !== undefined) {\n",
       "        clearInterval(timer);\n",
       "        embed_document(root);\n",
       "      } else {\n",
       "        attempts++;\n",
       "        if (attempts > 100) {\n",
       "          clearInterval(timer);\n",
       "          console.log(\"Bokeh: ERROR: Unable to run BokehJS code because BokehJS library is missing\");\n",
       "        }\n",
       "      }\n",
       "    }, 10, root)\n",
       "  }\n",
       "})(window);"
      ],
      "application/vnd.bokehjs_exec.v0+json": ""
     },
     "metadata": {
      "application/vnd.bokehjs_exec.v0+json": {
       "id": "6102"
      }
     },
     "output_type": "display_data"
    }
   ],
   "source": [
    "df_trump_16 = get_plot_data('data2/sentiment/candidate/2016/trump/2016_trump.csv')\n",
    "df_hillary = get_plot_data('data2/sentiment/candidate/2016/hillary/2016_hillary.csv')\n",
    "\n",
    "plot_chart(df_trump_16, df_hillary, 'Trump', 'Hillary', \"Candidate Sentiment - 2016 - 30 Days Prior to Election Day\")"
   ]
  },
  {
   "cell_type": "code",
   "execution_count": 23,
   "metadata": {},
   "outputs": [
    {
     "data": {
      "text/html": [
       "\n",
       "\n",
       "\n",
       "\n",
       "\n",
       "\n",
       "  <div class=\"bk-root\" id=\"d1736620-bf6d-4700-9e6b-7eae3344e2eb\" data-root-id=\"6696\"></div>\n"
      ]
     },
     "metadata": {},
     "output_type": "display_data"
    },
    {
     "data": {
      "application/javascript": [
       "(function(root) {\n",
       "  function embed_document(root) {\n",
       "    \n",
       "  var docs_json = {\"155e182f-b06d-496b-b554-1a38688fc009\":{\"roots\":{\"references\":[{\"attributes\":{\"below\":[{\"id\":\"6707\"}],\"center\":[{\"id\":\"6710\"},{\"id\":\"6714\"},{\"id\":\"6754\"}],\"left\":[{\"id\":\"6711\"}],\"plot_height\":350,\"plot_width\":900,\"renderers\":[{\"id\":\"6732\"},{\"id\":\"6759\"},{\"id\":\"6764\"},{\"id\":\"6794\"}],\"title\":{\"id\":\"6697\"},\"toolbar\":{\"id\":\"6722\"},\"x_range\":{\"id\":\"6699\"},\"x_scale\":{\"id\":\"6703\"},\"y_range\":{\"id\":\"6701\"},\"y_scale\":{\"id\":\"6705\"}},\"id\":\"6696\",\"subtype\":\"Figure\",\"type\":\"Plot\"},{\"attributes\":{\"base\":60,\"mantissas\":[1,2,5,10,15,20,30],\"max_interval\":1800000.0,\"min_interval\":1000.0,\"num_minor_ticks\":0},\"id\":\"6741\",\"type\":\"AdaptiveTicker\"},{\"attributes\":{},\"id\":\"6787\",\"type\":\"Selection\"},{\"attributes\":{\"label\":{\"value\":\"Obama (1.80865)\"},\"renderers\":[{\"id\":\"6764\"}]},\"id\":\"6790\",\"type\":\"LegendItem\"},{\"attributes\":{\"line_alpha\":0.1,\"line_color\":\"blue\",\"line_width\":4,\"x\":{\"field\":\"x\"},\"y\":{\"field\":\"y\"}},\"id\":\"6763\",\"type\":\"Line\"},{\"attributes\":{\"months\":[0,2,4,6,8,10]},\"id\":\"6748\",\"type\":\"MonthsTicker\"},{\"attributes\":{\"source\":{\"id\":\"6761\"}},\"id\":\"6765\",\"type\":\"CDSView\"},{\"attributes\":{\"months\":[0,4,8]},\"id\":\"6749\",\"type\":\"MonthsTicker\"},{\"attributes\":{\"data\":{\"x\":{\"__ndarray__\":\"AADAgbenc0IAAIDnCahzQgAAQE1cqHNCAAAAs66oc0IAAMAYAalzQgAAgH5TqXNCAABA5KWpc0IAAABK+KlzQgAAwK9KqnNCAACAFZ2qc0IAAEB776pzQgAAAOFBq3NCAADARpSrc0IAAICs5qtzQgAAQBI5rHNCAAAAeIusc0I=\",\"dtype\":\"float64\",\"order\":\"little\",\"shape\":[16]},\"y\":{\"__ndarray__\":\"mpmZmZmZ/T/2KFyPwvX8Pxsv3SQGgf0/I9v5fmq8/D+6SQwCK4f+Pz81XrpJDP4/zczMzMzM/D/pJjEIrBz+P5qZmZmZmf0//Knx0k1i/D+LbOf7qfH+Pxsv3SQGgf0/ke18PzVe/j8OLbKd76f+P65H4XoUrv8/ZDvfT42X/j8=\",\"dtype\":\"float64\",\"order\":\"little\",\"shape\":[16]}},\"selected\":{\"id\":\"7159\"},\"selection_policy\":{\"id\":\"7158\"}},\"id\":\"6791\",\"type\":\"ColumnDataSource\"},{\"attributes\":{\"line_alpha\":0.6,\"line_color\":\"blue\",\"line_width\":4,\"x\":{\"field\":\"x\"},\"y\":{\"field\":\"y\"}},\"id\":\"6762\",\"type\":\"Line\"},{\"attributes\":{\"data_source\":{\"id\":\"6761\"},\"glyph\":{\"id\":\"6762\"},\"hover_glyph\":null,\"muted_glyph\":null,\"nonselection_glyph\":{\"id\":\"6763\"},\"selection_glyph\":null,\"view\":{\"id\":\"6765\"}},\"id\":\"6764\",\"type\":\"GlyphRenderer\"},{\"attributes\":{},\"id\":\"6737\",\"type\":\"DatetimeTickFormatter\"},{\"attributes\":{\"days\":[1,15]},\"id\":\"6746\",\"type\":\"DaysTicker\"},{\"attributes\":{},\"id\":\"7158\",\"type\":\"UnionRenderers\"},{\"attributes\":{},\"id\":\"6699\",\"type\":\"DataRange1d\"},{\"attributes\":{},\"id\":\"6735\",\"type\":\"BasicTickFormatter\"},{\"attributes\":{\"months\":[0,1,2,3,4,5,6,7,8,9,10,11]},\"id\":\"6747\",\"type\":\"MonthsTicker\"},{\"attributes\":{\"months\":[0,6]},\"id\":\"6750\",\"type\":\"MonthsTicker\"},{\"attributes\":{\"bottom_units\":\"screen\",\"fill_alpha\":0.5,\"fill_color\":\"lightgrey\",\"left_units\":\"screen\",\"level\":\"overlay\",\"line_alpha\":1.0,\"line_color\":\"black\",\"line_dash\":[4,4],\"line_width\":2,\"right_units\":\"screen\",\"top_units\":\"screen\"},\"id\":\"6721\",\"type\":\"BoxAnnotation\"},{\"attributes\":{\"fill_color\":{\"value\":\"blue\"},\"line_color\":{\"value\":\"blue\"},\"size\":{\"units\":\"screen\",\"value\":5},\"x\":{\"field\":\"x\"},\"y\":{\"field\":\"y\"}},\"id\":\"6792\",\"type\":\"Circle\"},{\"attributes\":{\"axis_label\":\"Sentiment Score\",\"formatter\":{\"id\":\"6735\"},\"ticker\":{\"id\":\"6712\"}},\"id\":\"6711\",\"type\":\"LinearAxis\"},{\"attributes\":{\"source\":{\"id\":\"6791\"}},\"id\":\"6795\",\"type\":\"CDSView\"},{\"attributes\":{\"fill_alpha\":{\"value\":0.1},\"fill_color\":{\"value\":\"red\"},\"line_alpha\":{\"value\":0.1},\"line_color\":{\"value\":\"red\"},\"size\":{\"units\":\"screen\",\"value\":5},\"x\":{\"field\":\"x\"},\"y\":{\"field\":\"y\"}},\"id\":\"6758\",\"type\":\"Circle\"},{\"attributes\":{\"data\":{\"x\":{\"__ndarray__\":\"AADAgbenc0IAAIDnCahzQgAAQE1cqHNCAAAAs66oc0IAAMAYAalzQgAAgH5TqXNCAABA5KWpc0IAAABK+KlzQgAAwK9KqnNCAACAFZ2qc0IAAEB776pzQgAAAOFBq3NCAADARpSrc0IAAICs5qtzQgAAQBI5rHNCAAAAeIusc0I=\",\"dtype\":\"float64\",\"order\":\"little\",\"shape\":[16]},\"y\":{\"__ndarray__\":\"xSCwcmiR/T/y0k1iEFj9PzvfT42Xbv4/FK5H4XoU/j8hsHJoke38P+xRuB6F6/0/16NwPQrX+z/HSzeJQWD9P5HtfD81Xv4/+n5qvHST/D+cxCCwcmj9P7Kd76fGS/8/kxgEVg4t/j8UrkfhehT+P4ts5/up8f4/O99PjZdu/j8=\",\"dtype\":\"float64\",\"order\":\"little\",\"shape\":[16]}},\"selected\":{\"id\":\"6753\"},\"selection_policy\":{\"id\":\"6752\"}},\"id\":\"6729\",\"type\":\"ColumnDataSource\"},{\"attributes\":{\"data_source\":{\"id\":\"6756\"},\"glyph\":{\"id\":\"6757\"},\"hover_glyph\":null,\"muted_glyph\":null,\"nonselection_glyph\":{\"id\":\"6758\"},\"selection_glyph\":null,\"view\":{\"id\":\"6760\"}},\"id\":\"6759\",\"type\":\"GlyphRenderer\"},{\"attributes\":{\"days\":[1,4,7,10,13,16,19,22,25,28]},\"id\":\"6744\",\"type\":\"DaysTicker\"},{\"attributes\":{\"data_source\":{\"id\":\"6791\"},\"glyph\":{\"id\":\"6792\"},\"hover_glyph\":null,\"muted_glyph\":null,\"nonselection_glyph\":{\"id\":\"6793\"},\"selection_glyph\":null,\"view\":{\"id\":\"6795\"}},\"id\":\"6794\",\"type\":\"GlyphRenderer\"},{\"attributes\":{\"mantissas\":[1,2,5],\"max_interval\":500.0,\"num_minor_ticks\":0},\"id\":\"6740\",\"type\":\"AdaptiveTicker\"},{\"attributes\":{\"axis\":{\"id\":\"6711\"},\"dimension\":1,\"grid_line_alpha\":0.5,\"ticker\":null},\"id\":\"6714\",\"type\":\"Grid\"},{\"attributes\":{\"fill_alpha\":{\"value\":0.1},\"fill_color\":{\"value\":\"blue\"},\"line_alpha\":{\"value\":0.1},\"line_color\":{\"value\":\"blue\"},\"size\":{\"units\":\"screen\",\"value\":5},\"x\":{\"field\":\"x\"},\"y\":{\"field\":\"y\"}},\"id\":\"6793\",\"type\":\"Circle\"},{\"attributes\":{\"source\":{\"id\":\"6756\"}},\"id\":\"6760\",\"type\":\"CDSView\"},{\"attributes\":{\"line_alpha\":0.1,\"line_color\":\"red\",\"line_width\":4,\"x\":{\"field\":\"x\"},\"y\":{\"field\":\"y\"}},\"id\":\"6731\",\"type\":\"Line\"},{\"attributes\":{},\"id\":\"6701\",\"type\":\"DataRange1d\"},{\"attributes\":{\"fill_color\":{\"value\":\"red\"},\"line_color\":{\"value\":\"red\"},\"size\":{\"units\":\"screen\",\"value\":5},\"x\":{\"field\":\"x\"},\"y\":{\"field\":\"y\"}},\"id\":\"6757\",\"type\":\"Circle\"},{\"attributes\":{},\"id\":\"7159\",\"type\":\"Selection\"},{\"attributes\":{\"axis\":{\"id\":\"6707\"},\"grid_line_color\":null,\"ticker\":null},\"id\":\"6710\",\"type\":\"Grid\"},{\"attributes\":{\"source\":{\"id\":\"6729\"}},\"id\":\"6733\",\"type\":\"CDSView\"},{\"attributes\":{\"active_drag\":\"auto\",\"active_inspect\":\"auto\",\"active_multi\":null,\"active_scroll\":\"auto\",\"active_tap\":\"auto\",\"tools\":[{\"id\":\"6715\"},{\"id\":\"6716\"},{\"id\":\"6717\"},{\"id\":\"6718\"},{\"id\":\"6719\"},{\"id\":\"6720\"}]},\"id\":\"6722\",\"type\":\"Toolbar\"},{\"attributes\":{\"days\":[1,8,15,22]},\"id\":\"6745\",\"type\":\"DaysTicker\"},{\"attributes\":{\"text\":\"Candidate Sentiment - 2012 - 30 Days Prior to Election\"},\"id\":\"6697\",\"type\":\"Title\"},{\"attributes\":{\"days\":[1,2,3,4,5,6,7,8,9,10,11,12,13,14,15,16,17,18,19,20,21,22,23,24,25,26,27,28,29,30,31]},\"id\":\"6743\",\"type\":\"DaysTicker\"},{\"attributes\":{},\"id\":\"6703\",\"type\":\"LinearScale\"},{\"attributes\":{\"data\":{\"x\":{\"__ndarray__\":\"AADAgbenc0IAAIDnCahzQgAAQE1cqHNCAAAAs66oc0IAAMAYAalzQgAAgH5TqXNCAABA5KWpc0IAAABK+KlzQgAAwK9KqnNCAACAFZ2qc0IAAEB776pzQgAAAOFBq3NCAADARpSrc0IAAICs5qtzQgAAQBI5rHNCAAAAeIusc0I=\",\"dtype\":\"float64\",\"order\":\"little\",\"shape\":[16]},\"y\":{\"__ndarray__\":\"xSCwcmiR/T/y0k1iEFj9PzvfT42Xbv4/FK5H4XoU/j8hsHJoke38P+xRuB6F6/0/16NwPQrX+z/HSzeJQWD9P5HtfD81Xv4/+n5qvHST/D+cxCCwcmj9P7Kd76fGS/8/kxgEVg4t/j8UrkfhehT+P4ts5/up8f4/O99PjZdu/j8=\",\"dtype\":\"float64\",\"order\":\"little\",\"shape\":[16]}},\"selected\":{\"id\":\"6787\"},\"selection_policy\":{\"id\":\"6786\"}},\"id\":\"6756\",\"type\":\"ColumnDataSource\"},{\"attributes\":{\"overlay\":{\"id\":\"6721\"}},\"id\":\"6717\",\"type\":\"BoxZoomTool\"},{\"attributes\":{},\"id\":\"6715\",\"type\":\"PanTool\"},{\"attributes\":{\"line_alpha\":0.6,\"line_color\":\"red\",\"line_width\":4,\"x\":{\"field\":\"x\"},\"y\":{\"field\":\"y\"}},\"id\":\"6730\",\"type\":\"Line\"},{\"attributes\":{\"label\":{\"value\":\"Romney (1.86238)\"},\"renderers\":[{\"id\":\"6732\"}]},\"id\":\"6755\",\"type\":\"LegendItem\"},{\"attributes\":{\"axis_label\":\"Date\",\"formatter\":{\"id\":\"6737\"},\"ticker\":{\"id\":\"6708\"}},\"id\":\"6707\",\"type\":\"DatetimeAxis\"},{\"attributes\":{},\"id\":\"6712\",\"type\":\"BasicTicker\"},{\"attributes\":{\"data\":{\"x\":{\"__ndarray__\":\"AADAgbenc0IAAIDnCahzQgAAQE1cqHNCAAAAs66oc0IAAMAYAalzQgAAgH5TqXNCAABA5KWpc0IAAABK+KlzQgAAwK9KqnNCAACAFZ2qc0IAAEB776pzQgAAAOFBq3NCAADARpSrc0IAAICs5qtzQgAAQBI5rHNCAAAAeIusc0I=\",\"dtype\":\"float64\",\"order\":\"little\",\"shape\":[16]},\"y\":{\"__ndarray__\":\"mpmZmZmZ/T/2KFyPwvX8Pxsv3SQGgf0/I9v5fmq8/D+6SQwCK4f+Pz81XrpJDP4/zczMzMzM/D/pJjEIrBz+P5qZmZmZmf0//Knx0k1i/D+LbOf7qfH+Pxsv3SQGgf0/ke18PzVe/j8OLbKd76f+P65H4XoUrv8/ZDvfT42X/j8=\",\"dtype\":\"float64\",\"order\":\"little\",\"shape\":[16]}},\"selected\":{\"id\":\"6789\"},\"selection_policy\":{\"id\":\"6788\"}},\"id\":\"6761\",\"type\":\"ColumnDataSource\"},{\"attributes\":{\"items\":[{\"id\":\"6755\"},{\"id\":\"6790\"}],\"location\":\"bottom_right\"},\"id\":\"6754\",\"type\":\"Legend\"},{\"attributes\":{},\"id\":\"6720\",\"type\":\"HelpTool\"},{\"attributes\":{},\"id\":\"6753\",\"type\":\"Selection\"},{\"attributes\":{},\"id\":\"6718\",\"type\":\"SaveTool\"},{\"attributes\":{\"data_source\":{\"id\":\"6729\"},\"glyph\":{\"id\":\"6730\"},\"hover_glyph\":null,\"muted_glyph\":null,\"nonselection_glyph\":{\"id\":\"6731\"},\"selection_glyph\":null,\"view\":{\"id\":\"6733\"}},\"id\":\"6732\",\"type\":\"GlyphRenderer\"},{\"attributes\":{},\"id\":\"6719\",\"type\":\"ResetTool\"},{\"attributes\":{},\"id\":\"6752\",\"type\":\"UnionRenderers\"},{\"attributes\":{},\"id\":\"6705\",\"type\":\"LinearScale\"},{\"attributes\":{\"num_minor_ticks\":5,\"tickers\":[{\"id\":\"6740\"},{\"id\":\"6741\"},{\"id\":\"6742\"},{\"id\":\"6743\"},{\"id\":\"6744\"},{\"id\":\"6745\"},{\"id\":\"6746\"},{\"id\":\"6747\"},{\"id\":\"6748\"},{\"id\":\"6749\"},{\"id\":\"6750\"},{\"id\":\"6751\"}]},\"id\":\"6708\",\"type\":\"DatetimeTicker\"},{\"attributes\":{},\"id\":\"6751\",\"type\":\"YearsTicker\"},{\"attributes\":{},\"id\":\"6789\",\"type\":\"Selection\"},{\"attributes\":{},\"id\":\"6786\",\"type\":\"UnionRenderers\"},{\"attributes\":{\"base\":24,\"mantissas\":[1,2,4,6,8,12],\"max_interval\":43200000.0,\"min_interval\":3600000.0,\"num_minor_ticks\":0},\"id\":\"6742\",\"type\":\"AdaptiveTicker\"},{\"attributes\":{},\"id\":\"6788\",\"type\":\"UnionRenderers\"},{\"attributes\":{},\"id\":\"6716\",\"type\":\"WheelZoomTool\"}],\"root_ids\":[\"6696\"]},\"title\":\"Bokeh Application\",\"version\":\"2.1.1\"}};\n",
       "  var render_items = [{\"docid\":\"155e182f-b06d-496b-b554-1a38688fc009\",\"root_ids\":[\"6696\"],\"roots\":{\"6696\":\"d1736620-bf6d-4700-9e6b-7eae3344e2eb\"}}];\n",
       "  root.Bokeh.embed.embed_items_notebook(docs_json, render_items);\n",
       "\n",
       "  }\n",
       "  if (root.Bokeh !== undefined) {\n",
       "    embed_document(root);\n",
       "  } else {\n",
       "    var attempts = 0;\n",
       "    var timer = setInterval(function(root) {\n",
       "      if (root.Bokeh !== undefined) {\n",
       "        clearInterval(timer);\n",
       "        embed_document(root);\n",
       "      } else {\n",
       "        attempts++;\n",
       "        if (attempts > 100) {\n",
       "          clearInterval(timer);\n",
       "          console.log(\"Bokeh: ERROR: Unable to run BokehJS code because BokehJS library is missing\");\n",
       "        }\n",
       "      }\n",
       "    }, 10, root)\n",
       "  }\n",
       "})(window);"
      ],
      "application/vnd.bokehjs_exec.v0+json": ""
     },
     "metadata": {
      "application/vnd.bokehjs_exec.v0+json": {
       "id": "6696"
      }
     },
     "output_type": "display_data"
    }
   ],
   "source": [
    "df_obama = get_plot_data('data2/sentiment/candidate/2012/obama/2012_obama.csv')\n",
    "df_romney = get_plot_data('data2/sentiment/candidate/2012/romney/2012_romney.csv')\n",
    "\n",
    "plot_chart(df_obama, df_romney, 'Romney', 'Obama', \"Candidate Sentiment - 2012 - 30 Days Prior to Election\")"
   ]
  },
  {
   "cell_type": "code",
   "execution_count": null,
   "metadata": {},
   "outputs": [],
   "source": []
  },
  {
   "cell_type": "code",
   "execution_count": 24,
   "metadata": {},
   "outputs": [
    {
     "data": {
      "text/html": [
       "\n",
       "\n",
       "\n",
       "\n",
       "\n",
       "\n",
       "  <div class=\"bk-root\" id=\"d65acee6-b865-40f3-a1ee-939488cdc680\" data-root-id=\"7316\"></div>\n"
      ]
     },
     "metadata": {},
     "output_type": "display_data"
    },
    {
     "data": {
      "application/javascript": [
       "(function(root) {\n",
       "  function embed_document(root) {\n",
       "    \n",
       "  var docs_json = {\"7b3e23d6-3adb-4e25-b03a-9d84a801a02d\":{\"roots\":{\"references\":[{\"attributes\":{\"below\":[{\"id\":\"7327\"}],\"center\":[{\"id\":\"7330\"},{\"id\":\"7334\"},{\"id\":\"7374\"}],\"left\":[{\"id\":\"7331\"}],\"plot_height\":350,\"plot_width\":900,\"renderers\":[{\"id\":\"7352\"},{\"id\":\"7379\"},{\"id\":\"7384\"},{\"id\":\"7414\"}],\"title\":{\"id\":\"7317\"},\"toolbar\":{\"id\":\"7342\"},\"x_range\":{\"id\":\"7319\"},\"x_scale\":{\"id\":\"7323\"},\"y_range\":{\"id\":\"7321\"},\"y_scale\":{\"id\":\"7325\"}},\"id\":\"7316\",\"subtype\":\"Figure\",\"type\":\"Plot\"},{\"attributes\":{\"items\":[{\"id\":\"7375\"},{\"id\":\"7410\"}],\"location\":\"bottom_right\"},\"id\":\"7374\",\"type\":\"Legend\"},{\"attributes\":{\"days\":[1,2,3,4,5,6,7,8,9,10,11,12,13,14,15,16,17,18,19,20,21,22,23,24,25,26,27,28,29,30,31]},\"id\":\"7363\",\"type\":\"DaysTicker\"},{\"attributes\":{\"label\":{\"value\":\"Biden (1.80865)\"},\"renderers\":[{\"id\":\"7384\"}]},\"id\":\"7410\",\"type\":\"LegendItem\"},{\"attributes\":{},\"id\":\"7373\",\"type\":\"Selection\"},{\"attributes\":{\"source\":{\"id\":\"7381\"}},\"id\":\"7385\",\"type\":\"CDSView\"},{\"attributes\":{},\"id\":\"7332\",\"type\":\"BasicTicker\"},{\"attributes\":{\"months\":[0,1,2,3,4,5,6,7,8,9,10,11]},\"id\":\"7367\",\"type\":\"MonthsTicker\"},{\"attributes\":{\"source\":{\"id\":\"7411\"}},\"id\":\"7415\",\"type\":\"CDSView\"},{\"attributes\":{},\"id\":\"7407\",\"type\":\"Selection\"},{\"attributes\":{\"fill_alpha\":{\"value\":0.1},\"fill_color\":{\"value\":\"blue\"},\"line_alpha\":{\"value\":0.1},\"line_color\":{\"value\":\"blue\"},\"size\":{\"units\":\"screen\",\"value\":5},\"x\":{\"field\":\"x\"},\"y\":{\"field\":\"y\"}},\"id\":\"7413\",\"type\":\"Circle\"},{\"attributes\":{},\"id\":\"7406\",\"type\":\"UnionRenderers\"},{\"attributes\":{\"axis\":{\"id\":\"7327\"},\"grid_line_color\":null,\"ticker\":null},\"id\":\"7330\",\"type\":\"Grid\"},{\"attributes\":{},\"id\":\"7357\",\"type\":\"DatetimeTickFormatter\"},{\"attributes\":{\"axis_label\":\"Date\",\"formatter\":{\"id\":\"7357\"},\"ticker\":{\"id\":\"7328\"}},\"id\":\"7327\",\"type\":\"DatetimeAxis\"},{\"attributes\":{\"line_alpha\":0.1,\"line_color\":\"red\",\"line_width\":4,\"x\":{\"field\":\"x\"},\"y\":{\"field\":\"y\"}},\"id\":\"7351\",\"type\":\"Line\"},{\"attributes\":{\"data_source\":{\"id\":\"7411\"},\"glyph\":{\"id\":\"7412\"},\"hover_glyph\":null,\"muted_glyph\":null,\"nonselection_glyph\":{\"id\":\"7413\"},\"selection_glyph\":null,\"view\":{\"id\":\"7415\"}},\"id\":\"7414\",\"type\":\"GlyphRenderer\"},{\"attributes\":{\"months\":[0,4,8]},\"id\":\"7369\",\"type\":\"MonthsTicker\"},{\"attributes\":{},\"id\":\"7408\",\"type\":\"UnionRenderers\"},{\"attributes\":{},\"id\":\"7319\",\"type\":\"DataRange1d\"},{\"attributes\":{\"bottom_units\":\"screen\",\"fill_alpha\":0.5,\"fill_color\":\"lightgrey\",\"left_units\":\"screen\",\"level\":\"overlay\",\"line_alpha\":1.0,\"line_color\":\"black\",\"line_dash\":[4,4],\"line_width\":2,\"right_units\":\"screen\",\"top_units\":\"screen\"},\"id\":\"7341\",\"type\":\"BoxAnnotation\"},{\"attributes\":{},\"id\":\"7335\",\"type\":\"PanTool\"},{\"attributes\":{},\"id\":\"7325\",\"type\":\"LinearScale\"},{\"attributes\":{\"fill_color\":{\"value\":\"blue\"},\"line_color\":{\"value\":\"blue\"},\"size\":{\"units\":\"screen\",\"value\":5},\"x\":{\"field\":\"x\"},\"y\":{\"field\":\"y\"}},\"id\":\"7412\",\"type\":\"Circle\"},{\"attributes\":{\"base\":60,\"mantissas\":[1,2,5,10,15,20,30],\"max_interval\":1800000.0,\"min_interval\":1000.0,\"num_minor_ticks\":0},\"id\":\"7361\",\"type\":\"AdaptiveTicker\"},{\"attributes\":{},\"id\":\"7371\",\"type\":\"YearsTicker\"},{\"attributes\":{\"data_source\":{\"id\":\"7376\"},\"glyph\":{\"id\":\"7377\"},\"hover_glyph\":null,\"muted_glyph\":null,\"nonselection_glyph\":{\"id\":\"7378\"},\"selection_glyph\":null,\"view\":{\"id\":\"7380\"}},\"id\":\"7379\",\"type\":\"GlyphRenderer\"},{\"attributes\":{},\"id\":\"7355\",\"type\":\"BasicTickFormatter\"},{\"attributes\":{},\"id\":\"7340\",\"type\":\"HelpTool\"},{\"attributes\":{\"line_alpha\":0.1,\"line_color\":\"blue\",\"line_width\":4,\"x\":{\"field\":\"x\"},\"y\":{\"field\":\"y\"}},\"id\":\"7383\",\"type\":\"Line\"},{\"attributes\":{},\"id\":\"7323\",\"type\":\"LinearScale\"},{\"attributes\":{\"data\":{\"x\":{\"__ndarray__\":\"AACAQYkld0IAAECn2yV3QgAAAA0uJndCAADAcoAmd0IAAIDY0iZ3QgAAQD4lJ3dCAAAApHcnd0IAAMAJyid3QgAAgG8cKHdCAABA1W4od0IAAAA7wSh3QgAAwKATKXdCAACABmYpd0IAAEBsuCl3QgAAANIKKndCAADAN10qd0IAAICdryp3QgAAQAMCK3dCAAAAaVQrd0IAAMDOpit3QgAAgDT5K3dCAABAmkssd0IAAAAAnix3QgAAwGXwLHdCAACAy0Itd0IAAEAxlS13QgAAAJfnLXdCAADA/Dkud0IAAIBijC53QgAAQMjeLndCAAAALjEvd0I=\",\"dtype\":\"float64\",\"order\":\"little\",\"shape\":[31]},\"y\":{\"__ndarray__\":\"1XjpJjEI/D/pJjEIrBwCQEoMAiuHFv0/AiuHFtnOA0CamZmZmZn9P4lBYOXQIvs/yXa+nxovBUA9CtejcD32P5huEoPAyvU/JQaBlUOL9D+yne+nxksBQCUGgZVDiwJAObTIdr6f+j+HFtnO91P3PxKDwMqhRf4/qMZLN4lB9D8bL90kBoH9P8dLN4lBYAVApHA9Ctej/D9kO99PjZcAQGQ730+Nl/o/vHSTGARW/j9MN4lBYOUAQHWTGARWDvk/fT81XrpJ/D8j2/l+arwAQM/3U+Olm/w/qMZLN4lB/D/jpZvEILD+P42XbhKDwPY/NV66SQwC/z8=\",\"dtype\":\"float64\",\"order\":\"little\",\"shape\":[31]}},\"selected\":{\"id\":\"7409\"},\"selection_policy\":{\"id\":\"7408\"}},\"id\":\"7381\",\"type\":\"ColumnDataSource\"},{\"attributes\":{\"overlay\":{\"id\":\"7341\"}},\"id\":\"7337\",\"type\":\"BoxZoomTool\"},{\"attributes\":{\"fill_alpha\":{\"value\":0.1},\"fill_color\":{\"value\":\"red\"},\"line_alpha\":{\"value\":0.1},\"line_color\":{\"value\":\"red\"},\"size\":{\"units\":\"screen\",\"value\":5},\"x\":{\"field\":\"x\"},\"y\":{\"field\":\"y\"}},\"id\":\"7378\",\"type\":\"Circle\"},{\"attributes\":{\"base\":24,\"mantissas\":[1,2,4,6,8,12],\"max_interval\":43200000.0,\"min_interval\":3600000.0,\"num_minor_ticks\":0},\"id\":\"7362\",\"type\":\"AdaptiveTicker\"},{\"attributes\":{\"source\":{\"id\":\"7376\"}},\"id\":\"7380\",\"type\":\"CDSView\"},{\"attributes\":{\"active_drag\":\"auto\",\"active_inspect\":\"auto\",\"active_multi\":null,\"active_scroll\":\"auto\",\"active_tap\":\"auto\",\"tools\":[{\"id\":\"7335\"},{\"id\":\"7336\"},{\"id\":\"7337\"},{\"id\":\"7338\"},{\"id\":\"7339\"},{\"id\":\"7340\"}]},\"id\":\"7342\",\"type\":\"Toolbar\"},{\"attributes\":{\"data_source\":{\"id\":\"7381\"},\"glyph\":{\"id\":\"7382\"},\"hover_glyph\":null,\"muted_glyph\":null,\"nonselection_glyph\":{\"id\":\"7383\"},\"selection_glyph\":null,\"view\":{\"id\":\"7385\"}},\"id\":\"7384\",\"type\":\"GlyphRenderer\"},{\"attributes\":{\"num_minor_ticks\":5,\"tickers\":[{\"id\":\"7360\"},{\"id\":\"7361\"},{\"id\":\"7362\"},{\"id\":\"7363\"},{\"id\":\"7364\"},{\"id\":\"7365\"},{\"id\":\"7366\"},{\"id\":\"7367\"},{\"id\":\"7368\"},{\"id\":\"7369\"},{\"id\":\"7370\"},{\"id\":\"7371\"}]},\"id\":\"7328\",\"type\":\"DatetimeTicker\"},{\"attributes\":{},\"id\":\"7409\",\"type\":\"Selection\"},{\"attributes\":{\"axis\":{\"id\":\"7331\"},\"dimension\":1,\"grid_line_alpha\":0.5,\"ticker\":null},\"id\":\"7334\",\"type\":\"Grid\"},{\"attributes\":{\"days\":[1,8,15,22]},\"id\":\"7365\",\"type\":\"DaysTicker\"},{\"attributes\":{\"data\":{\"x\":{\"__ndarray__\":\"AACAQYkld0IAAECn2yV3QgAAAA0uJndCAADAcoAmd0IAAIDY0iZ3QgAAQD4lJ3dCAAAApHcnd0IAAMAJyid3QgAAgG8cKHdCAABA1W4od0IAAAA7wSh3QgAAwKATKXdCAACABmYpd0IAAEBsuCl3QgAAANIKKndCAADAN10qd0IAAICdryp3QgAAQAMCK3dCAAAAaVQrd0IAAMDOpit3QgAAgDT5K3dCAABAmkssd0IAAAAAnix3QgAAwGXwLHdCAACAy0Itd0IAAEAxlS13QgAAAJfnLXdCAADA/Dkud0IAAIBijC53QgAAQMjeLndCAAAALjEvd0I=\",\"dtype\":\"float64\",\"order\":\"little\",\"shape\":[31]},\"y\":{\"__ndarray__\":\"1XjpJjEI/D/pJjEIrBwCQEoMAiuHFv0/AiuHFtnOA0CamZmZmZn9P4lBYOXQIvs/yXa+nxovBUA9CtejcD32P5huEoPAyvU/JQaBlUOL9D+yne+nxksBQCUGgZVDiwJAObTIdr6f+j+HFtnO91P3PxKDwMqhRf4/qMZLN4lB9D8bL90kBoH9P8dLN4lBYAVApHA9Ctej/D9kO99PjZcAQGQ730+Nl/o/vHSTGARW/j9MN4lBYOUAQHWTGARWDvk/fT81XrpJ/D8j2/l+arwAQM/3U+Olm/w/qMZLN4lB/D/jpZvEILD+P42XbhKDwPY/NV66SQwC/z8=\",\"dtype\":\"float64\",\"order\":\"little\",\"shape\":[31]}},\"selected\":{\"id\":\"7805\"},\"selection_policy\":{\"id\":\"7804\"}},\"id\":\"7411\",\"type\":\"ColumnDataSource\"},{\"attributes\":{\"axis_label\":\"Sentiment Score\",\"formatter\":{\"id\":\"7355\"},\"ticker\":{\"id\":\"7332\"}},\"id\":\"7331\",\"type\":\"LinearAxis\"},{\"attributes\":{\"data\":{\"x\":{\"__ndarray__\":\"AACAQYkld0IAAECn2yV3QgAAAA0uJndCAADAcoAmd0IAAIDY0iZ3QgAAQD4lJ3dCAAAApHcnd0IAAMAJyid3QgAAgG8cKHdCAABA1W4od0IAAAA7wSh3QgAAwKATKXdCAACABmYpd0IAAEBsuCl3QgAAANIKKndCAADAN10qd0IAAICdryp3QgAAQAMCK3dCAAAAaVQrd0IAAMDOpit3QgAAgDT5K3dCAABAmkssd0IAAAAAnix3QgAAwGXwLHdCAACAy0Itd0IAAEAxlS13QgAAAJfnLXdCAADA/Dkud0IAAIBijC53QgAAQMjeLndCAAAALjEvd0I=\",\"dtype\":\"float64\",\"order\":\"little\",\"shape\":[31]},\"y\":{\"__ndarray__\":\"lkOLbOf7/T9xPQrXo3D9P42XbhKDwPo/2c73U+Ol9z+uR+F6FK73P65H4XoUrvs/iUFg5dAi9z/LoUW28/38P2IQWDm0yPo/xSCwcmiR/T8X2c73U+P9P+F6FK5H4f4/6SYxCKwc+j9eukkMAisBQC2yne+nxv8/XrpJDAIr+z9eukkMAiv/P1K4HoXrUfg/yXa+nxovAUBg5dAi2/n6P2Q730+Nl/o/xSCwcmiRAUDJdr6fGi/9P6JFtvP91Pg/8KfGSzeJ/T9kO99PjZf+PycxCKwcWvw/y6FFtvP9/D9g5dAi2/n+P5HtfD81Xv4/4XoUrkfh/j8=\",\"dtype\":\"float64\",\"order\":\"little\",\"shape\":[31]}},\"selected\":{\"id\":\"7373\"},\"selection_policy\":{\"id\":\"7372\"}},\"id\":\"7349\",\"type\":\"ColumnDataSource\"},{\"attributes\":{\"data\":{\"x\":{\"__ndarray__\":\"AACAQYkld0IAAECn2yV3QgAAAA0uJndCAADAcoAmd0IAAIDY0iZ3QgAAQD4lJ3dCAAAApHcnd0IAAMAJyid3QgAAgG8cKHdCAABA1W4od0IAAAA7wSh3QgAAwKATKXdCAACABmYpd0IAAEBsuCl3QgAAANIKKndCAADAN10qd0IAAICdryp3QgAAQAMCK3dCAAAAaVQrd0IAAMDOpit3QgAAgDT5K3dCAABAmkssd0IAAAAAnix3QgAAwGXwLHdCAACAy0Itd0IAAEAxlS13QgAAAJfnLXdCAADA/Dkud0IAAIBijC53QgAAQMjeLndCAAAALjEvd0I=\",\"dtype\":\"float64\",\"order\":\"little\",\"shape\":[31]},\"y\":{\"__ndarray__\":\"lkOLbOf7/T9xPQrXo3D9P42XbhKDwPo/2c73U+Ol9z+uR+F6FK73P65H4XoUrvs/iUFg5dAi9z/LoUW28/38P2IQWDm0yPo/xSCwcmiR/T8X2c73U+P9P+F6FK5H4f4/6SYxCKwc+j9eukkMAisBQC2yne+nxv8/XrpJDAIr+z9eukkMAiv/P1K4HoXrUfg/yXa+nxovAUBg5dAi2/n6P2Q730+Nl/o/xSCwcmiRAUDJdr6fGi/9P6JFtvP91Pg/8KfGSzeJ/T9kO99PjZf+PycxCKwcWvw/y6FFtvP9/D9g5dAi2/n+P5HtfD81Xv4/4XoUrkfh/j8=\",\"dtype\":\"float64\",\"order\":\"little\",\"shape\":[31]}},\"selected\":{\"id\":\"7407\"},\"selection_policy\":{\"id\":\"7406\"}},\"id\":\"7376\",\"type\":\"ColumnDataSource\"},{\"attributes\":{\"label\":{\"value\":\"Trump (1.79858)\"},\"renderers\":[{\"id\":\"7352\"}]},\"id\":\"7375\",\"type\":\"LegendItem\"},{\"attributes\":{\"data_source\":{\"id\":\"7349\"},\"glyph\":{\"id\":\"7350\"},\"hover_glyph\":null,\"muted_glyph\":null,\"nonselection_glyph\":{\"id\":\"7351\"},\"selection_glyph\":null,\"view\":{\"id\":\"7353\"}},\"id\":\"7352\",\"type\":\"GlyphRenderer\"},{\"attributes\":{},\"id\":\"7336\",\"type\":\"WheelZoomTool\"},{\"attributes\":{\"days\":[1,15]},\"id\":\"7366\",\"type\":\"DaysTicker\"},{\"attributes\":{\"months\":[0,6]},\"id\":\"7370\",\"type\":\"MonthsTicker\"},{\"attributes\":{},\"id\":\"7338\",\"type\":\"SaveTool\"},{\"attributes\":{},\"id\":\"7372\",\"type\":\"UnionRenderers\"},{\"attributes\":{},\"id\":\"7804\",\"type\":\"UnionRenderers\"},{\"attributes\":{},\"id\":\"7339\",\"type\":\"ResetTool\"},{\"attributes\":{\"text\":\"Candidate|Economy - Last 30 Days\"},\"id\":\"7317\",\"type\":\"Title\"},{\"attributes\":{\"line_alpha\":0.6,\"line_color\":\"blue\",\"line_width\":4,\"x\":{\"field\":\"x\"},\"y\":{\"field\":\"y\"}},\"id\":\"7382\",\"type\":\"Line\"},{\"attributes\":{\"fill_color\":{\"value\":\"red\"},\"line_color\":{\"value\":\"red\"},\"size\":{\"units\":\"screen\",\"value\":5},\"x\":{\"field\":\"x\"},\"y\":{\"field\":\"y\"}},\"id\":\"7377\",\"type\":\"Circle\"},{\"attributes\":{\"mantissas\":[1,2,5],\"max_interval\":500.0,\"num_minor_ticks\":0},\"id\":\"7360\",\"type\":\"AdaptiveTicker\"},{\"attributes\":{},\"id\":\"7805\",\"type\":\"Selection\"},{\"attributes\":{\"days\":[1,4,7,10,13,16,19,22,25,28]},\"id\":\"7364\",\"type\":\"DaysTicker\"},{\"attributes\":{\"months\":[0,2,4,6,8,10]},\"id\":\"7368\",\"type\":\"MonthsTicker\"},{\"attributes\":{},\"id\":\"7321\",\"type\":\"DataRange1d\"},{\"attributes\":{\"line_alpha\":0.6,\"line_color\":\"red\",\"line_width\":4,\"x\":{\"field\":\"x\"},\"y\":{\"field\":\"y\"}},\"id\":\"7350\",\"type\":\"Line\"},{\"attributes\":{\"source\":{\"id\":\"7349\"}},\"id\":\"7353\",\"type\":\"CDSView\"}],\"root_ids\":[\"7316\"]},\"title\":\"Bokeh Application\",\"version\":\"2.1.1\"}};\n",
       "  var render_items = [{\"docid\":\"7b3e23d6-3adb-4e25-b03a-9d84a801a02d\",\"root_ids\":[\"7316\"],\"roots\":{\"7316\":\"d65acee6-b865-40f3-a1ee-939488cdc680\"}}];\n",
       "  root.Bokeh.embed.embed_items_notebook(docs_json, render_items);\n",
       "\n",
       "  }\n",
       "  if (root.Bokeh !== undefined) {\n",
       "    embed_document(root);\n",
       "  } else {\n",
       "    var attempts = 0;\n",
       "    var timer = setInterval(function(root) {\n",
       "      if (root.Bokeh !== undefined) {\n",
       "        clearInterval(timer);\n",
       "        embed_document(root);\n",
       "      } else {\n",
       "        attempts++;\n",
       "        if (attempts > 100) {\n",
       "          clearInterval(timer);\n",
       "          console.log(\"Bokeh: ERROR: Unable to run BokehJS code because BokehJS library is missing\");\n",
       "        }\n",
       "      }\n",
       "    }, 10, root)\n",
       "  }\n",
       "})(window);"
      ],
      "application/vnd.bokehjs_exec.v0+json": ""
     },
     "metadata": {
      "application/vnd.bokehjs_exec.v0+json": {
       "id": "7316"
      }
     },
     "output_type": "display_data"
    }
   ],
   "source": [
    "df_trump_econ = get_plot_data('data2/sentiment/econ/trump/2020_trump economy.csv')\n",
    "df_biden_econ = get_plot_data('data2/sentiment/econ/biden/2020_biden economy.csv')\n",
    "\n",
    "plot_chart(df_trump_econ, df_biden_econ, 'Trump', 'Biden', \"Candidate|Economy - Last 30 Days\")"
   ]
  },
  {
   "cell_type": "code",
   "execution_count": 28,
   "metadata": {},
   "outputs": [
    {
     "data": {
      "text/html": [
       "\n",
       "\n",
       "\n",
       "\n",
       "\n",
       "\n",
       "  <div class=\"bk-root\" id=\"0172a07a-0c14-4068-b862-0664e1734ce3\" data-root-id=\"10056\"></div>\n"
      ]
     },
     "metadata": {},
     "output_type": "display_data"
    },
    {
     "data": {
      "application/javascript": [
       "(function(root) {\n",
       "  function embed_document(root) {\n",
       "    \n",
       "  var docs_json = {\"73eebfc1-f3a4-4088-99e4-13a3d9b04560\":{\"roots\":{\"references\":[{\"attributes\":{\"below\":[{\"id\":\"10067\"}],\"center\":[{\"id\":\"10070\"},{\"id\":\"10074\"},{\"id\":\"10114\"}],\"left\":[{\"id\":\"10071\"}],\"plot_height\":350,\"plot_width\":900,\"renderers\":[{\"id\":\"10092\"},{\"id\":\"10119\"},{\"id\":\"10124\"},{\"id\":\"10154\"}],\"title\":{\"id\":\"10057\"},\"toolbar\":{\"id\":\"10082\"},\"x_range\":{\"id\":\"10059\"},\"x_scale\":{\"id\":\"10063\"},\"y_range\":{\"id\":\"10061\"},\"y_scale\":{\"id\":\"10065\"}},\"id\":\"10056\",\"subtype\":\"Figure\",\"type\":\"Plot\"},{\"attributes\":{},\"id\":\"10078\",\"type\":\"SaveTool\"},{\"attributes\":{\"fill_alpha\":{\"value\":0.1},\"fill_color\":{\"value\":\"blue\"},\"line_alpha\":{\"value\":0.1},\"line_color\":{\"value\":\"blue\"},\"size\":{\"units\":\"screen\",\"value\":5},\"x\":{\"field\":\"x\"},\"y\":{\"field\":\"y\"}},\"id\":\"10153\",\"type\":\"Circle\"},{\"attributes\":{\"fill_color\":{\"value\":\"blue\"},\"line_color\":{\"value\":\"blue\"},\"size\":{\"units\":\"screen\",\"value\":5},\"x\":{\"field\":\"x\"},\"y\":{\"field\":\"y\"}},\"id\":\"10152\",\"type\":\"Circle\"},{\"attributes\":{},\"id\":\"10146\",\"type\":\"UnionRenderers\"},{\"attributes\":{\"months\":[0,1,2,3,4,5,6,7,8,9,10,11]},\"id\":\"10107\",\"type\":\"MonthsTicker\"},{\"attributes\":{\"base\":60,\"mantissas\":[1,2,5,10,15,20,30],\"max_interval\":1800000.0,\"min_interval\":1000.0,\"num_minor_ticks\":0},\"id\":\"10101\",\"type\":\"AdaptiveTicker\"},{\"attributes\":{},\"id\":\"10079\",\"type\":\"ResetTool\"},{\"attributes\":{\"label\":{\"value\":\"Trump (1.84619)\"},\"renderers\":[{\"id\":\"10092\"}]},\"id\":\"10115\",\"type\":\"LegendItem\"},{\"attributes\":{},\"id\":\"10148\",\"type\":\"UnionRenderers\"},{\"attributes\":{\"days\":[1,8,15,22]},\"id\":\"10105\",\"type\":\"DaysTicker\"},{\"attributes\":{},\"id\":\"10080\",\"type\":\"HelpTool\"},{\"attributes\":{\"source\":{\"id\":\"10121\"}},\"id\":\"10125\",\"type\":\"CDSView\"},{\"attributes\":{\"months\":[0,6]},\"id\":\"10110\",\"type\":\"MonthsTicker\"},{\"attributes\":{\"line_alpha\":0.1,\"line_color\":\"blue\",\"line_width\":4,\"x\":{\"field\":\"x\"},\"y\":{\"field\":\"y\"}},\"id\":\"10123\",\"type\":\"Line\"},{\"attributes\":{\"data\":{\"x\":{\"__ndarray__\":\"AACAQYkld0IAAECn2yV3QgAAAA0uJndCAADAcoAmd0IAAIDY0iZ3QgAAQD4lJ3dCAAAApHcnd0IAAMAJyid3QgAAgG8cKHdCAABA1W4od0IAAAA7wSh3QgAAwKATKXdCAACABmYpd0IAAEBsuCl3QgAAANIKKndCAADAN10qd0IAAICdryp3QgAAQAMCK3dCAAAAaVQrd0IAAMDOpit3QgAAgDT5K3dCAABAmkssd0IAAAAAnix3QgAAwGXwLHdCAACAy0Itd0IAAEAxlS13QgAAAJfnLXdCAADA/Dkud0IAAIBijC53QgAAQMjeLndCAAAALjEvd0I=\",\"dtype\":\"float64\",\"order\":\"little\",\"shape\":[31]},\"y\":{\"__ndarray__\":\"IbByaJHt/D+YbhKDwMr1P/hT46WbxPw/N4lBYOXQ+j+gGi/dJAb9P4ts5/up8QBAqvHSTWIQ/D8lBoGVQ4v8P1g5tMh2vvs/Di2yne+n/j9vEoPAyqH9P7bz/dR46f4/aJHtfD81+j9kO99PjZf2PwaBlUOLbPc/aJHtfD81+j9QjZduEoMAQLx0kxgEVv4/1XjpJjEI/D+Nl24Sg8D6P7bz/dR46f4/30+Nl24S/z8K16NwPQr7P9V46SYxCPQ/3SQGgZVD/z9MN4lBYOUAQF66SQwCK/8/5/up8dJN8j+LbOf7qfH6P57vp8ZLN/k/ke18PzVe9j8=\",\"dtype\":\"float64\",\"order\":\"little\",\"shape\":[31]}},\"selected\":{\"id\":\"10149\"},\"selection_policy\":{\"id\":\"10148\"}},\"id\":\"10121\",\"type\":\"ColumnDataSource\"},{\"attributes\":{\"days\":[1,15]},\"id\":\"10106\",\"type\":\"DaysTicker\"},{\"attributes\":{\"data_source\":{\"id\":\"10151\"},\"glyph\":{\"id\":\"10152\"},\"hover_glyph\":null,\"muted_glyph\":null,\"nonselection_glyph\":{\"id\":\"10153\"},\"selection_glyph\":null,\"view\":{\"id\":\"10155\"}},\"id\":\"10154\",\"type\":\"GlyphRenderer\"},{\"attributes\":{\"months\":[0,4,8]},\"id\":\"10109\",\"type\":\"MonthsTicker\"},{\"attributes\":{\"active_drag\":\"auto\",\"active_inspect\":\"auto\",\"active_multi\":null,\"active_scroll\":\"auto\",\"active_tap\":\"auto\",\"tools\":[{\"id\":\"10075\"},{\"id\":\"10076\"},{\"id\":\"10077\"},{\"id\":\"10078\"},{\"id\":\"10079\"},{\"id\":\"10080\"}]},\"id\":\"10082\",\"type\":\"Toolbar\"},{\"attributes\":{\"axis\":{\"id\":\"10071\"},\"dimension\":1,\"grid_line_alpha\":0.5,\"ticker\":null},\"id\":\"10074\",\"type\":\"Grid\"},{\"attributes\":{\"label\":{\"value\":\"Biden (1.80865)\"},\"renderers\":[{\"id\":\"10124\"}]},\"id\":\"10150\",\"type\":\"LegendItem\"},{\"attributes\":{\"bottom_units\":\"screen\",\"fill_alpha\":0.5,\"fill_color\":\"lightgrey\",\"left_units\":\"screen\",\"level\":\"overlay\",\"line_alpha\":1.0,\"line_color\":\"black\",\"line_dash\":[4,4],\"line_width\":2,\"right_units\":\"screen\",\"top_units\":\"screen\"},\"id\":\"10081\",\"type\":\"BoxAnnotation\"},{\"attributes\":{\"data_source\":{\"id\":\"10116\"},\"glyph\":{\"id\":\"10117\"},\"hover_glyph\":null,\"muted_glyph\":null,\"nonselection_glyph\":{\"id\":\"10118\"},\"selection_glyph\":null,\"view\":{\"id\":\"10120\"}},\"id\":\"10119\",\"type\":\"GlyphRenderer\"},{\"attributes\":{\"data\":{\"x\":{\"__ndarray__\":\"AACAQYkld0IAAECn2yV3QgAAAA0uJndCAADAcoAmd0IAAIDY0iZ3QgAAQD4lJ3dCAAAApHcnd0IAAMAJyid3QgAAgG8cKHdCAABA1W4od0IAAAA7wSh3QgAAwKATKXdCAACABmYpd0IAAEBsuCl3QgAAANIKKndCAADAN10qd0IAAICdryp3QgAAQAMCK3dCAAAAaVQrd0IAAMDOpit3QgAAgDT5K3dCAABAmkssd0IAAAAAnix3QgAAwGXwLHdCAACAy0Itd0IAAEAxlS13QgAAAJfnLXdCAADA/Dkud0IAAIBijC53QgAAQMjeLndCAAAALjEvd0I=\",\"dtype\":\"float64\",\"order\":\"little\",\"shape\":[31]},\"y\":{\"__ndarray__\":\"0SLb+X5q/D/ufD81Xrr5P2Dl0CLb+fI/aJHtfD81+j+oxks3iUH8Pzm0yHa+nwBAL90kBoGV+z/LoUW28/38Pxsv3SQGgQNAqMZLN4lB/D9oke18PzX+P3npJjEIrPw/L90kBoGV+z99PzVeukkAQDeJQWDl0P4/BoGVQ4ts/z8xCKwcWmT7P+F6FK5H4f4/2c73U+Ol/z83iUFg5dD6P6RwPQrXo/w/O99PjZdu/j8xCKwcWmT7P1g5tMh2vvs/fT81XrpJAEBqvHSTGAQCQHWTGARWDv0/AAAAAAAA/D8ZBFYOLbIBQKrx0k1iEPw/GQRWDi2y/T8=\",\"dtype\":\"float64\",\"order\":\"little\",\"shape\":[31]}},\"selected\":{\"id\":\"10113\"},\"selection_policy\":{\"id\":\"10112\"}},\"id\":\"10089\",\"type\":\"ColumnDataSource\"},{\"attributes\":{},\"id\":\"10072\",\"type\":\"BasicTicker\"},{\"attributes\":{\"source\":{\"id\":\"10116\"}},\"id\":\"10120\",\"type\":\"CDSView\"},{\"attributes\":{\"source\":{\"id\":\"10151\"}},\"id\":\"10155\",\"type\":\"CDSView\"},{\"attributes\":{},\"id\":\"10149\",\"type\":\"Selection\"},{\"attributes\":{\"axis_label\":\"Sentiment Score\",\"formatter\":{\"id\":\"10095\"},\"ticker\":{\"id\":\"10072\"}},\"id\":\"10071\",\"type\":\"LinearAxis\"},{\"attributes\":{\"fill_color\":{\"value\":\"red\"},\"line_color\":{\"value\":\"red\"},\"size\":{\"units\":\"screen\",\"value\":5},\"x\":{\"field\":\"x\"},\"y\":{\"field\":\"y\"}},\"id\":\"10117\",\"type\":\"Circle\"},{\"attributes\":{\"data_source\":{\"id\":\"10121\"},\"glyph\":{\"id\":\"10122\"},\"hover_glyph\":null,\"muted_glyph\":null,\"nonselection_glyph\":{\"id\":\"10123\"},\"selection_glyph\":null,\"view\":{\"id\":\"10125\"}},\"id\":\"10124\",\"type\":\"GlyphRenderer\"},{\"attributes\":{\"days\":[1,4,7,10,13,16,19,22,25,28]},\"id\":\"10104\",\"type\":\"DaysTicker\"},{\"attributes\":{\"data_source\":{\"id\":\"10089\"},\"glyph\":{\"id\":\"10090\"},\"hover_glyph\":null,\"muted_glyph\":null,\"nonselection_glyph\":{\"id\":\"10091\"},\"selection_glyph\":null,\"view\":{\"id\":\"10093\"}},\"id\":\"10092\",\"type\":\"GlyphRenderer\"},{\"attributes\":{\"axis\":{\"id\":\"10067\"},\"grid_line_color\":null,\"ticker\":null},\"id\":\"10070\",\"type\":\"Grid\"},{\"attributes\":{\"line_alpha\":0.6,\"line_color\":\"red\",\"line_width\":4,\"x\":{\"field\":\"x\"},\"y\":{\"field\":\"y\"}},\"id\":\"10090\",\"type\":\"Line\"},{\"attributes\":{\"source\":{\"id\":\"10089\"}},\"id\":\"10093\",\"type\":\"CDSView\"},{\"attributes\":{\"line_alpha\":0.6,\"line_color\":\"blue\",\"line_width\":4,\"x\":{\"field\":\"x\"},\"y\":{\"field\":\"y\"}},\"id\":\"10122\",\"type\":\"Line\"},{\"attributes\":{\"num_minor_ticks\":5,\"tickers\":[{\"id\":\"10100\"},{\"id\":\"10101\"},{\"id\":\"10102\"},{\"id\":\"10103\"},{\"id\":\"10104\"},{\"id\":\"10105\"},{\"id\":\"10106\"},{\"id\":\"10107\"},{\"id\":\"10108\"},{\"id\":\"10109\"},{\"id\":\"10110\"},{\"id\":\"10111\"}]},\"id\":\"10068\",\"type\":\"DatetimeTicker\"},{\"attributes\":{\"line_alpha\":0.1,\"line_color\":\"red\",\"line_width\":4,\"x\":{\"field\":\"x\"},\"y\":{\"field\":\"y\"}},\"id\":\"10091\",\"type\":\"Line\"},{\"attributes\":{},\"id\":\"10095\",\"type\":\"BasicTickFormatter\"},{\"attributes\":{},\"id\":\"10648\",\"type\":\"UnionRenderers\"},{\"attributes\":{\"axis_label\":\"Date\",\"formatter\":{\"id\":\"10097\"},\"ticker\":{\"id\":\"10068\"}},\"id\":\"10067\",\"type\":\"DatetimeAxis\"},{\"attributes\":{},\"id\":\"10065\",\"type\":\"LinearScale\"},{\"attributes\":{\"fill_alpha\":{\"value\":0.1},\"fill_color\":{\"value\":\"red\"},\"line_alpha\":{\"value\":0.1},\"line_color\":{\"value\":\"red\"},\"size\":{\"units\":\"screen\",\"value\":5},\"x\":{\"field\":\"x\"},\"y\":{\"field\":\"y\"}},\"id\":\"10118\",\"type\":\"Circle\"},{\"attributes\":{\"overlay\":{\"id\":\"10081\"}},\"id\":\"10077\",\"type\":\"BoxZoomTool\"},{\"attributes\":{},\"id\":\"10063\",\"type\":\"LinearScale\"},{\"attributes\":{},\"id\":\"10649\",\"type\":\"Selection\"},{\"attributes\":{},\"id\":\"10111\",\"type\":\"YearsTicker\"},{\"attributes\":{\"months\":[0,2,4,6,8,10]},\"id\":\"10108\",\"type\":\"MonthsTicker\"},{\"attributes\":{\"items\":[{\"id\":\"10115\"},{\"id\":\"10150\"}],\"location\":\"bottom_right\"},\"id\":\"10114\",\"type\":\"Legend\"},{\"attributes\":{\"mantissas\":[1,2,5],\"max_interval\":500.0,\"num_minor_ticks\":0},\"id\":\"10100\",\"type\":\"AdaptiveTicker\"},{\"attributes\":{\"base\":24,\"mantissas\":[1,2,4,6,8,12],\"max_interval\":43200000.0,\"min_interval\":3600000.0,\"num_minor_ticks\":0},\"id\":\"10102\",\"type\":\"AdaptiveTicker\"},{\"attributes\":{},\"id\":\"10112\",\"type\":\"UnionRenderers\"},{\"attributes\":{},\"id\":\"10061\",\"type\":\"DataRange1d\"},{\"attributes\":{},\"id\":\"10097\",\"type\":\"DatetimeTickFormatter\"},{\"attributes\":{},\"id\":\"10059\",\"type\":\"DataRange1d\"},{\"attributes\":{\"data\":{\"x\":{\"__ndarray__\":\"AACAQYkld0IAAECn2yV3QgAAAA0uJndCAADAcoAmd0IAAIDY0iZ3QgAAQD4lJ3dCAAAApHcnd0IAAMAJyid3QgAAgG8cKHdCAABA1W4od0IAAAA7wSh3QgAAwKATKXdCAACABmYpd0IAAEBsuCl3QgAAANIKKndCAADAN10qd0IAAICdryp3QgAAQAMCK3dCAAAAaVQrd0IAAMDOpit3QgAAgDT5K3dCAABAmkssd0IAAAAAnix3QgAAwGXwLHdCAACAy0Itd0IAAEAxlS13QgAAAJfnLXdCAADA/Dkud0IAAIBijC53QgAAQMjeLndCAAAALjEvd0I=\",\"dtype\":\"float64\",\"order\":\"little\",\"shape\":[31]},\"y\":{\"__ndarray__\":\"IbByaJHt/D+YbhKDwMr1P/hT46WbxPw/N4lBYOXQ+j+gGi/dJAb9P4ts5/up8QBAqvHSTWIQ/D8lBoGVQ4v8P1g5tMh2vvs/Di2yne+n/j9vEoPAyqH9P7bz/dR46f4/aJHtfD81+j9kO99PjZf2PwaBlUOLbPc/aJHtfD81+j9QjZduEoMAQLx0kxgEVv4/1XjpJjEI/D+Nl24Sg8D6P7bz/dR46f4/30+Nl24S/z8K16NwPQr7P9V46SYxCPQ/3SQGgZVD/z9MN4lBYOUAQF66SQwCK/8/5/up8dJN8j+LbOf7qfH6P57vp8ZLN/k/ke18PzVe9j8=\",\"dtype\":\"float64\",\"order\":\"little\",\"shape\":[31]}},\"selected\":{\"id\":\"10649\"},\"selection_policy\":{\"id\":\"10648\"}},\"id\":\"10151\",\"type\":\"ColumnDataSource\"},{\"attributes\":{},\"id\":\"10147\",\"type\":\"Selection\"},{\"attributes\":{},\"id\":\"10076\",\"type\":\"WheelZoomTool\"},{\"attributes\":{\"text\":\"Candidate|Party - Last 30 Days\"},\"id\":\"10057\",\"type\":\"Title\"},{\"attributes\":{\"data\":{\"x\":{\"__ndarray__\":\"AACAQYkld0IAAECn2yV3QgAAAA0uJndCAADAcoAmd0IAAIDY0iZ3QgAAQD4lJ3dCAAAApHcnd0IAAMAJyid3QgAAgG8cKHdCAABA1W4od0IAAAA7wSh3QgAAwKATKXdCAACABmYpd0IAAEBsuCl3QgAAANIKKndCAADAN10qd0IAAICdryp3QgAAQAMCK3dCAAAAaVQrd0IAAMDOpit3QgAAgDT5K3dCAABAmkssd0IAAAAAnix3QgAAwGXwLHdCAACAy0Itd0IAAEAxlS13QgAAAJfnLXdCAADA/Dkud0IAAIBijC53QgAAQMjeLndCAAAALjEvd0I=\",\"dtype\":\"float64\",\"order\":\"little\",\"shape\":[31]},\"y\":{\"__ndarray__\":\"0SLb+X5q/D/ufD81Xrr5P2Dl0CLb+fI/aJHtfD81+j+oxks3iUH8Pzm0yHa+nwBAL90kBoGV+z/LoUW28/38Pxsv3SQGgQNAqMZLN4lB/D9oke18PzX+P3npJjEIrPw/L90kBoGV+z99PzVeukkAQDeJQWDl0P4/BoGVQ4ts/z8xCKwcWmT7P+F6FK5H4f4/2c73U+Ol/z83iUFg5dD6P6RwPQrXo/w/O99PjZdu/j8xCKwcWmT7P1g5tMh2vvs/fT81XrpJAEBqvHSTGAQCQHWTGARWDv0/AAAAAAAA/D8ZBFYOLbIBQKrx0k1iEPw/GQRWDi2y/T8=\",\"dtype\":\"float64\",\"order\":\"little\",\"shape\":[31]}},\"selected\":{\"id\":\"10147\"},\"selection_policy\":{\"id\":\"10146\"}},\"id\":\"10116\",\"type\":\"ColumnDataSource\"},{\"attributes\":{},\"id\":\"10113\",\"type\":\"Selection\"},{\"attributes\":{\"days\":[1,2,3,4,5,6,7,8,9,10,11,12,13,14,15,16,17,18,19,20,21,22,23,24,25,26,27,28,29,30,31]},\"id\":\"10103\",\"type\":\"DaysTicker\"},{\"attributes\":{},\"id\":\"10075\",\"type\":\"PanTool\"}],\"root_ids\":[\"10056\"]},\"title\":\"Bokeh Application\",\"version\":\"2.1.1\"}};\n",
       "  var render_items = [{\"docid\":\"73eebfc1-f3a4-4088-99e4-13a3d9b04560\",\"root_ids\":[\"10056\"],\"roots\":{\"10056\":\"0172a07a-0c14-4068-b862-0664e1734ce3\"}}];\n",
       "  root.Bokeh.embed.embed_items_notebook(docs_json, render_items);\n",
       "\n",
       "  }\n",
       "  if (root.Bokeh !== undefined) {\n",
       "    embed_document(root);\n",
       "  } else {\n",
       "    var attempts = 0;\n",
       "    var timer = setInterval(function(root) {\n",
       "      if (root.Bokeh !== undefined) {\n",
       "        clearInterval(timer);\n",
       "        embed_document(root);\n",
       "      } else {\n",
       "        attempts++;\n",
       "        if (attempts > 100) {\n",
       "          clearInterval(timer);\n",
       "          console.log(\"Bokeh: ERROR: Unable to run BokehJS code because BokehJS library is missing\");\n",
       "        }\n",
       "      }\n",
       "    }, 10, root)\n",
       "  }\n",
       "})(window);"
      ],
      "application/vnd.bokehjs_exec.v0+json": ""
     },
     "metadata": {
      "application/vnd.bokehjs_exec.v0+json": {
       "id": "10056"
      }
     },
     "output_type": "display_data"
    }
   ],
   "source": [
    "df_trump_party = get_plot_data('data2/sentiment/party/trump/2020_trump republican.csv')\n",
    "df_biden_party = get_plot_data('data2/sentiment/party/biden/2020_biden democrat.csv')\n",
    "\n",
    "plot_chart(df_trump_party, df_biden_party, 'Trump', 'Biden', \"Candidate|Party - Last 30 Days\")"
   ]
  },
  {
   "cell_type": "code",
   "execution_count": 29,
   "metadata": {},
   "outputs": [
    {
     "data": {
      "text/html": [
       "\n",
       "\n",
       "\n",
       "\n",
       "\n",
       "\n",
       "  <div class=\"bk-root\" id=\"b37b4641-a20e-4ee9-b6b5-4e139fb6ae17\" data-root-id=\"10806\"></div>\n"
      ]
     },
     "metadata": {},
     "output_type": "display_data"
    },
    {
     "data": {
      "application/javascript": [
       "(function(root) {\n",
       "  function embed_document(root) {\n",
       "    \n",
       "  var docs_json = {\"ebf78bee-b6e7-4f8b-8b64-0bee8a541f66\":{\"roots\":{\"references\":[{\"attributes\":{\"below\":[{\"id\":\"10817\"}],\"center\":[{\"id\":\"10820\"},{\"id\":\"10824\"},{\"id\":\"10864\"}],\"left\":[{\"id\":\"10821\"}],\"plot_height\":350,\"plot_width\":900,\"renderers\":[{\"id\":\"10842\"},{\"id\":\"10869\"},{\"id\":\"10874\"},{\"id\":\"10904\"}],\"title\":{\"id\":\"10807\"},\"toolbar\":{\"id\":\"10832\"},\"x_range\":{\"id\":\"10809\"},\"x_scale\":{\"id\":\"10813\"},\"y_range\":{\"id\":\"10811\"},\"y_scale\":{\"id\":\"10815\"}},\"id\":\"10806\",\"subtype\":\"Figure\",\"type\":\"Plot\"},{\"attributes\":{\"data\":{\"x\":{\"__ndarray__\":\"AACAQYkld0IAAECn2yV3QgAAAA0uJndCAADAcoAmd0IAAIDY0iZ3QgAAQD4lJ3dCAAAApHcnd0IAAMAJyid3QgAAgG8cKHdCAABA1W4od0IAAAA7wSh3QgAAwKATKXdCAACABmYpd0IAAEBsuCl3QgAAANIKKndCAADAN10qd0IAAICdryp3QgAAQAMCK3dCAAAAaVQrd0IAAMDOpit3QgAAgDT5K3dCAABAmkssd0IAAAAAnix3QgAAwGXwLHdCAACAy0Itd0IAAEAxlS13QgAAAJfnLXdCAADA/Dkud0IAAIBijC53QgAAQMjeLndCAAAALjEvd0I=\",\"dtype\":\"float64\",\"order\":\"little\",\"shape\":[31]},\"y\":{\"__ndarray__\":\"goGBgYGB/T/JUkeIbVoBQJMriMkVxABAiYiIiIiIAEB/6Zd+6Zf+Pzm0yHa+n/o/ozjXMYpz/T/drpUTnun/P0bRWn5AhgRALBaLxWKxAEAAAAAAAAAAQK/l4Ga/EPs/V3M1V3M1/z+hL+gL+oL+P4Sb/UKsKP0/XXTRRRdd/D8LmwOJVtj8PxljjDHGGP8/hFTLOtB2/z/hyw0xIB37PwAAAAAAIP8/QV/QF/QF/T8VKlSoUKH6P9qo72zUd/4/168UqPUr/T/43nvvvff+P1KdJgeZl/o/fN3rXve6/z8EDzzwwAP/P/scUhOMt/4/FK5H4XoU8j8=\",\"dtype\":\"float64\",\"order\":\"little\",\"shape\":[31]}},\"selected\":{\"id\":\"10899\"},\"selection_policy\":{\"id\":\"10898\"}},\"id\":\"10871\",\"type\":\"ColumnDataSource\"},{\"attributes\":{},\"id\":\"10829\",\"type\":\"ResetTool\"},{\"attributes\":{\"data_source\":{\"id\":\"10866\"},\"glyph\":{\"id\":\"10867\"},\"hover_glyph\":null,\"muted_glyph\":null,\"nonselection_glyph\":{\"id\":\"10868\"},\"selection_glyph\":null,\"view\":{\"id\":\"10870\"}},\"id\":\"10869\",\"type\":\"GlyphRenderer\"},{\"attributes\":{\"fill_color\":{\"value\":\"red\"},\"line_color\":{\"value\":\"red\"},\"size\":{\"units\":\"screen\",\"value\":5},\"x\":{\"field\":\"x\"},\"y\":{\"field\":\"y\"}},\"id\":\"10867\",\"type\":\"Circle\"},{\"attributes\":{\"overlay\":{\"id\":\"10831\"}},\"id\":\"10827\",\"type\":\"BoxZoomTool\"},{\"attributes\":{},\"id\":\"10828\",\"type\":\"SaveTool\"},{\"attributes\":{\"bottom_units\":\"screen\",\"fill_alpha\":0.5,\"fill_color\":\"lightgrey\",\"left_units\":\"screen\",\"level\":\"overlay\",\"line_alpha\":1.0,\"line_color\":\"black\",\"line_dash\":[4,4],\"line_width\":2,\"right_units\":\"screen\",\"top_units\":\"screen\"},\"id\":\"10831\",\"type\":\"BoxAnnotation\"},{\"attributes\":{},\"id\":\"10862\",\"type\":\"UnionRenderers\"},{\"attributes\":{\"data_source\":{\"id\":\"10871\"},\"glyph\":{\"id\":\"10872\"},\"hover_glyph\":null,\"muted_glyph\":null,\"nonselection_glyph\":{\"id\":\"10873\"},\"selection_glyph\":null,\"view\":{\"id\":\"10875\"}},\"id\":\"10874\",\"type\":\"GlyphRenderer\"},{\"attributes\":{\"label\":{\"value\":\"Biden (1.80865)\"},\"renderers\":[{\"id\":\"10874\"}]},\"id\":\"10900\",\"type\":\"LegendItem\"},{\"attributes\":{\"line_alpha\":0.1,\"line_color\":\"red\",\"line_width\":4,\"x\":{\"field\":\"x\"},\"y\":{\"field\":\"y\"}},\"id\":\"10841\",\"type\":\"Line\"},{\"attributes\":{},\"id\":\"10847\",\"type\":\"DatetimeTickFormatter\"},{\"attributes\":{\"source\":{\"id\":\"10871\"}},\"id\":\"10875\",\"type\":\"CDSView\"},{\"attributes\":{\"axis\":{\"id\":\"10817\"},\"grid_line_color\":null,\"ticker\":null},\"id\":\"10820\",\"type\":\"Grid\"},{\"attributes\":{\"data\":{\"x\":{\"__ndarray__\":\"AACAQYkld0IAAECn2yV3QgAAAA0uJndCAADAcoAmd0IAAIDY0iZ3QgAAQD4lJ3dCAAAApHcnd0IAAMAJyid3QgAAgG8cKHdCAABA1W4od0IAAAA7wSh3QgAAwKATKXdCAACABmYpd0IAAEBsuCl3QgAAANIKKndCAADAN10qd0IAAICdryp3QgAAQAMCK3dCAAAAaVQrd0IAAMDOpit3QgAAgDT5K3dCAABAmkssd0IAAAAAnix3QgAAwGXwLHdCAACAy0Itd0IAAEAxlS13QgAAAJfnLXdCAADA/Dkud0IAAIBijC53QgAAQMjeLndCAAAALjEvd0I=\",\"dtype\":\"float64\",\"order\":\"little\",\"shape\":[31]},\"y\":{\"__ndarray__\":\"FK5H4XoU/j9xPQrXo3D9P05iEFg5tABAO99PjZdu/j8EVg4tsp37P28Sg8DKof0/PzVeukkM/j8X2c73U+P9P5huEoPAygNAukkMAiuHAED6fmq8dJMCQKjGSzeJQfw/vp8aL90k/j/Xo3A9Ctf7PwisHFpkO/8/iUFg5dAi+z+cxCCwcmj5P28Sg8DKoQFA5/up8dJNAEB56SYxCKz8P/T91HjpJv0/L90kBoGV+z+mm8QgsHL4P6JFtvP91Pw/WmQ730+N+z8/NV66SQz6P+58PzVeuvk/I9v5fmq8/D+0yHa+nxr/P7gehetRuPo/BoGVQ4ts9z8=\",\"dtype\":\"float64\",\"order\":\"little\",\"shape\":[31]}},\"selected\":{\"id\":\"10897\"},\"selection_policy\":{\"id\":\"10896\"}},\"id\":\"10866\",\"type\":\"ColumnDataSource\"},{\"attributes\":{\"months\":[0,1,2,3,4,5,6,7,8,9,10,11]},\"id\":\"10857\",\"type\":\"MonthsTicker\"},{\"attributes\":{},\"id\":\"10826\",\"type\":\"WheelZoomTool\"},{\"attributes\":{},\"id\":\"10896\",\"type\":\"UnionRenderers\"},{\"attributes\":{\"data_source\":{\"id\":\"10901\"},\"glyph\":{\"id\":\"10902\"},\"hover_glyph\":null,\"muted_glyph\":null,\"nonselection_glyph\":{\"id\":\"10903\"},\"selection_glyph\":null,\"view\":{\"id\":\"10905\"}},\"id\":\"10904\",\"type\":\"GlyphRenderer\"},{\"attributes\":{\"days\":[1,2,3,4,5,6,7,8,9,10,11,12,13,14,15,16,17,18,19,20,21,22,23,24,25,26,27,28,29,30,31]},\"id\":\"10853\",\"type\":\"DaysTicker\"},{\"attributes\":{\"months\":[0,6]},\"id\":\"10860\",\"type\":\"MonthsTicker\"},{\"attributes\":{\"axis_label\":\"Sentiment Score\",\"formatter\":{\"id\":\"10845\"},\"ticker\":{\"id\":\"10822\"}},\"id\":\"10821\",\"type\":\"LinearAxis\"},{\"attributes\":{},\"id\":\"10815\",\"type\":\"LinearScale\"},{\"attributes\":{},\"id\":\"10830\",\"type\":\"HelpTool\"},{\"attributes\":{},\"id\":\"11425\",\"type\":\"Selection\"},{\"attributes\":{\"axis\":{\"id\":\"10821\"},\"dimension\":1,\"grid_line_alpha\":0.5,\"ticker\":null},\"id\":\"10824\",\"type\":\"Grid\"},{\"attributes\":{\"label\":{\"value\":\"Trump (1.84723)\"},\"renderers\":[{\"id\":\"10842\"}]},\"id\":\"10865\",\"type\":\"LegendItem\"},{\"attributes\":{\"days\":[1,4,7,10,13,16,19,22,25,28]},\"id\":\"10854\",\"type\":\"DaysTicker\"},{\"attributes\":{\"base\":24,\"mantissas\":[1,2,4,6,8,12],\"max_interval\":43200000.0,\"min_interval\":3600000.0,\"num_minor_ticks\":0},\"id\":\"10852\",\"type\":\"AdaptiveTicker\"},{\"attributes\":{\"items\":[{\"id\":\"10865\"},{\"id\":\"10900\"}],\"location\":\"bottom_right\"},\"id\":\"10864\",\"type\":\"Legend\"},{\"attributes\":{},\"id\":\"10825\",\"type\":\"PanTool\"},{\"attributes\":{\"text\":\"Candidate|Environment - Last 30 Days\"},\"id\":\"10807\",\"type\":\"Title\"},{\"attributes\":{\"source\":{\"id\":\"10901\"}},\"id\":\"10905\",\"type\":\"CDSView\"},{\"attributes\":{\"active_drag\":\"auto\",\"active_inspect\":\"auto\",\"active_multi\":null,\"active_scroll\":\"auto\",\"active_tap\":\"auto\",\"tools\":[{\"id\":\"10825\"},{\"id\":\"10826\"},{\"id\":\"10827\"},{\"id\":\"10828\"},{\"id\":\"10829\"},{\"id\":\"10830\"}]},\"id\":\"10832\",\"type\":\"Toolbar\"},{\"attributes\":{},\"id\":\"10863\",\"type\":\"Selection\"},{\"attributes\":{\"months\":[0,2,4,6,8,10]},\"id\":\"10858\",\"type\":\"MonthsTicker\"},{\"attributes\":{},\"id\":\"10898\",\"type\":\"UnionRenderers\"},{\"attributes\":{\"source\":{\"id\":\"10839\"}},\"id\":\"10843\",\"type\":\"CDSView\"},{\"attributes\":{},\"id\":\"10899\",\"type\":\"Selection\"},{\"attributes\":{\"fill_color\":{\"value\":\"blue\"},\"line_color\":{\"value\":\"blue\"},\"size\":{\"units\":\"screen\",\"value\":5},\"x\":{\"field\":\"x\"},\"y\":{\"field\":\"y\"}},\"id\":\"10902\",\"type\":\"Circle\"},{\"attributes\":{},\"id\":\"10861\",\"type\":\"YearsTicker\"},{\"attributes\":{\"data\":{\"x\":{\"__ndarray__\":\"AACAQYkld0IAAECn2yV3QgAAAA0uJndCAADAcoAmd0IAAIDY0iZ3QgAAQD4lJ3dCAAAApHcnd0IAAMAJyid3QgAAgG8cKHdCAABA1W4od0IAAAA7wSh3QgAAwKATKXdCAACABmYpd0IAAEBsuCl3QgAAANIKKndCAADAN10qd0IAAICdryp3QgAAQAMCK3dCAAAAaVQrd0IAAMDOpit3QgAAgDT5K3dCAABAmkssd0IAAAAAnix3QgAAwGXwLHdCAACAy0Itd0IAAEAxlS13QgAAAJfnLXdCAADA/Dkud0IAAIBijC53QgAAQMjeLndCAAAALjEvd0I=\",\"dtype\":\"float64\",\"order\":\"little\",\"shape\":[31]},\"y\":{\"__ndarray__\":\"FK5H4XoU/j9xPQrXo3D9P05iEFg5tABAO99PjZdu/j8EVg4tsp37P28Sg8DKof0/PzVeukkM/j8X2c73U+P9P5huEoPAygNAukkMAiuHAED6fmq8dJMCQKjGSzeJQfw/vp8aL90k/j/Xo3A9Ctf7PwisHFpkO/8/iUFg5dAi+z+cxCCwcmj5P28Sg8DKoQFA5/up8dJNAEB56SYxCKz8P/T91HjpJv0/L90kBoGV+z+mm8QgsHL4P6JFtvP91Pw/WmQ730+N+z8/NV66SQz6P+58PzVeuvk/I9v5fmq8/D+0yHa+nxr/P7gehetRuPo/BoGVQ4ts9z8=\",\"dtype\":\"float64\",\"order\":\"little\",\"shape\":[31]}},\"selected\":{\"id\":\"10863\"},\"selection_policy\":{\"id\":\"10862\"}},\"id\":\"10839\",\"type\":\"ColumnDataSource\"},{\"attributes\":{},\"id\":\"10897\",\"type\":\"Selection\"},{\"attributes\":{\"fill_alpha\":{\"value\":0.1},\"fill_color\":{\"value\":\"blue\"},\"line_alpha\":{\"value\":0.1},\"line_color\":{\"value\":\"blue\"},\"size\":{\"units\":\"screen\",\"value\":5},\"x\":{\"field\":\"x\"},\"y\":{\"field\":\"y\"}},\"id\":\"10903\",\"type\":\"Circle\"},{\"attributes\":{\"data_source\":{\"id\":\"10839\"},\"glyph\":{\"id\":\"10840\"},\"hover_glyph\":null,\"muted_glyph\":null,\"nonselection_glyph\":{\"id\":\"10841\"},\"selection_glyph\":null,\"view\":{\"id\":\"10843\"}},\"id\":\"10842\",\"type\":\"GlyphRenderer\"},{\"attributes\":{\"fill_alpha\":{\"value\":0.1},\"fill_color\":{\"value\":\"red\"},\"line_alpha\":{\"value\":0.1},\"line_color\":{\"value\":\"red\"},\"size\":{\"units\":\"screen\",\"value\":5},\"x\":{\"field\":\"x\"},\"y\":{\"field\":\"y\"}},\"id\":\"10868\",\"type\":\"Circle\"},{\"attributes\":{\"days\":[1,15]},\"id\":\"10856\",\"type\":\"DaysTicker\"},{\"attributes\":{},\"id\":\"11424\",\"type\":\"UnionRenderers\"},{\"attributes\":{\"base\":60,\"mantissas\":[1,2,5,10,15,20,30],\"max_interval\":1800000.0,\"min_interval\":1000.0,\"num_minor_ticks\":0},\"id\":\"10851\",\"type\":\"AdaptiveTicker\"},{\"attributes\":{\"months\":[0,4,8]},\"id\":\"10859\",\"type\":\"MonthsTicker\"},{\"attributes\":{\"num_minor_ticks\":5,\"tickers\":[{\"id\":\"10850\"},{\"id\":\"10851\"},{\"id\":\"10852\"},{\"id\":\"10853\"},{\"id\":\"10854\"},{\"id\":\"10855\"},{\"id\":\"10856\"},{\"id\":\"10857\"},{\"id\":\"10858\"},{\"id\":\"10859\"},{\"id\":\"10860\"},{\"id\":\"10861\"}]},\"id\":\"10818\",\"type\":\"DatetimeTicker\"},{\"attributes\":{\"days\":[1,8,15,22]},\"id\":\"10855\",\"type\":\"DaysTicker\"},{\"attributes\":{},\"id\":\"10845\",\"type\":\"BasicTickFormatter\"},{\"attributes\":{\"line_alpha\":0.6,\"line_color\":\"red\",\"line_width\":4,\"x\":{\"field\":\"x\"},\"y\":{\"field\":\"y\"}},\"id\":\"10840\",\"type\":\"Line\"},{\"attributes\":{\"axis_label\":\"Date\",\"formatter\":{\"id\":\"10847\"},\"ticker\":{\"id\":\"10818\"}},\"id\":\"10817\",\"type\":\"DatetimeAxis\"},{\"attributes\":{\"line_alpha\":0.6,\"line_color\":\"blue\",\"line_width\":4,\"x\":{\"field\":\"x\"},\"y\":{\"field\":\"y\"}},\"id\":\"10872\",\"type\":\"Line\"},{\"attributes\":{\"data\":{\"x\":{\"__ndarray__\":\"AACAQYkld0IAAECn2yV3QgAAAA0uJndCAADAcoAmd0IAAIDY0iZ3QgAAQD4lJ3dCAAAApHcnd0IAAMAJyid3QgAAgG8cKHdCAABA1W4od0IAAAA7wSh3QgAAwKATKXdCAACABmYpd0IAAEBsuCl3QgAAANIKKndCAADAN10qd0IAAICdryp3QgAAQAMCK3dCAAAAaVQrd0IAAMDOpit3QgAAgDT5K3dCAABAmkssd0IAAAAAnix3QgAAwGXwLHdCAACAy0Itd0IAAEAxlS13QgAAAJfnLXdCAADA/Dkud0IAAIBijC53QgAAQMjeLndCAAAALjEvd0I=\",\"dtype\":\"float64\",\"order\":\"little\",\"shape\":[31]},\"y\":{\"__ndarray__\":\"goGBgYGB/T/JUkeIbVoBQJMriMkVxABAiYiIiIiIAEB/6Zd+6Zf+Pzm0yHa+n/o/ozjXMYpz/T/drpUTnun/P0bRWn5AhgRALBaLxWKxAEAAAAAAAAAAQK/l4Ga/EPs/V3M1V3M1/z+hL+gL+oL+P4Sb/UKsKP0/XXTRRRdd/D8LmwOJVtj8PxljjDHGGP8/hFTLOtB2/z/hyw0xIB37PwAAAAAAIP8/QV/QF/QF/T8VKlSoUKH6P9qo72zUd/4/168UqPUr/T/43nvvvff+P1KdJgeZl/o/fN3rXve6/z8EDzzwwAP/P/scUhOMt/4/FK5H4XoU8j8=\",\"dtype\":\"float64\",\"order\":\"little\",\"shape\":[31]}},\"selected\":{\"id\":\"11425\"},\"selection_policy\":{\"id\":\"11424\"}},\"id\":\"10901\",\"type\":\"ColumnDataSource\"},{\"attributes\":{\"source\":{\"id\":\"10866\"}},\"id\":\"10870\",\"type\":\"CDSView\"},{\"attributes\":{\"line_alpha\":0.1,\"line_color\":\"blue\",\"line_width\":4,\"x\":{\"field\":\"x\"},\"y\":{\"field\":\"y\"}},\"id\":\"10873\",\"type\":\"Line\"},{\"attributes\":{},\"id\":\"10811\",\"type\":\"DataRange1d\"},{\"attributes\":{},\"id\":\"10813\",\"type\":\"LinearScale\"},{\"attributes\":{},\"id\":\"10809\",\"type\":\"DataRange1d\"},{\"attributes\":{\"mantissas\":[1,2,5],\"max_interval\":500.0,\"num_minor_ticks\":0},\"id\":\"10850\",\"type\":\"AdaptiveTicker\"},{\"attributes\":{},\"id\":\"10822\",\"type\":\"BasicTicker\"}],\"root_ids\":[\"10806\"]},\"title\":\"Bokeh Application\",\"version\":\"2.1.1\"}};\n",
       "  var render_items = [{\"docid\":\"ebf78bee-b6e7-4f8b-8b64-0bee8a541f66\",\"root_ids\":[\"10806\"],\"roots\":{\"10806\":\"b37b4641-a20e-4ee9-b6b5-4e139fb6ae17\"}}];\n",
       "  root.Bokeh.embed.embed_items_notebook(docs_json, render_items);\n",
       "\n",
       "  }\n",
       "  if (root.Bokeh !== undefined) {\n",
       "    embed_document(root);\n",
       "  } else {\n",
       "    var attempts = 0;\n",
       "    var timer = setInterval(function(root) {\n",
       "      if (root.Bokeh !== undefined) {\n",
       "        clearInterval(timer);\n",
       "        embed_document(root);\n",
       "      } else {\n",
       "        attempts++;\n",
       "        if (attempts > 100) {\n",
       "          clearInterval(timer);\n",
       "          console.log(\"Bokeh: ERROR: Unable to run BokehJS code because BokehJS library is missing\");\n",
       "        }\n",
       "      }\n",
       "    }, 10, root)\n",
       "  }\n",
       "})(window);"
      ],
      "application/vnd.bokehjs_exec.v0+json": ""
     },
     "metadata": {
      "application/vnd.bokehjs_exec.v0+json": {
       "id": "10806"
      }
     },
     "output_type": "display_data"
    }
   ],
   "source": [
    "df_trump_env = get_plot_data('data2/sentiment/environment/trump/2020_trump environment.csv')\n",
    "df_biden_env = get_plot_data('data2/sentiment/environment/biden/2020_biden environment.csv')\n",
    "\n",
    "plot_chart(df_trump_env, df_biden_env, 'Trump', 'Biden', \"Candidate|Environment - Last 30 Days\")"
   ]
  },
  {
   "cell_type": "code",
   "execution_count": 32,
   "metadata": {},
   "outputs": [
    {
     "data": {
      "text/html": [
       "\n",
       "\n",
       "\n",
       "\n",
       "\n",
       "\n",
       "  <div class=\"bk-root\" id=\"eebb59b1-56af-40dd-a1e0-b090240bae3b\" data-root-id=\"12384\"></div>\n"
      ]
     },
     "metadata": {},
     "output_type": "display_data"
    },
    {
     "data": {
      "application/javascript": [
       "(function(root) {\n",
       "  function embed_document(root) {\n",
       "    \n",
       "  var docs_json = {\"88eda04a-dc8f-47c8-ba47-edbf201739d4\":{\"roots\":{\"references\":[{\"attributes\":{\"below\":[{\"id\":\"12395\"}],\"center\":[{\"id\":\"12398\"},{\"id\":\"12402\"},{\"id\":\"12442\"}],\"left\":[{\"id\":\"12399\"}],\"plot_height\":350,\"plot_width\":900,\"renderers\":[{\"id\":\"12420\"},{\"id\":\"12447\"},{\"id\":\"12452\"},{\"id\":\"12482\"}],\"title\":{\"id\":\"12385\"},\"toolbar\":{\"id\":\"12410\"},\"x_range\":{\"id\":\"12387\"},\"x_scale\":{\"id\":\"12391\"},\"y_range\":{\"id\":\"12389\"},\"y_scale\":{\"id\":\"12393\"}},\"id\":\"12384\",\"subtype\":\"Figure\",\"type\":\"Plot\"},{\"attributes\":{\"line_alpha\":0.1,\"line_color\":\"red\",\"line_width\":4,\"x\":{\"field\":\"x\"},\"y\":{\"field\":\"y\"}},\"id\":\"12419\",\"type\":\"Line\"},{\"attributes\":{\"data\":{\"x\":{\"__ndarray__\":\"AACAQYkld0IAAECn2yV3QgAAAA0uJndCAADAcoAmd0IAAIDY0iZ3QgAAQD4lJ3dCAAAApHcnd0IAAMAJyid3QgAAgG8cKHdCAABA1W4od0IAAAA7wSh3QgAAwKATKXdCAACABmYpd0IAAEBsuCl3QgAAANIKKndCAADAN10qd0IAAICdryp3QgAAQAMCK3dCAAAAaVQrd0IAAMDOpit3QgAAgDT5K3dCAABAmkssd0IAAAAAnix3QgAAwGXwLHdCAACAy0Itd0IAAEAxlS13QgAAAJfnLXdCAADA/Dkud0IAAIBijC53QgAAQMjeLndCAAAALjEvd0I=\",\"dtype\":\"float64\",\"order\":\"little\",\"shape\":[31]},\"y\":{\"__ndarray__\":\"hetRuB6FA0Coxks3iUEAQC2yne+nxvM/y6FFtvP99D9WDi2yne/7P7pJDAIrhwBAkxgEVg4tAEAK16NwPQr7P76fGi/dJP4/WmQ730+N+z9OYhBYObT8PwIrhxbZzvs/8KfGSzeJAUAAAAAAAAACQKwcWmQ73/8/BoGVQ4ts/z/ZzvdT46X7P30/NV66Sfw/d76fGi/d/D9WDi2yne/7P65H4XoUrvc/oBov3SQG/T8dWmQ730/5PxSuR+F6FP4/rkfhehSu+z8lBoGVQ4v8P3E9CtejcPU/Vg4tsp3v/z+6SQwCK4f6P6rx0k1iEABAO99PjZduAEA=\",\"dtype\":\"float64\",\"order\":\"little\",\"shape\":[31]}},\"selected\":{\"id\":\"12477\"},\"selection_policy\":{\"id\":\"12476\"}},\"id\":\"12449\",\"type\":\"ColumnDataSource\"},{\"attributes\":{\"line_alpha\":0.1,\"line_color\":\"blue\",\"line_width\":4,\"x\":{\"field\":\"x\"},\"y\":{\"field\":\"y\"}},\"id\":\"12451\",\"type\":\"Line\"},{\"attributes\":{\"source\":{\"id\":\"12479\"}},\"id\":\"12483\",\"type\":\"CDSView\"},{\"attributes\":{\"label\":{\"value\":\"Biden (1.80865)\"},\"renderers\":[{\"id\":\"12452\"}]},\"id\":\"12478\",\"type\":\"LegendItem\"},{\"attributes\":{\"days\":[1,4,7,10,13,16,19,22,25,28]},\"id\":\"12432\",\"type\":\"DaysTicker\"},{\"attributes\":{},\"id\":\"12423\",\"type\":\"BasicTickFormatter\"},{\"attributes\":{\"base\":24,\"mantissas\":[1,2,4,6,8,12],\"max_interval\":43200000.0,\"min_interval\":3600000.0,\"num_minor_ticks\":0},\"id\":\"12430\",\"type\":\"AdaptiveTicker\"},{\"attributes\":{},\"id\":\"12439\",\"type\":\"YearsTicker\"},{\"attributes\":{},\"id\":\"12403\",\"type\":\"PanTool\"},{\"attributes\":{\"days\":[1,8,15,22]},\"id\":\"12433\",\"type\":\"DaysTicker\"},{\"attributes\":{\"source\":{\"id\":\"12444\"}},\"id\":\"12448\",\"type\":\"CDSView\"},{\"attributes\":{},\"id\":\"12387\",\"type\":\"DataRange1d\"},{\"attributes\":{},\"id\":\"12476\",\"type\":\"UnionRenderers\"},{\"attributes\":{},\"id\":\"12404\",\"type\":\"WheelZoomTool\"},{\"attributes\":{},\"id\":\"12425\",\"type\":\"DatetimeTickFormatter\"},{\"attributes\":{\"base\":60,\"mantissas\":[1,2,5,10,15,20,30],\"max_interval\":1800000.0,\"min_interval\":1000.0,\"num_minor_ticks\":0},\"id\":\"12429\",\"type\":\"AdaptiveTicker\"},{\"attributes\":{},\"id\":\"12474\",\"type\":\"UnionRenderers\"},{\"attributes\":{},\"id\":\"13055\",\"type\":\"Selection\"},{\"attributes\":{\"fill_color\":{\"value\":\"red\"},\"line_color\":{\"value\":\"red\"},\"size\":{\"units\":\"screen\",\"value\":5},\"x\":{\"field\":\"x\"},\"y\":{\"field\":\"y\"}},\"id\":\"12445\",\"type\":\"Circle\"},{\"attributes\":{\"line_alpha\":0.6,\"line_color\":\"blue\",\"line_width\":4,\"x\":{\"field\":\"x\"},\"y\":{\"field\":\"y\"}},\"id\":\"12450\",\"type\":\"Line\"},{\"attributes\":{\"days\":[1,2,3,4,5,6,7,8,9,10,11,12,13,14,15,16,17,18,19,20,21,22,23,24,25,26,27,28,29,30,31]},\"id\":\"12431\",\"type\":\"DaysTicker\"},{\"attributes\":{\"data_source\":{\"id\":\"12444\"},\"glyph\":{\"id\":\"12445\"},\"hover_glyph\":null,\"muted_glyph\":null,\"nonselection_glyph\":{\"id\":\"12446\"},\"selection_glyph\":null,\"view\":{\"id\":\"12448\"}},\"id\":\"12447\",\"type\":\"GlyphRenderer\"},{\"attributes\":{\"overlay\":{\"id\":\"12409\"}},\"id\":\"12405\",\"type\":\"BoxZoomTool\"},{\"attributes\":{\"days\":[1,15]},\"id\":\"12434\",\"type\":\"DaysTicker\"},{\"attributes\":{},\"id\":\"12440\",\"type\":\"UnionRenderers\"},{\"attributes\":{\"fill_alpha\":{\"value\":0.1},\"fill_color\":{\"value\":\"red\"},\"line_alpha\":{\"value\":0.1},\"line_color\":{\"value\":\"red\"},\"size\":{\"units\":\"screen\",\"value\":5},\"x\":{\"field\":\"x\"},\"y\":{\"field\":\"y\"}},\"id\":\"12446\",\"type\":\"Circle\"},{\"attributes\":{\"months\":[0,4,8]},\"id\":\"12437\",\"type\":\"MonthsTicker\"},{\"attributes\":{\"months\":[0,1,2,3,4,5,6,7,8,9,10,11]},\"id\":\"12435\",\"type\":\"MonthsTicker\"},{\"attributes\":{},\"id\":\"13054\",\"type\":\"UnionRenderers\"},{\"attributes\":{\"text\":\"Candidate|Health - Last 30 Days\"},\"id\":\"12385\",\"type\":\"Title\"},{\"attributes\":{\"data_source\":{\"id\":\"12479\"},\"glyph\":{\"id\":\"12480\"},\"hover_glyph\":null,\"muted_glyph\":null,\"nonselection_glyph\":{\"id\":\"12481\"},\"selection_glyph\":null,\"view\":{\"id\":\"12483\"}},\"id\":\"12482\",\"type\":\"GlyphRenderer\"},{\"attributes\":{\"months\":[0,2,4,6,8,10]},\"id\":\"12436\",\"type\":\"MonthsTicker\"},{\"attributes\":{},\"id\":\"12406\",\"type\":\"SaveTool\"},{\"attributes\":{},\"id\":\"12407\",\"type\":\"ResetTool\"},{\"attributes\":{\"label\":{\"value\":\"Trump (1.76123)\"},\"renderers\":[{\"id\":\"12420\"}]},\"id\":\"12443\",\"type\":\"LegendItem\"},{\"attributes\":{\"data\":{\"x\":{\"__ndarray__\":\"AACAQYkld0IAAECn2yV3QgAAAA0uJndCAADAcoAmd0IAAIDY0iZ3QgAAQD4lJ3dCAAAApHcnd0IAAMAJyid3QgAAgG8cKHdCAABA1W4od0IAAAA7wSh3QgAAwKATKXdCAACABmYpd0IAAEBsuCl3QgAAANIKKndCAADAN10qd0IAAICdryp3QgAAQAMCK3dCAAAAaVQrd0IAAMDOpit3QgAAgDT5K3dCAABAmkssd0IAAAAAnix3QgAAwGXwLHdCAACAy0Itd0IAAEAxlS13QgAAAJfnLXdCAADA/Dkud0IAAIBijC53QgAAQMjeLndCAAAALjEvd0I=\",\"dtype\":\"float64\",\"order\":\"little\",\"shape\":[31]},\"y\":{\"__ndarray__\":\"x0s3iUFg+T9vEoPAyqH9P3WTGARWDgFA16NwPQrX/z9eukkMAisBQDvfT42Xbvo/7FG4HoXr/T/l0CLb+X76P2iR7Xw/NfY/arx0kxgE+j8bL90kBoH9P7TIdr6fGvs/xSCwcmiR9T+6SQwCK4f+P6rx0k1iEABA4XoUrkfh+j8bL90kBoH9PxKDwMqhRf4/okW28/3U+D8UrkfhehT+P7pJDAIrh/4/oBov3SQG/T+wcmiR7Xz3P7x0kxgEVvo/7nw/NV66/T93vp8aL938PyPb+X5qvPg/MzMzMzMz+z/LoUW28/38P/hT46WbxPw/iUFg5dAi+z8=\",\"dtype\":\"float64\",\"order\":\"little\",\"shape\":[31]}},\"selected\":{\"id\":\"12475\"},\"selection_policy\":{\"id\":\"12474\"}},\"id\":\"12444\",\"type\":\"ColumnDataSource\"},{\"attributes\":{},\"id\":\"12477\",\"type\":\"Selection\"},{\"attributes\":{\"axis_label\":\"Sentiment Score\",\"formatter\":{\"id\":\"12423\"},\"ticker\":{\"id\":\"12400\"}},\"id\":\"12399\",\"type\":\"LinearAxis\"},{\"attributes\":{},\"id\":\"12441\",\"type\":\"Selection\"},{\"attributes\":{\"axis\":{\"id\":\"12399\"},\"dimension\":1,\"grid_line_alpha\":0.5,\"ticker\":null},\"id\":\"12402\",\"type\":\"Grid\"},{\"attributes\":{},\"id\":\"12408\",\"type\":\"HelpTool\"},{\"attributes\":{},\"id\":\"12400\",\"type\":\"BasicTicker\"},{\"attributes\":{\"data\":{\"x\":{\"__ndarray__\":\"AACAQYkld0IAAECn2yV3QgAAAA0uJndCAADAcoAmd0IAAIDY0iZ3QgAAQD4lJ3dCAAAApHcnd0IAAMAJyid3QgAAgG8cKHdCAABA1W4od0IAAAA7wSh3QgAAwKATKXdCAACABmYpd0IAAEBsuCl3QgAAANIKKndCAADAN10qd0IAAICdryp3QgAAQAMCK3dCAAAAaVQrd0IAAMDOpit3QgAAgDT5K3dCAABAmkssd0IAAAAAnix3QgAAwGXwLHdCAACAy0Itd0IAAEAxlS13QgAAAJfnLXdCAADA/Dkud0IAAIBijC53QgAAQMjeLndCAAAALjEvd0I=\",\"dtype\":\"float64\",\"order\":\"little\",\"shape\":[31]},\"y\":{\"__ndarray__\":\"hetRuB6FA0Coxks3iUEAQC2yne+nxvM/y6FFtvP99D9WDi2yne/7P7pJDAIrhwBAkxgEVg4tAEAK16NwPQr7P76fGi/dJP4/WmQ730+N+z9OYhBYObT8PwIrhxbZzvs/8KfGSzeJAUAAAAAAAAACQKwcWmQ73/8/BoGVQ4ts/z/ZzvdT46X7P30/NV66Sfw/d76fGi/d/D9WDi2yne/7P65H4XoUrvc/oBov3SQG/T8dWmQ730/5PxSuR+F6FP4/rkfhehSu+z8lBoGVQ4v8P3E9CtejcPU/Vg4tsp3v/z+6SQwCK4f6P6rx0k1iEABAO99PjZduAEA=\",\"dtype\":\"float64\",\"order\":\"little\",\"shape\":[31]}},\"selected\":{\"id\":\"13055\"},\"selection_policy\":{\"id\":\"13054\"}},\"id\":\"12479\",\"type\":\"ColumnDataSource\"},{\"attributes\":{},\"id\":\"12389\",\"type\":\"DataRange1d\"},{\"attributes\":{\"data_source\":{\"id\":\"12417\"},\"glyph\":{\"id\":\"12418\"},\"hover_glyph\":null,\"muted_glyph\":null,\"nonselection_glyph\":{\"id\":\"12419\"},\"selection_glyph\":null,\"view\":{\"id\":\"12421\"}},\"id\":\"12420\",\"type\":\"GlyphRenderer\"},{\"attributes\":{\"items\":[{\"id\":\"12443\"},{\"id\":\"12478\"}],\"location\":\"bottom_right\"},\"id\":\"12442\",\"type\":\"Legend\"},{\"attributes\":{\"active_drag\":\"auto\",\"active_inspect\":\"auto\",\"active_multi\":null,\"active_scroll\":\"auto\",\"active_tap\":\"auto\",\"tools\":[{\"id\":\"12403\"},{\"id\":\"12404\"},{\"id\":\"12405\"},{\"id\":\"12406\"},{\"id\":\"12407\"},{\"id\":\"12408\"}]},\"id\":\"12410\",\"type\":\"Toolbar\"},{\"attributes\":{\"fill_color\":{\"value\":\"blue\"},\"line_color\":{\"value\":\"blue\"},\"size\":{\"units\":\"screen\",\"value\":5},\"x\":{\"field\":\"x\"},\"y\":{\"field\":\"y\"}},\"id\":\"12480\",\"type\":\"Circle\"},{\"attributes\":{\"mantissas\":[1,2,5],\"max_interval\":500.0,\"num_minor_ticks\":0},\"id\":\"12428\",\"type\":\"AdaptiveTicker\"},{\"attributes\":{\"bottom_units\":\"screen\",\"fill_alpha\":0.5,\"fill_color\":\"lightgrey\",\"left_units\":\"screen\",\"level\":\"overlay\",\"line_alpha\":1.0,\"line_color\":\"black\",\"line_dash\":[4,4],\"line_width\":2,\"right_units\":\"screen\",\"top_units\":\"screen\"},\"id\":\"12409\",\"type\":\"BoxAnnotation\"},{\"attributes\":{},\"id\":\"12475\",\"type\":\"Selection\"},{\"attributes\":{\"axis\":{\"id\":\"12395\"},\"grid_line_color\":null,\"ticker\":null},\"id\":\"12398\",\"type\":\"Grid\"},{\"attributes\":{\"data_source\":{\"id\":\"12449\"},\"glyph\":{\"id\":\"12450\"},\"hover_glyph\":null,\"muted_glyph\":null,\"nonselection_glyph\":{\"id\":\"12451\"},\"selection_glyph\":null,\"view\":{\"id\":\"12453\"}},\"id\":\"12452\",\"type\":\"GlyphRenderer\"},{\"attributes\":{\"data\":{\"x\":{\"__ndarray__\":\"AACAQYkld0IAAECn2yV3QgAAAA0uJndCAADAcoAmd0IAAIDY0iZ3QgAAQD4lJ3dCAAAApHcnd0IAAMAJyid3QgAAgG8cKHdCAABA1W4od0IAAAA7wSh3QgAAwKATKXdCAACABmYpd0IAAEBsuCl3QgAAANIKKndCAADAN10qd0IAAICdryp3QgAAQAMCK3dCAAAAaVQrd0IAAMDOpit3QgAAgDT5K3dCAABAmkssd0IAAAAAnix3QgAAwGXwLHdCAACAy0Itd0IAAEAxlS13QgAAAJfnLXdCAADA/Dkud0IAAIBijC53QgAAQMjeLndCAAAALjEvd0I=\",\"dtype\":\"float64\",\"order\":\"little\",\"shape\":[31]},\"y\":{\"__ndarray__\":\"x0s3iUFg+T9vEoPAyqH9P3WTGARWDgFA16NwPQrX/z9eukkMAisBQDvfT42Xbvo/7FG4HoXr/T/l0CLb+X76P2iR7Xw/NfY/arx0kxgE+j8bL90kBoH9P7TIdr6fGvs/xSCwcmiR9T+6SQwCK4f+P6rx0k1iEABA4XoUrkfh+j8bL90kBoH9PxKDwMqhRf4/okW28/3U+D8UrkfhehT+P7pJDAIrh/4/oBov3SQG/T+wcmiR7Xz3P7x0kxgEVvo/7nw/NV66/T93vp8aL938PyPb+X5qvPg/MzMzMzMz+z/LoUW28/38P/hT46WbxPw/iUFg5dAi+z8=\",\"dtype\":\"float64\",\"order\":\"little\",\"shape\":[31]}},\"selected\":{\"id\":\"12441\"},\"selection_policy\":{\"id\":\"12440\"}},\"id\":\"12417\",\"type\":\"ColumnDataSource\"},{\"attributes\":{\"source\":{\"id\":\"12449\"}},\"id\":\"12453\",\"type\":\"CDSView\"},{\"attributes\":{\"months\":[0,6]},\"id\":\"12438\",\"type\":\"MonthsTicker\"},{\"attributes\":{\"num_minor_ticks\":5,\"tickers\":[{\"id\":\"12428\"},{\"id\":\"12429\"},{\"id\":\"12430\"},{\"id\":\"12431\"},{\"id\":\"12432\"},{\"id\":\"12433\"},{\"id\":\"12434\"},{\"id\":\"12435\"},{\"id\":\"12436\"},{\"id\":\"12437\"},{\"id\":\"12438\"},{\"id\":\"12439\"}]},\"id\":\"12396\",\"type\":\"DatetimeTicker\"},{\"attributes\":{\"axis_label\":\"Date\",\"formatter\":{\"id\":\"12425\"},\"ticker\":{\"id\":\"12396\"}},\"id\":\"12395\",\"type\":\"DatetimeAxis\"},{\"attributes\":{},\"id\":\"12393\",\"type\":\"LinearScale\"},{\"attributes\":{\"line_alpha\":0.6,\"line_color\":\"red\",\"line_width\":4,\"x\":{\"field\":\"x\"},\"y\":{\"field\":\"y\"}},\"id\":\"12418\",\"type\":\"Line\"},{\"attributes\":{\"fill_alpha\":{\"value\":0.1},\"fill_color\":{\"value\":\"blue\"},\"line_alpha\":{\"value\":0.1},\"line_color\":{\"value\":\"blue\"},\"size\":{\"units\":\"screen\",\"value\":5},\"x\":{\"field\":\"x\"},\"y\":{\"field\":\"y\"}},\"id\":\"12481\",\"type\":\"Circle\"},{\"attributes\":{},\"id\":\"12391\",\"type\":\"LinearScale\"},{\"attributes\":{\"source\":{\"id\":\"12417\"}},\"id\":\"12421\",\"type\":\"CDSView\"}],\"root_ids\":[\"12384\"]},\"title\":\"Bokeh Application\",\"version\":\"2.1.1\"}};\n",
       "  var render_items = [{\"docid\":\"88eda04a-dc8f-47c8-ba47-edbf201739d4\",\"root_ids\":[\"12384\"],\"roots\":{\"12384\":\"eebb59b1-56af-40dd-a1e0-b090240bae3b\"}}];\n",
       "  root.Bokeh.embed.embed_items_notebook(docs_json, render_items);\n",
       "\n",
       "  }\n",
       "  if (root.Bokeh !== undefined) {\n",
       "    embed_document(root);\n",
       "  } else {\n",
       "    var attempts = 0;\n",
       "    var timer = setInterval(function(root) {\n",
       "      if (root.Bokeh !== undefined) {\n",
       "        clearInterval(timer);\n",
       "        embed_document(root);\n",
       "      } else {\n",
       "        attempts++;\n",
       "        if (attempts > 100) {\n",
       "          clearInterval(timer);\n",
       "          console.log(\"Bokeh: ERROR: Unable to run BokehJS code because BokehJS library is missing\");\n",
       "        }\n",
       "      }\n",
       "    }, 10, root)\n",
       "  }\n",
       "})(window);"
      ],
      "application/vnd.bokehjs_exec.v0+json": ""
     },
     "metadata": {
      "application/vnd.bokehjs_exec.v0+json": {
       "id": "12384"
      }
     },
     "output_type": "display_data"
    }
   ],
   "source": [
    "df_trump_health = get_plot_data('data2/sentiment/health/trump/2020_trump health.csv')\n",
    "df_biden_health = get_plot_data('data2/sentiment/health/biden/2020_biden health.csv')\n",
    "\n",
    "plot_chart(df_trump_health, df_biden_health, 'Trump', 'Biden', \"Candidate|Health - Last 30 Days\")"
   ]
  },
  {
   "cell_type": "code",
   "execution_count": 33,
   "metadata": {},
   "outputs": [
    {
     "data": {
      "text/html": [
       "\n",
       "\n",
       "\n",
       "\n",
       "\n",
       "\n",
       "  <div class=\"bk-root\" id=\"6da85f05-c246-42af-9459-ea47555ce74c\" data-root-id=\"13212\"></div>\n"
      ]
     },
     "metadata": {},
     "output_type": "display_data"
    },
    {
     "data": {
      "application/javascript": [
       "(function(root) {\n",
       "  function embed_document(root) {\n",
       "    \n",
       "  var docs_json = {\"6e07233a-9a82-4934-8269-4a5fff1da36c\":{\"roots\":{\"references\":[{\"attributes\":{\"below\":[{\"id\":\"13223\"}],\"center\":[{\"id\":\"13226\"},{\"id\":\"13230\"},{\"id\":\"13270\"}],\"left\":[{\"id\":\"13227\"}],\"plot_height\":350,\"plot_width\":900,\"renderers\":[{\"id\":\"13248\"},{\"id\":\"13275\"},{\"id\":\"13280\"},{\"id\":\"13310\"}],\"title\":{\"id\":\"13213\"},\"toolbar\":{\"id\":\"13238\"},\"x_range\":{\"id\":\"13215\"},\"x_scale\":{\"id\":\"13219\"},\"y_range\":{\"id\":\"13217\"},\"y_scale\":{\"id\":\"13221\"}},\"id\":\"13212\",\"subtype\":\"Figure\",\"type\":\"Plot\"},{\"attributes\":{\"active_drag\":\"auto\",\"active_inspect\":\"auto\",\"active_multi\":null,\"active_scroll\":\"auto\",\"active_tap\":\"auto\",\"tools\":[{\"id\":\"13231\"},{\"id\":\"13232\"},{\"id\":\"13233\"},{\"id\":\"13234\"},{\"id\":\"13235\"},{\"id\":\"13236\"}]},\"id\":\"13238\",\"type\":\"Toolbar\"},{\"attributes\":{\"axis_label\":\"Date\",\"formatter\":{\"id\":\"13253\"},\"ticker\":{\"id\":\"13224\"}},\"id\":\"13223\",\"type\":\"DatetimeAxis\"},{\"attributes\":{\"bottom_units\":\"screen\",\"fill_alpha\":0.5,\"fill_color\":\"lightgrey\",\"left_units\":\"screen\",\"level\":\"overlay\",\"line_alpha\":1.0,\"line_color\":\"black\",\"line_dash\":[4,4],\"line_width\":2,\"right_units\":\"screen\",\"top_units\":\"screen\"},\"id\":\"13237\",\"type\":\"BoxAnnotation\"},{\"attributes\":{},\"id\":\"13305\",\"type\":\"Selection\"},{\"attributes\":{},\"id\":\"13221\",\"type\":\"LinearScale\"},{\"attributes\":{\"data_source\":{\"id\":\"13277\"},\"glyph\":{\"id\":\"13278\"},\"hover_glyph\":null,\"muted_glyph\":null,\"nonselection_glyph\":{\"id\":\"13279\"},\"selection_glyph\":null,\"view\":{\"id\":\"13281\"}},\"id\":\"13280\",\"type\":\"GlyphRenderer\"},{\"attributes\":{\"label\":{\"value\":\"Biden (1.80865)\"},\"renderers\":[{\"id\":\"13280\"}]},\"id\":\"13306\",\"type\":\"LegendItem\"},{\"attributes\":{\"num_minor_ticks\":5,\"tickers\":[{\"id\":\"13256\"},{\"id\":\"13257\"},{\"id\":\"13258\"},{\"id\":\"13259\"},{\"id\":\"13260\"},{\"id\":\"13261\"},{\"id\":\"13262\"},{\"id\":\"13263\"},{\"id\":\"13264\"},{\"id\":\"13265\"},{\"id\":\"13266\"},{\"id\":\"13267\"}]},\"id\":\"13224\",\"type\":\"DatetimeTicker\"},{\"attributes\":{\"months\":[0,4,8]},\"id\":\"13265\",\"type\":\"MonthsTicker\"},{\"attributes\":{\"data_source\":{\"id\":\"13307\"},\"glyph\":{\"id\":\"13308\"},\"hover_glyph\":null,\"muted_glyph\":null,\"nonselection_glyph\":{\"id\":\"13309\"},\"selection_glyph\":null,\"view\":{\"id\":\"13311\"}},\"id\":\"13310\",\"type\":\"GlyphRenderer\"},{\"attributes\":{\"source\":{\"id\":\"13272\"}},\"id\":\"13276\",\"type\":\"CDSView\"},{\"attributes\":{\"axis\":{\"id\":\"13223\"},\"grid_line_color\":null,\"ticker\":null},\"id\":\"13226\",\"type\":\"Grid\"},{\"attributes\":{},\"id\":\"13234\",\"type\":\"SaveTool\"},{\"attributes\":{\"data\":{\"x\":{\"__ndarray__\":\"AACAQYkld0IAAECn2yV3QgAAAA0uJndCAADAcoAmd0IAAIDY0iZ3QgAAQD4lJ3dCAAAApHcnd0IAAMAJyid3QgAAgG8cKHdCAABA1W4od0IAAAA7wSh3QgAAwKATKXdCAACABmYpd0IAAEBsuCl3QgAAANIKKndCAADAN10qd0IAAICdryp3QgAAQAMCK3dCAAAAaVQrd0IAAMDOpit3QgAAgDT5K3dCAABAmkssd0IAAAAAnix3QgAAwGXwLHdCAACAy0Itd0IAAEAxlS13QgAAAJfnLXdCAADA/Dkud0IAAIBijC53QgAAQMjeLndCAAAALjEvd0I=\",\"dtype\":\"float64\",\"order\":\"little\",\"shape\":[31]},\"y\":{\"__ndarray__\":\"w0ndl8dWAEDlw7hfl1T2PzZaozVao/U/x75H5ATh/j/UdzbqOxv9P+MrvuIrvvo/wcspeDkF9z+yTHpGJMv0PwAAAAAAQPU/UxhnUxhn8z8Ha5YYnzL9P1yPwvUoXP8/2/l+arx0/z/6fmq8dJP8PzqTakdnUv0/9WT8dqkn+z/aavAcgaL9P5LwrSgeCf8/amDvmBrY+z8Ijbzztzj9P31p4jBWW/8/w/UoXI/C/T/TTWIQWDn8P4wfwiBnyf4/yXa+nxov9T+u1oUn5Gr9P99PjZduEv8/eekmMQis/D8UrkfhehQAQHE9CtejcP0/z/dT46Wb9D8=\",\"dtype\":\"float64\",\"order\":\"little\",\"shape\":[31]}},\"selected\":{\"id\":\"13909\"},\"selection_policy\":{\"id\":\"13908\"}},\"id\":\"13307\",\"type\":\"ColumnDataSource\"},{\"attributes\":{\"data\":{\"x\":{\"__ndarray__\":\"AACAQYkld0IAAECn2yV3QgAAAA0uJndCAADAcoAmd0IAAIDY0iZ3QgAAQD4lJ3dCAAAApHcnd0IAAMAJyid3QgAAgG8cKHdCAABA1W4od0IAAAA7wSh3QgAAwKATKXdCAACABmYpd0IAAEBsuCl3QgAAANIKKndCAADAN10qd0IAAICdryp3QgAAQAMCK3dCAAAAaVQrd0IAAMDOpit3QgAAgDT5K3dCAABAmkssd0IAAAAAnix3QgAAwGXwLHdCAACAy0Itd0IAAEAxlS13QgAAAJfnLXdCAADA/Dkud0IAAIBijC53QgAAQMjeLndCAAAALjEvd0I=\",\"dtype\":\"float64\",\"order\":\"little\",\"shape\":[31]},\"y\":{\"__ndarray__\":\"CtejcD0K/z9KDAIrhxb9P7Kd76fGS/8/g8DKoUW2+z8fhetRuB79P+58PzVeuv0/c2iR7Xw//T8QWDm0yHb+P6RwPQrXo/w/8tJNYhBYA0Dwp8ZLN4n9PzEIrBxaZPs/+FPjpZvEAEACK4cW2c7/PzMzMzMzM/8/7FG4HoXr/T+HFtnO91P7P6rx0k1iEABAN4lBYOXQ+j9g5dAi2/n+P/p+arx0k/w/YOXQItv5/j+oxks3iUH4P+XQItv5fv4/ukkMAiuH/j/HSzeJQWD9P9nO91Pjpf8/IbByaJHt/D8/NV66SQz+P+Olm8QgsP4/YhBYObTIAEA=\",\"dtype\":\"float64\",\"order\":\"little\",\"shape\":[31]}},\"selected\":{\"id\":\"13269\"},\"selection_policy\":{\"id\":\"13268\"}},\"id\":\"13245\",\"type\":\"ColumnDataSource\"},{\"attributes\":{},\"id\":\"13303\",\"type\":\"Selection\"},{\"attributes\":{\"axis_label\":\"Sentiment Score\",\"formatter\":{\"id\":\"13251\"},\"ticker\":{\"id\":\"13228\"}},\"id\":\"13227\",\"type\":\"LinearAxis\"},{\"attributes\":{\"data_source\":{\"id\":\"13245\"},\"glyph\":{\"id\":\"13246\"},\"hover_glyph\":null,\"muted_glyph\":null,\"nonselection_glyph\":{\"id\":\"13247\"},\"selection_glyph\":null,\"view\":{\"id\":\"13249\"}},\"id\":\"13248\",\"type\":\"GlyphRenderer\"},{\"attributes\":{\"days\":[1,2,3,4,5,6,7,8,9,10,11,12,13,14,15,16,17,18,19,20,21,22,23,24,25,26,27,28,29,30,31]},\"id\":\"13259\",\"type\":\"DaysTicker\"},{\"attributes\":{\"label\":{\"value\":\"Trump (1.88458)\"},\"renderers\":[{\"id\":\"13248\"}]},\"id\":\"13271\",\"type\":\"LegendItem\"},{\"attributes\":{\"line_alpha\":0.6,\"line_color\":\"red\",\"line_width\":4,\"x\":{\"field\":\"x\"},\"y\":{\"field\":\"y\"}},\"id\":\"13246\",\"type\":\"Line\"},{\"attributes\":{},\"id\":\"13304\",\"type\":\"UnionRenderers\"},{\"attributes\":{\"source\":{\"id\":\"13245\"}},\"id\":\"13249\",\"type\":\"CDSView\"},{\"attributes\":{},\"id\":\"13228\",\"type\":\"BasicTicker\"},{\"attributes\":{\"source\":{\"id\":\"13277\"}},\"id\":\"13281\",\"type\":\"CDSView\"},{\"attributes\":{\"months\":[0,2,4,6,8,10]},\"id\":\"13264\",\"type\":\"MonthsTicker\"},{\"attributes\":{\"axis\":{\"id\":\"13227\"},\"dimension\":1,\"grid_line_alpha\":0.5,\"ticker\":null},\"id\":\"13230\",\"type\":\"Grid\"},{\"attributes\":{\"days\":[1,8,15,22]},\"id\":\"13261\",\"type\":\"DaysTicker\"},{\"attributes\":{\"base\":24,\"mantissas\":[1,2,4,6,8,12],\"max_interval\":43200000.0,\"min_interval\":3600000.0,\"num_minor_ticks\":0},\"id\":\"13258\",\"type\":\"AdaptiveTicker\"},{\"attributes\":{\"fill_alpha\":{\"value\":0.1},\"fill_color\":{\"value\":\"red\"},\"line_alpha\":{\"value\":0.1},\"line_color\":{\"value\":\"red\"},\"size\":{\"units\":\"screen\",\"value\":5},\"x\":{\"field\":\"x\"},\"y\":{\"field\":\"y\"}},\"id\":\"13274\",\"type\":\"Circle\"},{\"attributes\":{\"data_source\":{\"id\":\"13272\"},\"glyph\":{\"id\":\"13273\"},\"hover_glyph\":null,\"muted_glyph\":null,\"nonselection_glyph\":{\"id\":\"13274\"},\"selection_glyph\":null,\"view\":{\"id\":\"13276\"}},\"id\":\"13275\",\"type\":\"GlyphRenderer\"},{\"attributes\":{\"line_alpha\":0.1,\"line_color\":\"red\",\"line_width\":4,\"x\":{\"field\":\"x\"},\"y\":{\"field\":\"y\"}},\"id\":\"13247\",\"type\":\"Line\"},{\"attributes\":{\"fill_alpha\":{\"value\":0.1},\"fill_color\":{\"value\":\"blue\"},\"line_alpha\":{\"value\":0.1},\"line_color\":{\"value\":\"blue\"},\"size\":{\"units\":\"screen\",\"value\":5},\"x\":{\"field\":\"x\"},\"y\":{\"field\":\"y\"}},\"id\":\"13309\",\"type\":\"Circle\"},{\"attributes\":{},\"id\":\"13215\",\"type\":\"DataRange1d\"},{\"attributes\":{\"data\":{\"x\":{\"__ndarray__\":\"AACAQYkld0IAAECn2yV3QgAAAA0uJndCAADAcoAmd0IAAIDY0iZ3QgAAQD4lJ3dCAAAApHcnd0IAAMAJyid3QgAAgG8cKHdCAABA1W4od0IAAAA7wSh3QgAAwKATKXdCAACABmYpd0IAAEBsuCl3QgAAANIKKndCAADAN10qd0IAAICdryp3QgAAQAMCK3dCAAAAaVQrd0IAAMDOpit3QgAAgDT5K3dCAABAmkssd0IAAAAAnix3QgAAwGXwLHdCAACAy0Itd0IAAEAxlS13QgAAAJfnLXdCAADA/Dkud0IAAIBijC53QgAAQMjeLndCAAAALjEvd0I=\",\"dtype\":\"float64\",\"order\":\"little\",\"shape\":[31]},\"y\":{\"__ndarray__\":\"w0ndl8dWAEDlw7hfl1T2PzZaozVao/U/x75H5ATh/j/UdzbqOxv9P+MrvuIrvvo/wcspeDkF9z+yTHpGJMv0PwAAAAAAQPU/UxhnUxhn8z8Ha5YYnzL9P1yPwvUoXP8/2/l+arx0/z/6fmq8dJP8PzqTakdnUv0/9WT8dqkn+z/aavAcgaL9P5LwrSgeCf8/amDvmBrY+z8Ijbzztzj9P31p4jBWW/8/w/UoXI/C/T/TTWIQWDn8P4wfwiBnyf4/yXa+nxov9T+u1oUn5Gr9P99PjZduEv8/eekmMQis/D8UrkfhehQAQHE9CtejcP0/z/dT46Wb9D8=\",\"dtype\":\"float64\",\"order\":\"little\",\"shape\":[31]}},\"selected\":{\"id\":\"13305\"},\"selection_policy\":{\"id\":\"13304\"}},\"id\":\"13277\",\"type\":\"ColumnDataSource\"},{\"attributes\":{\"days\":[1,15]},\"id\":\"13262\",\"type\":\"DaysTicker\"},{\"attributes\":{},\"id\":\"13251\",\"type\":\"BasicTickFormatter\"},{\"attributes\":{},\"id\":\"13269\",\"type\":\"Selection\"},{\"attributes\":{},\"id\":\"13909\",\"type\":\"Selection\"},{\"attributes\":{},\"id\":\"13219\",\"type\":\"LinearScale\"},{\"attributes\":{\"fill_color\":{\"value\":\"blue\"},\"line_color\":{\"value\":\"blue\"},\"size\":{\"units\":\"screen\",\"value\":5},\"x\":{\"field\":\"x\"},\"y\":{\"field\":\"y\"}},\"id\":\"13308\",\"type\":\"Circle\"},{\"attributes\":{},\"id\":\"13253\",\"type\":\"DatetimeTickFormatter\"},{\"attributes\":{\"base\":60,\"mantissas\":[1,2,5,10,15,20,30],\"max_interval\":1800000.0,\"min_interval\":1000.0,\"num_minor_ticks\":0},\"id\":\"13257\",\"type\":\"AdaptiveTicker\"},{\"attributes\":{},\"id\":\"13231\",\"type\":\"PanTool\"},{\"attributes\":{\"line_alpha\":0.6,\"line_color\":\"blue\",\"line_width\":4,\"x\":{\"field\":\"x\"},\"y\":{\"field\":\"y\"}},\"id\":\"13278\",\"type\":\"Line\"},{\"attributes\":{\"days\":[1,4,7,10,13,16,19,22,25,28]},\"id\":\"13260\",\"type\":\"DaysTicker\"},{\"attributes\":{},\"id\":\"13908\",\"type\":\"UnionRenderers\"},{\"attributes\":{},\"id\":\"13232\",\"type\":\"WheelZoomTool\"},{\"attributes\":{},\"id\":\"13217\",\"type\":\"DataRange1d\"},{\"attributes\":{\"data\":{\"x\":{\"__ndarray__\":\"AACAQYkld0IAAECn2yV3QgAAAA0uJndCAADAcoAmd0IAAIDY0iZ3QgAAQD4lJ3dCAAAApHcnd0IAAMAJyid3QgAAgG8cKHdCAABA1W4od0IAAAA7wSh3QgAAwKATKXdCAACABmYpd0IAAEBsuCl3QgAAANIKKndCAADAN10qd0IAAICdryp3QgAAQAMCK3dCAAAAaVQrd0IAAMDOpit3QgAAgDT5K3dCAABAmkssd0IAAAAAnix3QgAAwGXwLHdCAACAy0Itd0IAAEAxlS13QgAAAJfnLXdCAADA/Dkud0IAAIBijC53QgAAQMjeLndCAAAALjEvd0I=\",\"dtype\":\"float64\",\"order\":\"little\",\"shape\":[31]},\"y\":{\"__ndarray__\":\"CtejcD0K/z9KDAIrhxb9P7Kd76fGS/8/g8DKoUW2+z8fhetRuB79P+58PzVeuv0/c2iR7Xw//T8QWDm0yHb+P6RwPQrXo/w/8tJNYhBYA0Dwp8ZLN4n9PzEIrBxaZPs/+FPjpZvEAEACK4cW2c7/PzMzMzMzM/8/7FG4HoXr/T+HFtnO91P7P6rx0k1iEABAN4lBYOXQ+j9g5dAi2/n+P/p+arx0k/w/YOXQItv5/j+oxks3iUH4P+XQItv5fv4/ukkMAiuH/j/HSzeJQWD9P9nO91Pjpf8/IbByaJHt/D8/NV66SQz+P+Olm8QgsP4/YhBYObTIAEA=\",\"dtype\":\"float64\",\"order\":\"little\",\"shape\":[31]}},\"selected\":{\"id\":\"13303\"},\"selection_policy\":{\"id\":\"13302\"}},\"id\":\"13272\",\"type\":\"ColumnDataSource\"},{\"attributes\":{\"mantissas\":[1,2,5],\"max_interval\":500.0,\"num_minor_ticks\":0},\"id\":\"13256\",\"type\":\"AdaptiveTicker\"},{\"attributes\":{},\"id\":\"13302\",\"type\":\"UnionRenderers\"},{\"attributes\":{\"overlay\":{\"id\":\"13237\"}},\"id\":\"13233\",\"type\":\"BoxZoomTool\"},{\"attributes\":{\"months\":[0,6]},\"id\":\"13266\",\"type\":\"MonthsTicker\"},{\"attributes\":{\"source\":{\"id\":\"13307\"}},\"id\":\"13311\",\"type\":\"CDSView\"},{\"attributes\":{\"months\":[0,1,2,3,4,5,6,7,8,9,10,11]},\"id\":\"13263\",\"type\":\"MonthsTicker\"},{\"attributes\":{},\"id\":\"13268\",\"type\":\"UnionRenderers\"},{\"attributes\":{\"items\":[{\"id\":\"13271\"},{\"id\":\"13306\"}],\"location\":\"bottom_right\"},\"id\":\"13270\",\"type\":\"Legend\"},{\"attributes\":{\"text\":\"Candidate|Immigration - Last 30 Days\"},\"id\":\"13213\",\"type\":\"Title\"},{\"attributes\":{},\"id\":\"13235\",\"type\":\"ResetTool\"},{\"attributes\":{\"fill_color\":{\"value\":\"red\"},\"line_color\":{\"value\":\"red\"},\"size\":{\"units\":\"screen\",\"value\":5},\"x\":{\"field\":\"x\"},\"y\":{\"field\":\"y\"}},\"id\":\"13273\",\"type\":\"Circle\"},{\"attributes\":{\"line_alpha\":0.1,\"line_color\":\"blue\",\"line_width\":4,\"x\":{\"field\":\"x\"},\"y\":{\"field\":\"y\"}},\"id\":\"13279\",\"type\":\"Line\"},{\"attributes\":{},\"id\":\"13267\",\"type\":\"YearsTicker\"},{\"attributes\":{},\"id\":\"13236\",\"type\":\"HelpTool\"}],\"root_ids\":[\"13212\"]},\"title\":\"Bokeh Application\",\"version\":\"2.1.1\"}};\n",
       "  var render_items = [{\"docid\":\"6e07233a-9a82-4934-8269-4a5fff1da36c\",\"root_ids\":[\"13212\"],\"roots\":{\"13212\":\"6da85f05-c246-42af-9459-ea47555ce74c\"}}];\n",
       "  root.Bokeh.embed.embed_items_notebook(docs_json, render_items);\n",
       "\n",
       "  }\n",
       "  if (root.Bokeh !== undefined) {\n",
       "    embed_document(root);\n",
       "  } else {\n",
       "    var attempts = 0;\n",
       "    var timer = setInterval(function(root) {\n",
       "      if (root.Bokeh !== undefined) {\n",
       "        clearInterval(timer);\n",
       "        embed_document(root);\n",
       "      } else {\n",
       "        attempts++;\n",
       "        if (attempts > 100) {\n",
       "          clearInterval(timer);\n",
       "          console.log(\"Bokeh: ERROR: Unable to run BokehJS code because BokehJS library is missing\");\n",
       "        }\n",
       "      }\n",
       "    }, 10, root)\n",
       "  }\n",
       "})(window);"
      ],
      "application/vnd.bokehjs_exec.v0+json": ""
     },
     "metadata": {
      "application/vnd.bokehjs_exec.v0+json": {
       "id": "13212"
      }
     },
     "output_type": "display_data"
    }
   ],
   "source": [
    "df_trump_imm = get_plot_data('data2/sentiment/imm/trump/2020_trump immigration.csv')\n",
    "df_biden_imm = get_plot_data('data2/sentiment/imm/biden/2020_biden immigration.csv')\n",
    "\n",
    "plot_chart(df_trump_imm, df_biden_imm, 'Trump', 'Biden', \"Candidate|Immigration - Last 30 Days\")"
   ]
  },
  {
   "cell_type": "code",
   "execution_count": null,
   "metadata": {},
   "outputs": [],
   "source": [
    "df_trump_job = get_plot_data('data2/sentiment/job/trump/2020_trump job.csv')\n",
    "df_biden_job = get_plot_data('data2/sentiment/job/biden/2020_biden job.csv')\n",
    "\n",
    "plot_chart(df_trump_job, df_biden_job, 'Trump', 'Biden', \"Candidate|Job - Last 30 Days\")"
   ]
  },
  {
   "cell_type": "code",
   "execution_count": null,
   "metadata": {},
   "outputs": [],
   "source": []
  }
 ],
 "metadata": {
  "kernelspec": {
   "display_name": "Python 3",
   "language": "python",
   "name": "python3"
  },
  "language_info": {
   "codemirror_mode": {
    "name": "ipython",
    "version": 3
   },
   "file_extension": ".py",
   "mimetype": "text/x-python",
   "name": "python",
   "nbconvert_exporter": "python",
   "pygments_lexer": "ipython3",
   "version": "3.7.3"
  }
 },
 "nbformat": 4,
 "nbformat_minor": 2
}
